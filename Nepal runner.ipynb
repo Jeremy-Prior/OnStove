{
 "cells": [
  {
   "cell_type": "code",
   "execution_count": 1,
   "id": "69b19018",
   "metadata": {},
   "outputs": [],
   "source": [
    "import os, sys\n",
    "import numpy as np\n",
    "sys.path.append('../')"
   ]
  },
  {
   "cell_type": "code",
   "execution_count": 2,
   "id": "1229c70e",
   "metadata": {},
   "outputs": [],
   "source": [
    "%load_ext autoreload"
   ]
  },
  {
   "cell_type": "code",
   "execution_count": 3,
   "id": "9608ffdc",
   "metadata": {},
   "outputs": [],
   "source": [
    "%autoreload 2\n",
    "from onsstove.onsstove import OnSSTOVE\n",
    "from onsstove.layer import RasterLayer, VectorLayer"
   ]
  },
  {
   "cell_type": "code",
   "execution_count": 4,
   "id": "f5418877",
   "metadata": {},
   "outputs": [],
   "source": [
    "nepal = OnSSTOVE(project_crs=3857, cell_size=(1000, 1000))\n",
    "output_directory = 'nepal'\n",
    "nepal.output_directory = output_directory"
   ]
  },
  {
   "cell_type": "code",
   "execution_count": 5,
   "id": "c0bda4d0",
   "metadata": {},
   "outputs": [],
   "source": [
    "path = r\"data\\population_npl_2018-10-01.tif\"\n",
    "os.makedirs('nepal/rasters/population', exist_ok=True)\n",
    "population = RasterLayer('rasters', 'population', layer_path=path, resample='sum')\n",
    "population.reproject(3857, 'nepal/rasters/population', 1000, 1000)\n",
    "nepal.base_layer = population\n",
    "nepal.population_to_dataframe(population)"
   ]
  },
  {
   "cell_type": "code",
   "execution_count": 6,
   "id": "7893d87c",
   "metadata": {},
   "outputs": [
    {
     "data": {
      "text/plain": [
       "28513543.73833791"
      ]
     },
     "execution_count": 6,
     "metadata": {},
     "output_type": "execute_result"
    }
   ],
   "source": [
    "np.nansum(population.layer)"
   ]
  },
  {
   "cell_type": "code",
   "execution_count": 7,
   "id": "59911b04",
   "metadata": {},
   "outputs": [],
   "source": [
    "path = r\"C:\\Users\\camilorg\\Box Sync\\Clean Cooking Energy\\QGIS\\Administrative\\npl_admbnda_nd_20201117_shp\\npl_admbnda_adm0_nd_20201117.shp\"\n",
    "mask_layer = VectorLayer('vector', 'adm_0', layer_path=path)\n",
    "os.makedirs('nepal/vector/adm_0', exist_ok=True)\n",
    "mask_layer.reproject(3857, 'nepal/vector/adm_0')\n",
    "nepal.mask_layer = mask_layer\n",
    "# add admin_1 or 2 or 3 layer to gdf here"
   ]
  },
  {
   "cell_type": "code",
   "execution_count": 8,
   "id": "8581a55c",
   "metadata": {},
   "outputs": [],
   "source": [
    "path = r\"C:\\Users\\camilorg\\Box Sync\\Clean cooking Africa paper\\05. OnSSTOVE test case\\GQ_test_file_social_specs.csv\"\n",
    "nepal.read_scenario_data(path)"
   ]
  },
  {
   "cell_type": "code",
   "execution_count": 9,
   "id": "5f4086d2",
   "metadata": {},
   "outputs": [],
   "source": [
    "path = r\"C:\\Users\\camilorg\\Box Sync\\Clean cooking Africa paper\\05. OnSSTOVE test case\\GQ_test_file_tech_specs.csv\"\n",
    "nepal.read_tech_data(path)"
   ]
  },
  {
   "cell_type": "code",
   "execution_count": 10,
   "id": "0f76a8fa",
   "metadata": {},
   "outputs": [],
   "source": [
    "rr_0_alri, rr_0_copd, rr_0_ihd, rr_0_lc = nepal.base_fuel.relative_risk()"
   ]
  },
  {
   "cell_type": "code",
   "execution_count": 11,
   "id": "335ff365",
   "metadata": {},
   "outputs": [
    {
     "name": "stdout",
     "output_type": "stream",
     "text": [
      "3.379491698111922 2.6016762384532757 2.9461880136695875 3.807237414338239\n"
     ]
    }
   ],
   "source": [
    "print(rr_0_alri, rr_0_copd, rr_0_ihd, rr_0_lc)"
   ]
  },
  {
   "cell_type": "code",
   "execution_count": 12,
   "id": "35948ccd",
   "metadata": {},
   "outputs": [],
   "source": [
    "paf_0_alri = nepal.base_fuel.paf(rr_0_alri, 1 - nepal.specs['clean_cooking_access'])\n",
    "paf_0_copd = nepal.base_fuel.paf(rr_0_copd, 1 - nepal.specs['clean_cooking_access'])\n",
    "paf_0_lc  = nepal.base_fuel.paf(rr_0_ihd, 1 - nepal.specs['clean_cooking_access'])\n",
    "paf_0_ihd = nepal.base_fuel.paf(rr_0_lc, 1 - nepal.specs['clean_cooking_access'])"
   ]
  },
  {
   "cell_type": "code",
   "execution_count": 14,
   "id": "29d93f6f",
   "metadata": {},
   "outputs": [],
   "source": [
    "nepal.base_fuel.carb()"
   ]
  },
  {
   "cell_type": "code",
   "execution_count": 15,
   "id": "1cfe7e84",
   "metadata": {},
   "outputs": [],
   "source": [
    "friction_path = r\"C:\\Users\\camilorg\\Box Sync\\Clean Cooking Energy\\OnSSTOVE\\data\\2020_walking_only_friction_surface\\2020_walking_only_friction_surface.geotiff\"\n",
    "forest_path = r\"C:\\Users\\camilorg\\Box Sync\\Clean Cooking Energy\\OnSSTOVE\\data\\Forest cover\\Global Forest Cover Change (GFCC).tif\"\n",
    "\n",
    "nepal.base_fuel.total_time(nepal.specs, friction_path, forest_path, population.path, output_directory)"
   ]
  },
  {
   "cell_type": "code",
   "execution_count": 16,
   "id": "22633a1b",
   "metadata": {},
   "outputs": [],
   "source": [
    "nepal.raster_to_dataframe(nepal.base_fuel.total_time_yr, name='base_fuel_time', method='read')"
   ]
  },
  {
   "cell_type": "code",
   "execution_count": 17,
   "id": "ae83f221",
   "metadata": {},
   "outputs": [],
   "source": [
    "path = r\"C:\\Users\\camilorg\\Box Sync\\Clean Cooking Energy\\QGIS\\Power network\\Nepal_DL0\\Nepal_DL0.shp\"\n",
    "mv_lines = VectorLayer('vector', 'MV_line', layer_path=path)\n",
    "os.makedirs('nepal/vector/MV_line', exist_ok=True)\n",
    "mv_lines.reproject(3857, 'nepal/vector/MV_line')\n",
    "\n",
    "path = r\"C:\\Users\\camilorg\\Box Sync\\Clean Cooking Energy\\QGIS\\Power network\\HV-network\\HV_lines_georeferenced.shp\"\n",
    "hv_lines = VectorLayer('vector', 'HV_line', layer_path=path)\n",
    "os.makedirs('nepal/vector/HV_line', exist_ok=True)\n",
    "hv_lines.reproject(3857, 'nepal/vector/HV_line')"
   ]
  },
  {
   "cell_type": "code",
   "execution_count": 18,
   "id": "f0aa5eb1",
   "metadata": {},
   "outputs": [],
   "source": [
    "nepal.distance_to_electricity(hv_lines=hv_lines, mv_lines=mv_lines)"
   ]
  },
  {
   "cell_type": "code",
   "execution_count": 19,
   "id": "8adf035b",
   "metadata": {},
   "outputs": [],
   "source": [
    "path = r\"data\\nighttime_lights.tif\"\n",
    "os.makedirs('nepal/rasters/Night_lights', exist_ok=True)\n",
    "ntl = RasterLayer('rasters', 'Night_lights', layer_path=path, resample='average')\n",
    "ntl.align(population.path, 'nepal/rasters/Night_lights')\n",
    "ntl.layer[np.isnan(ntl.layer)] = 0 # hey lets make sure that we interpolate NaNs\n",
    "\n",
    "nepal.raster_to_dataframe(ntl.layer, name='Night_lights', method='read')"
   ]
  },
  {
   "cell_type": "code",
   "execution_count": 20,
   "id": "91d196f0",
   "metadata": {},
   "outputs": [
    {
     "data": {
      "text/html": [
       "<div>\n",
       "<style scoped>\n",
       "    .dataframe tbody tr th:only-of-type {\n",
       "        vertical-align: middle;\n",
       "    }\n",
       "\n",
       "    .dataframe tbody tr th {\n",
       "        vertical-align: top;\n",
       "    }\n",
       "\n",
       "    .dataframe thead th {\n",
       "        text-align: right;\n",
       "    }\n",
       "</style>\n",
       "<table border=\"1\" class=\"dataframe\">\n",
       "  <thead>\n",
       "    <tr style=\"text-align: right;\">\n",
       "      <th></th>\n",
       "      <th>geometry</th>\n",
       "      <th>Pop</th>\n",
       "      <th>base_fuel_time</th>\n",
       "      <th>HV_line_dist</th>\n",
       "      <th>MV_line_dist</th>\n",
       "      <th>Night_lights</th>\n",
       "    </tr>\n",
       "  </thead>\n",
       "  <tbody>\n",
       "    <tr>\n",
       "      <th>0</th>\n",
       "      <td>POINT (9090104.530 3543192.836)</td>\n",
       "      <td>31.171455</td>\n",
       "      <td>1365.467180</td>\n",
       "      <td>58.872746</td>\n",
       "      <td>40.521599</td>\n",
       "      <td>0.000000</td>\n",
       "    </tr>\n",
       "    <tr>\n",
       "      <th>1</th>\n",
       "      <td>POINT (9090104.530 3536192.836)</td>\n",
       "      <td>46.757183</td>\n",
       "      <td>1429.499906</td>\n",
       "      <td>52.392746</td>\n",
       "      <td>33.837849</td>\n",
       "      <td>0.000000</td>\n",
       "    </tr>\n",
       "    <tr>\n",
       "      <th>2</th>\n",
       "      <td>POINT (9016104.530 3535192.836)</td>\n",
       "      <td>13.789093</td>\n",
       "      <td>1259.615643</td>\n",
       "      <td>NaN</td>\n",
       "      <td>NaN</td>\n",
       "      <td>0.000000</td>\n",
       "    </tr>\n",
       "    <tr>\n",
       "      <th>3</th>\n",
       "      <td>POINT (9083104.530 3535192.836)</td>\n",
       "      <td>5.517799</td>\n",
       "      <td>1257.989529</td>\n",
       "      <td>54.708317</td>\n",
       "      <td>35.846897</td>\n",
       "      <td>0.000000</td>\n",
       "    </tr>\n",
       "    <tr>\n",
       "      <th>4</th>\n",
       "      <td>POINT (9084104.530 3535192.836)</td>\n",
       "      <td>15.585728</td>\n",
       "      <td>1263.917683</td>\n",
       "      <td>54.203320</td>\n",
       "      <td>35.355339</td>\n",
       "      <td>0.000000</td>\n",
       "    </tr>\n",
       "    <tr>\n",
       "      <th>...</th>\n",
       "      <td>...</td>\n",
       "      <td>...</td>\n",
       "      <td>...</td>\n",
       "      <td>...</td>\n",
       "      <td>...</td>\n",
       "      <td>...</td>\n",
       "    </tr>\n",
       "    <tr>\n",
       "      <th>97088</th>\n",
       "      <td>POINT (9800104.530 3044192.836)</td>\n",
       "      <td>3.297608</td>\n",
       "      <td>1477.709497</td>\n",
       "      <td>NaN</td>\n",
       "      <td>NaN</td>\n",
       "      <td>0.000000</td>\n",
       "    </tr>\n",
       "    <tr>\n",
       "      <th>97089</th>\n",
       "      <td>POINT (9721104.530 3043192.836)</td>\n",
       "      <td>49.452458</td>\n",
       "      <td>2075.862576</td>\n",
       "      <td>NaN</td>\n",
       "      <td>NaN</td>\n",
       "      <td>0.000000</td>\n",
       "    </tr>\n",
       "    <tr>\n",
       "      <th>97090</th>\n",
       "      <td>POINT (9722104.530 3043192.836)</td>\n",
       "      <td>642.881959</td>\n",
       "      <td>2067.246934</td>\n",
       "      <td>11.000000</td>\n",
       "      <td>0.000000</td>\n",
       "      <td>0.891932</td>\n",
       "    </tr>\n",
       "    <tr>\n",
       "      <th>97091</th>\n",
       "      <td>POINT (9723104.530 3043192.836)</td>\n",
       "      <td>134.605801</td>\n",
       "      <td>2058.631292</td>\n",
       "      <td>12.000000</td>\n",
       "      <td>1.000000</td>\n",
       "      <td>0.806685</td>\n",
       "    </tr>\n",
       "    <tr>\n",
       "      <th>97092</th>\n",
       "      <td>POINT (9724104.530 3043192.836)</td>\n",
       "      <td>49.019801</td>\n",
       "      <td>2050.015649</td>\n",
       "      <td>NaN</td>\n",
       "      <td>NaN</td>\n",
       "      <td>0.000000</td>\n",
       "    </tr>\n",
       "  </tbody>\n",
       "</table>\n",
       "<p>97093 rows × 6 columns</p>\n",
       "</div>"
      ],
      "text/plain": [
       "                              geometry         Pop  base_fuel_time  \\\n",
       "0      POINT (9090104.530 3543192.836)   31.171455     1365.467180   \n",
       "1      POINT (9090104.530 3536192.836)   46.757183     1429.499906   \n",
       "2      POINT (9016104.530 3535192.836)   13.789093     1259.615643   \n",
       "3      POINT (9083104.530 3535192.836)    5.517799     1257.989529   \n",
       "4      POINT (9084104.530 3535192.836)   15.585728     1263.917683   \n",
       "...                                ...         ...             ...   \n",
       "97088  POINT (9800104.530 3044192.836)    3.297608     1477.709497   \n",
       "97089  POINT (9721104.530 3043192.836)   49.452458     2075.862576   \n",
       "97090  POINT (9722104.530 3043192.836)  642.881959     2067.246934   \n",
       "97091  POINT (9723104.530 3043192.836)  134.605801     2058.631292   \n",
       "97092  POINT (9724104.530 3043192.836)   49.019801     2050.015649   \n",
       "\n",
       "       HV_line_dist  MV_line_dist  Night_lights  \n",
       "0         58.872746     40.521599      0.000000  \n",
       "1         52.392746     33.837849      0.000000  \n",
       "2               NaN           NaN      0.000000  \n",
       "3         54.708317     35.846897      0.000000  \n",
       "4         54.203320     35.355339      0.000000  \n",
       "...             ...           ...           ...  \n",
       "97088           NaN           NaN      0.000000  \n",
       "97089           NaN           NaN      0.000000  \n",
       "97090     11.000000      0.000000      0.891932  \n",
       "97091     12.000000      1.000000      0.806685  \n",
       "97092           NaN           NaN      0.000000  \n",
       "\n",
       "[97093 rows x 6 columns]"
      ]
     },
     "execution_count": 20,
     "metadata": {},
     "output_type": "execute_result"
    }
   ],
   "source": [
    "nepal.gdf"
   ]
  },
  {
   "cell_type": "code",
   "execution_count": 21,
   "id": "3be6fac0",
   "metadata": {},
   "outputs": [],
   "source": [
    "nepal.calibrate_pop()"
   ]
  },
  {
   "cell_type": "code",
   "execution_count": 22,
   "id": "cdb7a4cd",
   "metadata": {},
   "outputs": [],
   "source": [
    "nepal.calibrate_urban()"
   ]
  },
  {
   "cell_type": "code",
   "execution_count": 23,
   "id": "c47b0b61",
   "metadata": {},
   "outputs": [
    {
     "data": {
      "text/html": [
       "<div>\n",
       "<style scoped>\n",
       "    .dataframe tbody tr th:only-of-type {\n",
       "        vertical-align: middle;\n",
       "    }\n",
       "\n",
       "    .dataframe tbody tr th {\n",
       "        vertical-align: top;\n",
       "    }\n",
       "\n",
       "    .dataframe thead th {\n",
       "        text-align: right;\n",
       "    }\n",
       "</style>\n",
       "<table border=\"1\" class=\"dataframe\">\n",
       "  <thead>\n",
       "    <tr style=\"text-align: right;\">\n",
       "      <th></th>\n",
       "      <th>geometry</th>\n",
       "      <th>Pop</th>\n",
       "      <th>base_fuel_time</th>\n",
       "      <th>HV_line_dist</th>\n",
       "      <th>MV_line_dist</th>\n",
       "      <th>Night_lights</th>\n",
       "      <th>Calibrated_pop</th>\n",
       "      <th>IsUrban</th>\n",
       "    </tr>\n",
       "  </thead>\n",
       "  <tbody>\n",
       "    <tr>\n",
       "      <th>0</th>\n",
       "      <td>POINT (9090104.530 3543192.836)</td>\n",
       "      <td>31.171455</td>\n",
       "      <td>1365.467180</td>\n",
       "      <td>58.872746</td>\n",
       "      <td>40.521599</td>\n",
       "      <td>0.000000</td>\n",
       "      <td>31.276903</td>\n",
       "      <td>0</td>\n",
       "    </tr>\n",
       "    <tr>\n",
       "      <th>1</th>\n",
       "      <td>POINT (9090104.530 3536192.836)</td>\n",
       "      <td>46.757183</td>\n",
       "      <td>1429.499906</td>\n",
       "      <td>52.392746</td>\n",
       "      <td>33.837849</td>\n",
       "      <td>0.000000</td>\n",
       "      <td>46.915354</td>\n",
       "      <td>0</td>\n",
       "    </tr>\n",
       "    <tr>\n",
       "      <th>2</th>\n",
       "      <td>POINT (9016104.530 3535192.836)</td>\n",
       "      <td>13.789093</td>\n",
       "      <td>1259.615643</td>\n",
       "      <td>NaN</td>\n",
       "      <td>NaN</td>\n",
       "      <td>0.000000</td>\n",
       "      <td>13.835740</td>\n",
       "      <td>0</td>\n",
       "    </tr>\n",
       "    <tr>\n",
       "      <th>3</th>\n",
       "      <td>POINT (9083104.530 3535192.836)</td>\n",
       "      <td>5.517799</td>\n",
       "      <td>1257.989529</td>\n",
       "      <td>54.708317</td>\n",
       "      <td>35.846897</td>\n",
       "      <td>0.000000</td>\n",
       "      <td>5.536465</td>\n",
       "      <td>0</td>\n",
       "    </tr>\n",
       "    <tr>\n",
       "      <th>4</th>\n",
       "      <td>POINT (9084104.530 3535192.836)</td>\n",
       "      <td>15.585728</td>\n",
       "      <td>1263.917683</td>\n",
       "      <td>54.203320</td>\n",
       "      <td>35.355339</td>\n",
       "      <td>0.000000</td>\n",
       "      <td>15.638451</td>\n",
       "      <td>0</td>\n",
       "    </tr>\n",
       "    <tr>\n",
       "      <th>...</th>\n",
       "      <td>...</td>\n",
       "      <td>...</td>\n",
       "      <td>...</td>\n",
       "      <td>...</td>\n",
       "      <td>...</td>\n",
       "      <td>...</td>\n",
       "      <td>...</td>\n",
       "      <td>...</td>\n",
       "    </tr>\n",
       "    <tr>\n",
       "      <th>97088</th>\n",
       "      <td>POINT (9800104.530 3044192.836)</td>\n",
       "      <td>3.297608</td>\n",
       "      <td>1477.709497</td>\n",
       "      <td>NaN</td>\n",
       "      <td>NaN</td>\n",
       "      <td>0.000000</td>\n",
       "      <td>3.308763</td>\n",
       "      <td>0</td>\n",
       "    </tr>\n",
       "    <tr>\n",
       "      <th>97089</th>\n",
       "      <td>POINT (9721104.530 3043192.836)</td>\n",
       "      <td>49.452458</td>\n",
       "      <td>2075.862576</td>\n",
       "      <td>NaN</td>\n",
       "      <td>NaN</td>\n",
       "      <td>0.000000</td>\n",
       "      <td>49.619747</td>\n",
       "      <td>0</td>\n",
       "    </tr>\n",
       "    <tr>\n",
       "      <th>97090</th>\n",
       "      <td>POINT (9722104.530 3043192.836)</td>\n",
       "      <td>642.881959</td>\n",
       "      <td>2067.246934</td>\n",
       "      <td>11.000000</td>\n",
       "      <td>0.000000</td>\n",
       "      <td>0.891932</td>\n",
       "      <td>645.056715</td>\n",
       "      <td>1</td>\n",
       "    </tr>\n",
       "    <tr>\n",
       "      <th>97091</th>\n",
       "      <td>POINT (9723104.530 3043192.836)</td>\n",
       "      <td>134.605801</td>\n",
       "      <td>2058.631292</td>\n",
       "      <td>12.000000</td>\n",
       "      <td>1.000000</td>\n",
       "      <td>0.806685</td>\n",
       "      <td>135.061148</td>\n",
       "      <td>0</td>\n",
       "    </tr>\n",
       "    <tr>\n",
       "      <th>97092</th>\n",
       "      <td>POINT (9724104.530 3043192.836)</td>\n",
       "      <td>49.019801</td>\n",
       "      <td>2050.015649</td>\n",
       "      <td>NaN</td>\n",
       "      <td>NaN</td>\n",
       "      <td>0.000000</td>\n",
       "      <td>49.185626</td>\n",
       "      <td>0</td>\n",
       "    </tr>\n",
       "  </tbody>\n",
       "</table>\n",
       "<p>97093 rows × 8 columns</p>\n",
       "</div>"
      ],
      "text/plain": [
       "                              geometry         Pop  base_fuel_time  \\\n",
       "0      POINT (9090104.530 3543192.836)   31.171455     1365.467180   \n",
       "1      POINT (9090104.530 3536192.836)   46.757183     1429.499906   \n",
       "2      POINT (9016104.530 3535192.836)   13.789093     1259.615643   \n",
       "3      POINT (9083104.530 3535192.836)    5.517799     1257.989529   \n",
       "4      POINT (9084104.530 3535192.836)   15.585728     1263.917683   \n",
       "...                                ...         ...             ...   \n",
       "97088  POINT (9800104.530 3044192.836)    3.297608     1477.709497   \n",
       "97089  POINT (9721104.530 3043192.836)   49.452458     2075.862576   \n",
       "97090  POINT (9722104.530 3043192.836)  642.881959     2067.246934   \n",
       "97091  POINT (9723104.530 3043192.836)  134.605801     2058.631292   \n",
       "97092  POINT (9724104.530 3043192.836)   49.019801     2050.015649   \n",
       "\n",
       "       HV_line_dist  MV_line_dist  Night_lights  Calibrated_pop  IsUrban  \n",
       "0         58.872746     40.521599      0.000000       31.276903        0  \n",
       "1         52.392746     33.837849      0.000000       46.915354        0  \n",
       "2               NaN           NaN      0.000000       13.835740        0  \n",
       "3         54.708317     35.846897      0.000000        5.536465        0  \n",
       "4         54.203320     35.355339      0.000000       15.638451        0  \n",
       "...             ...           ...           ...             ...      ...  \n",
       "97088           NaN           NaN      0.000000        3.308763        0  \n",
       "97089           NaN           NaN      0.000000       49.619747        0  \n",
       "97090     11.000000      0.000000      0.891932      645.056715        1  \n",
       "97091     12.000000      1.000000      0.806685      135.061148        0  \n",
       "97092           NaN           NaN      0.000000       49.185626        0  \n",
       "\n",
       "[97093 rows x 8 columns]"
      ]
     },
     "execution_count": 23,
     "metadata": {},
     "output_type": "execute_result"
    }
   ],
   "source": [
    "nepal.gdf"
   ]
  },
  {
   "cell_type": "code",
   "execution_count": 24,
   "id": "ae66bed8",
   "metadata": {},
   "outputs": [
    {
     "name": "stdout",
     "output_type": "stream",
     "text": [
      "We have identified the existence of transformers or MV lines as input data; therefore we proceed using those for the calibration\n"
     ]
    }
   ],
   "source": [
    "nepal.elec_current()"
   ]
  },
  {
   "cell_type": "code",
   "execution_count": 25,
   "id": "8b997ca4",
   "metadata": {},
   "outputs": [
    {
     "data": {
      "text/html": [
       "<div>\n",
       "<style scoped>\n",
       "    .dataframe tbody tr th:only-of-type {\n",
       "        vertical-align: middle;\n",
       "    }\n",
       "\n",
       "    .dataframe tbody tr th {\n",
       "        vertical-align: top;\n",
       "    }\n",
       "\n",
       "    .dataframe thead th {\n",
       "        text-align: right;\n",
       "    }\n",
       "</style>\n",
       "<table border=\"1\" class=\"dataframe\">\n",
       "  <thead>\n",
       "    <tr style=\"text-align: right;\">\n",
       "      <th></th>\n",
       "      <th>geometry</th>\n",
       "      <th>Pop</th>\n",
       "      <th>base_fuel_time</th>\n",
       "      <th>HV_line_dist</th>\n",
       "      <th>MV_line_dist</th>\n",
       "      <th>Night_lights</th>\n",
       "      <th>Calibrated_pop</th>\n",
       "      <th>IsUrban</th>\n",
       "      <th>Elec_pop_calib</th>\n",
       "      <th>Current_elec</th>\n",
       "      <th>Elec_dist</th>\n",
       "      <th>Final_Elec_Code2020</th>\n",
       "    </tr>\n",
       "  </thead>\n",
       "  <tbody>\n",
       "    <tr>\n",
       "      <th>0</th>\n",
       "      <td>POINT (9090104.530 3543192.836)</td>\n",
       "      <td>31.171455</td>\n",
       "      <td>1365.467180</td>\n",
       "      <td>58.872746</td>\n",
       "      <td>40.521599</td>\n",
       "      <td>0.000000</td>\n",
       "      <td>31.276903</td>\n",
       "      <td>0</td>\n",
       "      <td>0.0</td>\n",
       "      <td>0</td>\n",
       "      <td>40.521599</td>\n",
       "      <td>99</td>\n",
       "    </tr>\n",
       "    <tr>\n",
       "      <th>1</th>\n",
       "      <td>POINT (9090104.530 3536192.836)</td>\n",
       "      <td>46.757183</td>\n",
       "      <td>1429.499906</td>\n",
       "      <td>52.392746</td>\n",
       "      <td>33.837849</td>\n",
       "      <td>0.000000</td>\n",
       "      <td>46.915354</td>\n",
       "      <td>0</td>\n",
       "      <td>0.0</td>\n",
       "      <td>0</td>\n",
       "      <td>33.837849</td>\n",
       "      <td>99</td>\n",
       "    </tr>\n",
       "    <tr>\n",
       "      <th>2</th>\n",
       "      <td>POINT (9016104.530 3535192.836)</td>\n",
       "      <td>13.789093</td>\n",
       "      <td>1259.615643</td>\n",
       "      <td>NaN</td>\n",
       "      <td>NaN</td>\n",
       "      <td>0.000000</td>\n",
       "      <td>13.835740</td>\n",
       "      <td>0</td>\n",
       "      <td>0.0</td>\n",
       "      <td>0</td>\n",
       "      <td>NaN</td>\n",
       "      <td>99</td>\n",
       "    </tr>\n",
       "    <tr>\n",
       "      <th>3</th>\n",
       "      <td>POINT (9083104.530 3535192.836)</td>\n",
       "      <td>5.517799</td>\n",
       "      <td>1257.989529</td>\n",
       "      <td>54.708317</td>\n",
       "      <td>35.846897</td>\n",
       "      <td>0.000000</td>\n",
       "      <td>5.536465</td>\n",
       "      <td>0</td>\n",
       "      <td>0.0</td>\n",
       "      <td>0</td>\n",
       "      <td>35.846897</td>\n",
       "      <td>99</td>\n",
       "    </tr>\n",
       "    <tr>\n",
       "      <th>4</th>\n",
       "      <td>POINT (9084104.530 3535192.836)</td>\n",
       "      <td>15.585728</td>\n",
       "      <td>1263.917683</td>\n",
       "      <td>54.203320</td>\n",
       "      <td>35.355339</td>\n",
       "      <td>0.000000</td>\n",
       "      <td>15.638451</td>\n",
       "      <td>0</td>\n",
       "      <td>0.0</td>\n",
       "      <td>0</td>\n",
       "      <td>35.355339</td>\n",
       "      <td>99</td>\n",
       "    </tr>\n",
       "    <tr>\n",
       "      <th>...</th>\n",
       "      <td>...</td>\n",
       "      <td>...</td>\n",
       "      <td>...</td>\n",
       "      <td>...</td>\n",
       "      <td>...</td>\n",
       "      <td>...</td>\n",
       "      <td>...</td>\n",
       "      <td>...</td>\n",
       "      <td>...</td>\n",
       "      <td>...</td>\n",
       "      <td>...</td>\n",
       "      <td>...</td>\n",
       "    </tr>\n",
       "    <tr>\n",
       "      <th>97088</th>\n",
       "      <td>POINT (9800104.530 3044192.836)</td>\n",
       "      <td>3.297608</td>\n",
       "      <td>1477.709497</td>\n",
       "      <td>NaN</td>\n",
       "      <td>NaN</td>\n",
       "      <td>0.000000</td>\n",
       "      <td>3.308763</td>\n",
       "      <td>0</td>\n",
       "      <td>0.0</td>\n",
       "      <td>0</td>\n",
       "      <td>NaN</td>\n",
       "      <td>99</td>\n",
       "    </tr>\n",
       "    <tr>\n",
       "      <th>97089</th>\n",
       "      <td>POINT (9721104.530 3043192.836)</td>\n",
       "      <td>49.452458</td>\n",
       "      <td>2075.862576</td>\n",
       "      <td>NaN</td>\n",
       "      <td>NaN</td>\n",
       "      <td>0.000000</td>\n",
       "      <td>49.619747</td>\n",
       "      <td>0</td>\n",
       "      <td>0.0</td>\n",
       "      <td>0</td>\n",
       "      <td>NaN</td>\n",
       "      <td>99</td>\n",
       "    </tr>\n",
       "    <tr>\n",
       "      <th>97090</th>\n",
       "      <td>POINT (9722104.530 3043192.836)</td>\n",
       "      <td>642.881959</td>\n",
       "      <td>2067.246934</td>\n",
       "      <td>11.000000</td>\n",
       "      <td>0.000000</td>\n",
       "      <td>0.891932</td>\n",
       "      <td>645.056715</td>\n",
       "      <td>1</td>\n",
       "      <td>NaN</td>\n",
       "      <td>1</td>\n",
       "      <td>0.000000</td>\n",
       "      <td>1</td>\n",
       "    </tr>\n",
       "    <tr>\n",
       "      <th>97091</th>\n",
       "      <td>POINT (9723104.530 3043192.836)</td>\n",
       "      <td>134.605801</td>\n",
       "      <td>2058.631292</td>\n",
       "      <td>12.000000</td>\n",
       "      <td>1.000000</td>\n",
       "      <td>0.806685</td>\n",
       "      <td>135.061148</td>\n",
       "      <td>0</td>\n",
       "      <td>NaN</td>\n",
       "      <td>1</td>\n",
       "      <td>1.000000</td>\n",
       "      <td>1</td>\n",
       "    </tr>\n",
       "    <tr>\n",
       "      <th>97092</th>\n",
       "      <td>POINT (9724104.530 3043192.836)</td>\n",
       "      <td>49.019801</td>\n",
       "      <td>2050.015649</td>\n",
       "      <td>NaN</td>\n",
       "      <td>NaN</td>\n",
       "      <td>0.000000</td>\n",
       "      <td>49.185626</td>\n",
       "      <td>0</td>\n",
       "      <td>0.0</td>\n",
       "      <td>0</td>\n",
       "      <td>NaN</td>\n",
       "      <td>99</td>\n",
       "    </tr>\n",
       "  </tbody>\n",
       "</table>\n",
       "<p>97093 rows × 12 columns</p>\n",
       "</div>"
      ],
      "text/plain": [
       "                              geometry         Pop  base_fuel_time  \\\n",
       "0      POINT (9090104.530 3543192.836)   31.171455     1365.467180   \n",
       "1      POINT (9090104.530 3536192.836)   46.757183     1429.499906   \n",
       "2      POINT (9016104.530 3535192.836)   13.789093     1259.615643   \n",
       "3      POINT (9083104.530 3535192.836)    5.517799     1257.989529   \n",
       "4      POINT (9084104.530 3535192.836)   15.585728     1263.917683   \n",
       "...                                ...         ...             ...   \n",
       "97088  POINT (9800104.530 3044192.836)    3.297608     1477.709497   \n",
       "97089  POINT (9721104.530 3043192.836)   49.452458     2075.862576   \n",
       "97090  POINT (9722104.530 3043192.836)  642.881959     2067.246934   \n",
       "97091  POINT (9723104.530 3043192.836)  134.605801     2058.631292   \n",
       "97092  POINT (9724104.530 3043192.836)   49.019801     2050.015649   \n",
       "\n",
       "       HV_line_dist  MV_line_dist  Night_lights  Calibrated_pop  IsUrban  \\\n",
       "0         58.872746     40.521599      0.000000       31.276903        0   \n",
       "1         52.392746     33.837849      0.000000       46.915354        0   \n",
       "2               NaN           NaN      0.000000       13.835740        0   \n",
       "3         54.708317     35.846897      0.000000        5.536465        0   \n",
       "4         54.203320     35.355339      0.000000       15.638451        0   \n",
       "...             ...           ...           ...             ...      ...   \n",
       "97088           NaN           NaN      0.000000        3.308763        0   \n",
       "97089           NaN           NaN      0.000000       49.619747        0   \n",
       "97090     11.000000      0.000000      0.891932      645.056715        1   \n",
       "97091     12.000000      1.000000      0.806685      135.061148        0   \n",
       "97092           NaN           NaN      0.000000       49.185626        0   \n",
       "\n",
       "       Elec_pop_calib  Current_elec  Elec_dist  Final_Elec_Code2020  \n",
       "0                 0.0             0  40.521599                   99  \n",
       "1                 0.0             0  33.837849                   99  \n",
       "2                 0.0             0        NaN                   99  \n",
       "3                 0.0             0  35.846897                   99  \n",
       "4                 0.0             0  35.355339                   99  \n",
       "...               ...           ...        ...                  ...  \n",
       "97088             0.0             0        NaN                   99  \n",
       "97089             0.0             0        NaN                   99  \n",
       "97090             NaN             1   0.000000                    1  \n",
       "97091             NaN             1   1.000000                    1  \n",
       "97092             0.0             0        NaN                   99  \n",
       "\n",
       "[97093 rows x 12 columns]"
      ]
     },
     "execution_count": 25,
     "metadata": {},
     "output_type": "execute_result"
    }
   ],
   "source": [
    "nepal.gdf"
   ]
  },
  {
   "cell_type": "code",
   "execution_count": null,
   "id": "cdb43d32",
   "metadata": {},
   "outputs": [],
   "source": [
    "# nepal.gdf.crs = 3857\n",
    "# nepal.gdf.to_file('nepal/results.gpkg', driver='GPKG')"
   ]
  },
  {
   "cell_type": "code",
   "execution_count": 26,
   "id": "adebc9ef",
   "metadata": {},
   "outputs": [
    {
     "data": {
      "text/plain": [
       "0.5189724919639153"
      ]
     },
     "execution_count": 26,
     "metadata": {},
     "output_type": "execute_result"
    }
   ],
   "source": [
    "nepal.gdf['Elec_pop_calib'].sum() / nepal.gdf['Calibrated_pop'].sum()"
   ]
  },
  {
   "cell_type": "code",
   "execution_count": 27,
   "id": "3c03622b",
   "metadata": {},
   "outputs": [],
   "source": [
    "nepal.techs['Electricity'].morbidity(nepal.specs, paf_0_alri, paf_0_copd, paf_0_lc, paf_0_ihd)"
   ]
  },
  {
   "cell_type": "code",
   "execution_count": 28,
   "id": "e9f78415",
   "metadata": {},
   "outputs": [
    {
     "data": {
      "text/plain": [
       "341482.9650891477"
      ]
     },
     "execution_count": 28,
     "metadata": {},
     "output_type": "execute_result"
    }
   ],
   "source": [
    "nepal.techs['Electricity'].urban_morbidity"
   ]
  },
  {
   "cell_type": "code",
   "execution_count": 29,
   "id": "bf58f2b2",
   "metadata": {},
   "outputs": [
    {
     "data": {
      "text/plain": [
       "374317.8655784887"
      ]
     },
     "execution_count": 29,
     "metadata": {},
     "output_type": "execute_result"
    }
   ],
   "source": [
    "nepal.techs['Electricity'].rural_morbidity"
   ]
  },
  {
   "cell_type": "code",
   "execution_count": 30,
   "id": "de4c2a86",
   "metadata": {},
   "outputs": [],
   "source": [
    "nepal.techs['Electricity'].mortality(nepal.specs, paf_0_alri, paf_0_copd, paf_0_lc, paf_0_ihd)"
   ]
  },
  {
   "cell_type": "code",
   "execution_count": 33,
   "id": "2e7812a8",
   "metadata": {},
   "outputs": [
    {
     "data": {
      "text/plain": [
       "197562.7366143861"
      ]
     },
     "execution_count": 33,
     "metadata": {},
     "output_type": "execute_result"
    }
   ],
   "source": [
    "nepal.techs['Electricity'].carbon_emissions(nepal.specs, nepal.base_fuel.carbon)\n",
    "nepal.techs['Electricity'].decreased_carbon_emissions"
   ]
  },
  {
   "cell_type": "code",
   "execution_count": 34,
   "id": "49003988",
   "metadata": {},
   "outputs": [],
   "source": [
    "path = r\"C:\\Users\\camilorg\\Box Sync\\EGI Energy Systems\\06 Projects\\2021 Nepal Geospatial cooking\\02 - work\\GIS-data\\Demand\\Wealth Index\\Wealth index 2011.tif\"\n",
    "wealth_index = RasterLayer('rasters', 'Wealth_index', layer_path=path,  resample='average')\n",
    "os.makedirs('nepal/rasters/Wealth_index', exist_ok=True)\n",
    "wealth_index.align(population.path, 'nepal/rasters/Wealth_index')"
   ]
  },
  {
   "cell_type": "code",
   "execution_count": 35,
   "id": "7e31ec51",
   "metadata": {},
   "outputs": [],
   "source": [
    "nepal.get_value_of_time(wealth_index)"
   ]
  },
  {
   "cell_type": "code",
   "execution_count": 36,
   "id": "4a95e2a0",
   "metadata": {},
   "outputs": [],
   "source": [
    "nepal.techs['Electricity'].time_save(nepal.gdf, nepal.specs)"
   ]
  },
  {
   "cell_type": "code",
   "execution_count": 37,
   "id": "b296982e",
   "metadata": {},
   "outputs": [
    {
     "data": {
      "text/plain": [
       "0         767.731520\n",
       "1         861.639174\n",
       "2                NaN\n",
       "3         625.581760\n",
       "4         633.581427\n",
       "            ...     \n",
       "97088            NaN\n",
       "97089            NaN\n",
       "97090            NaN\n",
       "97091    3036.595898\n",
       "97092            NaN\n",
       "Length: 97093, dtype: float64"
      ]
     },
     "execution_count": 37,
     "metadata": {},
     "output_type": "execute_result"
    }
   ],
   "source": [
    "nepal.techs['Electricity'].time_value"
   ]
  }
 ],
 "metadata": {
  "kernelspec": {
   "display_name": "Python 3",
   "language": "python",
   "name": "python3"
  },
  "language_info": {
   "codemirror_mode": {
    "name": "ipython",
    "version": 3
   },
   "file_extension": ".py",
   "mimetype": "text/x-python",
   "name": "python",
   "nbconvert_exporter": "python",
   "pygments_lexer": "ipython3",
   "version": "3.9.2"
  }
 },
 "nbformat": 4,
 "nbformat_minor": 5
}

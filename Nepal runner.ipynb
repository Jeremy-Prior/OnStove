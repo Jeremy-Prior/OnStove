{
 "cells": [
  {
   "cell_type": "code",
   "execution_count": 1,
   "id": "69b19018",
   "metadata": {},
   "outputs": [],
   "source": [
    "import os, sys\n",
    "import numpy as np\n",
    "import geopandas as gpd\n",
    "import plotly.express as px\n",
    "sys.path.append('../')"
   ]
  },
  {
   "cell_type": "code",
   "execution_count": 2,
   "id": "1229c70e",
   "metadata": {},
   "outputs": [],
   "source": [
    "# %load_ext autoreload"
   ]
  },
  {
   "cell_type": "code",
   "execution_count": 3,
   "id": "9608ffdc",
   "metadata": {},
   "outputs": [],
   "source": [
    "# %autoreload 2\n",
    "from onsstove.onsstove import OnSSTOVE, DataProcessor\n",
    "from onsstove.layer import RasterLayer, VectorLayer\n",
    "from onsstove.raster import interpolate\n",
    "import time"
   ]
  },
  {
   "cell_type": "markdown",
   "id": "ab677f71",
   "metadata": {},
   "source": [
    "# Data processing"
   ]
  },
  {
   "cell_type": "markdown",
   "id": "c8146919",
   "metadata": {},
   "source": [
    "## 1. Create a data processor"
   ]
  },
  {
   "cell_type": "code",
   "execution_count": null,
   "id": "1fd76c2e",
   "metadata": {},
   "outputs": [],
   "source": [
    "start = time.time()\n",
    "\n",
    "data = DataProcessor(project_crs=3857, cell_size=(1000, 1000))\n",
    "output_directory = 'results'\n",
    "data.output_directory = output_directory"
   ]
  },
  {
   "cell_type": "markdown",
   "id": "b13afc4d",
   "metadata": {},
   "source": [
    "## 2. Add a mask layer (country boundaries)"
   ]
  },
  {
   "cell_type": "code",
   "execution_count": null,
   "id": "74ab8d3c",
   "metadata": {},
   "outputs": [],
   "source": [
    "adm_path = r\"..\\EGI Energy Systems\\06 Projects\\2021 Nepal Geospatial cooking\\02 - work\\GIS-data\\Other\\Administrative boundaries\\NPL_adm0_Nepal0.shp\"\n",
    "data.add_mask_layer(category='Administrative', name='Country_boundaries', layer_path=adm_path)"
   ]
  },
  {
   "cell_type": "markdown",
   "id": "b64735db",
   "metadata": {},
   "source": [
    "## 3. Add GIS layers"
   ]
  },
  {
   "cell_type": "markdown",
   "id": "a1d495e7",
   "metadata": {},
   "source": [
    "### Demographics"
   ]
  },
  {
   "cell_type": "code",
   "execution_count": null,
   "id": "bd00425a",
   "metadata": {},
   "outputs": [],
   "source": [
    "pop_path = r\"../EGI Energy Systems\\06 Projects\\2021 Nepal Geospatial cooking\\02 - work\\GIS-data\\Demand\\Population\\HRSL\\population_npl_2018-10-01_geotiff\\population_npl_2018-10-01.tif\"\n",
    "data.add_layer(category='Demographics', name='Population', layer_path=pop_path, layer_type='raster', base_layer=True, resample='sum')\n",
    "\n",
    "# Check if this is needed for a general implementation\n",
    "# data.layers['Demographics']['Population'].layer[np.isnan(data.layers['Demographics']['Population'].layer)] = 0\n",
    "# data.layers['Demographics']['Population'].save(os.path.join(data.output_directory, 'Demographics', 'Population'))\n",
    "\n",
    "ghs_path = r\"../EGI Energy Systems\\06 Projects\\2021 Nepal Geospatial cooking\\02 - work\\GIS-data\\Other\\Urban - Rural divide\\GHS.tif\"\n",
    "data.add_layer(category='Demographics', name='Urban_rural_divide', layer_path=ghs_path, layer_type='raster', resample='nearest')"
   ]
  },
  {
   "cell_type": "markdown",
   "id": "7669c0fa",
   "metadata": {},
   "source": [
    "### Biomass"
   ]
  },
  {
   "cell_type": "code",
   "execution_count": null,
   "id": "fbda05b7",
   "metadata": {},
   "outputs": [],
   "source": [
    "forest_path = r\"..\\EGI Energy Systems\\06 Projects\\2021 Nepal Geospatial cooking\\02 - work\\GIS-data\\Other\\Forest cover\\Forest_cover_2020.tif\"\n",
    "data.add_layer(category='Biomass', name='Forest', layer_path=forest_path, layer_type='raster', resample='average')\n",
    "\n",
    "friction_path = r\"../EGI Energy Systems\\06 Projects\\2021 Nepal Geospatial cooking\\02 - work\\GIS-data\\Other\\Walking friction\\2020_walking_only_friction_surface.geotiff\"\n",
    "data.add_layer(category='Biomass', name='Friction', layer_path=friction_path, layer_type='raster', resample='average', window=True)"
   ]
  },
  {
   "cell_type": "markdown",
   "id": "a3a2809d",
   "metadata": {},
   "source": [
    "### Electricity"
   ]
  },
  {
   "cell_type": "code",
   "execution_count": null,
   "id": "47ab329e",
   "metadata": {},
   "outputs": [],
   "source": [
    "hv_path = r\"../EGI Energy Systems\\06 Projects\\2021 Nepal Geospatial cooking\\02 - work\\GIS-data\\Supply\\Power network\\HV-network\\Existing_transmission_lines.geojson\"\n",
    "data.add_layer(category='Electricity', name='HV_lines', layer_path=hv_path, layer_type='vector')\n",
    "\n",
    "mv_path = r\"../EGI Energy Systems\\06 Projects\\2021 Nepal Geospatial cooking\\02 - work\\GIS-data\\Supply\\Power network\\MV-network\\Nepal_DL0.shp\"\n",
    "data.add_layer(category='Electricity', name='MV_lines', layer_path=mv_path, layer_type='vector')\n",
    "\n",
    "ntl_path = r\"../EGI Energy Systems\\06 Projects\\2021 Nepal Geospatial cooking\\02 - work\\GIS-data\\Other\\Night Time Lights\\nighttime lights.tif\"\n",
    "data.add_layer(category='Electricity', name='Night_time_lights', layer_path=ntl_path, layer_type='raster', resample='average')"
   ]
  },
  {
   "cell_type": "markdown",
   "id": "4da50c12",
   "metadata": {},
   "source": [
    "### LPG"
   ]
  },
  {
   "cell_type": "code",
   "execution_count": null,
   "id": "0857e54e",
   "metadata": {},
   "outputs": [],
   "source": [
    "lpg_path = r\"../EGI Energy Systems\\06 Projects\\2021 Nepal Geospatial cooking\\02 - work\\GIS-data\\Supply\\LPG\\Nepal_Gas_12Jun2021_Final4.shp\"\n",
    "data.add_layer(category='LPG', name='Suppliers', layer_path=lpg_path, layer_type='vector')\n",
    "\n",
    "friction_path = r\"../EGI Energy Systems\\06 Projects\\2021 Nepal Geospatial cooking\\02 - work\\GIS-data\\Other\\Motorized friction\\2020_motorized_friction_surface.geotiff\"\n",
    "data.add_layer(category='LPG', name='Friction', layer_path=friction_path, layer_type='raster', resample='average', window=True)"
   ]
  },
  {
   "cell_type": "markdown",
   "id": "874a0c85",
   "metadata": {},
   "source": [
    "### Biogas"
   ]
  },
  {
   "cell_type": "code",
   "execution_count": null,
   "id": "3e4040b9",
   "metadata": {},
   "outputs": [],
   "source": [
    "temperature = r\"..\\EGI Energy Systems\\06 Projects\\2021 Nepal Geospatial cooking\\02 - work\\GIS-data\\Other\\Temperature\\TEMP.tif\"\n",
    "data.add_layer(category='Biogas', name='Temperature', layer_path=temperature,\n",
    "               layer_type='raster', resample='average', window=True)\n",
    "data.layers['Biogas']['Temperature'].save(f'{data.output_directory}/Biogas/Temperature')"
   ]
  },
  {
   "cell_type": "markdown",
   "id": "655ebb1d",
   "metadata": {},
   "source": [
    "## 4. Mask reproject and align all required layers"
   ]
  },
  {
   "cell_type": "code",
   "execution_count": null,
   "id": "954dfe04",
   "metadata": {},
   "outputs": [],
   "source": [
    "data.mask_layers(datasets={'Demographics': ['Population', 'Urban_rural_divide'],\n",
    "                           'Biomass': ['Forest', 'Friction'],\n",
    "                           'Electricity': ['HV_lines', 'Night_time_lights'],\n",
    "                           'LPG': ['Suppliers', 'Friction'],\n",
    "                           'Biogas': ['Temperature']})"
   ]
  },
  {
   "cell_type": "code",
   "execution_count": null,
   "id": "920db65b",
   "metadata": {},
   "outputs": [],
   "source": [
    "data.align_layers(datasets='all')"
   ]
  },
  {
   "cell_type": "code",
   "execution_count": null,
   "id": "97cc42be",
   "metadata": {},
   "outputs": [],
   "source": [
    "data.reproject_layers(datasets={'Electricity': ['HV_lines', 'MV_lines'],\n",
    "                                'LPG': ['Suppliers']})"
   ]
  },
  {
   "cell_type": "code",
   "execution_count": null,
   "id": "dbdb5fdd",
   "metadata": {},
   "outputs": [],
   "source": [
    "end = time.time()\n",
    "\n",
    "diff = end - start\n",
    "print('Execution time:', str(str(int(diff//60))) + ' min ' + str(int((diff)%60)) + ' sec')"
   ]
  },
  {
   "cell_type": "markdown",
   "id": "df2deea1",
   "metadata": {},
   "source": [
    "# Model preparation"
   ]
  },
  {
   "cell_type": "markdown",
   "id": "70745b24",
   "metadata": {},
   "source": [
    "## 1. Create an OnSSTOVE model"
   ]
  },
  {
   "cell_type": "code",
   "execution_count": 32,
   "id": "f5418877",
   "metadata": {},
   "outputs": [],
   "source": [
    "start = time.time()\n",
    "\n",
    "nepal = OnSSTOVE()\n",
    "output_directory = 'results'\n",
    "nepal.output_directory = output_directory"
   ]
  },
  {
   "cell_type": "markdown",
   "id": "542a1476",
   "metadata": {},
   "source": [
    "## 2. Read the model data"
   ]
  },
  {
   "cell_type": "code",
   "execution_count": 33,
   "id": "8581a55c",
   "metadata": {},
   "outputs": [],
   "source": [
    "path = r\"../EGI Energy Systems\\06 Projects\\2021 Nepal Geospatial cooking\\02 - work\\OnSSTOVE cases\\NP_test_file_social_specs.csv\"\n",
    "nepal.read_scenario_data(path, delimiter=',')"
   ]
  },
  {
   "cell_type": "markdown",
   "id": "f3ee4d1e",
   "metadata": {},
   "source": [
    "## 3. Add a country mask layer"
   ]
  },
  {
   "cell_type": "code",
   "execution_count": 34,
   "id": "59911b04",
   "metadata": {},
   "outputs": [],
   "source": [
    "path = os.path.join(output_directory, 'Administrative', 'Country_boundaries', 'Country_boundaries.geojson')\n",
    "mask_layer = VectorLayer('admin', 'adm_0', layer_path=path)\n",
    "nepal.mask_layer = mask_layer"
   ]
  },
  {
   "cell_type": "markdown",
   "id": "1a632680",
   "metadata": {},
   "source": [
    "## 4. Add a population base layer"
   ]
  },
  {
   "cell_type": "code",
   "execution_count": 35,
   "id": "c0bda4d0",
   "metadata": {},
   "outputs": [],
   "source": [
    "path = os.path.join(output_directory, 'Demographics', 'Population', 'Population.tif')\n",
    "nepal.add_layer(category='Demographics', name='Population', layer_path=path, layer_type='raster', base_layer=True)\n",
    "nepal.population_to_dataframe()"
   ]
  },
  {
   "cell_type": "code",
   "execution_count": 36,
   "id": "3c248884",
   "metadata": {},
   "outputs": [],
   "source": [
    "# path = r\"..\\EGI Energy Systems\\06 Projects\\2021 Nepal Geospatial cooking\\02 - work\\GIS-data\\Other\\Administrative boundaries\\Admin lvl 1.shp\"\n",
    "# nepal.add_admin_names(path, 'ADM1_EN')"
   ]
  },
  {
   "cell_type": "markdown",
   "id": "58fa105a",
   "metadata": {},
   "source": [
    "## 5. Calibrate population and urban/rural split"
   ]
  },
  {
   "cell_type": "code",
   "execution_count": 37,
   "id": "3be6fac0",
   "metadata": {
    "scrolled": true
   },
   "outputs": [],
   "source": [
    "nepal.calibrate_current_pop()\n",
    "\n",
    "# path = os.path.join(output_directory, 'Demographics', 'Urban_rural_divide', 'Urban_rural_divide.tif')\n",
    "ghs_path = r\"../EGI Energy Systems\\06 Projects\\2021 Nepal Geospatial cooking\\02 - work\\GIS-data\\Other\\Urban - Rural divide\\GHS.tif\"\n",
    "nepal.calibrate_urban_current_and_future_GHS(ghs_path)"
   ]
  },
  {
   "cell_type": "markdown",
   "id": "67dff904",
   "metadata": {},
   "source": [
    "## 6. Add wealth index GIS data"
   ]
  },
  {
   "cell_type": "code",
   "execution_count": 38,
   "id": "e5173873",
   "metadata": {},
   "outputs": [],
   "source": [
    "wealth_index = r\"..\\EGI Energy Systems\\06 Projects\\2021 Nepal Geospatial cooking\\02 - work\\GIS-data\\Demand\\Wealth Index\\npl_relative_wealth_index.csv\"\n",
    "nepal.extract_wealth_index(wealth_index, file_type=\"csv\", \n",
    "                           x_column=\"longitude\", y_column=\"latitude\", wealth_column=\"rwi\")\n",
    "\n",
    "# wealth_index = r\"../EGI Energy Systems\\06 Projects\\2021 Nepal Geospatial cooking\\02 - work\\GIS-data\\Demand\\Wealth Index\\Wealth index 2011.tif\"\n",
    "# nepal.extract_wealth_index(wealth_index, file_type=\"raster\")"
   ]
  },
  {
   "cell_type": "markdown",
   "id": "9de6cbb2",
   "metadata": {},
   "source": [
    "## 7. Calculate value of time"
   ]
  },
  {
   "cell_type": "code",
   "execution_count": 39,
   "id": "7e31ec51",
   "metadata": {},
   "outputs": [],
   "source": [
    "# Based on wealth index, minimum wage and a lower an upper range for cost of oportunity\n",
    "nepal.get_value_of_time()"
   ]
  },
  {
   "cell_type": "markdown",
   "id": "b39f7a7a",
   "metadata": {},
   "source": [
    "## 8. Read electricity network GIS layers"
   ]
  },
  {
   "cell_type": "code",
   "execution_count": 40,
   "id": "ae83f221",
   "metadata": {},
   "outputs": [],
   "source": [
    "# Read MV lines\n",
    "path = os.path.join(output_directory, 'Electricity', 'MV_lines', 'MV_lines.geojson')\n",
    "mv_lines = VectorLayer('Electricity', 'MV_lines', layer_path=path)\n",
    "\n",
    "# Read HV lines\n",
    "path = os.path.join(output_directory, 'Electricity', 'HV_lines', 'HV_lines.geojson')\n",
    "hv_lines = VectorLayer('Electricity', 'HV_lines', layer_path=path)"
   ]
  },
  {
   "cell_type": "markdown",
   "id": "524b2759",
   "metadata": {},
   "source": [
    "### 8.1. Calculate distance to electricity infrastructure "
   ]
  },
  {
   "cell_type": "code",
   "execution_count": 41,
   "id": "f0aa5eb1",
   "metadata": {},
   "outputs": [],
   "source": [
    "nepal.distance_to_electricity(hv_lines=hv_lines, mv_lines=mv_lines)"
   ]
  },
  {
   "cell_type": "markdown",
   "id": "7b2c7dfe",
   "metadata": {},
   "source": [
    "### 8.2. Add night time lights data"
   ]
  },
  {
   "cell_type": "code",
   "execution_count": 42,
   "id": "8adf035b",
   "metadata": {},
   "outputs": [],
   "source": [
    "path = os.path.join(output_directory, 'Electricity', 'Night_time_lights', 'Night_time_lights.tif')\n",
    "ntl = RasterLayer('Electricity', 'Night_time_lights', layer_path=path)\n",
    "\n",
    "nepal.raster_to_dataframe(ntl.layer, name='Night_lights', method='read')"
   ]
  },
  {
   "cell_type": "markdown",
   "id": "07d176a1",
   "metadata": {},
   "source": [
    "## 9. Calibrate current electrified population"
   ]
  },
  {
   "cell_type": "code",
   "execution_count": 43,
   "id": "ae66bed8",
   "metadata": {
    "scrolled": true
   },
   "outputs": [
    {
     "name": "stdout",
     "output_type": "stream",
     "text": [
      "Calibrated grid electrified population fraction: 0.7195329244278171\n"
     ]
    }
   ],
   "source": [
    "nepal.current_elec()\n",
    "nepal.final_elec()\n",
    "\n",
    "print('Calibrated grid electrified population fraction:', nepal.gdf['Elec_pop_calib'].sum() / nepal.gdf['Calibrated_pop'].sum())"
   ]
  },
  {
   "cell_type": "markdown",
   "id": "de858f2f",
   "metadata": {},
   "source": [
    "## 10. Read the cooking technologies data"
   ]
  },
  {
   "cell_type": "code",
   "execution_count": 44,
   "id": "8df01aca",
   "metadata": {},
   "outputs": [],
   "source": [
    "path = r\"../EGI Energy Systems\\06 Projects\\2021 Nepal Geospatial cooking\\02 - work\\OnSSTOVE cases\\NP_test_file_tech_specs.csv\"\n",
    "nepal.read_tech_data(path, delimiter=',')"
   ]
  },
  {
   "cell_type": "markdown",
   "id": "2fc7401d",
   "metadata": {},
   "source": [
    "## 11. Calculate parameters of base fuel (Biomass)"
   ]
  },
  {
   "cell_type": "markdown",
   "id": "3ffabb46",
   "metadata": {},
   "source": [
    "### 11.1. Health costs"
   ]
  },
  {
   "cell_type": "code",
   "execution_count": 45,
   "id": "f9a5126e",
   "metadata": {},
   "outputs": [],
   "source": [
    "nepal.base_fuel.health_parameters(nepal)"
   ]
  },
  {
   "cell_type": "markdown",
   "id": "d449fa2c",
   "metadata": {},
   "source": [
    "### 11.2. Carbon emissions and related costs"
   ]
  },
  {
   "cell_type": "code",
   "execution_count": 46,
   "id": "0f76a8fa",
   "metadata": {},
   "outputs": [],
   "source": [
    "nepal.base_fuel.carb(nepal.specs, nepal.gdf)"
   ]
  },
  {
   "cell_type": "markdown",
   "id": "c2765c9b",
   "metadata": {},
   "source": [
    "### 11.3. Time for travelling, collecting fuel, and cooking"
   ]
  },
  {
   "cell_type": "code",
   "execution_count": 47,
   "id": "1cfe7e84",
   "metadata": {},
   "outputs": [],
   "source": [
    "# paths to GIS layers\n",
    "nepal.base_fuel.friction_path = os.path.join(nepal.output_directory, 'Biomass', 'Friction', 'Friction.tif')\n",
    "nepal.base_fuel.forest_path = os.path.join(nepal.output_directory, 'Biomass', 'Forest', 'Forest.tif')\n",
    "\n",
    "# Calculate total time\n",
    "nepal.base_fuel.forest_condition = lambda x: x > 30\n",
    "nepal.base_fuel.total_time(nepal)"
   ]
  },
  {
   "cell_type": "markdown",
   "id": "81261ddd",
   "metadata": {},
   "source": [
    "## 12. Adding tiers data to Electricity"
   ]
  },
  {
   "cell_type": "code",
   "execution_count": 48,
   "id": "eca5afee",
   "metadata": {},
   "outputs": [],
   "source": [
    "nepal.techs['Electricity'].get_capacity_cost(nepal)"
   ]
  },
  {
   "cell_type": "markdown",
   "id": "5ad7c50b",
   "metadata": {},
   "source": [
    "## 12. Reading GIS data for LPG supply"
   ]
  },
  {
   "cell_type": "code",
   "execution_count": 49,
   "id": "de8904da",
   "metadata": {},
   "outputs": [],
   "source": [
    "nepal.techs['LPG'].lpg_path = os.path.join(nepal.output_directory, 'LPG', 'Suppliers', 'Suppliers.geojson')\n",
    "nepal.techs['LPG'].friction_path = os.path.join(nepal.output_directory, 'LPG', 'Friction', 'Friction.tif')\n",
    "\n",
    "nepal.techs['LPG'].add_travel_time(nepal)"
   ]
  },
  {
   "cell_type": "markdown",
   "id": "4c282f6d",
   "metadata": {},
   "source": [
    "## 13. Adding GIS data for Improved Biomass collected (ICS biomass)"
   ]
  },
  {
   "cell_type": "code",
   "execution_count": 50,
   "id": "e99b0cbd",
   "metadata": {},
   "outputs": [],
   "source": [
    "nepal.techs['Collected_Improved_Biomass'].friction_path = os.path.join(nepal.output_directory, 'Biomass', 'Friction', 'Friction.tif')\n",
    "nepal.techs['Collected_Improved_Biomass'].forest_path = os.path.join(nepal.output_directory, 'Biomass', 'Forest', 'Forest.tif')\n",
    "nepal.techs['Collected_Improved_Biomass'].forest_condition = lambda x: x > 30"
   ]
  },
  {
   "cell_type": "markdown",
   "id": "cf5b4224",
   "metadata": {},
   "source": [
    "## 14. Adding GIS data for Improved Biomass collected (ICS biomass)"
   ]
  },
  {
   "cell_type": "code",
   "execution_count": 51,
   "id": "df780d5b",
   "metadata": {},
   "outputs": [],
   "source": [
    "admin = gpd.read_file(r\"../EGI Energy Systems\\06 Projects\\2021 Nepal Geospatial cooking\\02 - work\\GIS-data\\Other\\Administrative boundaries\\Admin lvl 0.shp\")\n",
    "buffaloes = r\"../EGI Energy Systems\\06 Projects\\2021 Nepal Geospatial cooking\\02 - work\\GIS-data\\Supply\\Global livestock\\Buffaloes\\5_Bf_2010_Da.tif\"\n",
    "cattles = r\"../EGI Energy Systems\\06 Projects\\2021 Nepal Geospatial cooking\\02 - work\\GIS-data\\Supply\\Global livestock\\Cattle\\5_Ct_2010_Da.tif\"\n",
    "poultry = r\"..\\EGI Energy Systems\\06 Projects\\2021 Nepal Geospatial cooking\\02 - work\\GIS-data\\Supply\\Global livestock\\Chickens\\5_Ch_2010_Da.tif\"\n",
    "goats = r\"..\\EGI Energy Systems\\06 Projects\\2021 Nepal Geospatial cooking\\02 - work\\GIS-data\\Supply\\Global livestock\\Goats\\5_Gt_2010_Da.tif\"\n",
    "pigs = r\"..\\EGI Energy Systems\\06 Projects\\2021 Nepal Geospatial cooking\\02 - work\\GIS-data\\Supply\\Global livestock\\Pigs\\5_Pg_2010_Da.tif\"\n",
    "sheeps = r\"..\\EGI Energy Systems\\06 Projects\\2021 Nepal Geospatial cooking\\02 - work\\GIS-data\\Supply\\Global livestock\\Sheep\\5_Sh_2010_Da.tif\"\n",
    "temp_path = os.path.join(nepal.output_directory, 'Biogas', 'Temperature', 'Temperature.tif')\n",
    "temperature = RasterLayer('Biogas', 'Temperature', temp_path)\n",
    "water = VectorLayer('Biogas', 'Water scarcity', \n",
    "                    r\"..\\Clean cooking Africa paper\\01. Data\\GIS-data\\Water scarcity\\y2019m07d11_aqueduct30_annual_v01.gpkg\", \n",
    "                    bbox=nepal.mask_layer.layer)\n",
    "\n",
    "nepal.techs['Biogas'].recalibrate_livestock(nepal, admin, buffaloes, cattles, poultry, goats, pigs, sheeps)\n",
    "nepal.techs['Biogas'].friction_path = os.path.join(nepal.output_directory, 'Biomass', 'Friction', 'Friction.tif')\n",
    "nepal.techs['Biogas'].available_biogas(nepal)\n",
    "nepal.techs['Biogas'].available_energy(nepal, temperature, water)"
   ]
  },
  {
   "cell_type": "markdown",
   "id": "c7cc65a8",
   "metadata": {},
   "source": [
    "## 15. Saving the prepared model inputs"
   ]
  },
  {
   "cell_type": "code",
   "execution_count": 52,
   "id": "0eebb172",
   "metadata": {},
   "outputs": [],
   "source": [
    "nepal.to_pickle(\"model.pkl\")"
   ]
  },
  {
   "cell_type": "code",
   "execution_count": 53,
   "id": "5059c943",
   "metadata": {},
   "outputs": [
    {
     "name": "stdout",
     "output_type": "stream",
     "text": [
      "Execution time: 0 min 52 sec\n"
     ]
    }
   ],
   "source": [
    "end = time.time()\n",
    "\n",
    "diff = end - start\n",
    "print('Execution time:', str(str(int(diff//60))) + ' min ' + str(int((diff)%60)) + ' sec')"
   ]
  },
  {
   "cell_type": "markdown",
   "id": "19d2ee24",
   "metadata": {},
   "source": [
    "# Model run"
   ]
  },
  {
   "cell_type": "markdown",
   "id": "a551030f",
   "metadata": {},
   "source": [
    "## 1. Read the OnSSTOVE model"
   ]
  },
  {
   "cell_type": "code",
   "execution_count": 54,
   "id": "38e7b7f3",
   "metadata": {},
   "outputs": [],
   "source": [
    "start = time.time()\n",
    "\n",
    "nepal = OnSSTOVE.read_model(\"results/model.pkl\")"
   ]
  },
  {
   "cell_type": "markdown",
   "id": "5e0bc093",
   "metadata": {},
   "source": [
    "## 2. Read the scenario data"
   ]
  },
  {
   "cell_type": "code",
   "execution_count": 55,
   "id": "3162a3de",
   "metadata": {},
   "outputs": [],
   "source": [
    "path = r\"../EGI Energy Systems\\06 Projects\\2021 Nepal Geospatial cooking\\02 - work\\OnSSTOVE cases\\NP_test_file_social_specs.csv\"\n",
    "nepal.read_scenario_data(path, delimiter=',')"
   ]
  },
  {
   "cell_type": "markdown",
   "id": "c50fed31",
   "metadata": {},
   "source": [
    "## 3. Calculating benefits and costs of each technology and getting the max benefit technology for each cell"
   ]
  },
  {
   "cell_type": "code",
   "execution_count": 56,
   "id": "8ab17f19",
   "metadata": {},
   "outputs": [
    {
     "name": "stdout",
     "output_type": "stream",
     "text": [
      "[Nepal] Getting value of time\n",
      "Calculating health benefits for Electricity...\n",
      "Calculating carbon emissions benefits for Electricity...\n",
      "Calculating time saved benefits for Electricity...\n",
      "Calculating costs for Electricity...\n",
      "Calculating net benefit for Electricity...\n",
      "\n",
      "Calculating health benefits for Collected_Traditional_Biomass...\n",
      "Calculating carbon emissions benefits for Collected_Traditional_Biomass...\n",
      "Calculating time saved benefits for Collected_Traditional_Biomass...\n",
      "Calculating costs for Collected_Traditional_Biomass...\n",
      "Calculating net benefit for Collected_Traditional_Biomass...\n",
      "\n",
      "Calculating health benefits for Collected_Improved_Biomass...\n",
      "Calculating carbon emissions benefits for Collected_Improved_Biomass...\n",
      "Calculating time saved benefits for Collected_Improved_Biomass...\n",
      "Calculating costs for Collected_Improved_Biomass...\n",
      "Calculating net benefit for Collected_Improved_Biomass...\n",
      "\n",
      "Calculating health benefits for LPG...\n",
      "Calculating carbon emissions benefits for LPG...\n",
      "Calculating time saved benefits for LPG...\n",
      "Calculating costs for LPG...\n",
      "Calculating net benefit for LPG...\n",
      "\n",
      "Calculating health benefits for Biogas...\n",
      "Calculating carbon emissions benefits for Biogas...\n",
      "Calculating time saved benefits for Biogas...\n",
      "Calculating costs for Biogas...\n",
      "Calculating net benefit for Biogas...\n",
      "\n",
      "Getting maximum net benefit technologies...\n",
      "Extracting indicators...\n",
      "    - Lives saved\n",
      "    - Health costs\n",
      "    - Time saved\n",
      "    - Reduced emissions\n",
      "    - Investment costs\n",
      "    - Fuel costs\n",
      "    - Reduced emissions externalities\n",
      "Done\n"
     ]
    }
   ],
   "source": [
    "names = ['Electricity', 'Collected_Traditional_Biomass', 'Collected_Improved_Biomass', 'LPG', 'Biogas']\n",
    "nepal.run(technologies=names)"
   ]
  },
  {
   "cell_type": "markdown",
   "id": "5fd7bcc1",
   "metadata": {},
   "source": [
    "## 4. Printing the results"
   ]
  },
  {
   "cell_type": "code",
   "execution_count": null,
   "id": "a70ccb89",
   "metadata": {},
   "outputs": [],
   "source": [
    "nepal.gdf"
   ]
  },
  {
   "cell_type": "code",
   "execution_count": 57,
   "id": "0c7dbe07",
   "metadata": {},
   "outputs": [
    {
     "data": {
      "text/html": [
       "<div>\n",
       "<style scoped>\n",
       "    .dataframe tbody tr th:only-of-type {\n",
       "        vertical-align: middle;\n",
       "    }\n",
       "\n",
       "    .dataframe tbody tr th {\n",
       "        vertical-align: top;\n",
       "    }\n",
       "\n",
       "    .dataframe thead th {\n",
       "        text-align: right;\n",
       "    }\n",
       "</style>\n",
       "<table border=\"1\" class=\"dataframe\">\n",
       "  <thead>\n",
       "    <tr style=\"text-align: right;\">\n",
       "      <th></th>\n",
       "      <th>Calibrated_pop</th>\n",
       "      <th>maximum_net_benefit</th>\n",
       "      <th>deaths_avoided</th>\n",
       "      <th>health_costs_avoided</th>\n",
       "      <th>time_saved</th>\n",
       "      <th>reduced_emissions</th>\n",
       "      <th>investment_costs</th>\n",
       "      <th>fuel_costs</th>\n",
       "      <th>emissions_costs_saved</th>\n",
       "    </tr>\n",
       "    <tr>\n",
       "      <th>max_benefit_tech</th>\n",
       "      <th></th>\n",
       "      <th></th>\n",
       "      <th></th>\n",
       "      <th></th>\n",
       "      <th></th>\n",
       "      <th></th>\n",
       "      <th></th>\n",
       "      <th></th>\n",
       "      <th></th>\n",
       "    </tr>\n",
       "  </thead>\n",
       "  <tbody>\n",
       "    <tr>\n",
       "      <th>Biogas</th>\n",
       "      <td>5.354669</td>\n",
       "      <td>11.453070</td>\n",
       "      <td>6479.575259</td>\n",
       "      <td>216.749000</td>\n",
       "      <td>1.594686e+09</td>\n",
       "      <td>5.773745</td>\n",
       "      <td>403.948677</td>\n",
       "      <td>0.000000</td>\n",
       "      <td>28.868726</td>\n",
       "    </tr>\n",
       "    <tr>\n",
       "      <th>Collected_Improved_Biomass</th>\n",
       "      <td>0.028910</td>\n",
       "      <td>0.031268</td>\n",
       "      <td>8.730462</td>\n",
       "      <td>0.286451</td>\n",
       "      <td>2.251064e+06</td>\n",
       "      <td>0.018281</td>\n",
       "      <td>0.102788</td>\n",
       "      <td>0.023278</td>\n",
       "      <td>0.091405</td>\n",
       "    </tr>\n",
       "    <tr>\n",
       "      <th>Electricity</th>\n",
       "      <td>18.630925</td>\n",
       "      <td>7.230149</td>\n",
       "      <td>22544.902732</td>\n",
       "      <td>754.152076</td>\n",
       "      <td>9.171895e+09</td>\n",
       "      <td>20.838413</td>\n",
       "      <td>187.710193</td>\n",
       "      <td>307.565598</td>\n",
       "      <td>104.192063</td>\n",
       "    </tr>\n",
       "    <tr>\n",
       "      <th>LPG</th>\n",
       "      <td>4.595497</td>\n",
       "      <td>4.949046</td>\n",
       "      <td>4773.304987</td>\n",
       "      <td>160.916203</td>\n",
       "      <td>1.970361e+09</td>\n",
       "      <td>4.619440</td>\n",
       "      <td>31.509612</td>\n",
       "      <td>171.354148</td>\n",
       "      <td>23.097198</td>\n",
       "    </tr>\n",
       "  </tbody>\n",
       "</table>\n",
       "</div>"
      ],
      "text/plain": [
       "                            Calibrated_pop  maximum_net_benefit  \\\n",
       "max_benefit_tech                                                  \n",
       "Biogas                            5.354669            11.453070   \n",
       "Collected_Improved_Biomass        0.028910             0.031268   \n",
       "Electricity                      18.630925             7.230149   \n",
       "LPG                               4.595497             4.949046   \n",
       "\n",
       "                            deaths_avoided  health_costs_avoided  \\\n",
       "max_benefit_tech                                                   \n",
       "Biogas                         6479.575259            216.749000   \n",
       "Collected_Improved_Biomass        8.730462              0.286451   \n",
       "Electricity                   22544.902732            754.152076   \n",
       "LPG                            4773.304987            160.916203   \n",
       "\n",
       "                              time_saved  reduced_emissions  investment_costs  \\\n",
       "max_benefit_tech                                                                \n",
       "Biogas                      1.594686e+09           5.773745        403.948677   \n",
       "Collected_Improved_Biomass  2.251064e+06           0.018281          0.102788   \n",
       "Electricity                 9.171895e+09          20.838413        187.710193   \n",
       "LPG                         1.970361e+09           4.619440         31.509612   \n",
       "\n",
       "                            fuel_costs  emissions_costs_saved  \n",
       "max_benefit_tech                                               \n",
       "Biogas                        0.000000              28.868726  \n",
       "Collected_Improved_Biomass    0.023278               0.091405  \n",
       "Electricity                 307.565598             104.192063  \n",
       "LPG                         171.354148              23.097198  "
      ]
     },
     "execution_count": 57,
     "metadata": {},
     "output_type": "execute_result"
    }
   ],
   "source": [
    "nepal.gdf.groupby(['max_benefit_tech']).agg({'Calibrated_pop': lambda row: np.nansum(row) / 1000000,\n",
    "                                             'maximum_net_benefit': lambda row: np.nansum(row) / 1000000,\n",
    "                                             'deaths_avoided': 'sum',\n",
    "                                             'health_costs_avoided': lambda row: np.nansum(row) / 1000000,\n",
    "                                             'time_saved': 'sum',\n",
    "                                             'reduced_emissions': lambda row: np.nansum(row) / 1000000000,\n",
    "                                             'investment_costs': lambda row: np.nansum(row) / 1000000,\n",
    "                                             'fuel_costs': lambda row: np.nansum(row) / 1000000,\n",
    "                                             'emissions_costs_saved': lambda row: np.nansum(row) / 1000000})"
   ]
  },
  {
   "cell_type": "code",
   "execution_count": null,
   "id": "2296b079",
   "metadata": {},
   "outputs": [],
   "source": [
    "print('maximum_net_benefit:', nepal.gdf['maximum_net_benefit'].sum() / 1000000)\n",
    "print('deaths_avoided:', nepal.gdf['deaths_avoided'].sum())\n",
    "print('health_costs_avoided:', nepal.gdf['health_costs_avoided'].sum() / 1000000)\n",
    "print('time_saved:', nepal.gdf['time_saved'].sum() / nepal.gdf['Households'].sum() / 365)\n",
    "print('reduced_emissions:', nepal.gdf['reduced_emissions'].sum() / 1000000000)\n",
    "print('investment_costs:', nepal.gdf['investment_costs'].sum() / 1000000)\n",
    "print('fuel_costs:', nepal.gdf['fuel_costs'].sum() / 1000000)\n",
    "print('emissions_costs_saved:', nepal.gdf['emissions_costs_saved'].sum() / 1000000)"
   ]
  },
  {
   "cell_type": "markdown",
   "id": "edc81d05",
   "metadata": {},
   "source": [
    "## 5. Saving data to raster files"
   ]
  },
  {
   "cell_type": "code",
   "execution_count": null,
   "id": "5da940a5",
   "metadata": {},
   "outputs": [],
   "source": [
    "nepal.to_raster('max_benefit_tech')\n",
    "nepal.to_raster('net_benefit_Electricity')\n",
    "nepal.to_raster('net_benefit_LPG')\n",
    "nepal.to_raster('net_benefit_Collected_Traditional_Biomass')\n",
    "nepal.to_raster('net_benefit_Collected_Improved_Biomass')\n",
    "nepal.to_raster('maximum_net_benefit')\n",
    "nepal.to_raster('investment_costs')"
   ]
  },
  {
   "cell_type": "code",
   "execution_count": null,
   "id": "b8be6fe6",
   "metadata": {},
   "outputs": [],
   "source": [
    "nepal.to_raster('Current_elec')\n",
    "nepal.to_raster('Elec_pop_calib')"
   ]
  },
  {
   "cell_type": "code",
   "execution_count": null,
   "id": "121ff113",
   "metadata": {},
   "outputs": [],
   "source": [
    "nepal.to_raster('value_of_time')"
   ]
  },
  {
   "cell_type": "code",
   "execution_count": 30,
   "id": "e91741d3",
   "metadata": {},
   "outputs": [
    {
     "data": {
      "image/png": "[encoded data removed]",
      "text/plain": [
       "<Figure size 1152x648 with 1 Axes>"
      ]
     },
     "metadata": {
      "needs_background": "light"
     },
     "output_type": "display_data"
    }
   ],
   "source": [
    "nepal.plot('max_benefit_tech', cmap='tab10')"
   ]
  },
  {
   "cell_type": "code",
   "execution_count": null,
   "id": "88150a5e",
   "metadata": {
    "scrolled": true
   },
   "outputs": [],
   "source": [
    "nepal.plot('maximum_net_benefit', cmap='Spectral', cumulative_count=[0.02, 0.98])"
   ]
  },
  {
   "cell_type": "code",
   "execution_count": null,
   "id": "864b24c2",
   "metadata": {},
   "outputs": [],
   "source": [
    "nepal.to_image('maximum_net_benefit', cmap='Spectral', cumulative_count=[0.01, 0.99])"
   ]
  },
  {
   "cell_type": "code",
   "execution_count": 31,
   "id": "d348e11c",
   "metadata": {},
   "outputs": [],
   "source": [
    "nepal.to_image('max_benefit_tech', cmap='tab10', legend_position=(0.7, 0.9))"
   ]
  },
  {
   "cell_type": "code",
   "execution_count": null,
   "id": "5dc75ac4",
   "metadata": {},
   "outputs": [],
   "source": [
    "nepal.gdf.to_csv(os.path.join(output_directory, 'Output', 'results.csv'))"
   ]
  },
  {
   "cell_type": "code",
   "execution_count": null,
   "id": "59d73054",
   "metadata": {},
   "outputs": [],
   "source": [
    "end = time.time()\n",
    "\n",
    "diff = end - start\n",
    "print('Execution time:', str(str(int(diff//60))) + ' min ' + str(int((diff)%60)) + ' sec')"
   ]
  },
  {
   "cell_type": "code",
   "execution_count": null,
   "id": "d65ec3c3",
   "metadata": {},
   "outputs": [],
   "source": [
    "import matplotlib.cm as cm\n",
    "from matplotlib.colors import ListedColormap, to_rgba\n",
    "red = to_rgba('#FF5733', alpha=None)\n",
    "clist = [[0.3, 0.5, 0.7, 1], [0, 0.5, 0.7, 1], red]\n",
    "cmap = ListedColormap(clist)\n",
    "cmap"
   ]
  },
  {
   "cell_type": "code",
   "execution_count": null,
   "id": "39f75225",
   "metadata": {},
   "outputs": [],
   "source": [
    "dff = nepal.gdf.groupby(['max_benefit_tech']).agg({'Calibrated_pop': lambda row: np.nansum(row) / 1000000,\n",
    "                                                   'maximum_net_benefit': lambda row: np.nansum(row) / 1000000,\n",
    "                                                   'investment_costs': lambda row: np.nansum(row) / 1000000}).reset_index()"
   ]
  },
  {
   "cell_type": "code",
   "execution_count": null,
   "id": "aaa67c75",
   "metadata": {},
   "outputs": [],
   "source": [
    "fig = px.pie(dff, names='max_benefit_tech', values='Calibrated_pop', color_discrete_sequence=['#dc0f0f', '#a86ee1', '#79de13'])\n",
    "fig.write_image(os.path.join(output_directory, 'output', 'Pop_per_tech.pdf'), width=500, height=500)\n",
    "fig.update_traces(textfont_size=16)\n",
    "fig.show()"
   ]
  },
  {
   "cell_type": "code",
   "execution_count": null,
   "id": "c780b335",
   "metadata": {},
   "outputs": [],
   "source": [
    "fig = px.pie(dff, names='max_benefit_tech', values='investment_costs', color_discrete_sequence=['#dc0f0f', '#a86ee1', '#79de13'])\n",
    "fig.write_image(os.path.join(output_directory, 'output', 'Investments.pdf'), width=500, height=500)\n",
    "fig.update_traces(textfont_size=16)\n",
    "fig.show()"
   ]
  }
 ],
 "metadata": {
  "kernelspec": {
   "display_name": "Python 3",
   "language": "python",
   "name": "python3"
  },
  "language_info": {
   "codemirror_mode": {
    "name": "ipython",
    "version": 3
   },
   "file_extension": ".py",
   "mimetype": "text/x-python",
   "name": "python",
   "nbconvert_exporter": "python",
   "pygments_lexer": "ipython3",
   "version": "3.9.2"
  }
 },
 "nbformat": 4,
 "nbformat_minor": 5
}

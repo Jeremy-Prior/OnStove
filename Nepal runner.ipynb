{
 "cells": [
  {
   "cell_type": "code",
   "execution_count": 1,
   "id": "69b19018",
   "metadata": {},
   "outputs": [],
   "source": [
    "import os, sys\n",
    "import numpy as np\n",
    "import geopandas as gpd\n",
    "import plotly.express as px\n",
    "sys.path.append('../')"
   ]
  },
  {
   "cell_type": "code",
   "execution_count": 2,
   "id": "1229c70e",
   "metadata": {},
   "outputs": [],
   "source": [
    "# %load_ext autoreload"
   ]
  },
  {
   "cell_type": "code",
   "execution_count": 3,
   "id": "9608ffdc",
   "metadata": {},
   "outputs": [],
   "source": [
    "# %autoreload 2\n",
    "from onsstove.onsstove import OnSSTOVE, DataProcessor\n",
    "from onsstove.layer import RasterLayer, VectorLayer\n",
    "from onsstove.raster import interpolate\n",
    "import time"
   ]
  },
  {
   "cell_type": "code",
   "execution_count": 61,
   "id": "d4b5a7be",
   "metadata": {},
   "outputs": [],
   "source": [
    "model = OnSSTOVE.read_model('Africa/ZAF/model.pkl')"
   ]
  },
  {
   "cell_type": "code",
   "execution_count": 62,
   "id": "09436aac",
   "metadata": {},
   "outputs": [
    {
     "name": "stdout",
     "output_type": "stream",
     "text": [
      "Calculating health benefits for Collected_Traditional_Biomass...\n",
      "Calculating carbon emissions benefits for Collected_Traditional_Biomass...\n",
      "Calculating time saved benefits for Collected_Traditional_Biomass...\n",
      "Calculating costs for Collected_Traditional_Biomass...\n",
      "Calculating net benefit for Collected_Traditional_Biomass...\n",
      "\n",
      "Calculating health benefits for Collected_Imporved_Biomass...\n",
      "Calculating carbon emissions benefits for Collected_Imporved_Biomass...\n",
      "Calculating time saved benefits for Collected_Imporved_Biomass...\n",
      "Calculating costs for Collected_Imporved_Biomass...\n",
      "Calculating net benefit for Collected_Imporved_Biomass...\n",
      "\n",
      "Calculating health benefits for LPG...\n",
      "Calculating carbon emissions benefits for LPG...\n",
      "Calculating time saved benefits for LPG...\n",
      "Calculating costs for LPG...\n",
      "Calculating net benefit for LPG...\n",
      "\n",
      "Calculating health benefits for Biogas...\n",
      "Calculating carbon emissions benefits for Biogas...\n",
      "Calculating time saved benefits for Biogas...\n",
      "Calculating costs for Biogas...\n",
      "Calculating net benefit for Biogas...\n",
      "\n",
      "Calculating health benefits for Electricity...\n",
      "Calculating carbon emissions benefits for Electricity...\n",
      "Calculating time saved benefits for Electricity...\n",
      "Calculating costs for Electricity...\n",
      "Calculating net benefit for Electricity...\n",
      "\n",
      "Getting maximum net benefit technologies...\n",
      "Extracting indicators...\n",
      "    - Lives saved\n"
     ]
    },
    {
     "ename": "KeyError",
     "evalue": "nan",
     "output_type": "error",
     "traceback": [
      "\u001b[1;31m---------------------------------------------------------------------------\u001b[0m",
      "\u001b[1;31mKeyError\u001b[0m                                  Traceback (most recent call last)",
      "\u001b[1;32m<ipython-input-62-640ff0f5af65>\u001b[0m in \u001b[0;36m<module>\u001b[1;34m\u001b[0m\n\u001b[1;32m----> 1\u001b[1;33m \u001b[0mmodel\u001b[0m\u001b[1;33m.\u001b[0m\u001b[0mrun\u001b[0m\u001b[1;33m(\u001b[0m\u001b[1;33m)\u001b[0m\u001b[1;33m\u001b[0m\u001b[1;33m\u001b[0m\u001b[0m\n\u001b[0m",
      "\u001b[1;32m~\\Box Sync\\OnSSTOVE\\onsstove\\onsstove.py\u001b[0m in \u001b[0;36mrun\u001b[1;34m(self, technologies)\u001b[0m\n\u001b[0;32m    634\u001b[0m         \u001b[0mprint\u001b[0m\u001b[1;33m(\u001b[0m\u001b[1;34m'Extracting indicators...'\u001b[0m\u001b[1;33m)\u001b[0m\u001b[1;33m\u001b[0m\u001b[1;33m\u001b[0m\u001b[0m\n\u001b[0;32m    635\u001b[0m         \u001b[0mprint\u001b[0m\u001b[1;33m(\u001b[0m\u001b[1;34m'    - Lives saved'\u001b[0m\u001b[1;33m)\u001b[0m\u001b[1;33m\u001b[0m\u001b[1;33m\u001b[0m\u001b[0m\n\u001b[1;32m--> 636\u001b[1;33m         \u001b[0mself\u001b[0m\u001b[1;33m.\u001b[0m\u001b[0mlives_saved\u001b[0m\u001b[1;33m(\u001b[0m\u001b[1;33m)\u001b[0m\u001b[1;33m\u001b[0m\u001b[1;33m\u001b[0m\u001b[0m\n\u001b[0m\u001b[0;32m    637\u001b[0m         \u001b[0mprint\u001b[0m\u001b[1;33m(\u001b[0m\u001b[1;34m'    - Health costs'\u001b[0m\u001b[1;33m)\u001b[0m\u001b[1;33m\u001b[0m\u001b[1;33m\u001b[0m\u001b[0m\n\u001b[0;32m    638\u001b[0m         \u001b[0mself\u001b[0m\u001b[1;33m.\u001b[0m\u001b[0mhealth_costs_saved\u001b[0m\u001b[1;33m(\u001b[0m\u001b[1;33m)\u001b[0m\u001b[1;33m\u001b[0m\u001b[1;33m\u001b[0m\u001b[0m\n",
      "\u001b[1;32m~\\Box Sync\\OnSSTOVE\\onsstove\\onsstove.py\u001b[0m in \u001b[0;36mlives_saved\u001b[1;34m(self)\u001b[0m\n\u001b[0;32m    704\u001b[0m \u001b[1;33m\u001b[0m\u001b[0m\n\u001b[0;32m    705\u001b[0m     \u001b[1;32mdef\u001b[0m \u001b[0mlives_saved\u001b[0m\u001b[1;33m(\u001b[0m\u001b[0mself\u001b[0m\u001b[1;33m)\u001b[0m\u001b[1;33m:\u001b[0m\u001b[1;33m\u001b[0m\u001b[1;33m\u001b[0m\u001b[0m\n\u001b[1;32m--> 706\u001b[1;33m         self.gdf[\"deaths_avoided\"] = self.gdf.apply(\n\u001b[0m\u001b[0;32m    707\u001b[0m             lambda row: self.techs[row['max_benefit_tech']].deaths_avoided[row.name], axis=1) * self.gdf[\"Households\"]\n\u001b[0;32m    708\u001b[0m \u001b[1;33m\u001b[0m\u001b[0m\n",
      "\u001b[1;32m~\\AppData\\Local\\Continuum\\anaconda3\\envs\\nepaljupyter\\lib\\site-packages\\geopandas\\geodataframe.py\u001b[0m in \u001b[0;36mapply\u001b[1;34m(self, func, axis, raw, result_type, args, **kwargs)\u001b[0m\n\u001b[0;32m   1388\u001b[0m     \u001b[1;33m@\u001b[0m\u001b[0mdoc\u001b[0m\u001b[1;33m(\u001b[0m\u001b[0mpd\u001b[0m\u001b[1;33m.\u001b[0m\u001b[0mDataFrame\u001b[0m\u001b[1;33m)\u001b[0m\u001b[1;33m\u001b[0m\u001b[1;33m\u001b[0m\u001b[0m\n\u001b[0;32m   1389\u001b[0m     \u001b[1;32mdef\u001b[0m \u001b[0mapply\u001b[0m\u001b[1;33m(\u001b[0m\u001b[0mself\u001b[0m\u001b[1;33m,\u001b[0m \u001b[0mfunc\u001b[0m\u001b[1;33m,\u001b[0m \u001b[0maxis\u001b[0m\u001b[1;33m=\u001b[0m\u001b[1;36m0\u001b[0m\u001b[1;33m,\u001b[0m \u001b[0mraw\u001b[0m\u001b[1;33m=\u001b[0m\u001b[1;32mFalse\u001b[0m\u001b[1;33m,\u001b[0m \u001b[0mresult_type\u001b[0m\u001b[1;33m=\u001b[0m\u001b[1;32mNone\u001b[0m\u001b[1;33m,\u001b[0m \u001b[0margs\u001b[0m\u001b[1;33m=\u001b[0m\u001b[1;33m(\u001b[0m\u001b[1;33m)\u001b[0m\u001b[1;33m,\u001b[0m \u001b[1;33m**\u001b[0m\u001b[0mkwargs\u001b[0m\u001b[1;33m)\u001b[0m\u001b[1;33m:\u001b[0m\u001b[1;33m\u001b[0m\u001b[1;33m\u001b[0m\u001b[0m\n\u001b[1;32m-> 1390\u001b[1;33m         result = super().apply(\n\u001b[0m\u001b[0;32m   1391\u001b[0m             \u001b[0mfunc\u001b[0m\u001b[1;33m,\u001b[0m \u001b[0maxis\u001b[0m\u001b[1;33m=\u001b[0m\u001b[0maxis\u001b[0m\u001b[1;33m,\u001b[0m \u001b[0mraw\u001b[0m\u001b[1;33m=\u001b[0m\u001b[0mraw\u001b[0m\u001b[1;33m,\u001b[0m \u001b[0mresult_type\u001b[0m\u001b[1;33m=\u001b[0m\u001b[0mresult_type\u001b[0m\u001b[1;33m,\u001b[0m \u001b[0margs\u001b[0m\u001b[1;33m=\u001b[0m\u001b[0margs\u001b[0m\u001b[1;33m,\u001b[0m \u001b[1;33m**\u001b[0m\u001b[0mkwargs\u001b[0m\u001b[1;33m\u001b[0m\u001b[1;33m\u001b[0m\u001b[0m\n\u001b[0;32m   1392\u001b[0m         )\n",
      "\u001b[1;32m~\\AppData\\Local\\Continuum\\anaconda3\\envs\\nepaljupyter\\lib\\site-packages\\pandas\\core\\frame.py\u001b[0m in \u001b[0;36mapply\u001b[1;34m(self, func, axis, raw, result_type, args, **kwargs)\u001b[0m\n\u001b[0;32m   8739\u001b[0m             \u001b[0mkwargs\u001b[0m\u001b[1;33m=\u001b[0m\u001b[0mkwargs\u001b[0m\u001b[1;33m,\u001b[0m\u001b[1;33m\u001b[0m\u001b[1;33m\u001b[0m\u001b[0m\n\u001b[0;32m   8740\u001b[0m         )\n\u001b[1;32m-> 8741\u001b[1;33m         \u001b[1;32mreturn\u001b[0m \u001b[0mop\u001b[0m\u001b[1;33m.\u001b[0m\u001b[0mapply\u001b[0m\u001b[1;33m(\u001b[0m\u001b[1;33m)\u001b[0m\u001b[1;33m\u001b[0m\u001b[1;33m\u001b[0m\u001b[0m\n\u001b[0m\u001b[0;32m   8742\u001b[0m \u001b[1;33m\u001b[0m\u001b[0m\n\u001b[0;32m   8743\u001b[0m     def applymap(\n",
      "\u001b[1;32m~\\AppData\\Local\\Continuum\\anaconda3\\envs\\nepaljupyter\\lib\\site-packages\\pandas\\core\\apply.py\u001b[0m in \u001b[0;36mapply\u001b[1;34m(self)\u001b[0m\n\u001b[0;32m    686\u001b[0m             \u001b[1;32mreturn\u001b[0m \u001b[0mself\u001b[0m\u001b[1;33m.\u001b[0m\u001b[0mapply_raw\u001b[0m\u001b[1;33m(\u001b[0m\u001b[1;33m)\u001b[0m\u001b[1;33m\u001b[0m\u001b[1;33m\u001b[0m\u001b[0m\n\u001b[0;32m    687\u001b[0m \u001b[1;33m\u001b[0m\u001b[0m\n\u001b[1;32m--> 688\u001b[1;33m         \u001b[1;32mreturn\u001b[0m \u001b[0mself\u001b[0m\u001b[1;33m.\u001b[0m\u001b[0mapply_standard\u001b[0m\u001b[1;33m(\u001b[0m\u001b[1;33m)\u001b[0m\u001b[1;33m\u001b[0m\u001b[1;33m\u001b[0m\u001b[0m\n\u001b[0m\u001b[0;32m    689\u001b[0m \u001b[1;33m\u001b[0m\u001b[0m\n\u001b[0;32m    690\u001b[0m     \u001b[1;32mdef\u001b[0m \u001b[0magg\u001b[0m\u001b[1;33m(\u001b[0m\u001b[0mself\u001b[0m\u001b[1;33m)\u001b[0m\u001b[1;33m:\u001b[0m\u001b[1;33m\u001b[0m\u001b[1;33m\u001b[0m\u001b[0m\n",
      "\u001b[1;32m~\\AppData\\Local\\Continuum\\anaconda3\\envs\\nepaljupyter\\lib\\site-packages\\pandas\\core\\apply.py\u001b[0m in \u001b[0;36mapply_standard\u001b[1;34m(self)\u001b[0m\n\u001b[0;32m    810\u001b[0m \u001b[1;33m\u001b[0m\u001b[0m\n\u001b[0;32m    811\u001b[0m     \u001b[1;32mdef\u001b[0m \u001b[0mapply_standard\u001b[0m\u001b[1;33m(\u001b[0m\u001b[0mself\u001b[0m\u001b[1;33m)\u001b[0m\u001b[1;33m:\u001b[0m\u001b[1;33m\u001b[0m\u001b[1;33m\u001b[0m\u001b[0m\n\u001b[1;32m--> 812\u001b[1;33m         \u001b[0mresults\u001b[0m\u001b[1;33m,\u001b[0m \u001b[0mres_index\u001b[0m \u001b[1;33m=\u001b[0m \u001b[0mself\u001b[0m\u001b[1;33m.\u001b[0m\u001b[0mapply_series_generator\u001b[0m\u001b[1;33m(\u001b[0m\u001b[1;33m)\u001b[0m\u001b[1;33m\u001b[0m\u001b[1;33m\u001b[0m\u001b[0m\n\u001b[0m\u001b[0;32m    813\u001b[0m \u001b[1;33m\u001b[0m\u001b[0m\n\u001b[0;32m    814\u001b[0m         \u001b[1;31m# wrap results\u001b[0m\u001b[1;33m\u001b[0m\u001b[1;33m\u001b[0m\u001b[1;33m\u001b[0m\u001b[0m\n",
      "\u001b[1;32m~\\AppData\\Local\\Continuum\\anaconda3\\envs\\nepaljupyter\\lib\\site-packages\\pandas\\core\\apply.py\u001b[0m in \u001b[0;36mapply_series_generator\u001b[1;34m(self)\u001b[0m\n\u001b[0;32m    826\u001b[0m             \u001b[1;32mfor\u001b[0m \u001b[0mi\u001b[0m\u001b[1;33m,\u001b[0m \u001b[0mv\u001b[0m \u001b[1;32min\u001b[0m \u001b[0menumerate\u001b[0m\u001b[1;33m(\u001b[0m\u001b[0mseries_gen\u001b[0m\u001b[1;33m)\u001b[0m\u001b[1;33m:\u001b[0m\u001b[1;33m\u001b[0m\u001b[1;33m\u001b[0m\u001b[0m\n\u001b[0;32m    827\u001b[0m                 \u001b[1;31m# ignore SettingWithCopy here in case the user mutates\u001b[0m\u001b[1;33m\u001b[0m\u001b[1;33m\u001b[0m\u001b[1;33m\u001b[0m\u001b[0m\n\u001b[1;32m--> 828\u001b[1;33m                 \u001b[0mresults\u001b[0m\u001b[1;33m[\u001b[0m\u001b[0mi\u001b[0m\u001b[1;33m]\u001b[0m \u001b[1;33m=\u001b[0m \u001b[0mself\u001b[0m\u001b[1;33m.\u001b[0m\u001b[0mf\u001b[0m\u001b[1;33m(\u001b[0m\u001b[0mv\u001b[0m\u001b[1;33m)\u001b[0m\u001b[1;33m\u001b[0m\u001b[1;33m\u001b[0m\u001b[0m\n\u001b[0m\u001b[0;32m    829\u001b[0m                 \u001b[1;32mif\u001b[0m \u001b[0misinstance\u001b[0m\u001b[1;33m(\u001b[0m\u001b[0mresults\u001b[0m\u001b[1;33m[\u001b[0m\u001b[0mi\u001b[0m\u001b[1;33m]\u001b[0m\u001b[1;33m,\u001b[0m \u001b[0mABCSeries\u001b[0m\u001b[1;33m)\u001b[0m\u001b[1;33m:\u001b[0m\u001b[1;33m\u001b[0m\u001b[1;33m\u001b[0m\u001b[0m\n\u001b[0;32m    830\u001b[0m                     \u001b[1;31m# If we have a view on v, we need to make a copy because\u001b[0m\u001b[1;33m\u001b[0m\u001b[1;33m\u001b[0m\u001b[1;33m\u001b[0m\u001b[0m\n",
      "\u001b[1;32m~\\Box Sync\\OnSSTOVE\\onsstove\\onsstove.py\u001b[0m in \u001b[0;36m<lambda>\u001b[1;34m(row)\u001b[0m\n\u001b[0;32m    705\u001b[0m     \u001b[1;32mdef\u001b[0m \u001b[0mlives_saved\u001b[0m\u001b[1;33m(\u001b[0m\u001b[0mself\u001b[0m\u001b[1;33m)\u001b[0m\u001b[1;33m:\u001b[0m\u001b[1;33m\u001b[0m\u001b[1;33m\u001b[0m\u001b[0m\n\u001b[0;32m    706\u001b[0m         self.gdf[\"deaths_avoided\"] = self.gdf.apply(\n\u001b[1;32m--> 707\u001b[1;33m             lambda row: self.techs[row['max_benefit_tech']].deaths_avoided[row.name], axis=1) * self.gdf[\"Households\"]\n\u001b[0m\u001b[0;32m    708\u001b[0m \u001b[1;33m\u001b[0m\u001b[0m\n\u001b[0;32m    709\u001b[0m     \u001b[1;32mdef\u001b[0m \u001b[0mhealth_costs_saved\u001b[0m\u001b[1;33m(\u001b[0m\u001b[0mself\u001b[0m\u001b[1;33m)\u001b[0m\u001b[1;33m:\u001b[0m\u001b[1;33m\u001b[0m\u001b[1;33m\u001b[0m\u001b[0m\n",
      "\u001b[1;31mKeyError\u001b[0m: nan"
     ]
    }
   ],
   "source": [
    "model.run()"
   ]
  },
  {
   "cell_type": "code",
   "execution_count": 63,
   "id": "67d46f2e",
   "metadata": {},
   "outputs": [
    {
     "ename": "KeyError",
     "evalue": "'Households'",
     "output_type": "error",
     "traceback": [
      "\u001b[1;31m---------------------------------------------------------------------------\u001b[0m",
      "\u001b[1;31mKeyError\u001b[0m                                  Traceback (most recent call last)",
      "\u001b[1;32m<ipython-input-63-f366fd52de74>\u001b[0m in \u001b[0;36m<module>\u001b[1;34m\u001b[0m\n\u001b[1;32m----> 1\u001b[1;33m \u001b[0mmodel\u001b[0m\u001b[1;33m.\u001b[0m\u001b[0mtechs\u001b[0m\u001b[1;33m[\u001b[0m\u001b[1;34m'Households'\u001b[0m\u001b[1;33m]\u001b[0m\u001b[1;33m.\u001b[0m\u001b[0mcases_avoided\u001b[0m\u001b[1;33m.\u001b[0m\u001b[0misna\u001b[0m\u001b[1;33m(\u001b[0m\u001b[1;33m)\u001b[0m\u001b[1;33m.\u001b[0m\u001b[0msum\u001b[0m\u001b[1;33m(\u001b[0m\u001b[1;33m)\u001b[0m\u001b[1;33m\u001b[0m\u001b[1;33m\u001b[0m\u001b[0m\n\u001b[0m",
      "\u001b[1;31mKeyError\u001b[0m: 'Households'"
     ]
    }
   ],
   "source": [
    "model.techs['Electricity'].cases_avoided.isna().sum()"
   ]
  },
  {
   "cell_type": "code",
   "execution_count": 55,
   "id": "88ca6082",
   "metadata": {},
   "outputs": [
    {
     "data": {
      "text/plain": [
       "0"
      ]
     },
     "execution_count": 55,
     "metadata": {},
     "output_type": "execute_result"
    }
   ],
   "source": [
    "model.techs['Biogas'].distributed_mortality.isna().sum()"
   ]
  },
  {
   "cell_type": "code",
   "execution_count": 68,
   "id": "015a6816",
   "metadata": {},
   "outputs": [
    {
     "data": {
      "text/plain": [
       "408       0.0\n",
       "536       0.0\n",
       "579       0.0\n",
       "580       0.0\n",
       "616       0.0\n",
       "         ... \n",
       "403504    0.0\n",
       "403509    0.0\n",
       "403525    0.0\n",
       "403526    0.0\n",
       "403533    0.0\n",
       "Name: Households, Length: 11106, dtype: float64"
      ]
     },
     "execution_count": 68,
     "metadata": {},
     "output_type": "execute_result"
    }
   ],
   "source": [
    "model.gdf.loc[model.gdf['max_benefit_tech'].isna(), \"C\"]"
   ]
  },
  {
   "cell_type": "code",
   "execution_count": 67,
   "id": "82156aa1",
   "metadata": {},
   "outputs": [
    {
     "data": {
      "text/html": [
       "<div>\n",
       "<style scoped>\n",
       "    .dataframe tbody tr th:only-of-type {\n",
       "        vertical-align: middle;\n",
       "    }\n",
       "\n",
       "    .dataframe tbody tr th {\n",
       "        vertical-align: top;\n",
       "    }\n",
       "\n",
       "    .dataframe thead th {\n",
       "        text-align: right;\n",
       "    }\n",
       "</style>\n",
       "<table border=\"1\" class=\"dataframe\">\n",
       "  <thead>\n",
       "    <tr style=\"text-align: right;\">\n",
       "      <th></th>\n",
       "      <th>Current_elec</th>\n",
       "      <th>Elec_pop_calib</th>\n",
       "      <th>yearly_cubic_meter_biogas</th>\n",
       "      <th>Temperature</th>\n",
       "      <th>available_biogas_energy</th>\n",
       "      <th>costs_Collected_Traditional_Biomass</th>\n",
       "      <th>benefits_Collected_Traditional_Biomass</th>\n",
       "      <th>net_benefit_Collected_Traditional_Biomass</th>\n",
       "      <th>costs_Collected_Imporved_Biomass</th>\n",
       "      <th>benefits_Collected_Imporved_Biomass</th>\n",
       "      <th>net_benefit_Collected_Imporved_Biomass</th>\n",
       "      <th>costs_LPG</th>\n",
       "      <th>benefits_LPG</th>\n",
       "      <th>net_benefit_LPG</th>\n",
       "      <th>costs_Biogas</th>\n",
       "      <th>benefits_Biogas</th>\n",
       "      <th>net_benefit_Biogas</th>\n",
       "      <th>costs_Electricity</th>\n",
       "      <th>benefits_Electricity</th>\n",
       "      <th>net_benefit_Electricity</th>\n",
       "    </tr>\n",
       "  </thead>\n",
       "  <tbody>\n",
       "    <tr>\n",
       "      <th>408</th>\n",
       "      <td>0</td>\n",
       "      <td>0.0</td>\n",
       "      <td>655.562954</td>\n",
       "      <td>23.616785</td>\n",
       "      <td>14946.835347</td>\n",
       "      <td>0.166667</td>\n",
       "      <td>NaN</td>\n",
       "      <td>NaN</td>\n",
       "      <td>8.333333</td>\n",
       "      <td>NaN</td>\n",
       "      <td>NaN</td>\n",
       "      <td>257.298370</td>\n",
       "      <td>NaN</td>\n",
       "      <td>NaN</td>\n",
       "      <td>36.666667</td>\n",
       "      <td>NaN</td>\n",
       "      <td>NaN</td>\n",
       "      <td>111.906667</td>\n",
       "      <td>NaN</td>\n",
       "      <td>NaN</td>\n",
       "    </tr>\n",
       "    <tr>\n",
       "      <th>536</th>\n",
       "      <td>0</td>\n",
       "      <td>0.0</td>\n",
       "      <td>752.878561</td>\n",
       "      <td>23.100000</td>\n",
       "      <td>17165.631197</td>\n",
       "      <td>0.166667</td>\n",
       "      <td>NaN</td>\n",
       "      <td>NaN</td>\n",
       "      <td>8.333333</td>\n",
       "      <td>NaN</td>\n",
       "      <td>NaN</td>\n",
       "      <td>256.273499</td>\n",
       "      <td>NaN</td>\n",
       "      <td>NaN</td>\n",
       "      <td>36.666667</td>\n",
       "      <td>NaN</td>\n",
       "      <td>NaN</td>\n",
       "      <td>111.906667</td>\n",
       "      <td>NaN</td>\n",
       "      <td>NaN</td>\n",
       "    </tr>\n",
       "    <tr>\n",
       "      <th>579</th>\n",
       "      <td>0</td>\n",
       "      <td>0.0</td>\n",
       "      <td>388.153240</td>\n",
       "      <td>23.535717</td>\n",
       "      <td>8849.893879</td>\n",
       "      <td>0.166667</td>\n",
       "      <td>NaN</td>\n",
       "      <td>NaN</td>\n",
       "      <td>8.333333</td>\n",
       "      <td>NaN</td>\n",
       "      <td>NaN</td>\n",
       "      <td>255.658798</td>\n",
       "      <td>NaN</td>\n",
       "      <td>NaN</td>\n",
       "      <td>36.666667</td>\n",
       "      <td>NaN</td>\n",
       "      <td>NaN</td>\n",
       "      <td>111.906667</td>\n",
       "      <td>NaN</td>\n",
       "      <td>NaN</td>\n",
       "    </tr>\n",
       "    <tr>\n",
       "      <th>580</th>\n",
       "      <td>0</td>\n",
       "      <td>0.0</td>\n",
       "      <td>388.153240</td>\n",
       "      <td>23.581902</td>\n",
       "      <td>8849.893879</td>\n",
       "      <td>0.166667</td>\n",
       "      <td>NaN</td>\n",
       "      <td>NaN</td>\n",
       "      <td>8.333333</td>\n",
       "      <td>NaN</td>\n",
       "      <td>NaN</td>\n",
       "      <td>255.509247</td>\n",
       "      <td>NaN</td>\n",
       "      <td>NaN</td>\n",
       "      <td>36.666667</td>\n",
       "      <td>NaN</td>\n",
       "      <td>NaN</td>\n",
       "      <td>111.906667</td>\n",
       "      <td>NaN</td>\n",
       "      <td>NaN</td>\n",
       "    </tr>\n",
       "    <tr>\n",
       "      <th>616</th>\n",
       "      <td>0</td>\n",
       "      <td>0.0</td>\n",
       "      <td>752.878561</td>\n",
       "      <td>23.200001</td>\n",
       "      <td>17165.631197</td>\n",
       "      <td>0.166667</td>\n",
       "      <td>NaN</td>\n",
       "      <td>NaN</td>\n",
       "      <td>8.333333</td>\n",
       "      <td>NaN</td>\n",
       "      <td>NaN</td>\n",
       "      <td>255.737671</td>\n",
       "      <td>NaN</td>\n",
       "      <td>NaN</td>\n",
       "      <td>36.666667</td>\n",
       "      <td>NaN</td>\n",
       "      <td>NaN</td>\n",
       "      <td>111.906667</td>\n",
       "      <td>NaN</td>\n",
       "      <td>NaN</td>\n",
       "    </tr>\n",
       "    <tr>\n",
       "      <th>...</th>\n",
       "      <td>...</td>\n",
       "      <td>...</td>\n",
       "      <td>...</td>\n",
       "      <td>...</td>\n",
       "      <td>...</td>\n",
       "      <td>...</td>\n",
       "      <td>...</td>\n",
       "      <td>...</td>\n",
       "      <td>...</td>\n",
       "      <td>...</td>\n",
       "      <td>...</td>\n",
       "      <td>...</td>\n",
       "      <td>...</td>\n",
       "      <td>...</td>\n",
       "      <td>...</td>\n",
       "      <td>...</td>\n",
       "      <td>...</td>\n",
       "      <td>...</td>\n",
       "      <td>...</td>\n",
       "      <td>...</td>\n",
       "    </tr>\n",
       "    <tr>\n",
       "      <th>403504</th>\n",
       "      <td>0</td>\n",
       "      <td>0.0</td>\n",
       "      <td>1008.719773</td>\n",
       "      <td>17.376614</td>\n",
       "      <td>22998.810815</td>\n",
       "      <td>0.166667</td>\n",
       "      <td>NaN</td>\n",
       "      <td>NaN</td>\n",
       "      <td>8.333333</td>\n",
       "      <td>NaN</td>\n",
       "      <td>NaN</td>\n",
       "      <td>254.887421</td>\n",
       "      <td>NaN</td>\n",
       "      <td>NaN</td>\n",
       "      <td>36.666667</td>\n",
       "      <td>NaN</td>\n",
       "      <td>NaN</td>\n",
       "      <td>111.906667</td>\n",
       "      <td>NaN</td>\n",
       "      <td>NaN</td>\n",
       "    </tr>\n",
       "    <tr>\n",
       "      <th>403509</th>\n",
       "      <td>0</td>\n",
       "      <td>0.0</td>\n",
       "      <td>582.375597</td>\n",
       "      <td>16.902102</td>\n",
       "      <td>13278.163609</td>\n",
       "      <td>0.166667</td>\n",
       "      <td>NaN</td>\n",
       "      <td>NaN</td>\n",
       "      <td>8.333333</td>\n",
       "      <td>NaN</td>\n",
       "      <td>NaN</td>\n",
       "      <td>256.041443</td>\n",
       "      <td>NaN</td>\n",
       "      <td>NaN</td>\n",
       "      <td>36.666667</td>\n",
       "      <td>NaN</td>\n",
       "      <td>NaN</td>\n",
       "      <td>111.906667</td>\n",
       "      <td>NaN</td>\n",
       "      <td>NaN</td>\n",
       "    </tr>\n",
       "    <tr>\n",
       "      <th>403525</th>\n",
       "      <td>0</td>\n",
       "      <td>0.0</td>\n",
       "      <td>1008.719773</td>\n",
       "      <td>16.823709</td>\n",
       "      <td>22998.810815</td>\n",
       "      <td>0.166667</td>\n",
       "      <td>NaN</td>\n",
       "      <td>NaN</td>\n",
       "      <td>8.333333</td>\n",
       "      <td>NaN</td>\n",
       "      <td>NaN</td>\n",
       "      <td>255.062790</td>\n",
       "      <td>NaN</td>\n",
       "      <td>NaN</td>\n",
       "      <td>36.666667</td>\n",
       "      <td>NaN</td>\n",
       "      <td>NaN</td>\n",
       "      <td>111.906667</td>\n",
       "      <td>NaN</td>\n",
       "      <td>NaN</td>\n",
       "    </tr>\n",
       "    <tr>\n",
       "      <th>403526</th>\n",
       "      <td>0</td>\n",
       "      <td>0.0</td>\n",
       "      <td>1008.719773</td>\n",
       "      <td>16.949963</td>\n",
       "      <td>22998.810815</td>\n",
       "      <td>0.166667</td>\n",
       "      <td>NaN</td>\n",
       "      <td>NaN</td>\n",
       "      <td>8.333333</td>\n",
       "      <td>NaN</td>\n",
       "      <td>NaN</td>\n",
       "      <td>254.995300</td>\n",
       "      <td>NaN</td>\n",
       "      <td>NaN</td>\n",
       "      <td>36.666667</td>\n",
       "      <td>NaN</td>\n",
       "      <td>NaN</td>\n",
       "      <td>111.906667</td>\n",
       "      <td>NaN</td>\n",
       "      <td>NaN</td>\n",
       "    </tr>\n",
       "    <tr>\n",
       "      <th>403533</th>\n",
       "      <td>0</td>\n",
       "      <td>0.0</td>\n",
       "      <td>1008.719773</td>\n",
       "      <td>16.917599</td>\n",
       "      <td>22998.810815</td>\n",
       "      <td>0.166667</td>\n",
       "      <td>NaN</td>\n",
       "      <td>NaN</td>\n",
       "      <td>8.333333</td>\n",
       "      <td>NaN</td>\n",
       "      <td>NaN</td>\n",
       "      <td>255.142914</td>\n",
       "      <td>NaN</td>\n",
       "      <td>NaN</td>\n",
       "      <td>36.666667</td>\n",
       "      <td>NaN</td>\n",
       "      <td>NaN</td>\n",
       "      <td>111.906667</td>\n",
       "      <td>NaN</td>\n",
       "      <td>NaN</td>\n",
       "    </tr>\n",
       "  </tbody>\n",
       "</table>\n",
       "<p>11106 rows × 20 columns</p>\n",
       "</div>"
      ],
      "text/plain": [
       "        Current_elec  Elec_pop_calib  yearly_cubic_meter_biogas  Temperature  \\\n",
       "408                0             0.0                 655.562954    23.616785   \n",
       "536                0             0.0                 752.878561    23.100000   \n",
       "579                0             0.0                 388.153240    23.535717   \n",
       "580                0             0.0                 388.153240    23.581902   \n",
       "616                0             0.0                 752.878561    23.200001   \n",
       "...              ...             ...                        ...          ...   \n",
       "403504             0             0.0                1008.719773    17.376614   \n",
       "403509             0             0.0                 582.375597    16.902102   \n",
       "403525             0             0.0                1008.719773    16.823709   \n",
       "403526             0             0.0                1008.719773    16.949963   \n",
       "403533             0             0.0                1008.719773    16.917599   \n",
       "\n",
       "        available_biogas_energy  costs_Collected_Traditional_Biomass  \\\n",
       "408                14946.835347                             0.166667   \n",
       "536                17165.631197                             0.166667   \n",
       "579                 8849.893879                             0.166667   \n",
       "580                 8849.893879                             0.166667   \n",
       "616                17165.631197                             0.166667   \n",
       "...                         ...                                  ...   \n",
       "403504             22998.810815                             0.166667   \n",
       "403509             13278.163609                             0.166667   \n",
       "403525             22998.810815                             0.166667   \n",
       "403526             22998.810815                             0.166667   \n",
       "403533             22998.810815                             0.166667   \n",
       "\n",
       "        benefits_Collected_Traditional_Biomass  \\\n",
       "408                                        NaN   \n",
       "536                                        NaN   \n",
       "579                                        NaN   \n",
       "580                                        NaN   \n",
       "616                                        NaN   \n",
       "...                                        ...   \n",
       "403504                                     NaN   \n",
       "403509                                     NaN   \n",
       "403525                                     NaN   \n",
       "403526                                     NaN   \n",
       "403533                                     NaN   \n",
       "\n",
       "        net_benefit_Collected_Traditional_Biomass  \\\n",
       "408                                           NaN   \n",
       "536                                           NaN   \n",
       "579                                           NaN   \n",
       "580                                           NaN   \n",
       "616                                           NaN   \n",
       "...                                           ...   \n",
       "403504                                        NaN   \n",
       "403509                                        NaN   \n",
       "403525                                        NaN   \n",
       "403526                                        NaN   \n",
       "403533                                        NaN   \n",
       "\n",
       "        costs_Collected_Imporved_Biomass  benefits_Collected_Imporved_Biomass  \\\n",
       "408                             8.333333                                  NaN   \n",
       "536                             8.333333                                  NaN   \n",
       "579                             8.333333                                  NaN   \n",
       "580                             8.333333                                  NaN   \n",
       "616                             8.333333                                  NaN   \n",
       "...                                  ...                                  ...   \n",
       "403504                          8.333333                                  NaN   \n",
       "403509                          8.333333                                  NaN   \n",
       "403525                          8.333333                                  NaN   \n",
       "403526                          8.333333                                  NaN   \n",
       "403533                          8.333333                                  NaN   \n",
       "\n",
       "        net_benefit_Collected_Imporved_Biomass   costs_LPG  benefits_LPG  \\\n",
       "408                                        NaN  257.298370           NaN   \n",
       "536                                        NaN  256.273499           NaN   \n",
       "579                                        NaN  255.658798           NaN   \n",
       "580                                        NaN  255.509247           NaN   \n",
       "616                                        NaN  255.737671           NaN   \n",
       "...                                        ...         ...           ...   \n",
       "403504                                     NaN  254.887421           NaN   \n",
       "403509                                     NaN  256.041443           NaN   \n",
       "403525                                     NaN  255.062790           NaN   \n",
       "403526                                     NaN  254.995300           NaN   \n",
       "403533                                     NaN  255.142914           NaN   \n",
       "\n",
       "        net_benefit_LPG  costs_Biogas  benefits_Biogas  net_benefit_Biogas  \\\n",
       "408                 NaN     36.666667              NaN                 NaN   \n",
       "536                 NaN     36.666667              NaN                 NaN   \n",
       "579                 NaN     36.666667              NaN                 NaN   \n",
       "580                 NaN     36.666667              NaN                 NaN   \n",
       "616                 NaN     36.666667              NaN                 NaN   \n",
       "...                 ...           ...              ...                 ...   \n",
       "403504              NaN     36.666667              NaN                 NaN   \n",
       "403509              NaN     36.666667              NaN                 NaN   \n",
       "403525              NaN     36.666667              NaN                 NaN   \n",
       "403526              NaN     36.666667              NaN                 NaN   \n",
       "403533              NaN     36.666667              NaN                 NaN   \n",
       "\n",
       "        costs_Electricity  benefits_Electricity  net_benefit_Electricity  \n",
       "408            111.906667                   NaN                      NaN  \n",
       "536            111.906667                   NaN                      NaN  \n",
       "579            111.906667                   NaN                      NaN  \n",
       "580            111.906667                   NaN                      NaN  \n",
       "616            111.906667                   NaN                      NaN  \n",
       "...                   ...                   ...                      ...  \n",
       "403504         111.906667                   NaN                      NaN  \n",
       "403509         111.906667                   NaN                      NaN  \n",
       "403525         111.906667                   NaN                      NaN  \n",
       "403526         111.906667                   NaN                      NaN  \n",
       "403533         111.906667                   NaN                      NaN  \n",
       "\n",
       "[11106 rows x 20 columns]"
      ]
     },
     "execution_count": 67,
     "metadata": {},
     "output_type": "execute_result"
    }
   ],
   "source": [
    "model.gdf.loc[model.gdf['max_benefit_tech'].isna()].iloc[:, 10:30]"
   ]
  },
  {
   "cell_type": "code",
   "execution_count": 65,
   "id": "d8f4fe86",
   "metadata": {},
   "outputs": [
    {
     "data": {
      "text/plain": [
       "0"
      ]
     },
     "execution_count": 65,
     "metadata": {},
     "output_type": "execute_result"
    }
   ],
   "source": [
    "model.gdf.loc[model.gdf['max_benefit_tech'].isna(), 'Current_elec'].sum()"
   ]
  },
  {
   "cell_type": "code",
   "execution_count": 66,
   "id": "9bea3ed9",
   "metadata": {},
   "outputs": [
    {
     "data": {
      "text/plain": [
       "geometry                                          0\n",
       "Pop                                               0\n",
       "Calibrated_pop                                    0\n",
       "IsUrban                                           0\n",
       "Households                                        0\n",
       "relative_wealth                                   0\n",
       "value_of_time                                     0\n",
       "MV_lines_dist                                     0\n",
       "Night_lights                                      0\n",
       "Elec_dist                                         0\n",
       "Current_elec                                      0\n",
       "Elec_pop_calib                                    0\n",
       "yearly_cubic_meter_biogas                        15\n",
       "Temperature                                       0\n",
       "available_biogas_energy                          15\n",
       "costs_Collected_Traditional_Biomass               0\n",
       "benefits_Collected_Traditional_Biomass        11291\n",
       "net_benefit_Collected_Traditional_Biomass     11291\n",
       "costs_Collected_Imporved_Biomass                  0\n",
       "benefits_Collected_Imporved_Biomass           11306\n",
       "net_benefit_Collected_Imporved_Biomass        11306\n",
       "costs_LPG                                         0\n",
       "benefits_LPG                                  11306\n",
       "net_benefit_LPG                               11306\n",
       "costs_Biogas                                      0\n",
       "benefits_Biogas                               11306\n",
       "net_benefit_Biogas                            11119\n",
       "costs_Electricity                                 0\n",
       "benefits_Electricity                          11306\n",
       "net_benefit_Electricity                      381333\n",
       "max_benefit_tech                              11106\n",
       "maximum_net_benefit                           11106\n",
       "dtype: int64"
      ]
     },
     "execution_count": 66,
     "metadata": {},
     "output_type": "execute_result"
    }
   ],
   "source": [
    "model.gdf.isna().sum()"
   ]
  },
  {
   "cell_type": "markdown",
   "id": "ab677f71",
   "metadata": {},
   "source": [
    "# Data processing"
   ]
  },
  {
   "cell_type": "markdown",
   "id": "c8146919",
   "metadata": {},
   "source": [
    "## 1. Create a data processor"
   ]
  },
  {
   "cell_type": "code",
   "execution_count": null,
   "id": "1fd76c2e",
   "metadata": {},
   "outputs": [],
   "source": [
    "start = time.time()\n",
    "\n",
    "data = DataProcessor(project_crs=3857, cell_size=(1000, 1000))\n",
    "output_directory = 'results'\n",
    "data.output_directory = output_directory"
   ]
  },
  {
   "cell_type": "markdown",
   "id": "b13afc4d",
   "metadata": {},
   "source": [
    "## 2. Add a mask layer (country boundaries)"
   ]
  },
  {
   "cell_type": "code",
   "execution_count": null,
   "id": "74ab8d3c",
   "metadata": {},
   "outputs": [],
   "source": [
    "adm_path = r\"..\\EGI Energy Systems\\06 Projects\\2021 Nepal Geospatial cooking\\02 - work\\GIS-data\\Other\\Administrative boundaries\\NPL_adm0_Nepal0.shp\"\n",
    "data.add_mask_layer(category='Administrative', name='Country_boundaries', layer_path=adm_path)"
   ]
  },
  {
   "cell_type": "markdown",
   "id": "b64735db",
   "metadata": {},
   "source": [
    "## 3. Add GIS layers"
   ]
  },
  {
   "cell_type": "markdown",
   "id": "a1d495e7",
   "metadata": {},
   "source": [
    "### Demographics"
   ]
  },
  {
   "cell_type": "code",
   "execution_count": null,
   "id": "bd00425a",
   "metadata": {},
   "outputs": [],
   "source": [
    "pop_path = r\"../EGI Energy Systems\\06 Projects\\2021 Nepal Geospatial cooking\\02 - work\\GIS-data\\Demand\\Population\\HRSL\\population_npl_2018-10-01_geotiff\\population_npl_2018-10-01.tif\"\n",
    "data.add_layer(category='Demographics', name='Population', layer_path=pop_path, layer_type='raster', base_layer=True, resample='sum')\n",
    "\n",
    "# Check if this is needed for a general implementation\n",
    "# data.layers['Demographics']['Population'].layer[np.isnan(data.layers['Demographics']['Population'].layer)] = 0\n",
    "# data.layers['Demographics']['Population'].save(os.path.join(data.output_directory, 'Demographics', 'Population'))\n",
    "\n",
    "ghs_path = r\"../EGI Energy Systems\\06 Projects\\2021 Nepal Geospatial cooking\\02 - work\\GIS-data\\Other\\Urban - Rural divide\\GHS.tif\"\n",
    "data.add_layer(category='Demographics', name='Urban_rural_divide', layer_path=ghs_path, layer_type='raster', resample='nearest')"
   ]
  },
  {
   "cell_type": "markdown",
   "id": "7669c0fa",
   "metadata": {},
   "source": [
    "### Biomass"
   ]
  },
  {
   "cell_type": "code",
   "execution_count": null,
   "id": "fbda05b7",
   "metadata": {},
   "outputs": [],
   "source": [
    "forest_path = r\"../EGI Energy Systems\\06 Projects\\2021 Nepal Geospatial cooking\\02 - work\\GIS-data\\Other\\Forest cover\\Global Forest Cover Change (GFCC).tif\"\n",
    "data.add_layer(category='Biomass', name='Forest', layer_path=forest_path, layer_type='raster', resample='nearest', base_layer=False)\n",
    "\n",
    "friction_path = r\"../EGI Energy Systems\\06 Projects\\2021 Nepal Geospatial cooking\\02 - work\\GIS-data\\Other\\Walking friction\\2020_walking_only_friction_surface.geotiff\"\n",
    "data.add_layer(category='Biomass', name='Friction', layer_path=friction_path, layer_type='raster', resample='average')"
   ]
  },
  {
   "cell_type": "markdown",
   "id": "a3a2809d",
   "metadata": {},
   "source": [
    "### Electricity"
   ]
  },
  {
   "cell_type": "code",
   "execution_count": null,
   "id": "47ab329e",
   "metadata": {},
   "outputs": [],
   "source": [
    "hv_path = r\"../EGI Energy Systems\\06 Projects\\2021 Nepal Geospatial cooking\\02 - work\\GIS-data\\Supply\\Power network\\HV-network\\Existing_transmission_lines.geojson\"\n",
    "data.add_layer(category='Electricity', name='HV_lines', layer_path=hv_path, layer_type='vector')\n",
    "\n",
    "mv_path = r\"../EGI Energy Systems\\06 Projects\\2021 Nepal Geospatial cooking\\02 - work\\GIS-data\\Supply\\Power network\\MV-network\\Nepal_DL0.shp\"\n",
    "data.add_layer(category='Electricity', name='MV_lines', layer_path=mv_path, layer_type='vector')\n",
    "\n",
    "ntl_path = r\"../EGI Energy Systems\\06 Projects\\2021 Nepal Geospatial cooking\\02 - work\\GIS-data\\Other\\Night Time Lights\\nighttime lights.tif\"\n",
    "data.add_layer(category='Electricity', name='Night_time_lights', layer_path=ntl_path, layer_type='raster', resample='average')"
   ]
  },
  {
   "cell_type": "markdown",
   "id": "4da50c12",
   "metadata": {},
   "source": [
    "### LPG"
   ]
  },
  {
   "cell_type": "code",
   "execution_count": null,
   "id": "0857e54e",
   "metadata": {},
   "outputs": [],
   "source": [
    "lpg_path = r\"../EGI Energy Systems\\06 Projects\\2021 Nepal Geospatial cooking\\02 - work\\GIS-data\\Supply\\LPG\\Nepal_Gas_12Jun2021_Final4.shp\"\n",
    "data.add_layer(category='LPG', name='Suppliers', layer_path=lpg_path, layer_type='vector')\n",
    "\n",
    "friction_path = r\"../EGI Energy Systems\\06 Projects\\2021 Nepal Geospatial cooking\\02 - work\\GIS-data\\Other\\Motorized friction\\2020_motorized_friction_surface.geotiff\"\n",
    "data.add_layer(category='LPG', name='Friction', layer_path=friction_path, layer_type='raster', resample='average')"
   ]
  },
  {
   "cell_type": "markdown",
   "id": "655ebb1d",
   "metadata": {},
   "source": [
    "## 4. Mask reproject and align all required layers"
   ]
  },
  {
   "cell_type": "code",
   "execution_count": null,
   "id": "954dfe04",
   "metadata": {},
   "outputs": [],
   "source": [
    "data.mask_layers(datasets={'Demographics': ['Population', 'Urban_rural_divide'],\n",
    "                           'Biomass': ['Forest', 'Friction'],\n",
    "                           'Electricity': ['HV_lines', 'Night_time_lights'],\n",
    "                           'LPG': ['Suppliers', 'Friction']})"
   ]
  },
  {
   "cell_type": "code",
   "execution_count": null,
   "id": "97cc42be",
   "metadata": {},
   "outputs": [],
   "source": [
    "data.reproject_layers(datasets='all')\n",
    "data.align_layers(datasets='all')"
   ]
  },
  {
   "cell_type": "code",
   "execution_count": null,
   "id": "9ba5ad4b",
   "metadata": {},
   "outputs": [],
   "source": [
    "data.mask_layers(datasets={'Demographics': ['Population']})"
   ]
  },
  {
   "cell_type": "code",
   "execution_count": null,
   "id": "dbdb5fdd",
   "metadata": {},
   "outputs": [],
   "source": [
    "end = time.time()\n",
    "\n",
    "diff = end - start\n",
    "print('Execution time:', str(str(int(diff//60))) + ' min ' + str(int((diff)%60)) + ' sec')"
   ]
  },
  {
   "cell_type": "markdown",
   "id": "df2deea1",
   "metadata": {},
   "source": [
    "# Model preparation"
   ]
  },
  {
   "cell_type": "markdown",
   "id": "70745b24",
   "metadata": {},
   "source": [
    "## 1. Create an OnSSTOVE model"
   ]
  },
  {
   "cell_type": "code",
   "execution_count": null,
   "id": "f5418877",
   "metadata": {},
   "outputs": [],
   "source": [
    "start = time.time()\n",
    "\n",
    "nepal = OnSSTOVE()\n",
    "output_directory = 'results'\n",
    "nepal.output_directory = output_directory"
   ]
  },
  {
   "cell_type": "markdown",
   "id": "542a1476",
   "metadata": {},
   "source": [
    "## 2. Read the model data"
   ]
  },
  {
   "cell_type": "code",
   "execution_count": null,
   "id": "8581a55c",
   "metadata": {},
   "outputs": [],
   "source": [
    "path = r\"../EGI Energy Systems\\06 Projects\\2021 Nepal Geospatial cooking\\02 - work\\OnSSTOVE cases\\NP_test_file_social_specs.csv\"\n",
    "nepal.read_scenario_data(path, delimiter=',')"
   ]
  },
  {
   "cell_type": "markdown",
   "id": "f3ee4d1e",
   "metadata": {},
   "source": [
    "## 3. Add a country mask layer"
   ]
  },
  {
   "cell_type": "code",
   "execution_count": null,
   "id": "59911b04",
   "metadata": {},
   "outputs": [],
   "source": [
    "path = os.path.join(output_directory, 'Administrative', 'Country_boundaries', 'Country_boundaries.geojson')\n",
    "mask_layer = VectorLayer('admin', 'adm_0', layer_path=path)\n",
    "nepal.mask_layer = mask_layer"
   ]
  },
  {
   "cell_type": "markdown",
   "id": "1a632680",
   "metadata": {},
   "source": [
    "## 4. Add a population base layer"
   ]
  },
  {
   "cell_type": "code",
   "execution_count": null,
   "id": "c0bda4d0",
   "metadata": {},
   "outputs": [],
   "source": [
    "path = os.path.join(output_directory, 'Demographics', 'Population', 'Population.tif')\n",
    "nepal.add_layer(category='Demographics', name='Population', layer_path=path, layer_type='raster', base_layer=True)\n",
    "nepal.population_to_dataframe()"
   ]
  },
  {
   "cell_type": "code",
   "execution_count": null,
   "id": "3c248884",
   "metadata": {},
   "outputs": [],
   "source": [
    "# path = r\"..\\EGI Energy Systems\\06 Projects\\2021 Nepal Geospatial cooking\\02 - work\\GIS-data\\Other\\Administrative boundaries\\Admin lvl 1.shp\"\n",
    "# nepal.add_admin_names(path, 'ADM1_EN')"
   ]
  },
  {
   "cell_type": "markdown",
   "id": "58fa105a",
   "metadata": {},
   "source": [
    "## 5. Calibrate population and urban/rural split"
   ]
  },
  {
   "cell_type": "code",
   "execution_count": null,
   "id": "3be6fac0",
   "metadata": {
    "scrolled": true
   },
   "outputs": [],
   "source": [
    "nepal.calibrate_current_pop()\n",
    "\n",
    "# path = os.path.join(output_directory, 'Demographics', 'Urban_rural_divide', 'Urban_rural_divide.tif')\n",
    "ghs_path = r\"../EGI Energy Systems\\06 Projects\\2021 Nepal Geospatial cooking\\02 - work\\GIS-data\\Other\\Urban - Rural divide\\GHS.tif\"\n",
    "nepal.calibrate_urban_current_and_future_GHS(ghs_path)"
   ]
  },
  {
   "cell_type": "markdown",
   "id": "67dff904",
   "metadata": {},
   "source": [
    "## 6. Add wealth index GIS data"
   ]
  },
  {
   "cell_type": "code",
   "execution_count": null,
   "id": "e5173873",
   "metadata": {},
   "outputs": [],
   "source": [
    "wealth_index = r\"..\\EGI Energy Systems\\06 Projects\\2021 Nepal Geospatial cooking\\02 - work\\GIS-data\\Demand\\Wealth Index\\npl_relative_wealth_index.csv\"\n",
    "nepal.extract_wealth_index(wealth_index, file_type=\"csv\", \n",
    "                           x_column=\"longitude\", y_column=\"latitude\", wealth_column=\"rwi\")\n",
    "\n",
    "# wealth_index = r\"../EGI Energy Systems\\06 Projects\\2021 Nepal Geospatial cooking\\02 - work\\GIS-data\\Demand\\Wealth Index\\Wealth index 2011.tif\"\n",
    "# nepal.extract_wealth_index(wealth_index, file_type=\"raster\")"
   ]
  },
  {
   "cell_type": "markdown",
   "id": "9de6cbb2",
   "metadata": {},
   "source": [
    "## 7. Calculate value of time"
   ]
  },
  {
   "cell_type": "code",
   "execution_count": null,
   "id": "7e31ec51",
   "metadata": {},
   "outputs": [],
   "source": [
    "# Based on wealth index, minimum wage and a lower an upper range for cost of oportunity\n",
    "nepal.get_value_of_time()"
   ]
  },
  {
   "cell_type": "markdown",
   "id": "b39f7a7a",
   "metadata": {},
   "source": [
    "## 8. Read electricity network GIS layers"
   ]
  },
  {
   "cell_type": "code",
   "execution_count": null,
   "id": "ae83f221",
   "metadata": {},
   "outputs": [],
   "source": [
    "# Read MV lines\n",
    "path = os.path.join(output_directory, 'Electricity', 'MV_lines', 'MV_lines.geojson')\n",
    "mv_lines = VectorLayer('Electricity', 'MV_lines', layer_path=path)\n",
    "\n",
    "# Read HV lines\n",
    "path = os.path.join(output_directory, 'Electricity', 'HV_lines', 'HV_lines.geojson')\n",
    "hv_lines = VectorLayer('Electricity', 'HV_lines', layer_path=path)"
   ]
  },
  {
   "cell_type": "markdown",
   "id": "524b2759",
   "metadata": {},
   "source": [
    "### 8.1. Calculate distance to electricity infrastructure "
   ]
  },
  {
   "cell_type": "code",
   "execution_count": null,
   "id": "f0aa5eb1",
   "metadata": {},
   "outputs": [],
   "source": [
    "nepal.distance_to_electricity(hv_lines=hv_lines, mv_lines=mv_lines)"
   ]
  },
  {
   "cell_type": "markdown",
   "id": "7b2c7dfe",
   "metadata": {},
   "source": [
    "### 8.2. Add night time lights data"
   ]
  },
  {
   "cell_type": "code",
   "execution_count": null,
   "id": "8adf035b",
   "metadata": {},
   "outputs": [],
   "source": [
    "path = os.path.join(output_directory, 'Electricity', 'Night_time_lights', 'Night_time_lights.tif')\n",
    "ntl = RasterLayer('Electricity', 'Night_time_lights', layer_path=path)\n",
    "\n",
    "nepal.raster_to_dataframe(ntl.layer, name='Night_lights', method='read')"
   ]
  },
  {
   "cell_type": "markdown",
   "id": "07d176a1",
   "metadata": {},
   "source": [
    "## 9. Calibrate current electrified population"
   ]
  },
  {
   "cell_type": "code",
   "execution_count": null,
   "id": "ae66bed8",
   "metadata": {
    "scrolled": true
   },
   "outputs": [],
   "source": [
    "nepal.current_elec()\n",
    "nepal.final_elec()\n",
    "\n",
    "print('Calibrated grid electrified population fraction:', nepal.gdf['Elec_pop_calib'].sum() / nepal.gdf['Calibrated_pop'].sum())"
   ]
  },
  {
   "cell_type": "markdown",
   "id": "de858f2f",
   "metadata": {},
   "source": [
    "## 10. Read the cooking technologies data"
   ]
  },
  {
   "cell_type": "code",
   "execution_count": null,
   "id": "8df01aca",
   "metadata": {},
   "outputs": [],
   "source": [
    "path = r\"../EGI Energy Systems\\06 Projects\\2021 Nepal Geospatial cooking\\02 - work\\OnSSTOVE cases\\NP_test_file_tech_specs.csv\"\n",
    "nepal.read_tech_data(path, delimiter=',')"
   ]
  },
  {
   "cell_type": "markdown",
   "id": "2fc7401d",
   "metadata": {},
   "source": [
    "## 11. Calculate parameters of base fuel (Biomass)"
   ]
  },
  {
   "cell_type": "markdown",
   "id": "3ffabb46",
   "metadata": {},
   "source": [
    "### 11.1. Health costs"
   ]
  },
  {
   "cell_type": "code",
   "execution_count": null,
   "id": "f9a5126e",
   "metadata": {},
   "outputs": [],
   "source": [
    "nepal.base_fuel.health_parameters(nepal)"
   ]
  },
  {
   "cell_type": "markdown",
   "id": "d449fa2c",
   "metadata": {},
   "source": [
    "### 11.2. Carbon emissions and related costs"
   ]
  },
  {
   "cell_type": "code",
   "execution_count": null,
   "id": "0f76a8fa",
   "metadata": {},
   "outputs": [],
   "source": [
    "nepal.base_fuel.carb(nepal.specs, nepal.gdf)"
   ]
  },
  {
   "cell_type": "markdown",
   "id": "c2765c9b",
   "metadata": {},
   "source": [
    "### 11.3. Time for travelling, collecting fuel, and cooking"
   ]
  },
  {
   "cell_type": "code",
   "execution_count": null,
   "id": "1cfe7e84",
   "metadata": {},
   "outputs": [],
   "source": [
    "# paths to GIS layers\n",
    "nepal.base_fuel.friction_path = os.path.join(nepal.output_directory, 'Biomass', 'Friction', 'Friction.tif')\n",
    "nepal.base_fuel.forest_path = os.path.join(nepal.output_directory, 'Biomass', 'Forest', 'Forest.tif')\n",
    "\n",
    "# Calculate total time\n",
    "nepal.base_fuel.total_time(nepal)"
   ]
  },
  {
   "cell_type": "markdown",
   "id": "5ad7c50b",
   "metadata": {},
   "source": [
    "## 12. Reading GIS data for LPG supply"
   ]
  },
  {
   "cell_type": "code",
   "execution_count": null,
   "id": "de8904da",
   "metadata": {},
   "outputs": [],
   "source": [
    "nepal.techs['LPG'].lpg_path = os.path.join(nepal.output_directory, 'LPG', 'Suppliers', 'Suppliers.geojson')\n",
    "nepal.techs['LPG'].friction_path = os.path.join(nepal.output_directory, 'LPG', 'Friction', 'Friction.tif')\n",
    "\n",
    "nepal.techs['LPG'].add_travel_time(nepal)"
   ]
  },
  {
   "cell_type": "markdown",
   "id": "4c282f6d",
   "metadata": {},
   "source": [
    "## 13. Adding GIS data for Improved Biomass collected (ICS biomass)"
   ]
  },
  {
   "cell_type": "code",
   "execution_count": null,
   "id": "e99b0cbd",
   "metadata": {},
   "outputs": [],
   "source": [
    "nepal.techs['Collected_Improved_Biomass'].friction_path = os.path.join(nepal.output_directory, 'Biomass', 'Friction', 'Friction.tif')\n",
    "nepal.techs['Collected_Improved_Biomass'].forest_path = os.path.join(nepal.output_directory, 'Biomass', 'Forest', 'Forest.tif')"
   ]
  },
  {
   "cell_type": "markdown",
   "id": "cf5b4224",
   "metadata": {},
   "source": [
    "## 14. Adding GIS data for Improved Biomass collected (ICS biomass)"
   ]
  },
  {
   "cell_type": "code",
   "execution_count": null,
   "id": "df780d5b",
   "metadata": {},
   "outputs": [],
   "source": [
    "admin = gpd.read_file(r\"../EGI Energy Systems\\06 Projects\\2021 Nepal Geospatial cooking\\02 - work\\GIS-data\\Other\\Administrative boundaries\\Admin lvl 0.shp\")\n",
    "buffaloes = r\"../EGI Energy Systems\\06 Projects\\2021 Nepal Geospatial cooking\\02 - work\\GIS-data\\Supply\\Global livestock\\Buffaloes\\5_Bf_2010_Da.tif\"\n",
    "cattles = r\"../EGI Energy Systems\\06 Projects\\2021 Nepal Geospatial cooking\\02 - work\\GIS-data\\Supply\\Global livestock\\Cattle\\5_Ct_2010_Da.tif\"\n",
    "poultry = r\"..\\EGI Energy Systems\\06 Projects\\2021 Nepal Geospatial cooking\\02 - work\\GIS-data\\Supply\\Global livestock\\Chickens\\5_Ch_2010_Da.tif\"\n",
    "goats = r\"..\\EGI Energy Systems\\06 Projects\\2021 Nepal Geospatial cooking\\02 - work\\GIS-data\\Supply\\Global livestock\\Goats\\5_Gt_2010_Da.tif\"\n",
    "pigs = r\"..\\EGI Energy Systems\\06 Projects\\2021 Nepal Geospatial cooking\\02 - work\\GIS-data\\Supply\\Global livestock\\Pigs\\5_Pg_2010_Da.tif\"\n",
    "sheeps = r\"..\\EGI Energy Systems\\06 Projects\\2021 Nepal Geospatial cooking\\02 - work\\GIS-data\\Supply\\Global livestock\\Sheep\\5_Sh_2010_Da.tif\"\n",
    "temp = r\"..\\EGI Energy Systems\\06 Projects\\2021 Nepal Geospatial cooking\\02 - work\\GIS-data\\Other\\Temperature\\TEMP.tif\"\n",
    "\n",
    "nepal.techs['Biogas'].recalibrate_livestock(nepal, admin, buffaloes, cattles, poultry, goats, pigs, sheeps)\n",
    "nepal.techs['Biogas'].available_biogas(nepal)\n",
    "nepal.techs['Biogas'].available_energy(nepal, temp)"
   ]
  },
  {
   "cell_type": "markdown",
   "id": "c7cc65a8",
   "metadata": {},
   "source": [
    "## 15. Saving the prepared model inputs"
   ]
  },
  {
   "cell_type": "code",
   "execution_count": null,
   "id": "0eebb172",
   "metadata": {},
   "outputs": [],
   "source": [
    "nepal.to_pickle(\"model.pkl\")"
   ]
  },
  {
   "cell_type": "code",
   "execution_count": null,
   "id": "5059c943",
   "metadata": {},
   "outputs": [],
   "source": [
    "end = time.time()\n",
    "\n",
    "diff = end - start\n",
    "print('Execution time:', str(str(int(diff//60))) + ' min ' + str(int((diff)%60)) + ' sec')"
   ]
  },
  {
   "cell_type": "markdown",
   "id": "19d2ee24",
   "metadata": {},
   "source": [
    "# Model run"
   ]
  },
  {
   "cell_type": "markdown",
   "id": "a551030f",
   "metadata": {},
   "source": [
    "## 1. Read the OnSSTOVE model"
   ]
  },
  {
   "cell_type": "code",
   "execution_count": null,
   "id": "38e7b7f3",
   "metadata": {},
   "outputs": [],
   "source": [
    "start = time.time()\n",
    "\n",
    "nepal = OnSSTOVE.read_model(\"results/model.pkl\")"
   ]
  },
  {
   "cell_type": "markdown",
   "id": "5e0bc093",
   "metadata": {},
   "source": [
    "## 2. Read the scenario data"
   ]
  },
  {
   "cell_type": "code",
   "execution_count": null,
   "id": "3162a3de",
   "metadata": {},
   "outputs": [],
   "source": [
    "path = r\"../EGI Energy Systems\\06 Projects\\2021 Nepal Geospatial cooking\\02 - work\\OnSSTOVE cases\\NP_test_file_social_specs.csv\"\n",
    "nepal.read_scenario_data(path, delimiter=',')"
   ]
  },
  {
   "cell_type": "code",
   "execution_count": null,
   "id": "dc80d32b",
   "metadata": {},
   "outputs": [],
   "source": [
    "nepal.techs['Biogas'].tech_life = 20\n",
    "nepal.techs['Biogas'].time_of_collection = 3\n",
    "nepal.techs['Biogas'].inv_cost = 430"
   ]
  },
  {
   "cell_type": "markdown",
   "id": "c50fed31",
   "metadata": {},
   "source": [
    "## 3. Calculating benefits and costs of each technology and getting the max benefit technology for each cell"
   ]
  },
  {
   "cell_type": "code",
   "execution_count": null,
   "id": "8ab17f19",
   "metadata": {},
   "outputs": [],
   "source": [
    "names = ['Electricity', 'Collected_Traditional_Biomass', 'Collected_Improved_Biomass', 'LPG', 'Biogas']\n",
    "nepal.run(technologies=names)"
   ]
  },
  {
   "cell_type": "markdown",
   "id": "5fd7bcc1",
   "metadata": {},
   "source": [
    "## 4. Printing the results"
   ]
  },
  {
   "cell_type": "code",
   "execution_count": null,
   "id": "a70ccb89",
   "metadata": {},
   "outputs": [],
   "source": [
    "nepal.gdf"
   ]
  },
  {
   "cell_type": "code",
   "execution_count": null,
   "id": "0c7dbe07",
   "metadata": {},
   "outputs": [],
   "source": [
    "nepal.gdf.groupby(['max_benefit_tech']).agg({'Calibrated_pop': lambda row: np.nansum(row) / 1000000,\n",
    "                                             'maximum_net_benefit': lambda row: np.nansum(row) / 1000000,\n",
    "                                             'deaths_avoided': 'sum',\n",
    "                                             'health_costs_avoided': lambda row: np.nansum(row) / 1000000,\n",
    "                                             'time_saved': 'sum',\n",
    "                                             'reduced_emissions': lambda row: np.nansum(row) / 1000000000,\n",
    "                                             'investment_costs': lambda row: np.nansum(row) / 1000000,\n",
    "                                             'fuel_costs': lambda row: np.nansum(row) / 1000000,\n",
    "                                             'emissions_costs_saved': lambda row: np.nansum(row) / 1000000})"
   ]
  },
  {
   "cell_type": "code",
   "execution_count": null,
   "id": "2296b079",
   "metadata": {},
   "outputs": [],
   "source": [
    "print('maximum_net_benefit:', nepal.gdf['maximum_net_benefit'].sum() / 1000000)\n",
    "print('deaths_avoided:', nepal.gdf['deaths_avoided'].sum())\n",
    "print('health_costs_avoided:', nepal.gdf['health_costs_avoided'].sum() / 1000000)\n",
    "print('time_saved:', nepal.gdf['time_saved'].sum() / nepal.gdf['Households'].sum() / 365)\n",
    "print('reduced_emissions:', nepal.gdf['reduced_emissions'].sum() / 1000000000)\n",
    "print('investment_costs:', nepal.gdf['investment_costs'].sum() / 1000000)\n",
    "print('fuel_costs:', nepal.gdf['fuel_costs'].sum() / 1000000)\n",
    "print('emissions_costs_saved:', nepal.gdf['emissions_costs_saved'].sum() / 1000000)"
   ]
  },
  {
   "cell_type": "markdown",
   "id": "edc81d05",
   "metadata": {},
   "source": [
    "## 5. Saving data to raster files"
   ]
  },
  {
   "cell_type": "code",
   "execution_count": null,
   "id": "5da940a5",
   "metadata": {},
   "outputs": [],
   "source": [
    "nepal.to_raster('max_benefit_tech')\n",
    "nepal.to_raster('net_benefit_Electricity')\n",
    "nepal.to_raster('net_benefit_LPG')\n",
    "nepal.to_raster('net_benefit_Collected_Traditional_Biomass')\n",
    "nepal.to_raster('net_benefit_Collected_Improved_Biomass')\n",
    "nepal.to_raster('maximum_net_benefit')\n",
    "nepal.to_raster('investment_costs')"
   ]
  },
  {
   "cell_type": "code",
   "execution_count": null,
   "id": "e91741d3",
   "metadata": {},
   "outputs": [],
   "source": [
    "nepal.plot('max_benefit_tech', cmap='tab10')"
   ]
  },
  {
   "cell_type": "code",
   "execution_count": null,
   "id": "88150a5e",
   "metadata": {},
   "outputs": [],
   "source": [
    "nepal.plot('maximum_net_benefit', cmap='Spectral', cumulative_count=[0.02, 0.98])"
   ]
  },
  {
   "cell_type": "code",
   "execution_count": null,
   "id": "864b24c2",
   "metadata": {},
   "outputs": [],
   "source": [
    "nepal.to_image('maximum_net_benefit', cmap='Spectral', cumulative_count=[0.01, 0.99])"
   ]
  },
  {
   "cell_type": "code",
   "execution_count": null,
   "id": "d348e11c",
   "metadata": {},
   "outputs": [],
   "source": [
    "nepal.to_image('max_benefit_tech', cmap='tab10', legend_position=(0.7, 0.9))"
   ]
  },
  {
   "cell_type": "code",
   "execution_count": null,
   "id": "5dc75ac4",
   "metadata": {},
   "outputs": [],
   "source": [
    "nepal.gdf.to_csv(os.path.join(output_directory, 'Output', 'sample_output.csv'))"
   ]
  },
  {
   "cell_type": "code",
   "execution_count": null,
   "id": "59d73054",
   "metadata": {},
   "outputs": [],
   "source": [
    "end = time.time()\n",
    "\n",
    "diff = end - start\n",
    "print('Execution time:', str(str(int(diff//60))) + ' min ' + str(int((diff)%60)) + ' sec')"
   ]
  },
  {
   "cell_type": "code",
   "execution_count": null,
   "id": "d65ec3c3",
   "metadata": {},
   "outputs": [],
   "source": [
    "import matplotlib.cm as cm\n",
    "from matplotlib.colors import ListedColormap, to_rgba\n",
    "red = to_rgba('#FF5733', alpha=None)\n",
    "clist = [[0.3, 0.5, 0.7, 1], [0, 0.5, 0.7, 1], red]\n",
    "cmap = ListedColormap(clist)\n",
    "cmap"
   ]
  },
  {
   "cell_type": "code",
   "execution_count": null,
   "id": "39f75225",
   "metadata": {},
   "outputs": [],
   "source": [
    "dff = nepal.gdf.groupby(['max_benefit_tech']).agg({'Calibrated_pop': lambda row: np.nansum(row) / 1000000,\n",
    "                                                   'maximum_net_benefit': lambda row: np.nansum(row) / 1000000,\n",
    "                                                   'investment_costs': lambda row: np.nansum(row) / 1000000}).reset_index()"
   ]
  },
  {
   "cell_type": "code",
   "execution_count": null,
   "id": "aaa67c75",
   "metadata": {},
   "outputs": [],
   "source": [
    "fig = px.pie(dff, names='max_benefit_tech', values='Calibrated_pop', color_discrete_sequence=['#dc0f0f', '#a86ee1', '#79de13'])\n",
    "fig.write_image(os.path.join(output_directory, 'output', 'Pop_per_tech.pdf'), width=500, height=500)\n",
    "fig.update_traces(textfont_size=16)\n",
    "fig.show()"
   ]
  },
  {
   "cell_type": "code",
   "execution_count": null,
   "id": "c780b335",
   "metadata": {},
   "outputs": [],
   "source": [
    "fig = px.pie(dff, names='max_benefit_tech', values='investment_costs', color_discrete_sequence=['#dc0f0f', '#a86ee1', '#79de13'])\n",
    "fig.write_image(os.path.join(output_directory, 'output', 'Investments.pdf'), width=500, height=500)\n",
    "fig.update_traces(textfont_size=16)\n",
    "fig.show()"
   ]
  },
  {
   "cell_type": "code",
   "execution_count": null,
   "id": "ab1a0d7f",
   "metadata": {},
   "outputs": [],
   "source": []
  }
 ],
 "metadata": {
  "kernelspec": {
   "display_name": "Python 3",
   "language": "python",
   "name": "python3"
  },
  "language_info": {
   "codemirror_mode": {
    "name": "ipython",
    "version": 3
   },
   "file_extension": ".py",
   "mimetype": "text/x-python",
   "name": "python",
   "nbconvert_exporter": "python",
   "pygments_lexer": "ipython3",
   "version": "3.9.2"
  }
 },
 "nbformat": 4,
 "nbformat_minor": 5
}

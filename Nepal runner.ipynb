{
 "cells": [
  {
   "cell_type": "code",
   "execution_count": 2,
   "id": "69b19018",
   "metadata": {},
   "outputs": [],
   "source": [
    "import os, sys\n",
    "import numpy as np\n",
    "import plotly.express as px\n",
    "sys.path.append('../')"
   ]
  },
  {
   "cell_type": "code",
   "execution_count": 3,
   "id": "1229c70e",
   "metadata": {},
   "outputs": [],
   "source": [
    "%load_ext autoreload"
   ]
  },
  {
   "cell_type": "code",
   "execution_count": 4,
   "id": "9608ffdc",
   "metadata": {},
   "outputs": [],
   "source": [
    "%autoreload 2\n",
    "from onsstove.onsstove import OnSSTOVE, DataProcessor\n",
    "from onsstove.layer import RasterLayer, VectorLayer\n",
    "from onsstove.raster import interpolate\n",
    "import time\n",
    "\n",
    "start = time.time()"
   ]
  },
  {
   "cell_type": "markdown",
   "id": "ab677f71",
   "metadata": {},
   "source": [
    "# Data processing"
   ]
  },
  {
   "cell_type": "code",
   "execution_count": null,
   "id": "9fd2c200",
   "metadata": {},
   "outputs": [],
   "source": [
    "data = DataProcessor(project_crs=3857, cell_size=(1000, 1000))\n",
    "output_directory = 'results'\n",
    "data.output_directory = output_directory"
   ]
  },
  {
   "cell_type": "code",
   "execution_count": null,
   "id": "74ab8d3c",
   "metadata": {},
   "outputs": [],
   "source": [
    "adm_path = r\"../EGI Energy Systems\\06 Projects\\2021 Nepal Geospatial cooking\\02 - work\\GIS-data\\Other\\Administrative boundaries\\Admin lvl 0.shp\"\n",
    "data.add_mask_layer(category='Administrative', name='Country_boundaries', layer_path=adm_path)"
   ]
  },
  {
   "cell_type": "code",
   "execution_count": null,
   "id": "fbda05b7",
   "metadata": {},
   "outputs": [],
   "source": [
    "pop_path = r\"../EGI Energy Systems\\06 Projects\\2021 Nepal Geospatial cooking\\02 - work\\GIS-data\\Demand\\Population\\HRSL\\population_npl_2018-10-01_geotiff\\population_npl_2018-10-01.tif\"\n",
    "data.add_layer(category='Demographics', name='Population', layer_path=pop_path, layer_type='raster', base_layer=True, resample='sum')\n",
    "\n",
    "forest_path = r\"../EGI Energy Systems\\06 Projects\\2021 Nepal Geospatial cooking\\02 - work\\GIS-data\\Other\\Forest cover\\Global Forest Cover Change (GFCC).tif\"\n",
    "data.add_layer(category='Biomass', name='Forest', layer_path=forest_path, layer_type='raster', resample='nearest')\n",
    "\n",
    "friction_path = r\"../EGI Energy Systems\\06 Projects\\2021 Nepal Geospatial cooking\\02 - work\\GIS-data\\Other\\Walking friction\\2020_walking_only_friction_surface.geotiff\"\n",
    "data.add_layer(category='Biomass', name='Friction', layer_path=friction_path, layer_type='raster', resample='average')"
   ]
  },
  {
   "cell_type": "code",
   "execution_count": null,
   "id": "47ab329e",
   "metadata": {},
   "outputs": [],
   "source": [
    "hv_path = r\"../EGI Energy Systems\\06 Projects\\2021 Nepal Geospatial cooking\\02 - work\\GIS-data\\Supply\\Power network\\HV-network\\Existing_transmission_lines.geojson\"\n",
    "data.add_layer(category='Electricity', name='HV_lines', layer_path=hv_path, layer_type='vector')\n",
    "\n",
    "ntl_path = r\"../EGI Energy Systems\\06 Projects\\2021 Nepal Geospatial cooking\\02 - work\\GIS-data\\Other\\Night Time Lights\\nighttime lights.tif\"\n",
    "data.add_layer(category='Electricity', name='Night_time_lights', layer_path=ntl_path, layer_type='raster', resample='average')"
   ]
  },
  {
   "cell_type": "code",
   "execution_count": null,
   "id": "0857e54e",
   "metadata": {},
   "outputs": [],
   "source": [
    "lpg_path = r\"../EGI Energy Systems\\06 Projects\\2021 Nepal Geospatial cooking\\02 - work\\GIS-data\\Supply\\LPG\\Nepal_Gas_12Jun2021_Final4.shp\"\n",
    "data.add_layer(category='LPG', name='Suppliers', layer_path=lpg_path, layer_type='vector')\n",
    "\n",
    "friction_path = r\"../EGI Energy Systems\\06 Projects\\2021 Nepal Geospatial cooking\\02 - work\\GIS-data\\Other\\Motorized friction\\2020_motorized_friction_surface.geotiff\"\n",
    "data.add_layer(category='LPG', name='Friction', layer_path=friction_path, layer_type='raster', resample='average')"
   ]
  },
  {
   "cell_type": "code",
   "execution_count": null,
   "id": "3acf920a",
   "metadata": {},
   "outputs": [],
   "source": [
    "ghs_path = r\"../EGI Energy Systems\\06 Projects\\2021 Nepal Geospatial cooking\\02 - work\\GIS-data\\Other\\Urban - Rural divide\\GHS.tif\"\n",
    "data.add_layer(category='Demographics', name='Urban_rural_divide', layer_path=ghs_path, layer_type='raster', resample='nearest')"
   ]
  },
  {
   "cell_type": "code",
   "execution_count": null,
   "id": "939d20f1",
   "metadata": {},
   "outputs": [],
   "source": [
    "data.mask_layers(datasets='all')"
   ]
  },
  {
   "cell_type": "code",
   "execution_count": null,
   "id": "8bde0818",
   "metadata": {},
   "outputs": [],
   "source": [
    "mv_path = r\"../EGI Energy Systems\\06 Projects\\2021 Nepal Geospatial cooking\\02 - work\\GIS-data\\Supply\\Power network\\MV-network\\Nepal_DL0.shp\"\n",
    "data.add_layer(category='Electricity', name='MV_lines', layer_path=mv_path, layer_type='vector')"
   ]
  },
  {
   "cell_type": "code",
   "execution_count": null,
   "id": "97cc42be",
   "metadata": {},
   "outputs": [],
   "source": [
    "data.reproject_layers(datasets='all')\n",
    "data.align_layers(datasets='all')"
   ]
  },
  {
   "cell_type": "code",
   "execution_count": null,
   "id": "dbdb5fdd",
   "metadata": {},
   "outputs": [],
   "source": [
    "end = time.time()\n",
    "\n",
    "diff = end - start\n",
    "print('Execution time:', str(str(int(diff//60))) + ' min ' + str(int((diff)%60)) + ' sec')"
   ]
  },
  {
   "cell_type": "code",
   "execution_count": null,
   "id": "abb8ef2c",
   "metadata": {},
   "outputs": [],
   "source": []
  },
  {
   "cell_type": "markdown",
   "id": "70745b24",
   "metadata": {},
   "source": [
    "## 1. Create an OnSSTOVE model"
   ]
  },
  {
   "cell_type": "code",
   "execution_count": 210,
   "id": "f5418877",
   "metadata": {},
   "outputs": [],
   "source": [
    "nepal = OnSSTOVE()\n",
    "output_directory = 'results'\n",
    "nepal.output_directory = output_directory"
   ]
  },
  {
   "cell_type": "markdown",
   "id": "542a1476",
   "metadata": {},
   "source": [
    "## 2. Read the scenario data"
   ]
  },
  {
   "cell_type": "code",
   "execution_count": 211,
   "id": "8581a55c",
   "metadata": {},
   "outputs": [],
   "source": [
    "path = r\"../EGI Energy Systems\\06 Projects\\2021 Nepal Geospatial cooking\\02 - work\\OnSSTOVE cases\\NP_test_file_social_specs.csv\"\n",
    "nepal.read_scenario_data(path, delimiter=',')"
   ]
  },
  {
   "cell_type": "markdown",
   "id": "0ff61389",
   "metadata": {},
   "source": [
    "## 3. Read the cooking technologies data"
   ]
  },
  {
   "cell_type": "code",
   "execution_count": 212,
   "id": "5f4086d2",
   "metadata": {},
   "outputs": [],
   "source": [
    "path = r\"../EGI Energy Systems\\06 Projects\\2021 Nepal Geospatial cooking\\02 - work\\OnSSTOVE cases\\NP_test_file_tech_specs.csv\"\n",
    "nepal.read_tech_data(path, delimiter=',')"
   ]
  },
  {
   "cell_type": "markdown",
   "id": "f3ee4d1e",
   "metadata": {},
   "source": [
    "## 4. Add a country mask layer"
   ]
  },
  {
   "cell_type": "code",
   "execution_count": 213,
   "id": "59911b04",
   "metadata": {},
   "outputs": [],
   "source": [
    "path = os.path.join(output_directory, 'Administrative', 'Country_boundaries', 'Country_boundaries.geojson')\n",
    "mask_layer = VectorLayer('admin', 'adm_0', layer_path=path)\n",
    "nepal.mask_layer = mask_layer"
   ]
  },
  {
   "cell_type": "markdown",
   "id": "1a632680",
   "metadata": {},
   "source": [
    "## 5. Add a population base layer"
   ]
  },
  {
   "cell_type": "code",
   "execution_count": 214,
   "id": "c0bda4d0",
   "metadata": {},
   "outputs": [],
   "source": [
    "path = os.path.join(output_directory, 'Demographics', 'Population', 'Population.tif')\n",
    "nepal.add_layer(category='Demographics', name='Population', layer_path=path, layer_type='raster', base_layer=True)\n",
    "nepal.population_to_dataframe()"
   ]
  },
  {
   "cell_type": "code",
   "execution_count": 215,
   "id": "3c248884",
   "metadata": {},
   "outputs": [],
   "source": [
    "path = r\"..\\EGI Energy Systems\\06 Projects\\2021 Nepal Geospatial cooking\\02 - work\\GIS-data\\Other\\Administrative boundaries\\Admin lvl 1.shp\"\n",
    "nepal.add_admin_names(path, 'ADM1_EN')"
   ]
  },
  {
   "cell_type": "code",
   "execution_count": 216,
   "id": "98d25694",
   "metadata": {},
   "outputs": [
    {
     "data": {
      "text/html": [
       "<div>\n",
       "<style scoped>\n",
       "    .dataframe tbody tr th:only-of-type {\n",
       "        vertical-align: middle;\n",
       "    }\n",
       "\n",
       "    .dataframe tbody tr th {\n",
       "        vertical-align: top;\n",
       "    }\n",
       "\n",
       "    .dataframe thead th {\n",
       "        text-align: right;\n",
       "    }\n",
       "</style>\n",
       "<table border=\"1\" class=\"dataframe\">\n",
       "  <thead>\n",
       "    <tr style=\"text-align: right;\">\n",
       "      <th></th>\n",
       "      <th>geometry</th>\n",
       "      <th>Pop</th>\n",
       "      <th>ADM1_EN</th>\n",
       "    </tr>\n",
       "  </thead>\n",
       "  <tbody>\n",
       "    <tr>\n",
       "      <th>0</th>\n",
       "      <td>POINT (9090104.530 3543192.836)</td>\n",
       "      <td>31.171455</td>\n",
       "      <td>Karnali</td>\n",
       "    </tr>\n",
       "    <tr>\n",
       "      <th>1</th>\n",
       "      <td>POINT (9090104.530 3536192.836)</td>\n",
       "      <td>46.757183</td>\n",
       "      <td>Karnali</td>\n",
       "    </tr>\n",
       "    <tr>\n",
       "      <th>2</th>\n",
       "      <td>POINT (9083104.530 3535192.836)</td>\n",
       "      <td>5.517799</td>\n",
       "      <td>Karnali</td>\n",
       "    </tr>\n",
       "    <tr>\n",
       "      <th>3</th>\n",
       "      <td>POINT (9084104.530 3535192.836)</td>\n",
       "      <td>15.585728</td>\n",
       "      <td>Karnali</td>\n",
       "    </tr>\n",
       "    <tr>\n",
       "      <th>4</th>\n",
       "      <td>POINT (9064104.530 3534192.836)</td>\n",
       "      <td>15.585728</td>\n",
       "      <td>Karnali</td>\n",
       "    </tr>\n",
       "    <tr>\n",
       "      <th>...</th>\n",
       "      <td>...</td>\n",
       "      <td>...</td>\n",
       "      <td>...</td>\n",
       "    </tr>\n",
       "    <tr>\n",
       "      <th>96717</th>\n",
       "      <td>POINT (9724104.530 3044192.836)</td>\n",
       "      <td>98.039602</td>\n",
       "      <td>Province 1</td>\n",
       "    </tr>\n",
       "    <tr>\n",
       "      <th>96718</th>\n",
       "      <td>POINT (9797104.530 3044192.836)</td>\n",
       "      <td>536.486856</td>\n",
       "      <td>Province 1</td>\n",
       "    </tr>\n",
       "    <tr>\n",
       "      <th>96719</th>\n",
       "      <td>POINT (9798104.530 3044192.836)</td>\n",
       "      <td>315.580504</td>\n",
       "      <td>Province 1</td>\n",
       "    </tr>\n",
       "    <tr>\n",
       "      <th>96720</th>\n",
       "      <td>POINT (9722104.530 3043192.836)</td>\n",
       "      <td>642.881959</td>\n",
       "      <td>Province 1</td>\n",
       "    </tr>\n",
       "    <tr>\n",
       "      <th>96721</th>\n",
       "      <td>POINT (9723104.530 3043192.836)</td>\n",
       "      <td>134.605801</td>\n",
       "      <td>Province 1</td>\n",
       "    </tr>\n",
       "  </tbody>\n",
       "</table>\n",
       "<p>96722 rows × 3 columns</p>\n",
       "</div>"
      ],
      "text/plain": [
       "                              geometry         Pop     ADM1_EN\n",
       "0      POINT (9090104.530 3543192.836)   31.171455     Karnali\n",
       "1      POINT (9090104.530 3536192.836)   46.757183     Karnali\n",
       "2      POINT (9083104.530 3535192.836)    5.517799     Karnali\n",
       "3      POINT (9084104.530 3535192.836)   15.585728     Karnali\n",
       "4      POINT (9064104.530 3534192.836)   15.585728     Karnali\n",
       "...                                ...         ...         ...\n",
       "96717  POINT (9724104.530 3044192.836)   98.039602  Province 1\n",
       "96718  POINT (9797104.530 3044192.836)  536.486856  Province 1\n",
       "96719  POINT (9798104.530 3044192.836)  315.580504  Province 1\n",
       "96720  POINT (9722104.530 3043192.836)  642.881959  Province 1\n",
       "96721  POINT (9723104.530 3043192.836)  134.605801  Province 1\n",
       "\n",
       "[96722 rows x 3 columns]"
      ]
     },
     "execution_count": 216,
     "metadata": {},
     "output_type": "execute_result"
    }
   ],
   "source": [
    "nepal.gdf"
   ]
  },
  {
   "cell_type": "markdown",
   "id": "58fa105a",
   "metadata": {},
   "source": [
    "## 6. Calibrate population and urban/rural split"
   ]
  },
  {
   "cell_type": "code",
   "execution_count": 217,
   "id": "3be6fac0",
   "metadata": {
    "scrolled": true
   },
   "outputs": [],
   "source": [
    "nepal.calibrate_current_pop()\n",
    "\n",
    "# path = os.path.join(output_directory, 'Demographics', 'Urban_rural_divide', 'Urban_rural_divide.tif')\n",
    "ghs_path = r\"../EGI Energy Systems\\06 Projects\\2021 Nepal Geospatial cooking\\02 - work\\GIS-data\\Other\\Urban - Rural divide\\GHS.tif\"\n",
    "nepal.calibrate_urban_current_and_future_GHS(ghs_path)"
   ]
  },
  {
   "cell_type": "markdown",
   "id": "2fc7401d",
   "metadata": {},
   "source": [
    "## 7. Calculate parameters of base fuel (Biomass)"
   ]
  },
  {
   "cell_type": "markdown",
   "id": "3ffabb46",
   "metadata": {},
   "source": [
    "### 7.1. Health costs"
   ]
  },
  {
   "cell_type": "code",
   "execution_count": 218,
   "id": "f9a5126e",
   "metadata": {},
   "outputs": [],
   "source": [
    "# Calculate relative risk for each disease for the base fuel\n",
    "rr_0_alri, rr_0_copd, rr_0_ihd, rr_0_lc = nepal.base_fuel.relative_risk()\n",
    "\n",
    "# Calculate the Population Atributable Factor (PAF) for each disease for the base fuel\n",
    "paf_0_alri = nepal.base_fuel.paf(rr_0_alri, 1 - nepal.specs['clean_cooking_access'])\n",
    "paf_0_copd = nepal.base_fuel.paf(rr_0_copd, 1 - nepal.specs['clean_cooking_access'])\n",
    "paf_0_ihd  = nepal.base_fuel.paf(rr_0_ihd, 1 - nepal.specs['clean_cooking_access'])\n",
    "paf_0_lc = nepal.base_fuel.paf(rr_0_lc, 1 - nepal.specs['clean_cooking_access'])"
   ]
  },
  {
   "cell_type": "markdown",
   "id": "d449fa2c",
   "metadata": {},
   "source": [
    "### 7.2. Carbon emissions and related costs"
   ]
  },
  {
   "cell_type": "code",
   "execution_count": 219,
   "id": "0f76a8fa",
   "metadata": {},
   "outputs": [],
   "source": [
    "nepal.base_fuel.carb(nepal.specs, nepal.gdf)"
   ]
  },
  {
   "cell_type": "markdown",
   "id": "c2765c9b",
   "metadata": {},
   "source": [
    "### 7.3. Time for travelling, collecting fuel, and cooking"
   ]
  },
  {
   "cell_type": "code",
   "execution_count": 239,
   "id": "1cfe7e84",
   "metadata": {},
   "outputs": [],
   "source": [
    "# paths to GIS layers\n",
    "nepal.base_fuel.friction_path = os.path.join(output_directory, 'Biomass', 'Friction', 'Friction.tif')\n",
    "nepal.base_fuel.forest_path = os.path.join(output_directory, 'Biomass', 'Forest', 'Forest.tif')\n",
    "\n",
    "# Calculate total time\n",
    "nepal.base_fuel.total_time(nepal)"
   ]
  },
  {
   "cell_type": "markdown",
   "id": "67dff904",
   "metadata": {},
   "source": [
    "## 8. Add wealth index GIS data"
   ]
  },
  {
   "cell_type": "code",
   "execution_count": 240,
   "id": "e5173873",
   "metadata": {},
   "outputs": [],
   "source": [
    "# wealth_index = r\"..\\EGI Energy Systems\\06 Projects\\2021 Nepal Geospatial cooking\\02 - work\\GIS-data\\Demand\\Wealth Index\\npl_relative_wealth_index.csv\"\n",
    "# nepal.extract_wealth_index(wealth_index, file_type=\"csv\", \n",
    "#                      x_column=\"longitude\", y_column=\"latitude\", wealth_column=\"rwi\")\n",
    "\n",
    "wealth_index = r\"../EGI Energy Systems\\06 Projects\\2021 Nepal Geospatial cooking\\02 - work\\GIS-data\\Demand\\Wealth Index\\Wealth index 2011.tif\"\n",
    "nepal.extract_wealth_index(wealth_index, file_type=\"raster\")"
   ]
  },
  {
   "cell_type": "markdown",
   "id": "9de6cbb2",
   "metadata": {},
   "source": [
    "### 8.1. Calculate value of time"
   ]
  },
  {
   "cell_type": "code",
   "execution_count": 241,
   "id": "7e31ec51",
   "metadata": {},
   "outputs": [],
   "source": [
    "# Based on wealth index, minimum wage and a lower an upper range for cost of oportunity\n",
    "nepal.get_value_of_time()"
   ]
  },
  {
   "cell_type": "markdown",
   "id": "b39f7a7a",
   "metadata": {},
   "source": [
    "## 9. Read electricity network GIS layers"
   ]
  },
  {
   "cell_type": "code",
   "execution_count": 242,
   "id": "ae83f221",
   "metadata": {},
   "outputs": [],
   "source": [
    "# Read MV lines\n",
    "path = os.path.join(output_directory, 'Electricity', 'MV_lines', 'MV_lines.geojson')\n",
    "mv_lines = VectorLayer('Electricity', 'MV_lines', layer_path=path)\n",
    "\n",
    "# Read HV lines\n",
    "path = os.path.join(output_directory, 'Electricity', 'HV_lines', 'HV_lines.geojson')\n",
    "hv_lines = VectorLayer('Electricity', 'HV_lines', layer_path=path)"
   ]
  },
  {
   "cell_type": "markdown",
   "id": "524b2759",
   "metadata": {},
   "source": [
    "### 9.1. Calculate distance to electricity infrastructure "
   ]
  },
  {
   "cell_type": "code",
   "execution_count": 243,
   "id": "f0aa5eb1",
   "metadata": {},
   "outputs": [],
   "source": [
    "nepal.distance_to_electricity(hv_lines=hv_lines, mv_lines=mv_lines)"
   ]
  },
  {
   "cell_type": "markdown",
   "id": "7b2c7dfe",
   "metadata": {},
   "source": [
    "## 10. Add night time lights data"
   ]
  },
  {
   "cell_type": "code",
   "execution_count": 244,
   "id": "8adf035b",
   "metadata": {},
   "outputs": [],
   "source": [
    "path = os.path.join(output_directory, 'Electricity', 'Night_time_lights', 'Night_time_lights.tif')\n",
    "ntl = RasterLayer('Electricity', 'Night_time_lights', layer_path=path)\n",
    "\n",
    "nepal.raster_to_dataframe(ntl.layer, name='Night_lights', method='read')"
   ]
  },
  {
   "cell_type": "markdown",
   "id": "07d176a1",
   "metadata": {},
   "source": [
    "## 11. Calibrate current electrified population"
   ]
  },
  {
   "cell_type": "code",
   "execution_count": 245,
   "id": "ae66bed8",
   "metadata": {
    "scrolled": true
   },
   "outputs": [
    {
     "name": "stdout",
     "output_type": "stream",
     "text": [
      "Calibrated grid electrified population fraction: 0.7199910437673593\n"
     ]
    }
   ],
   "source": [
    "nepal.current_elec()\n",
    "nepal.final_elec()\n",
    "\n",
    "print('Calibrated grid electrified population fraction:', nepal.gdf['Elec_pop_calib'].sum() / nepal.gdf['Calibrated_pop'].sum())"
   ]
  },
  {
   "cell_type": "markdown",
   "id": "5ad7c50b",
   "metadata": {},
   "source": [
    "## 12. Adding GIS data for LPG supply"
   ]
  },
  {
   "cell_type": "code",
   "execution_count": 246,
   "id": "de8904da",
   "metadata": {},
   "outputs": [],
   "source": [
    "nepal.techs['LPG'].lpg_path = os.path.join(output_directory, 'LPG', 'Suppliers', 'Suppliers.geojson')\n",
    "nepal.techs['LPG'].friction_path = os.path.join(output_directory, 'LPG', 'Friction', 'Friction.tif')\n",
    "\n",
    "nepal.techs['LPG'].add_travel_time(nepal)"
   ]
  },
  {
   "cell_type": "markdown",
   "id": "4c282f6d",
   "metadata": {},
   "source": [
    "## 13. Adding GIS data for Improved Biomass collected (ICS biomass)"
   ]
  },
  {
   "cell_type": "code",
   "execution_count": 247,
   "id": "e99b0cbd",
   "metadata": {},
   "outputs": [],
   "source": [
    "nepal.techs['Collected_Improved_Biomass'].friction_path = os.path.join(output_directory, 'Biomass', 'Friction', 'Friction.tif')\n",
    "nepal.techs['Collected_Improved_Biomass'].forest_path = os.path.join(output_directory, 'Biomass', 'Forest', 'Forest.tif')"
   ]
  },
  {
   "cell_type": "markdown",
   "id": "c50fed31",
   "metadata": {},
   "source": [
    "## 14. Calculate benefits and costs of each technology"
   ]
  },
  {
   "cell_type": "code",
   "execution_count": 248,
   "id": "8ab17f19",
   "metadata": {},
   "outputs": [
    {
     "name": "stdout",
     "output_type": "stream",
     "text": [
      "Calculating health benefits for Electricity...\n",
      "Calculating carbon emissions benefits for Electricity...\n",
      "Calculating time saved benefits for Electricity...\n",
      "Calculating costs for Electricity...\n",
      "Calculating net benefit for Electricity...\n",
      "\n",
      "Calculating health benefits for Collected_Traditional_Biomass...\n",
      "Calculating carbon emissions benefits for Collected_Traditional_Biomass...\n",
      "Calculating time saved benefits for Collected_Traditional_Biomass...\n",
      "Calculating costs for Collected_Traditional_Biomass...\n",
      "Calculating net benefit for Collected_Traditional_Biomass...\n",
      "\n",
      "Calculating health benefits for Collected_Improved_Biomass...\n",
      "Calculating carbon emissions benefits for Collected_Improved_Biomass...\n",
      "Calculating time saved benefits for Collected_Improved_Biomass...\n",
      "Calculating costs for Collected_Improved_Biomass...\n",
      "Calculating net benefit for Collected_Improved_Biomass...\n",
      "\n",
      "Calculating health benefits for LPG...\n",
      "Calculating carbon emissions benefits for LPG...\n",
      "Calculating time saved benefits for LPG...\n",
      "Calculating costs for LPG...\n",
      "Calculating net benefit for LPG...\n",
      "\n"
     ]
    }
   ],
   "source": [
    "names = ['Electricity', 'Collected_Traditional_Biomass', 'Collected_Improved_Biomass', 'LPG']\n",
    "techs = [nepal.techs[name] for name in names]\n",
    "\n",
    "# Loop through each technology and calculate all benefits and costs\n",
    "for tech in techs:\n",
    "    print(f'Calculating health benefits for {tech.name}...')\n",
    "    tech.morbidity(nepal.specs, nepal.gdf, paf_0_alri, paf_0_copd, paf_0_lc, paf_0_ihd)\n",
    "    tech.mortality(nepal.specs, nepal.gdf, paf_0_alri, paf_0_copd, paf_0_lc, paf_0_ihd)\n",
    "    print(f'Calculating carbon emissions benefits for {tech.name}...')\n",
    "    tech.carbon_emissions(nepal.specs, nepal.gdf, nepal.base_fuel.carbon)\n",
    "    print(f'Calculating time saved benefits for {tech.name}...')\n",
    "    tech.time_saved(nepal)\n",
    "    print(f'Calculating costs for {tech.name}...')\n",
    "    tech.discounted_om(nepal.gdf, nepal.specs)\n",
    "    tech.discounted_inv(nepal.gdf, nepal.specs)\n",
    "    tech.discounted_meals(nepal.gdf, nepal.specs)\n",
    "    tech.discount_fuel_cost(nepal.gdf, nepal.specs, nepal.rows, nepal.cols)\n",
    "    tech.salvage(nepal.gdf, nepal.specs)\n",
    "    print(f'Calculating net benefit for {tech.name}...\\n')\n",
    "    tech.net_benefit(nepal.gdf)"
   ]
  },
  {
   "cell_type": "markdown",
   "id": "25f5f3f4",
   "metadata": {},
   "source": [
    "## 15. Getting the max benefit technology for each cell"
   ]
  },
  {
   "cell_type": "code",
   "execution_count": 249,
   "id": "9a7eb45b",
   "metadata": {},
   "outputs": [],
   "source": [
    "nepal.maximum_net_benefit()"
   ]
  },
  {
   "cell_type": "code",
   "execution_count": 250,
   "id": "a70ccb89",
   "metadata": {},
   "outputs": [
    {
     "data": {
      "text/html": [
       "<div>\n",
       "<style scoped>\n",
       "    .dataframe tbody tr th:only-of-type {\n",
       "        vertical-align: middle;\n",
       "    }\n",
       "\n",
       "    .dataframe tbody tr th {\n",
       "        vertical-align: top;\n",
       "    }\n",
       "\n",
       "    .dataframe thead th {\n",
       "        text-align: right;\n",
       "    }\n",
       "</style>\n",
       "<table border=\"1\" class=\"dataframe\">\n",
       "  <thead>\n",
       "    <tr style=\"text-align: right;\">\n",
       "      <th></th>\n",
       "      <th>geometry</th>\n",
       "      <th>Pop</th>\n",
       "      <th>ADM1_EN</th>\n",
       "      <th>Calibrated_pop</th>\n",
       "      <th>IsUrban</th>\n",
       "      <th>Households</th>\n",
       "      <th>relative_wealth</th>\n",
       "      <th>value_of_time</th>\n",
       "      <th>HV_lines_dist</th>\n",
       "      <th>MV_lines_dist</th>\n",
       "      <th>...</th>\n",
       "      <th>benefits_Collected_Traditional_Biomass</th>\n",
       "      <th>net_benefit_Collected_Traditional_Biomass</th>\n",
       "      <th>costs_Collected_Improved_Biomass</th>\n",
       "      <th>benefits_Collected_Improved_Biomass</th>\n",
       "      <th>net_benefit_Collected_Improved_Biomass</th>\n",
       "      <th>costs_LPG</th>\n",
       "      <th>benefits_LPG</th>\n",
       "      <th>net_benefit_LPG</th>\n",
       "      <th>max_benefit_tech</th>\n",
       "      <th>maximum_net_benefit</th>\n",
       "    </tr>\n",
       "  </thead>\n",
       "  <tbody>\n",
       "    <tr>\n",
       "      <th>0</th>\n",
       "      <td>POINT (9090104.530 3543192.836)</td>\n",
       "      <td>31.171455</td>\n",
       "      <td>Karnali</td>\n",
       "      <td>31.344224</td>\n",
       "      <td>11.0</td>\n",
       "      <td>5.498987</td>\n",
       "      <td>8.755903</td>\n",
       "      <td>0.032185</td>\n",
       "      <td>109.590149</td>\n",
       "      <td>40.521599</td>\n",
       "      <td>...</td>\n",
       "      <td>0.0</td>\n",
       "      <td>-0.166667</td>\n",
       "      <td>8.529318</td>\n",
       "      <td>88.359893</td>\n",
       "      <td>79.830575</td>\n",
       "      <td>292.824508</td>\n",
       "      <td>305.742438</td>\n",
       "      <td>12.917930</td>\n",
       "      <td>Collected_Improved_Biomass</td>\n",
       "      <td>79.830575</td>\n",
       "    </tr>\n",
       "    <tr>\n",
       "      <th>1</th>\n",
       "      <td>POINT (9090104.530 3536192.836)</td>\n",
       "      <td>46.757183</td>\n",
       "      <td>Karnali</td>\n",
       "      <td>47.016337</td>\n",
       "      <td>11.0</td>\n",
       "      <td>8.248480</td>\n",
       "      <td>8.963754</td>\n",
       "      <td>0.032319</td>\n",
       "      <td>103.445641</td>\n",
       "      <td>33.837849</td>\n",
       "      <td>...</td>\n",
       "      <td>0.0</td>\n",
       "      <td>-0.166667</td>\n",
       "      <td>8.529318</td>\n",
       "      <td>88.418658</td>\n",
       "      <td>79.889340</td>\n",
       "      <td>290.552994</td>\n",
       "      <td>316.508872</td>\n",
       "      <td>25.955878</td>\n",
       "      <td>Collected_Improved_Biomass</td>\n",
       "      <td>79.889340</td>\n",
       "    </tr>\n",
       "    <tr>\n",
       "      <th>2</th>\n",
       "      <td>POINT (9083104.530 3535192.836)</td>\n",
       "      <td>5.517799</td>\n",
       "      <td>Karnali</td>\n",
       "      <td>5.548382</td>\n",
       "      <td>11.0</td>\n",
       "      <td>0.973400</td>\n",
       "      <td>9.522445</td>\n",
       "      <td>0.032679</td>\n",
       "      <td>99.282425</td>\n",
       "      <td>35.846897</td>\n",
       "      <td>...</td>\n",
       "      <td>0.0</td>\n",
       "      <td>-0.166667</td>\n",
       "      <td>8.529318</td>\n",
       "      <td>88.576613</td>\n",
       "      <td>80.047295</td>\n",
       "      <td>291.882686</td>\n",
       "      <td>307.631672</td>\n",
       "      <td>15.748986</td>\n",
       "      <td>Collected_Improved_Biomass</td>\n",
       "      <td>80.047295</td>\n",
       "    </tr>\n",
       "    <tr>\n",
       "      <th>3</th>\n",
       "      <td>POINT (9084104.530 3535192.836)</td>\n",
       "      <td>15.585728</td>\n",
       "      <td>Karnali</td>\n",
       "      <td>15.672112</td>\n",
       "      <td>11.0</td>\n",
       "      <td>2.749493</td>\n",
       "      <td>9.483172</td>\n",
       "      <td>0.032654</td>\n",
       "      <td>99.729637</td>\n",
       "      <td>35.355339</td>\n",
       "      <td>...</td>\n",
       "      <td>0.0</td>\n",
       "      <td>-0.166667</td>\n",
       "      <td>8.529318</td>\n",
       "      <td>88.565509</td>\n",
       "      <td>80.036191</td>\n",
       "      <td>291.319594</td>\n",
       "      <td>308.880590</td>\n",
       "      <td>17.560995</td>\n",
       "      <td>Collected_Improved_Biomass</td>\n",
       "      <td>80.036191</td>\n",
       "    </tr>\n",
       "    <tr>\n",
       "      <th>4</th>\n",
       "      <td>POINT (9064104.530 3534192.836)</td>\n",
       "      <td>15.585728</td>\n",
       "      <td>Karnali</td>\n",
       "      <td>15.672112</td>\n",
       "      <td>11.0</td>\n",
       "      <td>2.749493</td>\n",
       "      <td>13.814846</td>\n",
       "      <td>0.035450</td>\n",
       "      <td>91.482239</td>\n",
       "      <td>47.634022</td>\n",
       "      <td>...</td>\n",
       "      <td>0.0</td>\n",
       "      <td>-0.166667</td>\n",
       "      <td>8.529318</td>\n",
       "      <td>89.790177</td>\n",
       "      <td>81.260859</td>\n",
       "      <td>296.117882</td>\n",
       "      <td>319.765164</td>\n",
       "      <td>23.647282</td>\n",
       "      <td>Collected_Improved_Biomass</td>\n",
       "      <td>81.260859</td>\n",
       "    </tr>\n",
       "    <tr>\n",
       "      <th>...</th>\n",
       "      <td>...</td>\n",
       "      <td>...</td>\n",
       "      <td>...</td>\n",
       "      <td>...</td>\n",
       "      <td>...</td>\n",
       "      <td>...</td>\n",
       "      <td>...</td>\n",
       "      <td>...</td>\n",
       "      <td>...</td>\n",
       "      <td>...</td>\n",
       "      <td>...</td>\n",
       "      <td>...</td>\n",
       "      <td>...</td>\n",
       "      <td>...</td>\n",
       "      <td>...</td>\n",
       "      <td>...</td>\n",
       "      <td>...</td>\n",
       "      <td>...</td>\n",
       "      <td>...</td>\n",
       "      <td>...</td>\n",
       "      <td>...</td>\n",
       "    </tr>\n",
       "    <tr>\n",
       "      <th>96488</th>\n",
       "      <td>POINT (9791104.530 3052192.836)</td>\n",
       "      <td>149.598981</td>\n",
       "      <td>Province 1</td>\n",
       "      <td>25.587969</td>\n",
       "      <td>11.0</td>\n",
       "      <td>4.489117</td>\n",
       "      <td>45.257200</td>\n",
       "      <td>0.055746</td>\n",
       "      <td>26.000000</td>\n",
       "      <td>0.000000</td>\n",
       "      <td>...</td>\n",
       "      <td>0.0</td>\n",
       "      <td>-0.166667</td>\n",
       "      <td>8.529318</td>\n",
       "      <td>98.679679</td>\n",
       "      <td>90.150361</td>\n",
       "      <td>215.539812</td>\n",
       "      <td>363.232137</td>\n",
       "      <td>147.692325</td>\n",
       "      <td>LPG</td>\n",
       "      <td>25.122605</td>\n",
       "    </tr>\n",
       "    <tr>\n",
       "      <th>96556</th>\n",
       "      <td>POINT (9793104.530 3051192.836)</td>\n",
       "      <td>149.383167</td>\n",
       "      <td>Province 1</td>\n",
       "      <td>25.587969</td>\n",
       "      <td>11.0</td>\n",
       "      <td>4.489117</td>\n",
       "      <td>44.215978</td>\n",
       "      <td>0.055074</td>\n",
       "      <td>27.000000</td>\n",
       "      <td>0.000000</td>\n",
       "      <td>...</td>\n",
       "      <td>0.0</td>\n",
       "      <td>-0.166667</td>\n",
       "      <td>8.529318</td>\n",
       "      <td>98.385301</td>\n",
       "      <td>89.855983</td>\n",
       "      <td>215.653220</td>\n",
       "      <td>360.309113</td>\n",
       "      <td>144.655893</td>\n",
       "      <td>LPG</td>\n",
       "      <td>24.641653</td>\n",
       "    </tr>\n",
       "    <tr>\n",
       "      <th>96636</th>\n",
       "      <td>POINT (9752104.530 3049192.836)</td>\n",
       "      <td>152.112793</td>\n",
       "      <td>Province 1</td>\n",
       "      <td>25.587969</td>\n",
       "      <td>11.0</td>\n",
       "      <td>4.489117</td>\n",
       "      <td>43.242586</td>\n",
       "      <td>0.054445</td>\n",
       "      <td>21.587032</td>\n",
       "      <td>0.000000</td>\n",
       "      <td>...</td>\n",
       "      <td>0.0</td>\n",
       "      <td>-0.166667</td>\n",
       "      <td>8.529318</td>\n",
       "      <td>98.110100</td>\n",
       "      <td>89.580781</td>\n",
       "      <td>213.380088</td>\n",
       "      <td>422.846041</td>\n",
       "      <td>209.465953</td>\n",
       "      <td>LPG</td>\n",
       "      <td>35.041531</td>\n",
       "    </tr>\n",
       "    <tr>\n",
       "      <th>96643</th>\n",
       "      <td>POINT (9794104.530 3049192.836)</td>\n",
       "      <td>162.241183</td>\n",
       "      <td>Province 1</td>\n",
       "      <td>25.587969</td>\n",
       "      <td>11.0</td>\n",
       "      <td>4.489117</td>\n",
       "      <td>48.255254</td>\n",
       "      <td>0.057681</td>\n",
       "      <td>29.000000</td>\n",
       "      <td>0.000000</td>\n",
       "      <td>...</td>\n",
       "      <td>0.0</td>\n",
       "      <td>-0.166667</td>\n",
       "      <td>8.529318</td>\n",
       "      <td>99.527300</td>\n",
       "      <td>90.997982</td>\n",
       "      <td>215.881237</td>\n",
       "      <td>372.288736</td>\n",
       "      <td>156.407498</td>\n",
       "      <td>LPG</td>\n",
       "      <td>24.531937</td>\n",
       "    </tr>\n",
       "    <tr>\n",
       "      <th>96648</th>\n",
       "      <td>POINT (9799104.530 3049192.836)</td>\n",
       "      <td>151.234473</td>\n",
       "      <td>Province 1</td>\n",
       "      <td>25.587969</td>\n",
       "      <td>11.0</td>\n",
       "      <td>4.489117</td>\n",
       "      <td>45.760809</td>\n",
       "      <td>0.056071</td>\n",
       "      <td>29.154760</td>\n",
       "      <td>0.000000</td>\n",
       "      <td>...</td>\n",
       "      <td>0.0</td>\n",
       "      <td>-0.166667</td>\n",
       "      <td>8.529318</td>\n",
       "      <td>98.822061</td>\n",
       "      <td>90.292743</td>\n",
       "      <td>216.037703</td>\n",
       "      <td>374.277555</td>\n",
       "      <td>158.239852</td>\n",
       "      <td>LPG</td>\n",
       "      <td>26.625664</td>\n",
       "    </tr>\n",
       "  </tbody>\n",
       "</table>\n",
       "<p>97997 rows × 29 columns</p>\n",
       "</div>"
      ],
      "text/plain": [
       "                              geometry         Pop     ADM1_EN  \\\n",
       "0      POINT (9090104.530 3543192.836)   31.171455     Karnali   \n",
       "1      POINT (9090104.530 3536192.836)   46.757183     Karnali   \n",
       "2      POINT (9083104.530 3535192.836)    5.517799     Karnali   \n",
       "3      POINT (9084104.530 3535192.836)   15.585728     Karnali   \n",
       "4      POINT (9064104.530 3534192.836)   15.585728     Karnali   \n",
       "...                                ...         ...         ...   \n",
       "96488  POINT (9791104.530 3052192.836)  149.598981  Province 1   \n",
       "96556  POINT (9793104.530 3051192.836)  149.383167  Province 1   \n",
       "96636  POINT (9752104.530 3049192.836)  152.112793  Province 1   \n",
       "96643  POINT (9794104.530 3049192.836)  162.241183  Province 1   \n",
       "96648  POINT (9799104.530 3049192.836)  151.234473  Province 1   \n",
       "\n",
       "       Calibrated_pop  IsUrban  Households  relative_wealth  value_of_time  \\\n",
       "0           31.344224     11.0    5.498987         8.755903       0.032185   \n",
       "1           47.016337     11.0    8.248480         8.963754       0.032319   \n",
       "2            5.548382     11.0    0.973400         9.522445       0.032679   \n",
       "3           15.672112     11.0    2.749493         9.483172       0.032654   \n",
       "4           15.672112     11.0    2.749493        13.814846       0.035450   \n",
       "...               ...      ...         ...              ...            ...   \n",
       "96488       25.587969     11.0    4.489117        45.257200       0.055746   \n",
       "96556       25.587969     11.0    4.489117        44.215978       0.055074   \n",
       "96636       25.587969     11.0    4.489117        43.242586       0.054445   \n",
       "96643       25.587969     11.0    4.489117        48.255254       0.057681   \n",
       "96648       25.587969     11.0    4.489117        45.760809       0.056071   \n",
       "\n",
       "       HV_lines_dist  MV_lines_dist  ...  \\\n",
       "0         109.590149      40.521599  ...   \n",
       "1         103.445641      33.837849  ...   \n",
       "2          99.282425      35.846897  ...   \n",
       "3          99.729637      35.355339  ...   \n",
       "4          91.482239      47.634022  ...   \n",
       "...              ...            ...  ...   \n",
       "96488      26.000000       0.000000  ...   \n",
       "96556      27.000000       0.000000  ...   \n",
       "96636      21.587032       0.000000  ...   \n",
       "96643      29.000000       0.000000  ...   \n",
       "96648      29.154760       0.000000  ...   \n",
       "\n",
       "       benefits_Collected_Traditional_Biomass  \\\n",
       "0                                         0.0   \n",
       "1                                         0.0   \n",
       "2                                         0.0   \n",
       "3                                         0.0   \n",
       "4                                         0.0   \n",
       "...                                       ...   \n",
       "96488                                     0.0   \n",
       "96556                                     0.0   \n",
       "96636                                     0.0   \n",
       "96643                                     0.0   \n",
       "96648                                     0.0   \n",
       "\n",
       "       net_benefit_Collected_Traditional_Biomass  \\\n",
       "0                                      -0.166667   \n",
       "1                                      -0.166667   \n",
       "2                                      -0.166667   \n",
       "3                                      -0.166667   \n",
       "4                                      -0.166667   \n",
       "...                                          ...   \n",
       "96488                                  -0.166667   \n",
       "96556                                  -0.166667   \n",
       "96636                                  -0.166667   \n",
       "96643                                  -0.166667   \n",
       "96648                                  -0.166667   \n",
       "\n",
       "       costs_Collected_Improved_Biomass  benefits_Collected_Improved_Biomass  \\\n",
       "0                              8.529318                            88.359893   \n",
       "1                              8.529318                            88.418658   \n",
       "2                              8.529318                            88.576613   \n",
       "3                              8.529318                            88.565509   \n",
       "4                              8.529318                            89.790177   \n",
       "...                                 ...                                  ...   \n",
       "96488                          8.529318                            98.679679   \n",
       "96556                          8.529318                            98.385301   \n",
       "96636                          8.529318                            98.110100   \n",
       "96643                          8.529318                            99.527300   \n",
       "96648                          8.529318                            98.822061   \n",
       "\n",
       "       net_benefit_Collected_Improved_Biomass   costs_LPG  benefits_LPG  \\\n",
       "0                                   79.830575  292.824508    305.742438   \n",
       "1                                   79.889340  290.552994    316.508872   \n",
       "2                                   80.047295  291.882686    307.631672   \n",
       "3                                   80.036191  291.319594    308.880590   \n",
       "4                                   81.260859  296.117882    319.765164   \n",
       "...                                       ...         ...           ...   \n",
       "96488                               90.150361  215.539812    363.232137   \n",
       "96556                               89.855983  215.653220    360.309113   \n",
       "96636                               89.580781  213.380088    422.846041   \n",
       "96643                               90.997982  215.881237    372.288736   \n",
       "96648                               90.292743  216.037703    374.277555   \n",
       "\n",
       "       net_benefit_LPG            max_benefit_tech  maximum_net_benefit  \n",
       "0            12.917930  Collected_Improved_Biomass            79.830575  \n",
       "1            25.955878  Collected_Improved_Biomass            79.889340  \n",
       "2            15.748986  Collected_Improved_Biomass            80.047295  \n",
       "3            17.560995  Collected_Improved_Biomass            80.036191  \n",
       "4            23.647282  Collected_Improved_Biomass            81.260859  \n",
       "...                ...                         ...                  ...  \n",
       "96488       147.692325                         LPG            25.122605  \n",
       "96556       144.655893                         LPG            24.641653  \n",
       "96636       209.465953                         LPG            35.041531  \n",
       "96643       156.407498                         LPG            24.531937  \n",
       "96648       158.239852                         LPG            26.625664  \n",
       "\n",
       "[97997 rows x 29 columns]"
      ]
     },
     "execution_count": 250,
     "metadata": {},
     "output_type": "execute_result"
    }
   ],
   "source": [
    "nepal.gdf"
   ]
  },
  {
   "cell_type": "markdown",
   "id": "5fd7bcc1",
   "metadata": {},
   "source": [
    "## 16. Printing the results"
   ]
  },
  {
   "cell_type": "code",
   "execution_count": 251,
   "id": "0b48f189",
   "metadata": {},
   "outputs": [],
   "source": [
    "nepal.lives_saved()\n",
    "nepal.health_costs_saved()\n",
    "nepal.extract_time_saved()\n",
    "nepal.reduced_emissions()\n",
    "nepal.investment_costs()\n",
    "nepal.fuel_costs()\n",
    "nepal.emissions_costs_saved()"
   ]
  },
  {
   "cell_type": "code",
   "execution_count": 252,
   "id": "4733d617",
   "metadata": {},
   "outputs": [
    {
     "data": {
      "text/html": [
       "<div>\n",
       "<style scoped>\n",
       "    .dataframe tbody tr th:only-of-type {\n",
       "        vertical-align: middle;\n",
       "    }\n",
       "\n",
       "    .dataframe tbody tr th {\n",
       "        vertical-align: top;\n",
       "    }\n",
       "\n",
       "    .dataframe thead th {\n",
       "        text-align: right;\n",
       "    }\n",
       "</style>\n",
       "<table border=\"1\" class=\"dataframe\">\n",
       "  <thead>\n",
       "    <tr style=\"text-align: right;\">\n",
       "      <th></th>\n",
       "      <th>Calibrated_pop</th>\n",
       "      <th>maximum_net_benefit</th>\n",
       "      <th>deaths_avoided</th>\n",
       "      <th>health_costs_avoided</th>\n",
       "      <th>time_saved</th>\n",
       "      <th>reduced_emissions</th>\n",
       "      <th>investment_costs</th>\n",
       "      <th>fuel_costs</th>\n",
       "      <th>emissions_costs_saved</th>\n",
       "    </tr>\n",
       "    <tr>\n",
       "      <th>max_benefit_tech</th>\n",
       "      <th></th>\n",
       "      <th></th>\n",
       "      <th></th>\n",
       "      <th></th>\n",
       "      <th></th>\n",
       "      <th></th>\n",
       "      <th></th>\n",
       "      <th></th>\n",
       "      <th></th>\n",
       "    </tr>\n",
       "  </thead>\n",
       "  <tbody>\n",
       "    <tr>\n",
       "      <th>Collected_Improved_Biomass</th>\n",
       "      <td>0.592023</td>\n",
       "      <td>5.265665e-01</td>\n",
       "      <td>178.784228</td>\n",
       "      <td>5.866005</td>\n",
       "      <td>4.557275e+07</td>\n",
       "      <td>0.370099</td>\n",
       "      <td>2.080947</td>\n",
       "      <td>0.471264</td>\n",
       "      <td>1.850495</td>\n",
       "    </tr>\n",
       "    <tr>\n",
       "      <th>Collected_Traditional_Biomass</th>\n",
       "      <td>0.002694</td>\n",
       "      <td>-1.000000e-06</td>\n",
       "      <td>0.000000</td>\n",
       "      <td>0.000000</td>\n",
       "      <td>0.000000e+00</td>\n",
       "      <td>0.000000</td>\n",
       "      <td>0.000236</td>\n",
       "      <td>0.000000</td>\n",
       "      <td>0.000000</td>\n",
       "    </tr>\n",
       "    <tr>\n",
       "      <th>Electricity</th>\n",
       "      <td>20.597432</td>\n",
       "      <td>8.136927e+00</td>\n",
       "      <td>24924.532617</td>\n",
       "      <td>833.753342</td>\n",
       "      <td>9.635060e+09</td>\n",
       "      <td>22.932324</td>\n",
       "      <td>206.571919</td>\n",
       "      <td>338.470782</td>\n",
       "      <td>114.661618</td>\n",
       "    </tr>\n",
       "    <tr>\n",
       "      <th>LPG</th>\n",
       "      <td>7.417851</td>\n",
       "      <td>8.309870e+00</td>\n",
       "      <td>7704.861955</td>\n",
       "      <td>259.743958</td>\n",
       "      <td>3.123150e+09</td>\n",
       "      <td>7.461530</td>\n",
       "      <td>50.895766</td>\n",
       "      <td>279.575207</td>\n",
       "      <td>37.307650</td>\n",
       "    </tr>\n",
       "  </tbody>\n",
       "</table>\n",
       "</div>"
      ],
      "text/plain": [
       "                               Calibrated_pop  maximum_net_benefit  \\\n",
       "max_benefit_tech                                                     \n",
       "Collected_Improved_Biomass           0.592023         5.265665e-01   \n",
       "Collected_Traditional_Biomass        0.002694        -1.000000e-06   \n",
       "Electricity                         20.597432         8.136927e+00   \n",
       "LPG                                  7.417851         8.309870e+00   \n",
       "\n",
       "                               deaths_avoided  health_costs_avoided  \\\n",
       "max_benefit_tech                                                      \n",
       "Collected_Improved_Biomass         178.784228              5.866005   \n",
       "Collected_Traditional_Biomass        0.000000              0.000000   \n",
       "Electricity                      24924.532617            833.753342   \n",
       "LPG                               7704.861955            259.743958   \n",
       "\n",
       "                                 time_saved  reduced_emissions  \\\n",
       "max_benefit_tech                                                 \n",
       "Collected_Improved_Biomass     4.557275e+07           0.370099   \n",
       "Collected_Traditional_Biomass  0.000000e+00           0.000000   \n",
       "Electricity                    9.635060e+09          22.932324   \n",
       "LPG                            3.123150e+09           7.461530   \n",
       "\n",
       "                               investment_costs  fuel_costs  \\\n",
       "max_benefit_tech                                              \n",
       "Collected_Improved_Biomass             2.080947    0.471264   \n",
       "Collected_Traditional_Biomass          0.000236    0.000000   \n",
       "Electricity                          206.571919  338.470782   \n",
       "LPG                                   50.895766  279.575207   \n",
       "\n",
       "                               emissions_costs_saved  \n",
       "max_benefit_tech                                      \n",
       "Collected_Improved_Biomass                  1.850495  \n",
       "Collected_Traditional_Biomass               0.000000  \n",
       "Electricity                               114.661618  \n",
       "LPG                                        37.307650  "
      ]
     },
     "execution_count": 252,
     "metadata": {},
     "output_type": "execute_result"
    }
   ],
   "source": [
    "nepal.gdf.groupby(['max_benefit_tech']).agg({'Calibrated_pop': lambda row: np.nansum(row) / 1000000,\n",
    "                                             'maximum_net_benefit': lambda row: np.nansum(row) / 1000000,\n",
    "                                             'deaths_avoided': 'sum',\n",
    "                                             'health_costs_avoided': lambda row: np.nansum(row) / 1000000,\n",
    "                                             'time_saved': 'sum',\n",
    "                                             'reduced_emissions': lambda row: np.nansum(row) / 1000000000,\n",
    "                                             'investment_costs': lambda row: np.nansum(row) / 1000000,\n",
    "                                             'fuel_costs': lambda row: np.nansum(row) / 1000000,\n",
    "                                             'emissions_costs_saved': lambda row: np.nansum(row) / 1000000})"
   ]
  },
  {
   "cell_type": "code",
   "execution_count": 253,
   "id": "2296b079",
   "metadata": {},
   "outputs": [
    {
     "name": "stdout",
     "output_type": "stream",
     "text": [
      "maximum_net_benefit: 16.973362820548772\n",
      "deaths_avoided: 32808.17879959925\n",
      "health_costs_avoided: 1099.363305952226\n",
      "time_saved: 6.791130500171689\n",
      "reduced_emissions: 30.763952550198468\n",
      "investment_costs: 259.54886868160725\n",
      "fuel_costs: 618.5172526758882\n",
      "emissions_costs_saved: 153.81976275099234\n"
     ]
    }
   ],
   "source": [
    "print('maximum_net_benefit:', nepal.gdf['maximum_net_benefit'].sum() / 1000000)\n",
    "print('deaths_avoided:', nepal.gdf['deaths_avoided'].sum())\n",
    "print('health_costs_avoided:', nepal.gdf['health_costs_avoided'].sum() / 1000000)\n",
    "print('time_saved:', nepal.gdf['time_saved'].sum() / nepal.gdf['Households'].sum() / 365)\n",
    "print('reduced_emissions:', nepal.gdf['reduced_emissions'].sum() / 1000000000)\n",
    "print('investment_costs:', nepal.gdf['investment_costs'].sum() / 1000000)\n",
    "print('fuel_costs:', nepal.gdf['fuel_costs'].sum() / 1000000)\n",
    "print('emissions_costs_saved:', nepal.gdf['emissions_costs_saved'].sum() / 1000000)"
   ]
  },
  {
   "cell_type": "markdown",
   "id": "edc81d05",
   "metadata": {},
   "source": [
    "## 17. Saving data to raster files"
   ]
  },
  {
   "cell_type": "code",
   "execution_count": null,
   "id": "5da940a5",
   "metadata": {},
   "outputs": [],
   "source": [
    "nepal.to_raster('max_benefit_tech')\n",
    "nepal.to_raster('net_benefit_Electricity')\n",
    "nepal.to_raster('net_benefit_LPG')\n",
    "nepal.to_raster('net_benefit_Collected_Traditional_Biomass')\n",
    "nepal.to_raster('net_benefit_Collected_Improved_Biomass')\n",
    "nepal.to_raster('maximum_net_benefit')\n",
    "nepal.to_raster('investment_costs')"
   ]
  },
  {
   "cell_type": "code",
   "execution_count": null,
   "id": "b6cce3b4",
   "metadata": {},
   "outputs": [],
   "source": []
  },
  {
   "cell_type": "code",
   "execution_count": 256,
   "id": "e52a5231",
   "metadata": {},
   "outputs": [
    {
     "data": {
      "image/png": "[encoded data removed]",
      "text/plain": [
       "<Figure size 1152x648 with 2 Axes>"
      ]
     },
     "execution_count": 256,
     "metadata": {},
     "output_type": "execute_result"
    }
   ],
   "source": [
    "nepal.plot('maximum_net_benefit', cmap='Spectral', cumulative_count=[0.01, 0.99])"
   ]
  },
  {
   "cell_type": "code",
   "execution_count": 257,
   "id": "4cf10752",
   "metadata": {},
   "outputs": [],
   "source": [
    "nepal.to_image('maximum_net_benefit', cmap='Spectral', cumulative_count=[0.01, 0.99])"
   ]
  },
  {
   "cell_type": "code",
   "execution_count": 258,
   "id": "3c187dc9",
   "metadata": {},
   "outputs": [],
   "source": [
    "nepal.to_image('max_benefit_tech', cmap='Set2', legend_position=(0.7, 0.9))"
   ]
  },
  {
   "cell_type": "code",
   "execution_count": null,
   "id": "5dc75ac4",
   "metadata": {},
   "outputs": [],
   "source": [
    "nepal.gdf.to_csv(os.path.join(output_directory, 'Output', 'sample_output.csv'))"
   ]
  },
  {
   "cell_type": "code",
   "execution_count": null,
   "id": "59d73054",
   "metadata": {},
   "outputs": [],
   "source": [
    "end = time.time()\n",
    "\n",
    "diff = end - start\n",
    "print('Execution time:', str(str(int(diff//60))) + ' min ' + str(int((diff)%60)) + ' sec')"
   ]
  },
  {
   "cell_type": "code",
   "execution_count": null,
   "id": "39f75225",
   "metadata": {},
   "outputs": [],
   "source": [
    "dff = nepal.gdf.groupby(['max_benefit_tech']).agg({'Calibrated_pop': lambda row: np.nansum(row) / 1000000,\n",
    "                                                   'maximum_net_benefit': lambda row: np.nansum(row) / 1000000,\n",
    "                                                   'investment_costs': lambda row: np.nansum(row) / 1000000}).reset_index()"
   ]
  },
  {
   "cell_type": "code",
   "execution_count": null,
   "id": "aaa67c75",
   "metadata": {},
   "outputs": [],
   "source": [
    "fig = px.pie(dff, names='max_benefit_tech', values='Calibrated_pop', color_discrete_sequence=['#dc0f0f', '#a86ee1', '#79de13'])\n",
    "fig.write_image(os.path.join(output_directory, 'output', 'Pop_per_tech.pdf'), width=500, height=500)\n",
    "fig.update_traces(textfont_size=16)\n",
    "fig.show()"
   ]
  },
  {
   "cell_type": "code",
   "execution_count": null,
   "id": "c780b335",
   "metadata": {},
   "outputs": [],
   "source": [
    "fig = px.pie(dff, names='max_benefit_tech', values='investment_costs', color_discrete_sequence=['#dc0f0f', '#a86ee1', '#79de13'])\n",
    "fig.write_image(os.path.join(output_directory, 'output', 'Investments.pdf'), width=500, height=500)\n",
    "fig.update_traces(textfont_size=16)\n",
    "fig.show()"
   ]
  },
  {
   "cell_type": "code",
   "execution_count": null,
   "id": "ab1a0d7f",
   "metadata": {},
   "outputs": [],
   "source": []
  }
 ],
 "metadata": {
  "kernelspec": {
   "display_name": "Python 3",
   "language": "python",
   "name": "python3"
  },
  "language_info": {
   "codemirror_mode": {
    "name": "ipython",
    "version": 3
   },
   "file_extension": ".py",
   "mimetype": "text/x-python",
   "name": "python",
   "nbconvert_exporter": "python",
   "pygments_lexer": "ipython3",
   "version": "3.9.2"
  }
 },
 "nbformat": 4,
 "nbformat_minor": 5
}

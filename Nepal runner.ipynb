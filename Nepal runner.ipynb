{
 "cells": [
  {
   "cell_type": "code",
   "execution_count": 1,
   "id": "69b19018",
   "metadata": {},
   "outputs": [],
   "source": [
    "import os, sys\n",
    "import numpy as np\n",
    "import geopandas as gpd\n",
    "import plotly.express as px\n",
    "sys.path.append('../')"
   ]
  },
  {
   "cell_type": "code",
   "execution_count": 2,
   "id": "1229c70e",
   "metadata": {},
   "outputs": [],
   "source": [
    "%load_ext autoreload"
   ]
  },
  {
   "cell_type": "code",
   "execution_count": 3,
   "id": "9608ffdc",
   "metadata": {},
   "outputs": [],
   "source": [
    "%autoreload 2\n",
    "from onsstove.onsstove import OnSSTOVE, DataProcessor\n",
    "from onsstove.layer import RasterLayer, VectorLayer\n",
    "from onsstove.raster import interpolate\n",
    "import time"
   ]
  },
  {
   "cell_type": "markdown",
   "id": "ab677f71",
   "metadata": {},
   "source": [
    "# Data processing"
   ]
  },
  {
   "cell_type": "markdown",
   "id": "39bc4d18",
   "metadata": {},
   "source": [
    "## 1. Create a data processor"
   ]
  },
  {
   "cell_type": "code",
   "execution_count": null,
   "id": "9fd2c200",
   "metadata": {},
   "outputs": [],
   "source": [
    "start = time.time()\n",
    "\n",
    "data = DataProcessor(project_crs=3857, cell_size=(1000, 1000))\n",
    "output_directory = 'results'\n",
    "data.output_directory = output_directory"
   ]
  },
  {
   "cell_type": "markdown",
   "id": "b13afc4d",
   "metadata": {},
   "source": [
    "## 2. Add a mask layer (country boundaries)"
   ]
  },
  {
   "cell_type": "code",
   "execution_count": null,
   "id": "74ab8d3c",
   "metadata": {},
   "outputs": [],
   "source": [
    "adm_path = r\"../EGI Energy Systems\\06 Projects\\2021 Nepal Geospatial cooking\\02 - work\\GIS-data\\Other\\Administrative boundaries\\Admin lvl 0.shp\"\n",
    "data.add_mask_layer(category='Administrative', name='Country_boundaries', layer_path=adm_path)"
   ]
  },
  {
   "cell_type": "markdown",
   "id": "b64735db",
   "metadata": {},
   "source": [
    "## 3. Add GIS layers"
   ]
  },
  {
   "cell_type": "markdown",
   "id": "a1d495e7",
   "metadata": {},
   "source": [
    "### Demographics"
   ]
  },
  {
   "cell_type": "code",
   "execution_count": null,
   "id": "bd00425a",
   "metadata": {},
   "outputs": [],
   "source": [
    "pop_path = r\"../EGI Energy Systems\\06 Projects\\2021 Nepal Geospatial cooking\\02 - work\\GIS-data\\Demand\\Population\\HRSL\\population_npl_2018-10-01_geotiff\\population_npl_2018-10-01.tif\"\n",
    "data.add_layer(category='Demographics', name='Population', layer_path=pop_path, layer_type='raster', base_layer=True, resample='sum')\n",
    "\n",
    "ghs_path = r\"../EGI Energy Systems\\06 Projects\\2021 Nepal Geospatial cooking\\02 - work\\GIS-data\\Other\\Urban - Rural divide\\GHS.tif\"\n",
    "data.add_layer(category='Demographics', name='Urban_rural_divide', layer_path=ghs_path, layer_type='raster', resample='nearest')"
   ]
  },
  {
   "cell_type": "markdown",
   "id": "7669c0fa",
   "metadata": {},
   "source": [
    "### Biomass"
   ]
  },
  {
   "cell_type": "code",
   "execution_count": null,
   "id": "fbda05b7",
   "metadata": {},
   "outputs": [],
   "source": [
    "forest_path = r\"../EGI Energy Systems\\06 Projects\\2021 Nepal Geospatial cooking\\02 - work\\GIS-data\\Other\\Forest cover\\Global Forest Cover Change (GFCC).tif\"\n",
    "data.add_layer(category='Biomass', name='Forest', layer_path=forest_path, layer_type='raster', resample='nearest')\n",
    "\n",
    "friction_path = r\"../EGI Energy Systems\\06 Projects\\2021 Nepal Geospatial cooking\\02 - work\\GIS-data\\Other\\Walking friction\\2020_walking_only_friction_surface.geotiff\"\n",
    "data.add_layer(category='Biomass', name='Friction', layer_path=friction_path, layer_type='raster', resample='average')"
   ]
  },
  {
   "cell_type": "markdown",
   "id": "a3a2809d",
   "metadata": {},
   "source": [
    "### Electricity"
   ]
  },
  {
   "cell_type": "code",
   "execution_count": null,
   "id": "47ab329e",
   "metadata": {},
   "outputs": [],
   "source": [
    "hv_path = r\"../EGI Energy Systems\\06 Projects\\2021 Nepal Geospatial cooking\\02 - work\\GIS-data\\Supply\\Power network\\HV-network\\Existing_transmission_lines.geojson\"\n",
    "data.add_layer(category='Electricity', name='HV_lines', layer_path=hv_path, layer_type='vector')\n",
    "\n",
    "mv_path = r\"../EGI Energy Systems\\06 Projects\\2021 Nepal Geospatial cooking\\02 - work\\GIS-data\\Supply\\Power network\\MV-network\\Nepal_DL0.shp\"\n",
    "data.add_layer(category='Electricity', name='MV_lines', layer_path=mv_path, layer_type='vector')\n",
    "\n",
    "ntl_path = r\"../EGI Energy Systems\\06 Projects\\2021 Nepal Geospatial cooking\\02 - work\\GIS-data\\Other\\Night Time Lights\\nighttime lights.tif\"\n",
    "data.add_layer(category='Electricity', name='Night_time_lights', layer_path=ntl_path, layer_type='raster', resample='average')"
   ]
  },
  {
   "cell_type": "markdown",
   "id": "4da50c12",
   "metadata": {},
   "source": [
    "### LPG"
   ]
  },
  {
   "cell_type": "code",
   "execution_count": null,
   "id": "0857e54e",
   "metadata": {},
   "outputs": [],
   "source": [
    "lpg_path = r\"../EGI Energy Systems\\06 Projects\\2021 Nepal Geospatial cooking\\02 - work\\GIS-data\\Supply\\LPG\\Nepal_Gas_12Jun2021_Final4.shp\"\n",
    "data.add_layer(category='LPG', name='Suppliers', layer_path=lpg_path, layer_type='vector')\n",
    "\n",
    "friction_path = r\"../EGI Energy Systems\\06 Projects\\2021 Nepal Geospatial cooking\\02 - work\\GIS-data\\Other\\Motorized friction\\2020_motorized_friction_surface.geotiff\"\n",
    "data.add_layer(category='LPG', name='Friction', layer_path=friction_path, layer_type='raster', resample='average')"
   ]
  },
  {
   "cell_type": "markdown",
   "id": "655ebb1d",
   "metadata": {},
   "source": [
    "## 4. Mask reproject and align all required layers"
   ]
  },
  {
   "cell_type": "code",
   "execution_count": null,
   "id": "954dfe04",
   "metadata": {},
   "outputs": [],
   "source": [
    "data.mask_layers(datasets={'Demographics': ['Population', 'Urban_rural_divide'],\n",
    "                           'Biomass': ['Forest', 'Friction'],\n",
    "                           'Electricity': ['HV_lines', 'Night_time_lights'],\n",
    "                           'LPG': ['Suppliers', 'Friction']})"
   ]
  },
  {
   "cell_type": "code",
   "execution_count": null,
   "id": "97cc42be",
   "metadata": {},
   "outputs": [],
   "source": [
    "data.reproject_layers(datasets='all')\n",
    "data.align_layers(datasets='all')"
   ]
  },
  {
   "cell_type": "code",
   "execution_count": null,
   "id": "dbdb5fdd",
   "metadata": {},
   "outputs": [],
   "source": [
    "end = time.time()\n",
    "\n",
    "diff = end - start\n",
    "print('Execution time:', str(str(int(diff//60))) + ' min ' + str(int((diff)%60)) + ' sec')"
   ]
  },
  {
   "cell_type": "markdown",
   "id": "df2deea1",
   "metadata": {},
   "source": [
    "# Model preparation"
   ]
  },
  {
   "cell_type": "markdown",
   "id": "70745b24",
   "metadata": {},
   "source": [
    "## 1. Create an OnSSTOVE model"
   ]
  },
  {
   "cell_type": "code",
   "execution_count": 4,
   "id": "f5418877",
   "metadata": {},
   "outputs": [],
   "source": [
    "start = time.time()\n",
    "\n",
    "nepal = OnSSTOVE()\n",
    "output_directory = 'results'\n",
    "nepal.output_directory = output_directory"
   ]
  },
  {
   "cell_type": "markdown",
   "id": "542a1476",
   "metadata": {},
   "source": [
    "## 2. Read the model data"
   ]
  },
  {
   "cell_type": "code",
   "execution_count": 5,
   "id": "8581a55c",
   "metadata": {},
   "outputs": [],
   "source": [
    "path = r\"../EGI Energy Systems\\06 Projects\\2021 Nepal Geospatial cooking\\02 - work\\OnSSTOVE cases\\NP_test_file_social_specs.csv\"\n",
    "nepal.read_scenario_data(path, delimiter=',')"
   ]
  },
  {
   "cell_type": "markdown",
   "id": "f3ee4d1e",
   "metadata": {},
   "source": [
    "## 3. Add a country mask layer"
   ]
  },
  {
   "cell_type": "code",
   "execution_count": 6,
   "id": "59911b04",
   "metadata": {},
   "outputs": [],
   "source": [
    "path = os.path.join(output_directory, 'Administrative', 'Country_boundaries', 'Country_boundaries.geojson')\n",
    "mask_layer = VectorLayer('admin', 'adm_0', layer_path=path)\n",
    "nepal.mask_layer = mask_layer"
   ]
  },
  {
   "cell_type": "markdown",
   "id": "1a632680",
   "metadata": {},
   "source": [
    "## 4. Add a population base layer"
   ]
  },
  {
   "cell_type": "code",
   "execution_count": 7,
   "id": "c0bda4d0",
   "metadata": {},
   "outputs": [],
   "source": [
    "path = os.path.join(output_directory, 'Demographics', 'Population', 'Population.tif')\n",
    "nepal.add_layer(category='Demographics', name='Population', layer_path=path, layer_type='raster', base_layer=True)\n",
    "nepal.population_to_dataframe()"
   ]
  },
  {
   "cell_type": "code",
   "execution_count": 8,
   "id": "3c248884",
   "metadata": {},
   "outputs": [],
   "source": [
    "# path = r\"..\\EGI Energy Systems\\06 Projects\\2021 Nepal Geospatial cooking\\02 - work\\GIS-data\\Other\\Administrative boundaries\\Admin lvl 1.shp\"\n",
    "# nepal.add_admin_names(path, 'ADM1_EN')"
   ]
  },
  {
   "cell_type": "markdown",
   "id": "58fa105a",
   "metadata": {},
   "source": [
    "## 5. Calibrate population and urban/rural split"
   ]
  },
  {
   "cell_type": "code",
   "execution_count": 9,
   "id": "3be6fac0",
   "metadata": {
    "scrolled": true
   },
   "outputs": [],
   "source": [
    "nepal.calibrate_current_pop()\n",
    "\n",
    "# path = os.path.join(output_directory, 'Demographics', 'Urban_rural_divide', 'Urban_rural_divide.tif')\n",
    "ghs_path = r\"../EGI Energy Systems\\06 Projects\\2021 Nepal Geospatial cooking\\02 - work\\GIS-data\\Other\\Urban - Rural divide\\GHS.tif\"\n",
    "nepal.calibrate_urban_current_and_future_GHS(ghs_path)"
   ]
  },
  {
   "cell_type": "markdown",
   "id": "67dff904",
   "metadata": {},
   "source": [
    "## 6. Add wealth index GIS data"
   ]
  },
  {
   "cell_type": "code",
   "execution_count": 10,
   "id": "e5173873",
   "metadata": {},
   "outputs": [],
   "source": [
    "wealth_index = r\"..\\EGI Energy Systems\\06 Projects\\2021 Nepal Geospatial cooking\\02 - work\\GIS-data\\Demand\\Wealth Index\\npl_relative_wealth_index.csv\"\n",
    "nepal.extract_wealth_index(wealth_index, file_type=\"csv\", \n",
    "                           x_column=\"longitude\", y_column=\"latitude\", wealth_column=\"rwi\")\n",
    "\n",
    "# wealth_index = r\"../EGI Energy Systems\\06 Projects\\2021 Nepal Geospatial cooking\\02 - work\\GIS-data\\Demand\\Wealth Index\\Wealth index 2011.tif\"\n",
    "# nepal.extract_wealth_index(wealth_index, file_type=\"raster\")"
   ]
  },
  {
   "cell_type": "markdown",
   "id": "9de6cbb2",
   "metadata": {},
   "source": [
    "## 7. Calculate value of time"
   ]
  },
  {
   "cell_type": "code",
   "execution_count": 11,
   "id": "7e31ec51",
   "metadata": {},
   "outputs": [],
   "source": [
    "# Based on wealth index, minimum wage and a lower an upper range for cost of oportunity\n",
    "nepal.get_value_of_time()"
   ]
  },
  {
   "cell_type": "markdown",
   "id": "b39f7a7a",
   "metadata": {},
   "source": [
    "## 8. Read electricity network GIS layers"
   ]
  },
  {
   "cell_type": "code",
   "execution_count": 12,
   "id": "ae83f221",
   "metadata": {},
   "outputs": [],
   "source": [
    "# Read MV lines\n",
    "path = os.path.join(output_directory, 'Electricity', 'MV_lines', 'MV_lines.geojson')\n",
    "mv_lines = VectorLayer('Electricity', 'MV_lines', layer_path=path)\n",
    "\n",
    "# Read HV lines\n",
    "path = os.path.join(output_directory, 'Electricity', 'HV_lines', 'HV_lines.geojson')\n",
    "hv_lines = VectorLayer('Electricity', 'HV_lines', layer_path=path)"
   ]
  },
  {
   "cell_type": "markdown",
   "id": "524b2759",
   "metadata": {},
   "source": [
    "### 8.1. Calculate distance to electricity infrastructure "
   ]
  },
  {
   "cell_type": "code",
   "execution_count": 13,
   "id": "f0aa5eb1",
   "metadata": {},
   "outputs": [],
   "source": [
    "nepal.distance_to_electricity(hv_lines=hv_lines, mv_lines=mv_lines)"
   ]
  },
  {
   "cell_type": "markdown",
   "id": "7b2c7dfe",
   "metadata": {},
   "source": [
    "### 8.2. Add night time lights data"
   ]
  },
  {
   "cell_type": "code",
   "execution_count": 14,
   "id": "8adf035b",
   "metadata": {},
   "outputs": [],
   "source": [
    "path = os.path.join(output_directory, 'Electricity', 'Night_time_lights', 'Night_time_lights.tif')\n",
    "ntl = RasterLayer('Electricity', 'Night_time_lights', layer_path=path)\n",
    "\n",
    "nepal.raster_to_dataframe(ntl.layer, name='Night_lights', method='read')"
   ]
  },
  {
   "cell_type": "markdown",
   "id": "07d176a1",
   "metadata": {},
   "source": [
    "## 9. Calibrate current electrified population"
   ]
  },
  {
   "cell_type": "code",
   "execution_count": 15,
   "id": "ae66bed8",
   "metadata": {
    "scrolled": true
   },
   "outputs": [
    {
     "name": "stdout",
     "output_type": "stream",
     "text": [
      "Calibrated grid electrified population fraction: 0.7199910437673593\n"
     ]
    }
   ],
   "source": [
    "nepal.current_elec()\n",
    "nepal.final_elec()\n",
    "\n",
    "print('Calibrated grid electrified population fraction:', nepal.gdf['Elec_pop_calib'].sum() / nepal.gdf['Calibrated_pop'].sum())"
   ]
  },
  {
   "cell_type": "markdown",
   "id": "c7cc65a8",
   "metadata": {},
   "source": [
    "## 10. Saving the prepared model inputs"
   ]
  },
  {
   "cell_type": "code",
   "execution_count": 17,
   "id": "879cda41",
   "metadata": {},
   "outputs": [],
   "source": [
    "nepal.to_pickle(\"model.pkl\")"
   ]
  },
  {
   "cell_type": "code",
   "execution_count": 18,
   "id": "4ada3e67",
   "metadata": {},
   "outputs": [
    {
     "name": "stdout",
     "output_type": "stream",
     "text": [
      "Execution time: 1 min 6 sec\n"
     ]
    }
   ],
   "source": [
    "end = time.time()\n",
    "\n",
    "diff = end - start\n",
    "print('Execution time:', str(str(int(diff//60))) + ' min ' + str(int((diff)%60)) + ' sec')"
   ]
  },
  {
   "cell_type": "markdown",
   "id": "19d2ee24",
   "metadata": {},
   "source": [
    "# Model run"
   ]
  },
  {
   "cell_type": "markdown",
   "id": "a551030f",
   "metadata": {},
   "source": [
    "## 1. Read the OnSSTOVE model"
   ]
  },
  {
   "cell_type": "code",
   "execution_count": 20,
   "id": "9590281e",
   "metadata": {},
   "outputs": [],
   "source": [
    "start = time.time()\n",
    "\n",
    "nepal = OnSSTOVE.read_model(\"results/model.pkl\")"
   ]
  },
  {
   "cell_type": "markdown",
   "id": "5e0bc093",
   "metadata": {},
   "source": [
    "## 2. Read the scenario data"
   ]
  },
  {
   "cell_type": "code",
   "execution_count": 21,
   "id": "3162a3de",
   "metadata": {},
   "outputs": [],
   "source": [
    "path = r\"../EGI Energy Systems\\06 Projects\\2021 Nepal Geospatial cooking\\02 - work\\OnSSTOVE cases\\NP_test_file_social_specs.csv\"\n",
    "nepal.read_scenario_data(path, delimiter=',')"
   ]
  },
  {
   "cell_type": "markdown",
   "id": "de858f2f",
   "metadata": {},
   "source": [
    "## 3. Read the cooking technologies data"
   ]
  },
  {
   "cell_type": "code",
   "execution_count": 22,
   "id": "8df01aca",
   "metadata": {},
   "outputs": [],
   "source": [
    "path = r\"../EGI Energy Systems\\06 Projects\\2021 Nepal Geospatial cooking\\02 - work\\OnSSTOVE cases\\NP_test_file_tech_specs.csv\"\n",
    "nepal.read_tech_data(path, delimiter=',')"
   ]
  },
  {
   "cell_type": "markdown",
   "id": "2fc7401d",
   "metadata": {},
   "source": [
    "## 5. Calculate parameters of base fuel (Biomass)"
   ]
  },
  {
   "cell_type": "markdown",
   "id": "3ffabb46",
   "metadata": {},
   "source": [
    "### 5.1. Health costs"
   ]
  },
  {
   "cell_type": "code",
   "execution_count": 23,
   "id": "f9a5126e",
   "metadata": {},
   "outputs": [],
   "source": [
    "# Calculate relative risk for each disease for the base fuel\n",
    "rr_0_alri, rr_0_copd, rr_0_ihd, rr_0_lc = nepal.base_fuel.relative_risk()\n",
    "\n",
    "# Calculate the Population Atributable Factor (PAF) for each disease for the base fuel\n",
    "paf_0_alri = nepal.base_fuel.paf(rr_0_alri, 1 - nepal.specs['clean_cooking_access'])\n",
    "paf_0_copd = nepal.base_fuel.paf(rr_0_copd, 1 - nepal.specs['clean_cooking_access'])\n",
    "paf_0_ihd  = nepal.base_fuel.paf(rr_0_ihd, 1 - nepal.specs['clean_cooking_access'])\n",
    "paf_0_lc = nepal.base_fuel.paf(rr_0_lc, 1 - nepal.specs['clean_cooking_access'])"
   ]
  },
  {
   "cell_type": "markdown",
   "id": "d449fa2c",
   "metadata": {},
   "source": [
    "### 5.2. Carbon emissions and related costs"
   ]
  },
  {
   "cell_type": "code",
   "execution_count": 24,
   "id": "0f76a8fa",
   "metadata": {},
   "outputs": [],
   "source": [
    "nepal.base_fuel.carb(nepal.specs, nepal.gdf)"
   ]
  },
  {
   "cell_type": "markdown",
   "id": "c2765c9b",
   "metadata": {},
   "source": [
    "### 5.3. Time for travelling, collecting fuel, and cooking"
   ]
  },
  {
   "cell_type": "code",
   "execution_count": 25,
   "id": "1cfe7e84",
   "metadata": {},
   "outputs": [],
   "source": [
    "# paths to GIS layers\n",
    "nepal.base_fuel.friction_path = os.path.join(nepal.output_directory, 'Biomass', 'Friction', 'Friction.tif')\n",
    "nepal.base_fuel.forest_path = os.path.join(nepal.output_directory, 'Biomass', 'Forest', 'Forest.tif')\n",
    "\n",
    "# Calculate total time\n",
    "nepal.base_fuel.total_time(nepal)"
   ]
  },
  {
   "cell_type": "markdown",
   "id": "5ad7c50b",
   "metadata": {},
   "source": [
    "## 6. Reading GIS data for LPG supply"
   ]
  },
  {
   "cell_type": "code",
   "execution_count": 26,
   "id": "de8904da",
   "metadata": {},
   "outputs": [],
   "source": [
    "nepal.techs['LPG'].lpg_path = os.path.join(nepal.output_directory, 'LPG', 'Suppliers', 'Suppliers.geojson')\n",
    "nepal.techs['LPG'].friction_path = os.path.join(nepal.output_directory, 'LPG', 'Friction', 'Friction.tif')\n",
    "\n",
    "nepal.techs['LPG'].add_travel_time(nepal)"
   ]
  },
  {
   "cell_type": "markdown",
   "id": "4c282f6d",
   "metadata": {},
   "source": [
    "## 7. Adding GIS data for Improved Biomass collected (ICS biomass)"
   ]
  },
  {
   "cell_type": "code",
   "execution_count": 27,
   "id": "e99b0cbd",
   "metadata": {},
   "outputs": [],
   "source": [
    "nepal.techs['Collected_Improved_Biomass'].friction_path = os.path.join(nepal.output_directory, 'Biomass', 'Friction', 'Friction.tif')\n",
    "nepal.techs['Collected_Improved_Biomass'].forest_path = os.path.join(nepal.output_directory, 'Biomass', 'Forest', 'Forest.tif')"
   ]
  },
  {
   "cell_type": "markdown",
   "id": "cf5b4224",
   "metadata": {},
   "source": [
    "## 8. Adding GIS data for Improved Biomass collected (ICS biomass)"
   ]
  },
  {
   "cell_type": "code",
   "execution_count": 28,
   "id": "df780d5b",
   "metadata": {},
   "outputs": [],
   "source": [
    "admin = gpd.read_file(r\"../EGI Energy Systems\\06 Projects\\2021 Nepal Geospatial cooking\\02 - work\\GIS-data\\Other\\Administrative boundaries\\Admin lvl 0.shp\")\n",
    "buffaloes = r\"../EGI Energy Systems\\06 Projects\\2021 Nepal Geospatial cooking\\02 - work\\GIS-data\\Supply\\Global livestock\\Buffaloes\\5_Bf_2010_Da.tif\"\n",
    "cattles = r\"../EGI Energy Systems\\06 Projects\\2021 Nepal Geospatial cooking\\02 - work\\GIS-data\\Supply\\Global livestock\\Cattle\\5_Ct_2010_Da.tif\"\n",
    "poultry = r\"..\\EGI Energy Systems\\06 Projects\\2021 Nepal Geospatial cooking\\02 - work\\GIS-data\\Supply\\Global livestock\\Chickens\\5_Ch_2010_Da.tif\"\n",
    "goats = r\"..\\EGI Energy Systems\\06 Projects\\2021 Nepal Geospatial cooking\\02 - work\\GIS-data\\Supply\\Global livestock\\Goats\\5_Gt_2010_Da.tif\"\n",
    "pigs = r\"..\\EGI Energy Systems\\06 Projects\\2021 Nepal Geospatial cooking\\02 - work\\GIS-data\\Supply\\Global livestock\\Pigs\\5_Pg_2010_Da.tif\"\n",
    "sheeps = r\"..\\EGI Energy Systems\\06 Projects\\2021 Nepal Geospatial cooking\\02 - work\\GIS-data\\Supply\\Global livestock\\Sheep\\5_Sh_2010_Da.tif\"\n",
    "temp = r\"..\\EGI Energy Systems\\06 Projects\\2021 Nepal Geospatial cooking\\02 - work\\GIS-data\\Other\\Temperature\\TEMP.tif\"\n",
    "\n",
    "nepal.techs['Biogas'].recalibrate_livestock(nepal, admin, buffaloes, cattles, poultry, goats, pigs, sheeps)\n",
    "nepal.techs['Biogas'].available_biogas(nepal)\n",
    "nepal.techs['Biogas'].available_energy(nepal, temp)"
   ]
  },
  {
   "cell_type": "code",
   "execution_count": 38,
   "id": "d070a888",
   "metadata": {},
   "outputs": [
    {
     "data": {
      "text/plain": [
       "206150589.78019634"
      ]
     },
     "execution_count": 38,
     "metadata": {},
     "output_type": "execute_result"
    }
   ],
   "source": [
    "nepal.gdf['potential_households'].sum()"
   ]
  },
  {
   "cell_type": "code",
   "execution_count": 42,
   "id": "0a966c50",
   "metadata": {},
   "outputs": [
    {
     "data": {
      "text/html": [
       "<div>\n",
       "<style scoped>\n",
       "    .dataframe tbody tr th:only-of-type {\n",
       "        vertical-align: middle;\n",
       "    }\n",
       "\n",
       "    .dataframe tbody tr th {\n",
       "        vertical-align: top;\n",
       "    }\n",
       "\n",
       "    .dataframe thead th {\n",
       "        text-align: right;\n",
       "    }\n",
       "</style>\n",
       "<table border=\"1\" class=\"dataframe\">\n",
       "  <thead>\n",
       "    <tr style=\"text-align: right;\">\n",
       "      <th></th>\n",
       "      <th>geometry</th>\n",
       "      <th>Pop</th>\n",
       "      <th>Calibrated_pop</th>\n",
       "      <th>IsUrban</th>\n",
       "      <th>Households</th>\n",
       "      <th>relative_wealth</th>\n",
       "      <th>value_of_time</th>\n",
       "      <th>HV_lines_dist</th>\n",
       "      <th>MV_lines_dist</th>\n",
       "      <th>Night_lights</th>\n",
       "      <th>Elec_dist</th>\n",
       "      <th>Current_elec</th>\n",
       "      <th>Elec_pop_calib</th>\n",
       "      <th>yearly_cubic_meter_biogas</th>\n",
       "      <th>Temperature</th>\n",
       "      <th>potential_households</th>\n",
       "      <th>available_biogas_energy</th>\n",
       "    </tr>\n",
       "  </thead>\n",
       "  <tbody>\n",
       "    <tr>\n",
       "      <th>0</th>\n",
       "      <td>POINT (9090104.530 3543192.836)</td>\n",
       "      <td>31.171455</td>\n",
       "      <td>31.344224</td>\n",
       "      <td>11.0</td>\n",
       "      <td>5.498987</td>\n",
       "      <td>-0.611</td>\n",
       "      <td>0.043943</td>\n",
       "      <td>109.590149</td>\n",
       "      <td>40.521599</td>\n",
       "      <td>0.000000</td>\n",
       "      <td>40.521599</td>\n",
       "      <td>0</td>\n",
       "      <td>0.000000</td>\n",
       "      <td>601.996771</td>\n",
       "      <td>-7.100000</td>\n",
       "      <td>0.0</td>\n",
       "      <td>13725.526373</td>\n",
       "    </tr>\n",
       "    <tr>\n",
       "      <th>1</th>\n",
       "      <td>POINT (9090104.530 3536192.836)</td>\n",
       "      <td>46.757183</td>\n",
       "      <td>47.016337</td>\n",
       "      <td>11.0</td>\n",
       "      <td>8.248480</td>\n",
       "      <td>-0.611</td>\n",
       "      <td>0.043943</td>\n",
       "      <td>103.445641</td>\n",
       "      <td>33.837849</td>\n",
       "      <td>0.000000</td>\n",
       "      <td>33.837849</td>\n",
       "      <td>0</td>\n",
       "      <td>0.000000</td>\n",
       "      <td>601.996771</td>\n",
       "      <td>-1.500000</td>\n",
       "      <td>0.0</td>\n",
       "      <td>13725.526373</td>\n",
       "    </tr>\n",
       "    <tr>\n",
       "      <th>2</th>\n",
       "      <td>POINT (9083104.530 3535192.836)</td>\n",
       "      <td>5.517799</td>\n",
       "      <td>5.548382</td>\n",
       "      <td>11.0</td>\n",
       "      <td>0.973400</td>\n",
       "      <td>-0.611</td>\n",
       "      <td>0.043943</td>\n",
       "      <td>99.282425</td>\n",
       "      <td>35.846897</td>\n",
       "      <td>0.000000</td>\n",
       "      <td>35.846897</td>\n",
       "      <td>0</td>\n",
       "      <td>0.000000</td>\n",
       "      <td>350.180650</td>\n",
       "      <td>-2.000000</td>\n",
       "      <td>0.0</td>\n",
       "      <td>7984.118817</td>\n",
       "    </tr>\n",
       "    <tr>\n",
       "      <th>3</th>\n",
       "      <td>POINT (9084104.530 3535192.836)</td>\n",
       "      <td>15.585728</td>\n",
       "      <td>15.672112</td>\n",
       "      <td>11.0</td>\n",
       "      <td>2.749493</td>\n",
       "      <td>-0.611</td>\n",
       "      <td>0.043943</td>\n",
       "      <td>99.729637</td>\n",
       "      <td>35.355339</td>\n",
       "      <td>0.000000</td>\n",
       "      <td>35.355339</td>\n",
       "      <td>0</td>\n",
       "      <td>0.000000</td>\n",
       "      <td>350.180650</td>\n",
       "      <td>-1.600000</td>\n",
       "      <td>0.0</td>\n",
       "      <td>7984.118817</td>\n",
       "    </tr>\n",
       "    <tr>\n",
       "      <th>4</th>\n",
       "      <td>POINT (9064104.530 3534192.836)</td>\n",
       "      <td>15.585728</td>\n",
       "      <td>15.672112</td>\n",
       "      <td>11.0</td>\n",
       "      <td>2.749493</td>\n",
       "      <td>-0.611</td>\n",
       "      <td>0.043943</td>\n",
       "      <td>91.482239</td>\n",
       "      <td>47.634022</td>\n",
       "      <td>0.000000</td>\n",
       "      <td>47.634022</td>\n",
       "      <td>0</td>\n",
       "      <td>0.000000</td>\n",
       "      <td>531.541070</td>\n",
       "      <td>-7.300000</td>\n",
       "      <td>0.0</td>\n",
       "      <td>12119.136393</td>\n",
       "    </tr>\n",
       "    <tr>\n",
       "      <th>...</th>\n",
       "      <td>...</td>\n",
       "      <td>...</td>\n",
       "      <td>...</td>\n",
       "      <td>...</td>\n",
       "      <td>...</td>\n",
       "      <td>...</td>\n",
       "      <td>...</td>\n",
       "      <td>...</td>\n",
       "      <td>...</td>\n",
       "      <td>...</td>\n",
       "      <td>...</td>\n",
       "      <td>...</td>\n",
       "      <td>...</td>\n",
       "      <td>...</td>\n",
       "      <td>...</td>\n",
       "      <td>...</td>\n",
       "      <td>...</td>\n",
       "    </tr>\n",
       "    <tr>\n",
       "      <th>96717</th>\n",
       "      <td>POINT (9724104.530 3044192.836)</td>\n",
       "      <td>98.039602</td>\n",
       "      <td>98.582991</td>\n",
       "      <td>11.0</td>\n",
       "      <td>17.295262</td>\n",
       "      <td>-0.658</td>\n",
       "      <td>0.043326</td>\n",
       "      <td>10.295630</td>\n",
       "      <td>1.414214</td>\n",
       "      <td>NaN</td>\n",
       "      <td>1.414214</td>\n",
       "      <td>0</td>\n",
       "      <td>0.000000</td>\n",
       "      <td>0.000000</td>\n",
       "      <td>25.299999</td>\n",
       "      <td>0.0</td>\n",
       "      <td>0.000000</td>\n",
       "    </tr>\n",
       "    <tr>\n",
       "      <th>96718</th>\n",
       "      <td>POINT (9797104.530 3044192.836)</td>\n",
       "      <td>536.486856</td>\n",
       "      <td>539.460361</td>\n",
       "      <td>11.0</td>\n",
       "      <td>94.642169</td>\n",
       "      <td>0.227</td>\n",
       "      <td>0.054944</td>\n",
       "      <td>34.014702</td>\n",
       "      <td>0.000000</td>\n",
       "      <td>NaN</td>\n",
       "      <td>0.000000</td>\n",
       "      <td>0</td>\n",
       "      <td>0.000000</td>\n",
       "      <td>0.000000</td>\n",
       "      <td>24.799999</td>\n",
       "      <td>0.0</td>\n",
       "      <td>0.000000</td>\n",
       "    </tr>\n",
       "    <tr>\n",
       "      <th>96719</th>\n",
       "      <td>POINT (9798104.530 3044192.836)</td>\n",
       "      <td>315.580504</td>\n",
       "      <td>317.329624</td>\n",
       "      <td>11.0</td>\n",
       "      <td>55.671864</td>\n",
       "      <td>0.227</td>\n",
       "      <td>0.054944</td>\n",
       "      <td>34.058773</td>\n",
       "      <td>1.000000</td>\n",
       "      <td>NaN</td>\n",
       "      <td>1.000000</td>\n",
       "      <td>0</td>\n",
       "      <td>0.000000</td>\n",
       "      <td>0.000000</td>\n",
       "      <td>24.900000</td>\n",
       "      <td>0.0</td>\n",
       "      <td>0.000000</td>\n",
       "    </tr>\n",
       "    <tr>\n",
       "      <th>96720</th>\n",
       "      <td>POINT (9722104.530 3043192.836)</td>\n",
       "      <td>642.881959</td>\n",
       "      <td>646.445163</td>\n",
       "      <td>23.0</td>\n",
       "      <td>124.316378</td>\n",
       "      <td>-0.287</td>\n",
       "      <td>0.048197</td>\n",
       "      <td>9.219544</td>\n",
       "      <td>0.000000</td>\n",
       "      <td>0.891932</td>\n",
       "      <td>0.000000</td>\n",
       "      <td>1</td>\n",
       "      <td>646.445163</td>\n",
       "      <td>0.000000</td>\n",
       "      <td>25.299999</td>\n",
       "      <td>0.0</td>\n",
       "      <td>0.000000</td>\n",
       "    </tr>\n",
       "    <tr>\n",
       "      <th>96721</th>\n",
       "      <td>POINT (9723104.530 3043192.836)</td>\n",
       "      <td>134.605801</td>\n",
       "      <td>135.351860</td>\n",
       "      <td>11.0</td>\n",
       "      <td>23.745940</td>\n",
       "      <td>-0.658</td>\n",
       "      <td>0.043326</td>\n",
       "      <td>10.000000</td>\n",
       "      <td>1.000000</td>\n",
       "      <td>0.806685</td>\n",
       "      <td>1.000000</td>\n",
       "      <td>1</td>\n",
       "      <td>135.351860</td>\n",
       "      <td>0.000000</td>\n",
       "      <td>25.299999</td>\n",
       "      <td>0.0</td>\n",
       "      <td>0.000000</td>\n",
       "    </tr>\n",
       "  </tbody>\n",
       "</table>\n",
       "<p>5209 rows × 17 columns</p>\n",
       "</div>"
      ],
      "text/plain": [
       "                              geometry         Pop  Calibrated_pop  IsUrban  \\\n",
       "0      POINT (9090104.530 3543192.836)   31.171455       31.344224     11.0   \n",
       "1      POINT (9090104.530 3536192.836)   46.757183       47.016337     11.0   \n",
       "2      POINT (9083104.530 3535192.836)    5.517799        5.548382     11.0   \n",
       "3      POINT (9084104.530 3535192.836)   15.585728       15.672112     11.0   \n",
       "4      POINT (9064104.530 3534192.836)   15.585728       15.672112     11.0   \n",
       "...                                ...         ...             ...      ...   \n",
       "96717  POINT (9724104.530 3044192.836)   98.039602       98.582991     11.0   \n",
       "96718  POINT (9797104.530 3044192.836)  536.486856      539.460361     11.0   \n",
       "96719  POINT (9798104.530 3044192.836)  315.580504      317.329624     11.0   \n",
       "96720  POINT (9722104.530 3043192.836)  642.881959      646.445163     23.0   \n",
       "96721  POINT (9723104.530 3043192.836)  134.605801      135.351860     11.0   \n",
       "\n",
       "       Households  relative_wealth  value_of_time  HV_lines_dist  \\\n",
       "0        5.498987           -0.611       0.043943     109.590149   \n",
       "1        8.248480           -0.611       0.043943     103.445641   \n",
       "2        0.973400           -0.611       0.043943      99.282425   \n",
       "3        2.749493           -0.611       0.043943      99.729637   \n",
       "4        2.749493           -0.611       0.043943      91.482239   \n",
       "...           ...              ...            ...            ...   \n",
       "96717   17.295262           -0.658       0.043326      10.295630   \n",
       "96718   94.642169            0.227       0.054944      34.014702   \n",
       "96719   55.671864            0.227       0.054944      34.058773   \n",
       "96720  124.316378           -0.287       0.048197       9.219544   \n",
       "96721   23.745940           -0.658       0.043326      10.000000   \n",
       "\n",
       "       MV_lines_dist  Night_lights  Elec_dist  Current_elec  Elec_pop_calib  \\\n",
       "0          40.521599      0.000000  40.521599             0        0.000000   \n",
       "1          33.837849      0.000000  33.837849             0        0.000000   \n",
       "2          35.846897      0.000000  35.846897             0        0.000000   \n",
       "3          35.355339      0.000000  35.355339             0        0.000000   \n",
       "4          47.634022      0.000000  47.634022             0        0.000000   \n",
       "...              ...           ...        ...           ...             ...   \n",
       "96717       1.414214           NaN   1.414214             0        0.000000   \n",
       "96718       0.000000           NaN   0.000000             0        0.000000   \n",
       "96719       1.000000           NaN   1.000000             0        0.000000   \n",
       "96720       0.000000      0.891932   0.000000             1      646.445163   \n",
       "96721       1.000000      0.806685   1.000000             1      135.351860   \n",
       "\n",
       "       yearly_cubic_meter_biogas  Temperature  potential_households  \\\n",
       "0                     601.996771    -7.100000                   0.0   \n",
       "1                     601.996771    -1.500000                   0.0   \n",
       "2                     350.180650    -2.000000                   0.0   \n",
       "3                     350.180650    -1.600000                   0.0   \n",
       "4                     531.541070    -7.300000                   0.0   \n",
       "...                          ...          ...                   ...   \n",
       "96717                   0.000000    25.299999                   0.0   \n",
       "96718                   0.000000    24.799999                   0.0   \n",
       "96719                   0.000000    24.900000                   0.0   \n",
       "96720                   0.000000    25.299999                   0.0   \n",
       "96721                   0.000000    25.299999                   0.0   \n",
       "\n",
       "       available_biogas_energy  \n",
       "0                 13725.526373  \n",
       "1                 13725.526373  \n",
       "2                  7984.118817  \n",
       "3                  7984.118817  \n",
       "4                 12119.136393  \n",
       "...                        ...  \n",
       "96717                 0.000000  \n",
       "96718                 0.000000  \n",
       "96719                 0.000000  \n",
       "96720                 0.000000  \n",
       "96721                 0.000000  \n",
       "\n",
       "[5209 rows x 17 columns]"
      ]
     },
     "execution_count": 42,
     "metadata": {},
     "output_type": "execute_result"
    }
   ],
   "source": [
    "nepal.gdf.loc[nepal.gdf[\"potential_households\"] < nepal.gdf[\"Households\"]]"
   ]
  },
  {
   "cell_type": "markdown",
   "id": "c50fed31",
   "metadata": {},
   "source": [
    "## 9. Calculate benefits and costs of each technology"
   ]
  },
  {
   "cell_type": "code",
   "execution_count": null,
   "id": "8ab17f19",
   "metadata": {},
   "outputs": [],
   "source": [
    "names = ['Electricity', 'Collected_Traditional_Biomass', 'Collected_Improved_Biomass', 'LPG']\n",
    "techs = [nepal.techs[name] for name in names]\n",
    "\n",
    "# Loop through each technology and calculate all benefits and costs\n",
    "for tech in techs:\n",
    "    print(f'Calculating health benefits for {tech.name}...')\n",
    "    tech.morbidity(nepal.specs, nepal.gdf, paf_0_alri, paf_0_copd, paf_0_lc, paf_0_ihd)\n",
    "    tech.mortality(nepal.specs, nepal.gdf, paf_0_alri, paf_0_copd, paf_0_lc, paf_0_ihd)\n",
    "    print(f'Calculating carbon emissions benefits for {tech.name}...')\n",
    "    tech.carbon_emissions(nepal.specs, nepal.gdf, nepal.base_fuel.carbon)\n",
    "    print(f'Calculating time saved benefits for {tech.name}...')\n",
    "    tech.time_saved(nepal)\n",
    "    print(f'Calculating costs for {tech.name}...')\n",
    "    tech.discounted_om(nepal.gdf, nepal.specs)\n",
    "    tech.discounted_inv(nepal.gdf, nepal.specs)\n",
    "    tech.discounted_meals(nepal.gdf, nepal.specs)\n",
    "    tech.discount_fuel_cost(nepal.gdf, nepal.specs, nepal.rows, nepal.cols)\n",
    "    tech.salvage(nepal.gdf, nepal.specs)\n",
    "    print(f'Calculating net benefit for {tech.name}...\\n')\n",
    "    tech.net_benefit(nepal.gdf)"
   ]
  },
  {
   "cell_type": "markdown",
   "id": "25f5f3f4",
   "metadata": {},
   "source": [
    "## 10. Getting the max benefit technology for each cell"
   ]
  },
  {
   "cell_type": "code",
   "execution_count": null,
   "id": "9a7eb45b",
   "metadata": {},
   "outputs": [],
   "source": [
    "nepal.maximum_net_benefit()"
   ]
  },
  {
   "cell_type": "code",
   "execution_count": null,
   "id": "0b48f189",
   "metadata": {},
   "outputs": [],
   "source": [
    "nepal.lives_saved()\n",
    "nepal.health_costs_saved()\n",
    "nepal.extract_time_saved()\n",
    "nepal.reduced_emissions()\n",
    "nepal.investment_costs()\n",
    "nepal.fuel_costs()\n",
    "nepal.emissions_costs_saved()"
   ]
  },
  {
   "cell_type": "markdown",
   "id": "5fd7bcc1",
   "metadata": {},
   "source": [
    "## 11. Printing the results"
   ]
  },
  {
   "cell_type": "code",
   "execution_count": null,
   "id": "a70ccb89",
   "metadata": {},
   "outputs": [],
   "source": [
    "nepal.gdf"
   ]
  },
  {
   "cell_type": "code",
   "execution_count": null,
   "id": "4733d617",
   "metadata": {},
   "outputs": [],
   "source": [
    "nepal.gdf.groupby(['max_benefit_tech']).agg({'Calibrated_pop': lambda row: np.nansum(row) / 1000000,\n",
    "                                             'maximum_net_benefit': lambda row: np.nansum(row) / 1000000,\n",
    "                                             'deaths_avoided': 'sum',\n",
    "                                             'health_costs_avoided': lambda row: np.nansum(row) / 1000000,\n",
    "                                             'time_saved': 'sum',\n",
    "                                             'reduced_emissions': lambda row: np.nansum(row) / 1000000000,\n",
    "                                             'investment_costs': lambda row: np.nansum(row) / 1000000,\n",
    "                                             'fuel_costs': lambda row: np.nansum(row) / 1000000,\n",
    "                                             'emissions_costs_saved': lambda row: np.nansum(row) / 1000000})"
   ]
  },
  {
   "cell_type": "code",
   "execution_count": null,
   "id": "2296b079",
   "metadata": {},
   "outputs": [],
   "source": [
    "print('maximum_net_benefit:', nepal.gdf['maximum_net_benefit'].sum() / 1000000)\n",
    "print('deaths_avoided:', nepal.gdf['deaths_avoided'].sum())\n",
    "print('health_costs_avoided:', nepal.gdf['health_costs_avoided'].sum() / 1000000)\n",
    "print('time_saved:', nepal.gdf['time_saved'].sum() / nepal.gdf['Households'].sum() / 365)\n",
    "print('reduced_emissions:', nepal.gdf['reduced_emissions'].sum() / 1000000000)\n",
    "print('investment_costs:', nepal.gdf['investment_costs'].sum() / 1000000)\n",
    "print('fuel_costs:', nepal.gdf['fuel_costs'].sum() / 1000000)\n",
    "print('emissions_costs_saved:', nepal.gdf['emissions_costs_saved'].sum() / 1000000)"
   ]
  },
  {
   "cell_type": "markdown",
   "id": "edc81d05",
   "metadata": {},
   "source": [
    "## 12. Saving data to raster files"
   ]
  },
  {
   "cell_type": "code",
   "execution_count": null,
   "id": "5da940a5",
   "metadata": {},
   "outputs": [],
   "source": [
    "nepal.to_raster('max_benefit_tech')\n",
    "nepal.to_raster('net_benefit_Electricity')\n",
    "nepal.to_raster('net_benefit_LPG')\n",
    "nepal.to_raster('net_benefit_Collected_Traditional_Biomass')\n",
    "nepal.to_raster('net_benefit_Collected_Improved_Biomass')\n",
    "nepal.to_raster('maximum_net_benefit')\n",
    "nepal.to_raster('investment_costs')"
   ]
  },
  {
   "cell_type": "code",
   "execution_count": null,
   "id": "88150a5e",
   "metadata": {},
   "outputs": [],
   "source": [
    "nepal.plot('maximum_net_benefit', cmap='Spectral', cumulative_count=[0.01, 0.99])"
   ]
  },
  {
   "cell_type": "code",
   "execution_count": null,
   "id": "864b24c2",
   "metadata": {},
   "outputs": [],
   "source": [
    "nepal.to_image('maximum_net_benefit', cmap='Spectral', cumulative_count=[0.01, 0.99])"
   ]
  },
  {
   "cell_type": "code",
   "execution_count": null,
   "id": "d348e11c",
   "metadata": {},
   "outputs": [],
   "source": [
    "nepal.to_image('max_benefit_tech', cmap='Set2', legend_position=(0.7, 0.9))"
   ]
  },
  {
   "cell_type": "code",
   "execution_count": null,
   "id": "5dc75ac4",
   "metadata": {},
   "outputs": [],
   "source": [
    "nepal.gdf.to_csv(os.path.join(output_directory, 'Output', 'sample_output.csv'))"
   ]
  },
  {
   "cell_type": "code",
   "execution_count": null,
   "id": "59d73054",
   "metadata": {},
   "outputs": [],
   "source": [
    "end = time.time()\n",
    "\n",
    "diff = end - start\n",
    "print('Execution time:', str(str(int(diff//60))) + ' min ' + str(int((diff)%60)) + ' sec')"
   ]
  },
  {
   "cell_type": "code",
   "execution_count": null,
   "id": "39f75225",
   "metadata": {},
   "outputs": [],
   "source": [
    "dff = nepal.gdf.groupby(['max_benefit_tech']).agg({'Calibrated_pop': lambda row: np.nansum(row) / 1000000,\n",
    "                                                   'maximum_net_benefit': lambda row: np.nansum(row) / 1000000,\n",
    "                                                   'investment_costs': lambda row: np.nansum(row) / 1000000}).reset_index()"
   ]
  },
  {
   "cell_type": "code",
   "execution_count": null,
   "id": "aaa67c75",
   "metadata": {},
   "outputs": [],
   "source": [
    "fig = px.pie(dff, names='max_benefit_tech', values='Calibrated_pop', color_discrete_sequence=['#dc0f0f', '#a86ee1', '#79de13'])\n",
    "fig.write_image(os.path.join(output_directory, 'output', 'Pop_per_tech.pdf'), width=500, height=500)\n",
    "fig.update_traces(textfont_size=16)\n",
    "fig.show()"
   ]
  },
  {
   "cell_type": "code",
   "execution_count": null,
   "id": "c780b335",
   "metadata": {},
   "outputs": [],
   "source": [
    "fig = px.pie(dff, names='max_benefit_tech', values='investment_costs', color_discrete_sequence=['#dc0f0f', '#a86ee1', '#79de13'])\n",
    "fig.write_image(os.path.join(output_directory, 'output', 'Investments.pdf'), width=500, height=500)\n",
    "fig.update_traces(textfont_size=16)\n",
    "fig.show()"
   ]
  },
  {
   "cell_type": "code",
   "execution_count": null,
   "id": "ab1a0d7f",
   "metadata": {},
   "outputs": [],
   "source": []
  }
 ],
 "metadata": {
  "kernelspec": {
   "display_name": "Python 3",
   "language": "python",
   "name": "python3"
  },
  "language_info": {
   "codemirror_mode": {
    "name": "ipython",
    "version": 3
   },
   "file_extension": ".py",
   "mimetype": "text/x-python",
   "name": "python",
   "nbconvert_exporter": "python",
   "pygments_lexer": "ipython3",
   "version": "3.9.2"
  }
 },
 "nbformat": 4,
 "nbformat_minor": 5
}

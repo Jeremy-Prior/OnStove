{
 "cells": [
  {
   "cell_type": "code",
   "execution_count": 4,
   "id": "69b19018",
   "metadata": {},
   "outputs": [],
   "source": [
    "import os, sys\n",
    "import numpy as np\n",
    "import geopandas as gpd\n",
    "import plotly.express as px\n",
    "sys.path.append('../')"
   ]
  },
  {
   "cell_type": "code",
   "execution_count": 5,
   "id": "1229c70e",
   "metadata": {},
   "outputs": [],
   "source": [
    "%load_ext autoreload"
   ]
  },
  {
   "cell_type": "code",
   "execution_count": 6,
   "id": "9608ffdc",
   "metadata": {},
   "outputs": [],
   "source": [
    "%autoreload 2\n",
    "from onsstove.onsstove import OnSSTOVE, DataProcessor\n",
    "from onsstove.layer import RasterLayer, VectorLayer\n",
    "from onsstove.raster import interpolate\n",
    "import time"
   ]
  },
  {
   "cell_type": "markdown",
   "id": "ab677f71",
   "metadata": {},
   "source": [
    "# Data processing"
   ]
  },
  {
   "cell_type": "markdown",
   "id": "39bc4d18",
   "metadata": {},
   "source": [
    "## 1. Create a data processor"
   ]
  },
  {
   "cell_type": "code",
   "execution_count": null,
   "id": "9fd2c200",
   "metadata": {},
   "outputs": [],
   "source": [
    "start = time.time()\n",
    "\n",
    "data = DataProcessor(project_crs=3857, cell_size=(1000, 1000))\n",
    "output_directory = 'results'\n",
    "data.output_directory = output_directory"
   ]
  },
  {
   "cell_type": "markdown",
   "id": "b13afc4d",
   "metadata": {},
   "source": [
    "## 2. Add a mask layer (country boundaries)"
   ]
  },
  {
   "cell_type": "code",
   "execution_count": null,
   "id": "74ab8d3c",
   "metadata": {},
   "outputs": [],
   "source": [
    "adm_path = r\"../EGI Energy Systems\\06 Projects\\2021 Nepal Geospatial cooking\\02 - work\\GIS-data\\Other\\Administrative boundaries\\Admin lvl 0.shp\"\n",
    "data.add_mask_layer(category='Administrative', name='Country_boundaries', layer_path=adm_path)"
   ]
  },
  {
   "cell_type": "markdown",
   "id": "b64735db",
   "metadata": {},
   "source": [
    "## 3. Add GIS layers"
   ]
  },
  {
   "cell_type": "markdown",
   "id": "a1d495e7",
   "metadata": {},
   "source": [
    "### Demographics"
   ]
  },
  {
   "cell_type": "code",
   "execution_count": null,
   "id": "bd00425a",
   "metadata": {},
   "outputs": [],
   "source": [
    "pop_path = r\"../EGI Energy Systems\\06 Projects\\2021 Nepal Geospatial cooking\\02 - work\\GIS-data\\Demand\\Population\\HRSL\\population_npl_2018-10-01_geotiff\\population_npl_2018-10-01.tif\"\n",
    "data.add_layer(category='Demographics', name='Population', layer_path=pop_path, layer_type='raster', base_layer=True, resample='sum')\n",
    "\n",
    "ghs_path = r\"../EGI Energy Systems\\06 Projects\\2021 Nepal Geospatial cooking\\02 - work\\GIS-data\\Other\\Urban - Rural divide\\GHS.tif\"\n",
    "data.add_layer(category='Demographics', name='Urban_rural_divide', layer_path=ghs_path, layer_type='raster', resample='nearest')"
   ]
  },
  {
   "cell_type": "markdown",
   "id": "7669c0fa",
   "metadata": {},
   "source": [
    "### Biomass"
   ]
  },
  {
   "cell_type": "code",
   "execution_count": null,
   "id": "fbda05b7",
   "metadata": {},
   "outputs": [],
   "source": [
    "forest_path = r\"../EGI Energy Systems\\06 Projects\\2021 Nepal Geospatial cooking\\02 - work\\GIS-data\\Other\\Forest cover\\Global Forest Cover Change (GFCC).tif\"\n",
    "data.add_layer(category='Biomass', name='Forest', layer_path=forest_path, layer_type='raster', resample='nearest')\n",
    "\n",
    "friction_path = r\"../EGI Energy Systems\\06 Projects\\2021 Nepal Geospatial cooking\\02 - work\\GIS-data\\Other\\Walking friction\\2020_walking_only_friction_surface.geotiff\"\n",
    "data.add_layer(category='Biomass', name='Friction', layer_path=friction_path, layer_type='raster', resample='average')"
   ]
  },
  {
   "cell_type": "markdown",
   "id": "a3a2809d",
   "metadata": {},
   "source": [
    "### Electricity"
   ]
  },
  {
   "cell_type": "code",
   "execution_count": null,
   "id": "47ab329e",
   "metadata": {},
   "outputs": [],
   "source": [
    "hv_path = r\"../EGI Energy Systems\\06 Projects\\2021 Nepal Geospatial cooking\\02 - work\\GIS-data\\Supply\\Power network\\HV-network\\Existing_transmission_lines.geojson\"\n",
    "data.add_layer(category='Electricity', name='HV_lines', layer_path=hv_path, layer_type='vector')\n",
    "\n",
    "mv_path = r\"../EGI Energy Systems\\06 Projects\\2021 Nepal Geospatial cooking\\02 - work\\GIS-data\\Supply\\Power network\\MV-network\\Nepal_DL0.shp\"\n",
    "data.add_layer(category='Electricity', name='MV_lines', layer_path=mv_path, layer_type='vector')\n",
    "\n",
    "ntl_path = r\"../EGI Energy Systems\\06 Projects\\2021 Nepal Geospatial cooking\\02 - work\\GIS-data\\Other\\Night Time Lights\\nighttime lights.tif\"\n",
    "data.add_layer(category='Electricity', name='Night_time_lights', layer_path=ntl_path, layer_type='raster', resample='average')"
   ]
  },
  {
   "cell_type": "markdown",
   "id": "4da50c12",
   "metadata": {},
   "source": [
    "### LPG"
   ]
  },
  {
   "cell_type": "code",
   "execution_count": null,
   "id": "0857e54e",
   "metadata": {},
   "outputs": [],
   "source": [
    "lpg_path = r\"../EGI Energy Systems\\06 Projects\\2021 Nepal Geospatial cooking\\02 - work\\GIS-data\\Supply\\LPG\\Nepal_Gas_12Jun2021_Final4.shp\"\n",
    "data.add_layer(category='LPG', name='Suppliers', layer_path=lpg_path, layer_type='vector')\n",
    "\n",
    "friction_path = r\"../EGI Energy Systems\\06 Projects\\2021 Nepal Geospatial cooking\\02 - work\\GIS-data\\Other\\Motorized friction\\2020_motorized_friction_surface.geotiff\"\n",
    "data.add_layer(category='LPG', name='Friction', layer_path=friction_path, layer_type='raster', resample='average')"
   ]
  },
  {
   "cell_type": "markdown",
   "id": "655ebb1d",
   "metadata": {},
   "source": [
    "## 4. Mask reproject and align all required layers"
   ]
  },
  {
   "cell_type": "code",
   "execution_count": null,
   "id": "954dfe04",
   "metadata": {},
   "outputs": [],
   "source": [
    "data.mask_layers(datasets={'Demographics': ['Population', 'Urban_rural_divide'],\n",
    "                           'Biomass': ['Forest', 'Friction'],\n",
    "                           'Electricity': ['HV_lines', 'Night_time_lights'],\n",
    "                           'LPG': ['Suppliers', 'Friction']})"
   ]
  },
  {
   "cell_type": "code",
   "execution_count": null,
   "id": "97cc42be",
   "metadata": {},
   "outputs": [],
   "source": [
    "data.reproject_layers(datasets='all')\n",
    "data.align_layers(datasets='all')"
   ]
  },
  {
   "cell_type": "code",
   "execution_count": null,
   "id": "dbdb5fdd",
   "metadata": {},
   "outputs": [],
   "source": [
    "end = time.time()\n",
    "\n",
    "diff = end - start\n",
    "print('Execution time:', str(str(int(diff//60))) + ' min ' + str(int((diff)%60)) + ' sec')"
   ]
  },
  {
   "cell_type": "markdown",
   "id": "df2deea1",
   "metadata": {},
   "source": [
    "# Model preparation"
   ]
  },
  {
   "cell_type": "markdown",
   "id": "70745b24",
   "metadata": {},
   "source": [
    "## 1. Create an OnSSTOVE model"
   ]
  },
  {
   "cell_type": "code",
   "execution_count": 7,
   "id": "f5418877",
   "metadata": {},
   "outputs": [],
   "source": [
    "start = time.time()\n",
    "\n",
    "nepal = OnSSTOVE()\n",
    "output_directory = 'results'\n",
    "nepal.output_directory = output_directory"
   ]
  },
  {
   "cell_type": "markdown",
   "id": "542a1476",
   "metadata": {},
   "source": [
    "## 2. Read the model data"
   ]
  },
  {
   "cell_type": "code",
   "execution_count": 8,
   "id": "8581a55c",
   "metadata": {},
   "outputs": [],
   "source": [
    "path = r\"../EGI Energy Systems\\06 Projects\\2021 Nepal Geospatial cooking\\02 - work\\OnSSTOVE cases\\NP_test_file_social_specs.csv\"\n",
    "nepal.read_scenario_data(path, delimiter=',')"
   ]
  },
  {
   "cell_type": "markdown",
   "id": "f3ee4d1e",
   "metadata": {},
   "source": [
    "## 3. Add a country mask layer"
   ]
  },
  {
   "cell_type": "code",
   "execution_count": 9,
   "id": "59911b04",
   "metadata": {},
   "outputs": [],
   "source": [
    "path = os.path.join(output_directory, 'Administrative', 'Country_boundaries', 'Country_boundaries.geojson')\n",
    "mask_layer = VectorLayer('admin', 'adm_0', layer_path=path)\n",
    "nepal.mask_layer = mask_layer"
   ]
  },
  {
   "cell_type": "markdown",
   "id": "1a632680",
   "metadata": {},
   "source": [
    "## 4. Add a population base layer"
   ]
  },
  {
   "cell_type": "code",
   "execution_count": 10,
   "id": "c0bda4d0",
   "metadata": {},
   "outputs": [],
   "source": [
    "path = os.path.join(output_directory, 'Demographics', 'Population', 'Population.tif')\n",
    "nepal.add_layer(category='Demographics', name='Population', layer_path=path, layer_type='raster', base_layer=True)\n",
    "nepal.population_to_dataframe()"
   ]
  },
  {
   "cell_type": "code",
   "execution_count": 11,
   "id": "3c248884",
   "metadata": {},
   "outputs": [],
   "source": [
    "# path = r\"..\\EGI Energy Systems\\06 Projects\\2021 Nepal Geospatial cooking\\02 - work\\GIS-data\\Other\\Administrative boundaries\\Admin lvl 1.shp\"\n",
    "# nepal.add_admin_names(path, 'ADM1_EN')"
   ]
  },
  {
   "cell_type": "markdown",
   "id": "58fa105a",
   "metadata": {},
   "source": [
    "## 5. Calibrate population and urban/rural split"
   ]
  },
  {
   "cell_type": "code",
   "execution_count": 12,
   "id": "3be6fac0",
   "metadata": {
    "scrolled": true
   },
   "outputs": [],
   "source": [
    "nepal.calibrate_current_pop()\n",
    "\n",
    "# path = os.path.join(output_directory, 'Demographics', 'Urban_rural_divide', 'Urban_rural_divide.tif')\n",
    "ghs_path = r\"../EGI Energy Systems\\06 Projects\\2021 Nepal Geospatial cooking\\02 - work\\GIS-data\\Other\\Urban - Rural divide\\GHS.tif\"\n",
    "nepal.calibrate_urban_current_and_future_GHS(ghs_path)"
   ]
  },
  {
   "cell_type": "markdown",
   "id": "67dff904",
   "metadata": {},
   "source": [
    "## 6. Add wealth index GIS data"
   ]
  },
  {
   "cell_type": "code",
   "execution_count": 13,
   "id": "e5173873",
   "metadata": {},
   "outputs": [],
   "source": [
    "wealth_index = r\"..\\EGI Energy Systems\\06 Projects\\2021 Nepal Geospatial cooking\\02 - work\\GIS-data\\Demand\\Wealth Index\\npl_relative_wealth_index.csv\"\n",
    "nepal.extract_wealth_index(wealth_index, file_type=\"csv\", \n",
    "                           x_column=\"longitude\", y_column=\"latitude\", wealth_column=\"rwi\")\n",
    "\n",
    "# wealth_index = r\"../EGI Energy Systems\\06 Projects\\2021 Nepal Geospatial cooking\\02 - work\\GIS-data\\Demand\\Wealth Index\\Wealth index 2011.tif\"\n",
    "# nepal.extract_wealth_index(wealth_index, file_type=\"raster\")"
   ]
  },
  {
   "cell_type": "markdown",
   "id": "9de6cbb2",
   "metadata": {},
   "source": [
    "## 7. Calculate value of time"
   ]
  },
  {
   "cell_type": "code",
   "execution_count": 14,
   "id": "7e31ec51",
   "metadata": {},
   "outputs": [],
   "source": [
    "# Based on wealth index, minimum wage and a lower an upper range for cost of oportunity\n",
    "nepal.get_value_of_time()"
   ]
  },
  {
   "cell_type": "markdown",
   "id": "b39f7a7a",
   "metadata": {},
   "source": [
    "## 8. Read electricity network GIS layers"
   ]
  },
  {
   "cell_type": "code",
   "execution_count": 15,
   "id": "ae83f221",
   "metadata": {},
   "outputs": [],
   "source": [
    "# Read MV lines\n",
    "path = os.path.join(output_directory, 'Electricity', 'MV_lines', 'MV_lines.geojson')\n",
    "mv_lines = VectorLayer('Electricity', 'MV_lines', layer_path=path)\n",
    "\n",
    "# Read HV lines\n",
    "path = os.path.join(output_directory, 'Electricity', 'HV_lines', 'HV_lines.geojson')\n",
    "hv_lines = VectorLayer('Electricity', 'HV_lines', layer_path=path)"
   ]
  },
  {
   "cell_type": "markdown",
   "id": "524b2759",
   "metadata": {},
   "source": [
    "### 8.1. Calculate distance to electricity infrastructure "
   ]
  },
  {
   "cell_type": "code",
   "execution_count": 16,
   "id": "f0aa5eb1",
   "metadata": {},
   "outputs": [],
   "source": [
    "nepal.distance_to_electricity(hv_lines=hv_lines, mv_lines=mv_lines)"
   ]
  },
  {
   "cell_type": "markdown",
   "id": "7b2c7dfe",
   "metadata": {},
   "source": [
    "### 8.2. Add night time lights data"
   ]
  },
  {
   "cell_type": "code",
   "execution_count": 17,
   "id": "8adf035b",
   "metadata": {},
   "outputs": [],
   "source": [
    "path = os.path.join(output_directory, 'Electricity', 'Night_time_lights', 'Night_time_lights.tif')\n",
    "ntl = RasterLayer('Electricity', 'Night_time_lights', layer_path=path)\n",
    "\n",
    "nepal.raster_to_dataframe(ntl.layer, name='Night_lights', method='read')"
   ]
  },
  {
   "cell_type": "markdown",
   "id": "07d176a1",
   "metadata": {},
   "source": [
    "## 9. Calibrate current electrified population"
   ]
  },
  {
   "cell_type": "code",
   "execution_count": 18,
   "id": "ae66bed8",
   "metadata": {
    "scrolled": true
   },
   "outputs": [
    {
     "name": "stdout",
     "output_type": "stream",
     "text": [
      "Calibrated grid electrified population fraction: 0.7199910437673593\n"
     ]
    }
   ],
   "source": [
    "nepal.current_elec()\n",
    "nepal.final_elec()\n",
    "\n",
    "print('Calibrated grid electrified population fraction:', nepal.gdf['Elec_pop_calib'].sum() / nepal.gdf['Calibrated_pop'].sum())"
   ]
  },
  {
   "cell_type": "markdown",
   "id": "de858f2f",
   "metadata": {},
   "source": [
    "## 10. Read the cooking technologies data"
   ]
  },
  {
   "cell_type": "code",
   "execution_count": 19,
   "id": "8df01aca",
   "metadata": {},
   "outputs": [],
   "source": [
    "path = r\"../EGI Energy Systems\\06 Projects\\2021 Nepal Geospatial cooking\\02 - work\\OnSSTOVE cases\\NP_test_file_tech_specs.csv\"\n",
    "nepal.read_tech_data(path, delimiter=',')"
   ]
  },
  {
   "cell_type": "markdown",
   "id": "2fc7401d",
   "metadata": {},
   "source": [
    "## 11. Calculate parameters of base fuel (Biomass)"
   ]
  },
  {
   "cell_type": "markdown",
   "id": "3ffabb46",
   "metadata": {},
   "source": [
    "### 11.1. Health costs"
   ]
  },
  {
   "cell_type": "code",
   "execution_count": 20,
   "id": "f9a5126e",
   "metadata": {},
   "outputs": [],
   "source": [
    "nepal.base_fuel.health_parameters(nepal)"
   ]
  },
  {
   "cell_type": "markdown",
   "id": "d449fa2c",
   "metadata": {},
   "source": [
    "### 11.2. Carbon emissions and related costs"
   ]
  },
  {
   "cell_type": "code",
   "execution_count": 21,
   "id": "0f76a8fa",
   "metadata": {},
   "outputs": [],
   "source": [
    "nepal.base_fuel.carb(nepal.specs, nepal.gdf)"
   ]
  },
  {
   "cell_type": "markdown",
   "id": "c2765c9b",
   "metadata": {},
   "source": [
    "### 11.3. Time for travelling, collecting fuel, and cooking"
   ]
  },
  {
   "cell_type": "code",
   "execution_count": 22,
   "id": "1cfe7e84",
   "metadata": {},
   "outputs": [],
   "source": [
    "# paths to GIS layers\n",
    "nepal.base_fuel.friction_path = os.path.join(nepal.output_directory, 'Biomass', 'Friction', 'Friction.tif')\n",
    "nepal.base_fuel.forest_path = os.path.join(nepal.output_directory, 'Biomass', 'Forest', 'Forest.tif')\n",
    "\n",
    "# Calculate total time\n",
    "nepal.base_fuel.total_time(nepal)"
   ]
  },
  {
   "cell_type": "markdown",
   "id": "5ad7c50b",
   "metadata": {},
   "source": [
    "## 12. Reading GIS data for LPG supply"
   ]
  },
  {
   "cell_type": "code",
   "execution_count": 23,
   "id": "de8904da",
   "metadata": {},
   "outputs": [],
   "source": [
    "nepal.techs['LPG'].lpg_path = os.path.join(nepal.output_directory, 'LPG', 'Suppliers', 'Suppliers.geojson')\n",
    "nepal.techs['LPG'].friction_path = os.path.join(nepal.output_directory, 'LPG', 'Friction', 'Friction.tif')\n",
    "\n",
    "nepal.techs['LPG'].add_travel_time(nepal)"
   ]
  },
  {
   "cell_type": "markdown",
   "id": "4c282f6d",
   "metadata": {},
   "source": [
    "## 13. Adding GIS data for Improved Biomass collected (ICS biomass)"
   ]
  },
  {
   "cell_type": "code",
   "execution_count": 24,
   "id": "e99b0cbd",
   "metadata": {},
   "outputs": [],
   "source": [
    "nepal.techs['Collected_Improved_Biomass'].friction_path = os.path.join(nepal.output_directory, 'Biomass', 'Friction', 'Friction.tif')\n",
    "nepal.techs['Collected_Improved_Biomass'].forest_path = os.path.join(nepal.output_directory, 'Biomass', 'Forest', 'Forest.tif')"
   ]
  },
  {
   "cell_type": "markdown",
   "id": "cf5b4224",
   "metadata": {},
   "source": [
    "## 14. Adding GIS data for Improved Biomass collected (ICS biomass)"
   ]
  },
  {
   "cell_type": "code",
   "execution_count": 25,
   "id": "df780d5b",
   "metadata": {},
   "outputs": [],
   "source": [
    "admin = gpd.read_file(r\"../EGI Energy Systems\\06 Projects\\2021 Nepal Geospatial cooking\\02 - work\\GIS-data\\Other\\Administrative boundaries\\Admin lvl 0.shp\")\n",
    "buffaloes = r\"../EGI Energy Systems\\06 Projects\\2021 Nepal Geospatial cooking\\02 - work\\GIS-data\\Supply\\Global livestock\\Buffaloes\\5_Bf_2010_Da.tif\"\n",
    "cattles = r\"../EGI Energy Systems\\06 Projects\\2021 Nepal Geospatial cooking\\02 - work\\GIS-data\\Supply\\Global livestock\\Cattle\\5_Ct_2010_Da.tif\"\n",
    "poultry = r\"..\\EGI Energy Systems\\06 Projects\\2021 Nepal Geospatial cooking\\02 - work\\GIS-data\\Supply\\Global livestock\\Chickens\\5_Ch_2010_Da.tif\"\n",
    "goats = r\"..\\EGI Energy Systems\\06 Projects\\2021 Nepal Geospatial cooking\\02 - work\\GIS-data\\Supply\\Global livestock\\Goats\\5_Gt_2010_Da.tif\"\n",
    "pigs = r\"..\\EGI Energy Systems\\06 Projects\\2021 Nepal Geospatial cooking\\02 - work\\GIS-data\\Supply\\Global livestock\\Pigs\\5_Pg_2010_Da.tif\"\n",
    "sheeps = r\"..\\EGI Energy Systems\\06 Projects\\2021 Nepal Geospatial cooking\\02 - work\\GIS-data\\Supply\\Global livestock\\Sheep\\5_Sh_2010_Da.tif\"\n",
    "temp = r\"..\\EGI Energy Systems\\06 Projects\\2021 Nepal Geospatial cooking\\02 - work\\GIS-data\\Other\\Temperature\\TEMP.tif\"\n",
    "\n",
    "nepal.techs['Biogas'].recalibrate_livestock(nepal, admin, buffaloes, cattles, poultry, goats, pigs, sheeps)\n",
    "nepal.techs['Biogas'].available_biogas(nepal)\n",
    "nepal.techs['Biogas'].available_energy(nepal, temp)"
   ]
  },
  {
   "cell_type": "markdown",
   "id": "c7cc65a8",
   "metadata": {},
   "source": [
    "## 15. Saving the prepared model inputs"
   ]
  },
  {
   "cell_type": "code",
   "execution_count": 26,
   "id": "0eebb172",
   "metadata": {},
   "outputs": [],
   "source": [
    "nepal.to_pickle(\"model.pkl\")"
   ]
  },
  {
   "cell_type": "code",
   "execution_count": 27,
   "id": "5059c943",
   "metadata": {},
   "outputs": [
    {
     "name": "stdout",
     "output_type": "stream",
     "text": [
      "Execution time: 2 min 0 sec\n"
     ]
    }
   ],
   "source": [
    "end = time.time()\n",
    "\n",
    "diff = end - start\n",
    "print('Execution time:', str(str(int(diff//60))) + ' min ' + str(int((diff)%60)) + ' sec')"
   ]
  },
  {
   "cell_type": "markdown",
   "id": "19d2ee24",
   "metadata": {},
   "source": [
    "# Model run"
   ]
  },
  {
   "cell_type": "markdown",
   "id": "a551030f",
   "metadata": {},
   "source": [
    "## 1. Read the OnSSTOVE model"
   ]
  },
  {
   "cell_type": "code",
   "execution_count": 136,
   "id": "38e7b7f3",
   "metadata": {},
   "outputs": [],
   "source": [
    "start = time.time()\n",
    "\n",
    "nepal = OnSSTOVE.read_model(\"results/model.pkl\")"
   ]
  },
  {
   "cell_type": "markdown",
   "id": "5e0bc093",
   "metadata": {},
   "source": [
    "## 2. Read the scenario data"
   ]
  },
  {
   "cell_type": "code",
   "execution_count": 137,
   "id": "3162a3de",
   "metadata": {},
   "outputs": [],
   "source": [
    "path = r\"../EGI Energy Systems\\06 Projects\\2021 Nepal Geospatial cooking\\02 - work\\OnSSTOVE cases\\NP_test_file_social_specs.csv\"\n",
    "nepal.read_scenario_data(path, delimiter=',')"
   ]
  },
  {
   "cell_type": "code",
   "execution_count": 138,
   "id": "dc80d32b",
   "metadata": {},
   "outputs": [],
   "source": [
    "nepal.techs['Biogas'].tech_life = 20\n",
    "nepal.techs['Biogas'].time_of_collection = 3\n",
    "nepal.techs['Biogas'].inv_cost = 430"
   ]
  },
  {
   "cell_type": "markdown",
   "id": "c50fed31",
   "metadata": {},
   "source": [
    "## 3. Calculating benefits and costs of each technology and getting the max benefit technology for each cell"
   ]
  },
  {
   "cell_type": "code",
   "execution_count": 139,
   "id": "8ab17f19",
   "metadata": {},
   "outputs": [
    {
     "name": "stdout",
     "output_type": "stream",
     "text": [
      "Calculating health benefits for Electricity...\n",
      "Calculating carbon emissions benefits for Electricity...\n",
      "Calculating time saved benefits for Electricity...\n",
      "Calculating costs for Electricity...\n",
      "Calculating net benefit for Electricity...\n",
      "\n",
      "Calculating health benefits for Collected_Traditional_Biomass...\n",
      "Calculating carbon emissions benefits for Collected_Traditional_Biomass...\n",
      "Calculating time saved benefits for Collected_Traditional_Biomass...\n",
      "Calculating costs for Collected_Traditional_Biomass...\n",
      "Calculating net benefit for Collected_Traditional_Biomass...\n",
      "\n",
      "Calculating health benefits for Collected_Improved_Biomass...\n",
      "Calculating carbon emissions benefits for Collected_Improved_Biomass...\n",
      "Calculating time saved benefits for Collected_Improved_Biomass...\n",
      "Calculating costs for Collected_Improved_Biomass...\n",
      "Calculating net benefit for Collected_Improved_Biomass...\n",
      "\n",
      "Calculating health benefits for LPG...\n",
      "Calculating carbon emissions benefits for LPG...\n",
      "Calculating time saved benefits for LPG...\n",
      "Calculating costs for LPG...\n",
      "Calculating net benefit for LPG...\n",
      "\n",
      "Calculating health benefits for Biogas...\n",
      "Calculating carbon emissions benefits for Biogas...\n",
      "Calculating time saved benefits for Biogas...\n",
      "Calculating costs for Biogas...\n",
      "Calculating net benefit for Biogas...\n",
      "\n",
      "Getting maximum net benefit technologies...\n",
      "Extracting indicators...\n",
      "    - Lives saved\n",
      "    - Health costs\n",
      "    - Time saved\n",
      "    - Reduced emissions\n",
      "    - Investment costs\n",
      "    - Fuel costs\n",
      "    - Reduced emissions externalities\n",
      "Done\n"
     ]
    }
   ],
   "source": [
    "names = ['Electricity', 'Collected_Traditional_Biomass', 'Collected_Improved_Biomass', 'LPG', 'Biogas']\n",
    "nepal.run(technologies=names)"
   ]
  },
  {
   "cell_type": "markdown",
   "id": "5fd7bcc1",
   "metadata": {},
   "source": [
    "## 4. Printing the results"
   ]
  },
  {
   "cell_type": "code",
   "execution_count": 140,
   "id": "a70ccb89",
   "metadata": {},
   "outputs": [
    {
     "data": {
      "text/html": [
       "<div>\n",
       "<style scoped>\n",
       "    .dataframe tbody tr th:only-of-type {\n",
       "        vertical-align: middle;\n",
       "    }\n",
       "\n",
       "    .dataframe tbody tr th {\n",
       "        vertical-align: top;\n",
       "    }\n",
       "\n",
       "    .dataframe thead th {\n",
       "        text-align: right;\n",
       "    }\n",
       "</style>\n",
       "<table border=\"1\" class=\"dataframe\">\n",
       "  <thead>\n",
       "    <tr style=\"text-align: right;\">\n",
       "      <th></th>\n",
       "      <th>geometry</th>\n",
       "      <th>Pop</th>\n",
       "      <th>Calibrated_pop</th>\n",
       "      <th>IsUrban</th>\n",
       "      <th>Households</th>\n",
       "      <th>relative_wealth</th>\n",
       "      <th>value_of_time</th>\n",
       "      <th>HV_lines_dist</th>\n",
       "      <th>MV_lines_dist</th>\n",
       "      <th>Night_lights</th>\n",
       "      <th>...</th>\n",
       "      <th>net_benefit_Biogas</th>\n",
       "      <th>max_benefit_tech</th>\n",
       "      <th>maximum_net_benefit</th>\n",
       "      <th>deaths_avoided</th>\n",
       "      <th>health_costs_avoided</th>\n",
       "      <th>time_saved</th>\n",
       "      <th>reduced_emissions</th>\n",
       "      <th>investment_costs</th>\n",
       "      <th>fuel_costs</th>\n",
       "      <th>emissions_costs_saved</th>\n",
       "    </tr>\n",
       "  </thead>\n",
       "  <tbody>\n",
       "    <tr>\n",
       "      <th>0</th>\n",
       "      <td>POINT (9090104.530 3543192.836)</td>\n",
       "      <td>31.171455</td>\n",
       "      <td>31.344224</td>\n",
       "      <td>11.0</td>\n",
       "      <td>5.498987</td>\n",
       "      <td>-0.611</td>\n",
       "      <td>0.043943</td>\n",
       "      <td>109.590149</td>\n",
       "      <td>40.521599</td>\n",
       "      <td>0.000000</td>\n",
       "      <td>...</td>\n",
       "      <td>0.0</td>\n",
       "      <td>Collected_Improved_Biomass</td>\n",
       "      <td>84.980881</td>\n",
       "      <td>0.009466</td>\n",
       "      <td>310.571279</td>\n",
       "      <td>2408.556192</td>\n",
       "      <td>19560.030811</td>\n",
       "      <td>109.979735</td>\n",
       "      <td>24.906661</td>\n",
       "      <td>97.800154</td>\n",
       "    </tr>\n",
       "    <tr>\n",
       "      <th>1</th>\n",
       "      <td>POINT (9090104.530 3536192.836)</td>\n",
       "      <td>46.757183</td>\n",
       "      <td>47.016337</td>\n",
       "      <td>11.0</td>\n",
       "      <td>8.248480</td>\n",
       "      <td>-0.611</td>\n",
       "      <td>0.043943</td>\n",
       "      <td>103.445641</td>\n",
       "      <td>33.837849</td>\n",
       "      <td>0.000000</td>\n",
       "      <td>...</td>\n",
       "      <td>0.0</td>\n",
       "      <td>Collected_Improved_Biomass</td>\n",
       "      <td>84.980881</td>\n",
       "      <td>0.014198</td>\n",
       "      <td>465.856919</td>\n",
       "      <td>3612.834288</td>\n",
       "      <td>29340.046216</td>\n",
       "      <td>164.969602</td>\n",
       "      <td>37.359991</td>\n",
       "      <td>146.700231</td>\n",
       "    </tr>\n",
       "    <tr>\n",
       "      <th>2</th>\n",
       "      <td>POINT (9083104.530 3535192.836)</td>\n",
       "      <td>5.517799</td>\n",
       "      <td>5.548382</td>\n",
       "      <td>11.0</td>\n",
       "      <td>0.973400</td>\n",
       "      <td>-0.611</td>\n",
       "      <td>0.043943</td>\n",
       "      <td>99.282425</td>\n",
       "      <td>35.846897</td>\n",
       "      <td>0.000000</td>\n",
       "      <td>...</td>\n",
       "      <td>0.0</td>\n",
       "      <td>Collected_Improved_Biomass</td>\n",
       "      <td>84.980881</td>\n",
       "      <td>0.001676</td>\n",
       "      <td>54.975619</td>\n",
       "      <td>426.349361</td>\n",
       "      <td>3462.408999</td>\n",
       "      <td>19.468007</td>\n",
       "      <td>4.408840</td>\n",
       "      <td>17.312045</td>\n",
       "    </tr>\n",
       "    <tr>\n",
       "      <th>3</th>\n",
       "      <td>POINT (9084104.530 3535192.836)</td>\n",
       "      <td>15.585728</td>\n",
       "      <td>15.672112</td>\n",
       "      <td>11.0</td>\n",
       "      <td>2.749493</td>\n",
       "      <td>-0.611</td>\n",
       "      <td>0.043943</td>\n",
       "      <td>99.729637</td>\n",
       "      <td>35.355339</td>\n",
       "      <td>0.000000</td>\n",
       "      <td>...</td>\n",
       "      <td>0.0</td>\n",
       "      <td>Collected_Improved_Biomass</td>\n",
       "      <td>84.980881</td>\n",
       "      <td>0.004733</td>\n",
       "      <td>155.285640</td>\n",
       "      <td>1204.278096</td>\n",
       "      <td>9780.015405</td>\n",
       "      <td>54.989867</td>\n",
       "      <td>12.453330</td>\n",
       "      <td>48.900077</td>\n",
       "    </tr>\n",
       "    <tr>\n",
       "      <th>4</th>\n",
       "      <td>POINT (9064104.530 3534192.836)</td>\n",
       "      <td>15.585728</td>\n",
       "      <td>15.672112</td>\n",
       "      <td>11.0</td>\n",
       "      <td>2.749493</td>\n",
       "      <td>-0.611</td>\n",
       "      <td>0.043943</td>\n",
       "      <td>91.482239</td>\n",
       "      <td>47.634022</td>\n",
       "      <td>0.000000</td>\n",
       "      <td>...</td>\n",
       "      <td>0.0</td>\n",
       "      <td>Collected_Improved_Biomass</td>\n",
       "      <td>84.980881</td>\n",
       "      <td>0.004733</td>\n",
       "      <td>155.285640</td>\n",
       "      <td>1204.278096</td>\n",
       "      <td>9780.015405</td>\n",
       "      <td>54.989867</td>\n",
       "      <td>12.453330</td>\n",
       "      <td>48.900077</td>\n",
       "    </tr>\n",
       "    <tr>\n",
       "      <th>...</th>\n",
       "      <td>...</td>\n",
       "      <td>...</td>\n",
       "      <td>...</td>\n",
       "      <td>...</td>\n",
       "      <td>...</td>\n",
       "      <td>...</td>\n",
       "      <td>...</td>\n",
       "      <td>...</td>\n",
       "      <td>...</td>\n",
       "      <td>...</td>\n",
       "      <td>...</td>\n",
       "      <td>...</td>\n",
       "      <td>...</td>\n",
       "      <td>...</td>\n",
       "      <td>...</td>\n",
       "      <td>...</td>\n",
       "      <td>...</td>\n",
       "      <td>...</td>\n",
       "      <td>...</td>\n",
       "      <td>...</td>\n",
       "      <td>...</td>\n",
       "    </tr>\n",
       "    <tr>\n",
       "      <th>96636</th>\n",
       "      <td>POINT (9752104.530 3049192.836)</td>\n",
       "      <td>152.112793</td>\n",
       "      <td>25.587969</td>\n",
       "      <td>11.0</td>\n",
       "      <td>4.489117</td>\n",
       "      <td>-0.147</td>\n",
       "      <td>0.050035</td>\n",
       "      <td>21.587032</td>\n",
       "      <td>0.000000</td>\n",
       "      <td>0.000000</td>\n",
       "      <td>...</td>\n",
       "      <td>0.0</td>\n",
       "      <td>LPG</td>\n",
       "      <td>32.403311</td>\n",
       "      <td>0.026578</td>\n",
       "      <td>895.989971</td>\n",
       "      <td>16050.616188</td>\n",
       "      <td>25666.804436</td>\n",
       "      <td>175.075580</td>\n",
       "      <td>940.380714</td>\n",
       "      <td>128.334022</td>\n",
       "    </tr>\n",
       "    <tr>\n",
       "      <th>96643</th>\n",
       "      <td>POINT (9794104.530 3049192.836)</td>\n",
       "      <td>162.241183</td>\n",
       "      <td>25.587969</td>\n",
       "      <td>11.0</td>\n",
       "      <td>4.489117</td>\n",
       "      <td>0.456</td>\n",
       "      <td>0.057951</td>\n",
       "      <td>29.000000</td>\n",
       "      <td>0.000000</td>\n",
       "      <td>0.000000</td>\n",
       "      <td>...</td>\n",
       "      <td>0.0</td>\n",
       "      <td>LPG</td>\n",
       "      <td>24.637641</td>\n",
       "      <td>0.026578</td>\n",
       "      <td>895.989971</td>\n",
       "      <td>11215.549907</td>\n",
       "      <td>25666.804436</td>\n",
       "      <td>175.075580</td>\n",
       "      <td>951.608667</td>\n",
       "      <td>128.334022</td>\n",
       "    </tr>\n",
       "    <tr>\n",
       "      <th>96648</th>\n",
       "      <td>POINT (9799104.530 3049192.836)</td>\n",
       "      <td>151.234473</td>\n",
       "      <td>25.587969</td>\n",
       "      <td>11.0</td>\n",
       "      <td>4.489117</td>\n",
       "      <td>0.108</td>\n",
       "      <td>0.053382</td>\n",
       "      <td>29.154760</td>\n",
       "      <td>0.000000</td>\n",
       "      <td>0.000000</td>\n",
       "      <td>...</td>\n",
       "      <td>0.0</td>\n",
       "      <td>LPG</td>\n",
       "      <td>25.446917</td>\n",
       "      <td>0.026578</td>\n",
       "      <td>895.989971</td>\n",
       "      <td>11696.844385</td>\n",
       "      <td>25666.804436</td>\n",
       "      <td>175.075580</td>\n",
       "      <td>952.311059</td>\n",
       "      <td>128.334022</td>\n",
       "    </tr>\n",
       "    <tr>\n",
       "      <th>34994</th>\n",
       "      <td>POINT (9067104.530 3267192.836)</td>\n",
       "      <td>456.882133</td>\n",
       "      <td>0.000000</td>\n",
       "      <td>11.0</td>\n",
       "      <td>0.000000</td>\n",
       "      <td>-0.276</td>\n",
       "      <td>0.048341</td>\n",
       "      <td>13.892444</td>\n",
       "      <td>1.000000</td>\n",
       "      <td>NaN</td>\n",
       "      <td>...</td>\n",
       "      <td>0.0</td>\n",
       "      <td>Collected_Traditional_Biomass</td>\n",
       "      <td>-0.000000</td>\n",
       "      <td>0.000000</td>\n",
       "      <td>0.000000</td>\n",
       "      <td>0.000000</td>\n",
       "      <td>0.000000</td>\n",
       "      <td>0.000000</td>\n",
       "      <td>0.000000</td>\n",
       "      <td>0.000000</td>\n",
       "    </tr>\n",
       "    <tr>\n",
       "      <th>85282</th>\n",
       "      <td>POINT (9465104.530 3110192.836)</td>\n",
       "      <td>1475.760830</td>\n",
       "      <td>0.000000</td>\n",
       "      <td>13.0</td>\n",
       "      <td>0.000000</td>\n",
       "      <td>-0.237</td>\n",
       "      <td>0.048853</td>\n",
       "      <td>21.633308</td>\n",
       "      <td>0.000000</td>\n",
       "      <td>0.604609</td>\n",
       "      <td>...</td>\n",
       "      <td>0.0</td>\n",
       "      <td>Collected_Traditional_Biomass</td>\n",
       "      <td>-0.000000</td>\n",
       "      <td>0.000000</td>\n",
       "      <td>0.000000</td>\n",
       "      <td>0.000000</td>\n",
       "      <td>0.000000</td>\n",
       "      <td>0.000000</td>\n",
       "      <td>0.000000</td>\n",
       "      <td>0.000000</td>\n",
       "    </tr>\n",
       "  </tbody>\n",
       "</table>\n",
       "<p>97999 rows × 40 columns</p>\n",
       "</div>"
      ],
      "text/plain": [
       "                              geometry          Pop  Calibrated_pop  IsUrban  \\\n",
       "0      POINT (9090104.530 3543192.836)    31.171455       31.344224     11.0   \n",
       "1      POINT (9090104.530 3536192.836)    46.757183       47.016337     11.0   \n",
       "2      POINT (9083104.530 3535192.836)     5.517799        5.548382     11.0   \n",
       "3      POINT (9084104.530 3535192.836)    15.585728       15.672112     11.0   \n",
       "4      POINT (9064104.530 3534192.836)    15.585728       15.672112     11.0   \n",
       "...                                ...          ...             ...      ...   \n",
       "96636  POINT (9752104.530 3049192.836)   152.112793       25.587969     11.0   \n",
       "96643  POINT (9794104.530 3049192.836)   162.241183       25.587969     11.0   \n",
       "96648  POINT (9799104.530 3049192.836)   151.234473       25.587969     11.0   \n",
       "34994  POINT (9067104.530 3267192.836)   456.882133        0.000000     11.0   \n",
       "85282  POINT (9465104.530 3110192.836)  1475.760830        0.000000     13.0   \n",
       "\n",
       "       Households  relative_wealth  value_of_time  HV_lines_dist  \\\n",
       "0        5.498987           -0.611       0.043943     109.590149   \n",
       "1        8.248480           -0.611       0.043943     103.445641   \n",
       "2        0.973400           -0.611       0.043943      99.282425   \n",
       "3        2.749493           -0.611       0.043943      99.729637   \n",
       "4        2.749493           -0.611       0.043943      91.482239   \n",
       "...           ...              ...            ...            ...   \n",
       "96636    4.489117           -0.147       0.050035      21.587032   \n",
       "96643    4.489117            0.456       0.057951      29.000000   \n",
       "96648    4.489117            0.108       0.053382      29.154760   \n",
       "34994    0.000000           -0.276       0.048341      13.892444   \n",
       "85282    0.000000           -0.237       0.048853      21.633308   \n",
       "\n",
       "       MV_lines_dist  Night_lights  ...  net_benefit_Biogas  \\\n",
       "0          40.521599      0.000000  ...                 0.0   \n",
       "1          33.837849      0.000000  ...                 0.0   \n",
       "2          35.846897      0.000000  ...                 0.0   \n",
       "3          35.355339      0.000000  ...                 0.0   \n",
       "4          47.634022      0.000000  ...                 0.0   \n",
       "...              ...           ...  ...                 ...   \n",
       "96636       0.000000      0.000000  ...                 0.0   \n",
       "96643       0.000000      0.000000  ...                 0.0   \n",
       "96648       0.000000      0.000000  ...                 0.0   \n",
       "34994       1.000000           NaN  ...                 0.0   \n",
       "85282       0.000000      0.604609  ...                 0.0   \n",
       "\n",
       "                    max_benefit_tech  maximum_net_benefit  deaths_avoided  \\\n",
       "0         Collected_Improved_Biomass            84.980881        0.009466   \n",
       "1         Collected_Improved_Biomass            84.980881        0.014198   \n",
       "2         Collected_Improved_Biomass            84.980881        0.001676   \n",
       "3         Collected_Improved_Biomass            84.980881        0.004733   \n",
       "4         Collected_Improved_Biomass            84.980881        0.004733   \n",
       "...                              ...                  ...             ...   \n",
       "96636                            LPG            32.403311        0.026578   \n",
       "96643                            LPG            24.637641        0.026578   \n",
       "96648                            LPG            25.446917        0.026578   \n",
       "34994  Collected_Traditional_Biomass            -0.000000        0.000000   \n",
       "85282  Collected_Traditional_Biomass            -0.000000        0.000000   \n",
       "\n",
       "       health_costs_avoided    time_saved  reduced_emissions  \\\n",
       "0                310.571279   2408.556192       19560.030811   \n",
       "1                465.856919   3612.834288       29340.046216   \n",
       "2                 54.975619    426.349361        3462.408999   \n",
       "3                155.285640   1204.278096        9780.015405   \n",
       "4                155.285640   1204.278096        9780.015405   \n",
       "...                     ...           ...                ...   \n",
       "96636            895.989971  16050.616188       25666.804436   \n",
       "96643            895.989971  11215.549907       25666.804436   \n",
       "96648            895.989971  11696.844385       25666.804436   \n",
       "34994              0.000000      0.000000           0.000000   \n",
       "85282              0.000000      0.000000           0.000000   \n",
       "\n",
       "       investment_costs  fuel_costs  emissions_costs_saved  \n",
       "0            109.979735   24.906661              97.800154  \n",
       "1            164.969602   37.359991             146.700231  \n",
       "2             19.468007    4.408840              17.312045  \n",
       "3             54.989867   12.453330              48.900077  \n",
       "4             54.989867   12.453330              48.900077  \n",
       "...                 ...         ...                    ...  \n",
       "96636        175.075580  940.380714             128.334022  \n",
       "96643        175.075580  951.608667             128.334022  \n",
       "96648        175.075580  952.311059             128.334022  \n",
       "34994          0.000000    0.000000               0.000000  \n",
       "85282          0.000000    0.000000               0.000000  \n",
       "\n",
       "[97999 rows x 40 columns]"
      ]
     },
     "execution_count": 140,
     "metadata": {},
     "output_type": "execute_result"
    }
   ],
   "source": [
    "nepal.gdf"
   ]
  },
  {
   "cell_type": "code",
   "execution_count": 141,
   "id": "0c7dbe07",
   "metadata": {},
   "outputs": [
    {
     "data": {
      "text/html": [
       "<div>\n",
       "<style scoped>\n",
       "    .dataframe tbody tr th:only-of-type {\n",
       "        vertical-align: middle;\n",
       "    }\n",
       "\n",
       "    .dataframe tbody tr th {\n",
       "        vertical-align: top;\n",
       "    }\n",
       "\n",
       "    .dataframe thead th {\n",
       "        text-align: right;\n",
       "    }\n",
       "</style>\n",
       "<table border=\"1\" class=\"dataframe\">\n",
       "  <thead>\n",
       "    <tr style=\"text-align: right;\">\n",
       "      <th></th>\n",
       "      <th>Calibrated_pop</th>\n",
       "      <th>maximum_net_benefit</th>\n",
       "      <th>deaths_avoided</th>\n",
       "      <th>health_costs_avoided</th>\n",
       "      <th>time_saved</th>\n",
       "      <th>reduced_emissions</th>\n",
       "      <th>investment_costs</th>\n",
       "      <th>fuel_costs</th>\n",
       "      <th>emissions_costs_saved</th>\n",
       "    </tr>\n",
       "    <tr>\n",
       "      <th>max_benefit_tech</th>\n",
       "      <th></th>\n",
       "      <th></th>\n",
       "      <th></th>\n",
       "      <th></th>\n",
       "      <th></th>\n",
       "      <th></th>\n",
       "      <th></th>\n",
       "      <th></th>\n",
       "      <th></th>\n",
       "    </tr>\n",
       "  </thead>\n",
       "  <tbody>\n",
       "    <tr>\n",
       "      <th>Biogas</th>\n",
       "      <td>0.001943</td>\n",
       "      <td>0.000000e+00</td>\n",
       "      <td>2.351614</td>\n",
       "      <td>0.078664</td>\n",
       "      <td>0.000000e+00</td>\n",
       "      <td>0.002095</td>\n",
       "      <td>3.409394</td>\n",
       "      <td>0.000000</td>\n",
       "      <td>0.010477</td>\n",
       "    </tr>\n",
       "    <tr>\n",
       "      <th>Collected_Improved_Biomass</th>\n",
       "      <td>0.295003</td>\n",
       "      <td>2.542425e-01</td>\n",
       "      <td>89.087425</td>\n",
       "      <td>2.923006</td>\n",
       "      <td>2.277336e+07</td>\n",
       "      <td>0.184944</td>\n",
       "      <td>1.039879</td>\n",
       "      <td>0.235497</td>\n",
       "      <td>0.924719</td>\n",
       "    </tr>\n",
       "    <tr>\n",
       "      <th>Collected_Traditional_Biomass</th>\n",
       "      <td>0.000750</td>\n",
       "      <td>-6.666667e-07</td>\n",
       "      <td>0.000000</td>\n",
       "      <td>0.000000</td>\n",
       "      <td>0.000000e+00</td>\n",
       "      <td>0.000000</td>\n",
       "      <td>0.000066</td>\n",
       "      <td>0.000000</td>\n",
       "      <td>0.000000</td>\n",
       "    </tr>\n",
       "    <tr>\n",
       "      <th>Electricity</th>\n",
       "      <td>20.597432</td>\n",
       "      <td>8.054731e+00</td>\n",
       "      <td>24924.532617</td>\n",
       "      <td>833.753342</td>\n",
       "      <td>9.635060e+09</td>\n",
       "      <td>22.932324</td>\n",
       "      <td>206.571919</td>\n",
       "      <td>338.470782</td>\n",
       "      <td>114.661618</td>\n",
       "    </tr>\n",
       "    <tr>\n",
       "      <th>LPG</th>\n",
       "      <td>7.714872</td>\n",
       "      <td>8.190942e+00</td>\n",
       "      <td>8013.374750</td>\n",
       "      <td>270.144448</td>\n",
       "      <td>3.247904e+09</td>\n",
       "      <td>7.759148</td>\n",
       "      <td>52.925849</td>\n",
       "      <td>292.052577</td>\n",
       "      <td>38.795742</td>\n",
       "    </tr>\n",
       "  </tbody>\n",
       "</table>\n",
       "</div>"
      ],
      "text/plain": [
       "                               Calibrated_pop  maximum_net_benefit  \\\n",
       "max_benefit_tech                                                     \n",
       "Biogas                               0.001943         0.000000e+00   \n",
       "Collected_Improved_Biomass           0.295003         2.542425e-01   \n",
       "Collected_Traditional_Biomass        0.000750        -6.666667e-07   \n",
       "Electricity                         20.597432         8.054731e+00   \n",
       "LPG                                  7.714872         8.190942e+00   \n",
       "\n",
       "                               deaths_avoided  health_costs_avoided  \\\n",
       "max_benefit_tech                                                      \n",
       "Biogas                               2.351614              0.078664   \n",
       "Collected_Improved_Biomass          89.087425              2.923006   \n",
       "Collected_Traditional_Biomass        0.000000              0.000000   \n",
       "Electricity                      24924.532617            833.753342   \n",
       "LPG                               8013.374750            270.144448   \n",
       "\n",
       "                                 time_saved  reduced_emissions  \\\n",
       "max_benefit_tech                                                 \n",
       "Biogas                         0.000000e+00           0.002095   \n",
       "Collected_Improved_Biomass     2.277336e+07           0.184944   \n",
       "Collected_Traditional_Biomass  0.000000e+00           0.000000   \n",
       "Electricity                    9.635060e+09          22.932324   \n",
       "LPG                            3.247904e+09           7.759148   \n",
       "\n",
       "                               investment_costs  fuel_costs  \\\n",
       "max_benefit_tech                                              \n",
       "Biogas                                 3.409394    0.000000   \n",
       "Collected_Improved_Biomass             1.039879    0.235497   \n",
       "Collected_Traditional_Biomass          0.000066    0.000000   \n",
       "Electricity                          206.571919  338.470782   \n",
       "LPG                                   52.925849  292.052577   \n",
       "\n",
       "                               emissions_costs_saved  \n",
       "max_benefit_tech                                      \n",
       "Biogas                                      0.010477  \n",
       "Collected_Improved_Biomass                  0.924719  \n",
       "Collected_Traditional_Biomass               0.000000  \n",
       "Electricity                               114.661618  \n",
       "LPG                                        38.795742  "
      ]
     },
     "execution_count": 141,
     "metadata": {},
     "output_type": "execute_result"
    }
   ],
   "source": [
    "nepal.gdf.groupby(['max_benefit_tech']).agg({'Calibrated_pop': lambda row: np.nansum(row) / 1000000,\n",
    "                                             'maximum_net_benefit': lambda row: np.nansum(row) / 1000000,\n",
    "                                             'deaths_avoided': 'sum',\n",
    "                                             'health_costs_avoided': lambda row: np.nansum(row) / 1000000,\n",
    "                                             'time_saved': 'sum',\n",
    "                                             'reduced_emissions': lambda row: np.nansum(row) / 1000000000,\n",
    "                                             'investment_costs': lambda row: np.nansum(row) / 1000000,\n",
    "                                             'fuel_costs': lambda row: np.nansum(row) / 1000000,\n",
    "                                             'emissions_costs_saved': lambda row: np.nansum(row) / 1000000})"
   ]
  },
  {
   "cell_type": "code",
   "execution_count": 86,
   "id": "2296b079",
   "metadata": {},
   "outputs": [
    {
     "name": "stdout",
     "output_type": "stream",
     "text": [
      "maximum_net_benefit: 33.242159210431595\n",
      "deaths_avoided: 34465.656188943154\n",
      "health_costs_avoided: 1153.022259469121\n",
      "time_saved: 6.883219380791149\n",
      "reduced_emissions: 31.60278195822982\n",
      "investment_costs: 1539.2661698712316\n",
      "fuel_costs: 172.75792676361132\n",
      "emissions_costs_saved: 158.01390979114908\n"
     ]
    }
   ],
   "source": [
    "print('maximum_net_benefit:', nepal.gdf['maximum_net_benefit'].sum() / 1000000)\n",
    "print('deaths_avoided:', nepal.gdf['deaths_avoided'].sum())\n",
    "print('health_costs_avoided:', nepal.gdf['health_costs_avoided'].sum() / 1000000)\n",
    "print('time_saved:', nepal.gdf['time_saved'].sum() / nepal.gdf['Households'].sum() / 365)\n",
    "print('reduced_emissions:', nepal.gdf['reduced_emissions'].sum() / 1000000000)\n",
    "print('investment_costs:', nepal.gdf['investment_costs'].sum() / 1000000)\n",
    "print('fuel_costs:', nepal.gdf['fuel_costs'].sum() / 1000000)\n",
    "print('emissions_costs_saved:', nepal.gdf['emissions_costs_saved'].sum() / 1000000)"
   ]
  },
  {
   "cell_type": "markdown",
   "id": "edc81d05",
   "metadata": {},
   "source": [
    "## 5. Saving data to raster files"
   ]
  },
  {
   "cell_type": "code",
   "execution_count": null,
   "id": "5da940a5",
   "metadata": {},
   "outputs": [],
   "source": [
    "nepal.to_raster('max_benefit_tech')\n",
    "nepal.to_raster('net_benefit_Electricity')\n",
    "nepal.to_raster('net_benefit_LPG')\n",
    "nepal.to_raster('net_benefit_Collected_Traditional_Biomass')\n",
    "nepal.to_raster('net_benefit_Collected_Improved_Biomass')\n",
    "nepal.to_raster('maximum_net_benefit')\n",
    "nepal.to_raster('investment_costs')"
   ]
  },
  {
   "cell_type": "code",
   "execution_count": 142,
   "id": "e91741d3",
   "metadata": {},
   "outputs": [
    {
     "data": {
      "image/png": "[encoded data removed]",
      "text/plain": [
       "<Figure size 1152x648 with 1 Axes>"
      ]
     },
     "execution_count": 142,
     "metadata": {},
     "output_type": "execute_result"
    }
   ],
   "source": [
    "nepal.plot('max_benefit_tech', cmap='tab10')"
   ]
  },
  {
   "cell_type": "code",
   "execution_count": null,
   "id": "88150a5e",
   "metadata": {},
   "outputs": [],
   "source": [
    "nepal.plot('maximum_net_benefit', cmap='Spectral', cumulative_count=[0.02, 0.98])"
   ]
  },
  {
   "cell_type": "code",
   "execution_count": null,
   "id": "864b24c2",
   "metadata": {},
   "outputs": [],
   "source": [
    "nepal.to_image('maximum_net_benefit', cmap='Spectral', cumulative_count=[0.01, 0.99])"
   ]
  },
  {
   "cell_type": "code",
   "execution_count": 128,
   "id": "d348e11c",
   "metadata": {},
   "outputs": [],
   "source": [
    "nepal.to_image('max_benefit_tech', cmap='tab10', legend_position=(0.7, 0.9))"
   ]
  },
  {
   "cell_type": "code",
   "execution_count": null,
   "id": "5dc75ac4",
   "metadata": {},
   "outputs": [],
   "source": [
    "nepal.gdf.to_csv(os.path.join(output_directory, 'Output', 'sample_output.csv'))"
   ]
  },
  {
   "cell_type": "code",
   "execution_count": null,
   "id": "59d73054",
   "metadata": {},
   "outputs": [],
   "source": [
    "end = time.time()\n",
    "\n",
    "diff = end - start\n",
    "print('Execution time:', str(str(int(diff//60))) + ' min ' + str(int((diff)%60)) + ' sec')"
   ]
  },
  {
   "cell_type": "code",
   "execution_count": null,
   "id": "d65ec3c3",
   "metadata": {},
   "outputs": [],
   "source": [
    "import matplotlib.cm as cm\n",
    "from matplotlib.colors import ListedColormap, to_rgba\n",
    "red = to_rgba('#FF5733', alpha=None)\n",
    "clist = [[0.3, 0.5, 0.7, 1], [0, 0.5, 0.7, 1], red]\n",
    "cmap = ListedColormap(clist)\n",
    "cmap"
   ]
  },
  {
   "cell_type": "code",
   "execution_count": null,
   "id": "39f75225",
   "metadata": {},
   "outputs": [],
   "source": [
    "dff = nepal.gdf.groupby(['max_benefit_tech']).agg({'Calibrated_pop': lambda row: np.nansum(row) / 1000000,\n",
    "                                                   'maximum_net_benefit': lambda row: np.nansum(row) / 1000000,\n",
    "                                                   'investment_costs': lambda row: np.nansum(row) / 1000000}).reset_index()"
   ]
  },
  {
   "cell_type": "code",
   "execution_count": null,
   "id": "aaa67c75",
   "metadata": {},
   "outputs": [],
   "source": [
    "fig = px.pie(dff, names='max_benefit_tech', values='Calibrated_pop', color_discrete_sequence=['#dc0f0f', '#a86ee1', '#79de13'])\n",
    "fig.write_image(os.path.join(output_directory, 'output', 'Pop_per_tech.pdf'), width=500, height=500)\n",
    "fig.update_traces(textfont_size=16)\n",
    "fig.show()"
   ]
  },
  {
   "cell_type": "code",
   "execution_count": null,
   "id": "c780b335",
   "metadata": {},
   "outputs": [],
   "source": [
    "fig = px.pie(dff, names='max_benefit_tech', values='investment_costs', color_discrete_sequence=['#dc0f0f', '#a86ee1', '#79de13'])\n",
    "fig.write_image(os.path.join(output_directory, 'output', 'Investments.pdf'), width=500, height=500)\n",
    "fig.update_traces(textfont_size=16)\n",
    "fig.show()"
   ]
  },
  {
   "cell_type": "code",
   "execution_count": null,
   "id": "ab1a0d7f",
   "metadata": {},
   "outputs": [],
   "source": []
  }
 ],
 "metadata": {
  "kernelspec": {
   "display_name": "Python 3",
   "language": "python",
   "name": "python3"
  },
  "language_info": {
   "codemirror_mode": {
    "name": "ipython",
    "version": 3
   },
   "file_extension": ".py",
   "mimetype": "text/x-python",
   "name": "python",
   "nbconvert_exporter": "python",
   "pygments_lexer": "ipython3",
   "version": "3.9.2"
  }
 },
 "nbformat": 4,
 "nbformat_minor": 5
}

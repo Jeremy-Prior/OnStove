{
 "cells": [
  {
   "cell_type": "code",
   "execution_count": 1,
   "id": "69b19018",
   "metadata": {},
   "outputs": [],
   "source": [
    "import os, sys\n",
    "import numpy as np\n",
    "sys.path.append('../')"
   ]
  },
  {
   "cell_type": "code",
   "execution_count": 2,
   "id": "1229c70e",
   "metadata": {},
   "outputs": [],
   "source": [
    "%load_ext autoreload"
   ]
  },
  {
   "cell_type": "code",
   "execution_count": 3,
   "id": "9608ffdc",
   "metadata": {},
   "outputs": [],
   "source": [
    "%autoreload 2\n",
    "from onsstove.onsstove import OnSSTOVE\n",
    "from onsstove.layer import RasterLayer, VectorLayer\n",
    "from onsstove.raster import interpolate\n",
    "import time\n",
    "\n",
    "start = time.time()"
   ]
  },
  {
   "cell_type": "markdown",
   "id": "70745b24",
   "metadata": {},
   "source": [
    "## 1. Create an OnSSTOVE model"
   ]
  },
  {
   "cell_type": "code",
   "execution_count": 4,
   "id": "f5418877",
   "metadata": {},
   "outputs": [],
   "source": [
    "nepal = OnSSTOVE(project_crs=3857, cell_size=(1000, 1000))\n",
    "output_directory = 'results'\n",
    "nepal.output_directory = output_directory"
   ]
  },
  {
   "cell_type": "markdown",
   "id": "542a1476",
   "metadata": {},
   "source": [
    "## 2. Read the scenario data"
   ]
  },
  {
   "cell_type": "code",
   "execution_count": 5,
   "id": "8581a55c",
   "metadata": {},
   "outputs": [],
   "source": [
    "path = r\"C:\\Users\\camilorg\\Box Sync\\EGI Energy Systems\\06 Projects\\2021 Nepal Geospatial cooking\\02 - work\\OnSSTOVE cases\\NP_test_file_social_specs.csv\"\n",
    "nepal.read_scenario_data(path, delimiter=',')"
   ]
  },
  {
   "cell_type": "markdown",
   "id": "0ff61389",
   "metadata": {},
   "source": [
    "## 3. Read the cooking technologies data"
   ]
  },
  {
   "cell_type": "code",
   "execution_count": 6,
   "id": "5f4086d2",
   "metadata": {},
   "outputs": [],
   "source": [
    "path = r\"C:\\Users\\camilorg\\Box Sync\\EGI Energy Systems\\06 Projects\\2021 Nepal Geospatial cooking\\02 - work\\OnSSTOVE cases\\NP_test_file_tech_specs.csv\"\n",
    "nepal.read_tech_data(path, delimiter=',')"
   ]
  },
  {
   "cell_type": "markdown",
   "id": "f3ee4d1e",
   "metadata": {},
   "source": [
    "## 4. Add a country mask layer"
   ]
  },
  {
   "cell_type": "code",
   "execution_count": 7,
   "id": "59911b04",
   "metadata": {},
   "outputs": [],
   "source": [
    "path = r\"C:\\Users\\camilorg\\Box Sync\\Clean Cooking Energy\\QGIS\\Administrative\\npl_admbnda_nd_20201117_shp\\npl_admbnda_adm0_nd_20201117.shp\"\n",
    "mask_layer = VectorLayer('admin', 'adm_0', layer_path=path)\n",
    "os.makedirs(f'{output_directory}/admin/adm_0', exist_ok=True)\n",
    "mask_layer.reproject(3857, f'{output_directory}/admin/adm_0')\n",
    "nepal.mask_layer = mask_layer\n",
    "# add admin_1 or 2 or 3 layer to gdf here"
   ]
  },
  {
   "cell_type": "markdown",
   "id": "1a632680",
   "metadata": {},
   "source": [
    "## 5. Add a population base layer"
   ]
  },
  {
   "cell_type": "code",
   "execution_count": 8,
   "id": "c0bda4d0",
   "metadata": {},
   "outputs": [],
   "source": [
    "path = r\"data\\population_npl_2018-10-01.tif\"\n",
    "os.makedirs(f'{output_directory}/demographics/population', exist_ok=True)\n",
    "population = RasterLayer('demographics', 'population', layer_path=path, resample='sum')\n",
    "population.reproject(3857, f'{output_directory}/demographics/population', 1000, 1000)\n",
    "population.mask(nepal.mask_layer.layer, f'{output_directory}/demographics/population')\n",
    "nepal.base_layer = population\n",
    "nepal.population_to_dataframe(population)"
   ]
  },
  {
   "cell_type": "markdown",
   "id": "58fa105a",
   "metadata": {},
   "source": [
    "## 6. Calibrate population and urba/rural split"
   ]
  },
  {
   "cell_type": "code",
   "execution_count": 9,
   "id": "3be6fac0",
   "metadata": {},
   "outputs": [],
   "source": [
    "nepal.calibrate_pop()\n",
    "nepal.calibrate_urban()"
   ]
  },
  {
   "cell_type": "markdown",
   "id": "2fc7401d",
   "metadata": {},
   "source": [
    "## 7. Calculate parameters of base fuel (Biomass)"
   ]
  },
  {
   "cell_type": "markdown",
   "id": "3ffabb46",
   "metadata": {},
   "source": [
    "### 7.1. Health costs"
   ]
  },
  {
   "cell_type": "code",
   "execution_count": 10,
   "id": "f9a5126e",
   "metadata": {},
   "outputs": [],
   "source": [
    "# Calculate relative risk for each disease for the base fuel\n",
    "rr_0_alri, rr_0_copd, rr_0_ihd, rr_0_lc = nepal.base_fuel.relative_risk()\n",
    "\n",
    "# Calculate the Population Atributable Factor (PAF) for each disease for the base fuel\n",
    "paf_0_alri = nepal.base_fuel.paf(rr_0_alri, 1 - nepal.specs['clean_cooking_access'])\n",
    "paf_0_copd = nepal.base_fuel.paf(rr_0_copd, 1 - nepal.specs['clean_cooking_access'])\n",
    "paf_0_ihd  = nepal.base_fuel.paf(rr_0_ihd, 1 - nepal.specs['clean_cooking_access'])\n",
    "paf_0_lc = nepal.base_fuel.paf(rr_0_lc, 1 - nepal.specs['clean_cooking_access'])"
   ]
  },
  {
   "cell_type": "markdown",
   "id": "d449fa2c",
   "metadata": {},
   "source": [
    "### 7.2. Carbon emissions and related costs"
   ]
  },
  {
   "cell_type": "code",
   "execution_count": 12,
   "id": "0f76a8fa",
   "metadata": {},
   "outputs": [],
   "source": [
    "nepal.base_fuel.carb(nepal.specs, nepal.gdf)"
   ]
  },
  {
   "cell_type": "markdown",
   "id": "c2765c9b",
   "metadata": {},
   "source": [
    "### 7.3. Time for travelling and collecting fuel, and cooking"
   ]
  },
  {
   "cell_type": "code",
   "execution_count": 13,
   "id": "1cfe7e84",
   "metadata": {},
   "outputs": [],
   "source": [
    "# paths to GIS layers\n",
    "nepal.base_fuel.friction_path = r\"C:\\Users\\camilorg\\Box Sync\\Clean Cooking Energy\\OnSSTOVE\\data\\2020_walking_only_friction_surface\\2020_walking_only_friction_surface.geotiff\"\n",
    "nepal.base_fuel.forest_path = r\"C:\\Users\\camilorg\\Box Sync\\Clean Cooking Energy\\OnSSTOVE\\data\\Forest cover\\Global Forest Cover Change (GFCC).tif\"\n",
    "\n",
    "# Calculate total time\n",
    "nepal.base_fuel.total_time(nepal.specs, population, output_directory)\n",
    "\n",
    "# Add results to the model\n",
    "nepal.raster_to_dataframe(nepal.base_fuel.total_time_yr, name='base_fuel_time', method='read')\n",
    "\n",
    "# nepal.raster_to_dataframe(nepal.base_fuel.travel_time, name='base_fuel_travel_time', method='read')"
   ]
  },
  {
   "cell_type": "markdown",
   "id": "67dff904",
   "metadata": {},
   "source": [
    "## 8. Add wealth index GIS data"
   ]
  },
  {
   "cell_type": "code",
   "execution_count": 14,
   "id": "49003988",
   "metadata": {},
   "outputs": [],
   "source": [
    "path = r\"C:\\Users\\camilorg\\Box Sync\\EGI Energy Systems\\06 Projects\\2021 Nepal Geospatial cooking\\02 - work\\GIS-data\\Demand\\Wealth Index\\Wealth index 2011.tif\"\n",
    "wealth_index = RasterLayer('demographics', 'Wealth_index', layer_path=path,  resample='average')\n",
    "os.makedirs(f'{output_directory}/demographics/Wealth_index', exist_ok=True)\n",
    "interpolate(wealth_index.path)\n",
    "wealth_index.align(population.path, f'{output_directory}/demographics/Wealth_index')"
   ]
  },
  {
   "cell_type": "markdown",
   "id": "9de6cbb2",
   "metadata": {},
   "source": [
    "### 8.1. Calculate value of time"
   ]
  },
  {
   "cell_type": "code",
   "execution_count": 15,
   "id": "7e31ec51",
   "metadata": {},
   "outputs": [],
   "source": [
    "# Based on wealth index, minimum wage and a lower an upper range for cost of oportunity\n",
    "nepal.get_value_of_time(wealth_index)"
   ]
  },
  {
   "cell_type": "markdown",
   "id": "b39f7a7a",
   "metadata": {},
   "source": [
    "## 9. Read electricity network GIS layers"
   ]
  },
  {
   "cell_type": "code",
   "execution_count": 16,
   "id": "ae83f221",
   "metadata": {},
   "outputs": [],
   "source": [
    "# Read MV lines\n",
    "path = r\"C:\\Users\\camilorg\\Box Sync\\Clean Cooking Energy\\QGIS\\Power network\\Nepal_DL0\\Nepal_DL0.shp\"\n",
    "mv_lines = VectorLayer('electricity', 'MV_line', layer_path=path)\n",
    "os.makedirs(f'{output_directory}/electricity/MV_line', exist_ok=True)\n",
    "mv_lines.reproject(3857, f'{output_directory}/electricity/MV_line')\n",
    "\n",
    "# Read HV lines\n",
    "path = r\"C:\\Users\\camilorg\\Box Sync\\Clean Cooking Energy\\QGIS\\Power network\\HV-network\\HV_lines_georeferenced.shp\"\n",
    "hv_lines = VectorLayer('electricity', 'HV_line', layer_path=path)\n",
    "os.makedirs(f'{output_directory}/electricity/HV_line', exist_ok=True)\n",
    "hv_lines.reproject(3857, f'{output_directory}/electricity/HV_line')"
   ]
  },
  {
   "cell_type": "markdown",
   "id": "524b2759",
   "metadata": {},
   "source": [
    "### 9.1. Calculate distance to electricity infrastructure "
   ]
  },
  {
   "cell_type": "code",
   "execution_count": 17,
   "id": "f0aa5eb1",
   "metadata": {},
   "outputs": [],
   "source": [
    "nepal.distance_to_electricity(hv_lines=hv_lines, mv_lines=mv_lines)"
   ]
  },
  {
   "cell_type": "markdown",
   "id": "7b2c7dfe",
   "metadata": {},
   "source": [
    "## 10. Add night time lights data"
   ]
  },
  {
   "cell_type": "code",
   "execution_count": 18,
   "id": "8adf035b",
   "metadata": {},
   "outputs": [],
   "source": [
    "path = r\"data\\nighttime_lights.tif\"\n",
    "os.makedirs(f'{output_directory}/electricity/Night_lights', exist_ok=True)\n",
    "ntl = RasterLayer('electricity', 'Night_lights', layer_path=path, resample='average')\n",
    "ntl.align(population.path, f'{output_directory}/electricity/Night_lights')\n",
    "ntl.layer[np.isnan(ntl.layer)] = 0 # hey lets make sure that we interpolate NaNs\n",
    "\n",
    "nepal.raster_to_dataframe(ntl.layer, name='Night_lights', method='read')"
   ]
  },
  {
   "cell_type": "markdown",
   "id": "07d176a1",
   "metadata": {},
   "source": [
    "## 11. Calibrate current electrified population"
   ]
  },
  {
   "cell_type": "code",
   "execution_count": 19,
   "id": "ae66bed8",
   "metadata": {},
   "outputs": [
    {
     "name": "stdout",
     "output_type": "stream",
     "text": [
      "We have identified the existence of transformers or MV lines as input data; therefore we proceed using those for the calibration\n",
      "Calibrated electrified population fraction: 0.5201280449140765\n"
     ]
    }
   ],
   "source": [
    "nepal.elec_current()\n",
    "\n",
    "print('Calibrated electrified population fraction:', nepal.gdf['Elec_pop_calib'].sum() / nepal.gdf['Calibrated_pop'].sum())"
   ]
  },
  {
   "cell_type": "markdown",
   "id": "5ad7c50b",
   "metadata": {},
   "source": [
    "## 12. Adding GIS data for LPG supply"
   ]
  },
  {
   "cell_type": "code",
   "execution_count": 20,
   "id": "de8904da",
   "metadata": {},
   "outputs": [],
   "source": [
    "nepal.techs['LPG'].lpg_path = r\"C:\\Users\\camilorg\\Box Sync\\EGI Energy Systems\\06 Projects\\2021 Nepal Geospatial cooking\\02 - work\\GIS-data\\Supply\\LPG\\Nepal_Gas_12Jun2021_Final4.shp\"\n",
    "nepal.techs['LPG'].friction_path = r\"C:\\Users\\camilorg\\Box Sync\\Clean Cooking Energy\\OnSSTOVE\\data\\2020_motorized_friction_surface\\2020_motorized_friction_surface.geotiff\"\n",
    "\n",
    "nepal.techs['LPG'].add_travel_time(population, output_directory)"
   ]
  },
  {
   "cell_type": "markdown",
   "id": "c50fed31",
   "metadata": {},
   "source": [
    "## 13. Calculate benefits and costs of each technology"
   ]
  },
  {
   "cell_type": "code",
   "execution_count": 21,
   "id": "8ab17f19",
   "metadata": {},
   "outputs": [
    {
     "name": "stdout",
     "output_type": "stream",
     "text": [
      "Calculating health benefits for electricity...\n",
      "Calculating carbon emissions benefits for electricity...\n",
      "Calculating time saved benefits for electricity...\n",
      "Calculating costs for electricity...\n",
      "Calculating net benefit for electricity...\n",
      "\n",
      "Calculating health benefits for traditional_biomass_collected...\n",
      "Calculating carbon emissions benefits for traditional_biomass_collected...\n",
      "Calculating time saved benefits for traditional_biomass_collected...\n",
      "Calculating costs for traditional_biomass_collected...\n",
      "Calculating net benefit for traditional_biomass_collected...\n",
      "\n",
      "Calculating health benefits for lpg...\n",
      "Calculating carbon emissions benefits for lpg...\n",
      "Calculating time saved benefits for lpg...\n",
      "Calculating costs for lpg...\n",
      "Calculating net benefit for lpg...\n",
      "\n"
     ]
    }
   ],
   "source": [
    "names = ['Electricity', 'Collected_Traditional_Biomass', 'LPG']\n",
    "techs = [nepal.techs[name] for name in names]\n",
    "\n",
    "# Loop through each technology and calculate all benefits and costs\n",
    "for tech in techs:\n",
    "    print(f'Calculating health benefits for {tech.name}...')\n",
    "    tech.morbidity(nepal.specs, nepal.gdf, paf_0_alri, paf_0_copd, paf_0_lc, paf_0_ihd)\n",
    "    tech.mortality(nepal.specs, nepal.gdf, paf_0_alri, paf_0_copd, paf_0_lc, paf_0_ihd)\n",
    "    print(f'Calculating carbon emissions benefits for {tech.name}...')\n",
    "    tech.carbon_emissions(nepal.specs, nepal.gdf, nepal.base_fuel.carbon)\n",
    "    print(f'Calculating time saved benefits for {tech.name}...')\n",
    "    tech.time_saved(nepal.gdf, nepal.specs, population, output_directory)\n",
    "    print(f'Calculating costs for {tech.name}...')\n",
    "    tech.discounted_om(nepal.gdf, nepal.specs)\n",
    "    tech.discounted_inv(nepal.gdf, nepal.specs)\n",
    "    tech.discounted_meals(nepal.gdf, nepal.specs)\n",
    "    tech.discount_fuel_cost(nepal.gdf, nepal.specs, nepal.rows, nepal.cols)\n",
    "    tech.salvage(nepal.gdf, nepal.specs)\n",
    "    print(f'Calculating net benefit for {tech.name}...\\n')\n",
    "    tech.net_benefit(nepal.gdf)"
   ]
  },
  {
   "cell_type": "markdown",
   "id": "25f5f3f4",
   "metadata": {},
   "source": [
    "## 14. Getting the max benefit technology for each cell"
   ]
  },
  {
   "cell_type": "code",
   "execution_count": 22,
   "id": "9a7eb45b",
   "metadata": {},
   "outputs": [],
   "source": [
    "nepal.maximum_net_benefit()"
   ]
  },
  {
   "cell_type": "markdown",
   "id": "5fd7bcc1",
   "metadata": {},
   "source": [
    "## 15. Printing the results"
   ]
  },
  {
   "cell_type": "code",
   "execution_count": 23,
   "id": "15d35910",
   "metadata": {},
   "outputs": [
    {
     "data": {
      "text/html": [
       "<div>\n",
       "<style scoped>\n",
       "    .dataframe tbody tr th:only-of-type {\n",
       "        vertical-align: middle;\n",
       "    }\n",
       "\n",
       "    .dataframe tbody tr th {\n",
       "        vertical-align: top;\n",
       "    }\n",
       "\n",
       "    .dataframe thead th {\n",
       "        text-align: right;\n",
       "    }\n",
       "</style>\n",
       "<table border=\"1\" class=\"dataframe\">\n",
       "  <thead>\n",
       "    <tr style=\"text-align: right;\">\n",
       "      <th></th>\n",
       "      <th>geometry</th>\n",
       "      <th>Pop</th>\n",
       "      <th>Calibrated_pop</th>\n",
       "      <th>IsUrban</th>\n",
       "      <th>Households</th>\n",
       "      <th>base_fuel_time</th>\n",
       "      <th>value_of_time</th>\n",
       "      <th>HV_line_dist</th>\n",
       "      <th>MV_line_dist</th>\n",
       "      <th>Night_lights</th>\n",
       "      <th>...</th>\n",
       "      <th>benefits_electricity</th>\n",
       "      <th>net_benefit_electricity</th>\n",
       "      <th>costs_traditional_biomass_collected</th>\n",
       "      <th>benefits_traditional_biomass_collected</th>\n",
       "      <th>net_benefit_traditional_biomass_collected</th>\n",
       "      <th>costs_lpg</th>\n",
       "      <th>benefits_lpg</th>\n",
       "      <th>net_benefit_lpg</th>\n",
       "      <th>final_tech</th>\n",
       "      <th>maximum_net_benefit</th>\n",
       "    </tr>\n",
       "  </thead>\n",
       "  <tbody>\n",
       "    <tr>\n",
       "      <th>0</th>\n",
       "      <td>POINT (9090104.530 3543192.836)</td>\n",
       "      <td>31.171455</td>\n",
       "      <td>31.344224</td>\n",
       "      <td>0</td>\n",
       "      <td>5.498987</td>\n",
       "      <td>2993.471554</td>\n",
       "      <td>0.058780</td>\n",
       "      <td>58.872746</td>\n",
       "      <td>40.521599</td>\n",
       "      <td>0.000000</td>\n",
       "      <td>...</td>\n",
       "      <td>1519.404160</td>\n",
       "      <td>-99999.000000</td>\n",
       "      <td>0.916498</td>\n",
       "      <td>0.0</td>\n",
       "      <td>-0.916498</td>\n",
       "      <td>1471.833688</td>\n",
       "      <td>1454.987800</td>\n",
       "      <td>-16.845888</td>\n",
       "      <td>traditional_biomass_collected</td>\n",
       "      <td>-0.916498</td>\n",
       "    </tr>\n",
       "    <tr>\n",
       "      <th>1</th>\n",
       "      <td>POINT (9090104.530 3536192.836)</td>\n",
       "      <td>46.757183</td>\n",
       "      <td>47.016337</td>\n",
       "      <td>0</td>\n",
       "      <td>8.248480</td>\n",
       "      <td>3442.932033</td>\n",
       "      <td>0.059025</td>\n",
       "      <td>52.392746</td>\n",
       "      <td>33.837849</td>\n",
       "      <td>0.000000</td>\n",
       "      <td>...</td>\n",
       "      <td>2503.428293</td>\n",
       "      <td>-99999.000000</td>\n",
       "      <td>1.374747</td>\n",
       "      <td>0.0</td>\n",
       "      <td>-1.374747</td>\n",
       "      <td>2190.039537</td>\n",
       "      <td>2406.803753</td>\n",
       "      <td>216.764215</td>\n",
       "      <td>lpg</td>\n",
       "      <td>216.764215</td>\n",
       "    </tr>\n",
       "    <tr>\n",
       "      <th>2</th>\n",
       "      <td>POINT (9083104.530 3535192.836)</td>\n",
       "      <td>5.517799</td>\n",
       "      <td>5.548382</td>\n",
       "      <td>0</td>\n",
       "      <td>0.973400</td>\n",
       "      <td>2239.061114</td>\n",
       "      <td>0.059683</td>\n",
       "      <td>54.708317</td>\n",
       "      <td>35.846897</td>\n",
       "      <td>0.000000</td>\n",
       "      <td>...</td>\n",
       "      <td>227.520361</td>\n",
       "      <td>-99999.000000</td>\n",
       "      <td>0.162233</td>\n",
       "      <td>0.0</td>\n",
       "      <td>-0.162233</td>\n",
       "      <td>258.487731</td>\n",
       "      <td>216.117731</td>\n",
       "      <td>-42.369999</td>\n",
       "      <td>traditional_biomass_collected</td>\n",
       "      <td>-0.162233</td>\n",
       "    </tr>\n",
       "    <tr>\n",
       "      <th>3</th>\n",
       "      <td>POINT (9084104.530 3535192.836)</td>\n",
       "      <td>15.585728</td>\n",
       "      <td>15.672112</td>\n",
       "      <td>0</td>\n",
       "      <td>2.749493</td>\n",
       "      <td>2280.672201</td>\n",
       "      <td>0.059637</td>\n",
       "      <td>54.203320</td>\n",
       "      <td>35.355339</td>\n",
       "      <td>0.000000</td>\n",
       "      <td>...</td>\n",
       "      <td>649.233158</td>\n",
       "      <td>-99999.000000</td>\n",
       "      <td>0.458249</td>\n",
       "      <td>0.0</td>\n",
       "      <td>-0.458249</td>\n",
       "      <td>729.396677</td>\n",
       "      <td>617.024977</td>\n",
       "      <td>-112.371700</td>\n",
       "      <td>traditional_biomass_collected</td>\n",
       "      <td>-0.458249</td>\n",
       "    </tr>\n",
       "    <tr>\n",
       "      <th>4</th>\n",
       "      <td>POINT (9064104.530 3534192.836)</td>\n",
       "      <td>15.585728</td>\n",
       "      <td>15.672112</td>\n",
       "      <td>0</td>\n",
       "      <td>2.749493</td>\n",
       "      <td>2972.034660</td>\n",
       "      <td>0.064742</td>\n",
       "      <td>64.536812</td>\n",
       "      <td>47.634022</td>\n",
       "      <td>0.000000</td>\n",
       "      <td>...</td>\n",
       "      <td>800.473041</td>\n",
       "      <td>-99999.000000</td>\n",
       "      <td>0.458249</td>\n",
       "      <td>0.0</td>\n",
       "      <td>-0.458249</td>\n",
       "      <td>748.961096</td>\n",
       "      <td>768.264861</td>\n",
       "      <td>19.303765</td>\n",
       "      <td>lpg</td>\n",
       "      <td>19.303765</td>\n",
       "    </tr>\n",
       "    <tr>\n",
       "      <th>...</th>\n",
       "      <td>...</td>\n",
       "      <td>...</td>\n",
       "      <td>...</td>\n",
       "      <td>...</td>\n",
       "      <td>...</td>\n",
       "      <td>...</td>\n",
       "      <td>...</td>\n",
       "      <td>...</td>\n",
       "      <td>...</td>\n",
       "      <td>...</td>\n",
       "      <td>...</td>\n",
       "      <td>...</td>\n",
       "      <td>...</td>\n",
       "      <td>...</td>\n",
       "      <td>...</td>\n",
       "      <td>...</td>\n",
       "      <td>...</td>\n",
       "      <td>...</td>\n",
       "      <td>...</td>\n",
       "      <td>...</td>\n",
       "      <td>...</td>\n",
       "    </tr>\n",
       "    <tr>\n",
       "      <th>96717</th>\n",
       "      <td>POINT (9724104.530 3044192.836)</td>\n",
       "      <td>98.039602</td>\n",
       "      <td>98.582991</td>\n",
       "      <td>0</td>\n",
       "      <td>17.295262</td>\n",
       "      <td>7652.475230</td>\n",
       "      <td>0.099102</td>\n",
       "      <td>13.038404</td>\n",
       "      <td>1.414214</td>\n",
       "      <td>0.000000</td>\n",
       "      <td>...</td>\n",
       "      <td>14661.035261</td>\n",
       "      <td>13007.293189</td>\n",
       "      <td>2.882544</td>\n",
       "      <td>0.0</td>\n",
       "      <td>-2.882544</td>\n",
       "      <td>NaN</td>\n",
       "      <td>14458.434699</td>\n",
       "      <td>NaN</td>\n",
       "      <td>electricity</td>\n",
       "      <td>13007.293189</td>\n",
       "    </tr>\n",
       "    <tr>\n",
       "      <th>96718</th>\n",
       "      <td>POINT (9797104.530 3044192.836)</td>\n",
       "      <td>536.486856</td>\n",
       "      <td>539.460361</td>\n",
       "      <td>1</td>\n",
       "      <td>94.642169</td>\n",
       "      <td>3599.900735</td>\n",
       "      <td>0.101375</td>\n",
       "      <td>17.029387</td>\n",
       "      <td>0.000000</td>\n",
       "      <td>0.000000</td>\n",
       "      <td>...</td>\n",
       "      <td>42932.512093</td>\n",
       "      <td>33882.996678</td>\n",
       "      <td>15.773695</td>\n",
       "      <td>0.0</td>\n",
       "      <td>-15.773695</td>\n",
       "      <td>NaN</td>\n",
       "      <td>41823.852564</td>\n",
       "      <td>NaN</td>\n",
       "      <td>electricity</td>\n",
       "      <td>33882.996678</td>\n",
       "    </tr>\n",
       "    <tr>\n",
       "      <th>96719</th>\n",
       "      <td>POINT (9798104.530 3044192.836)</td>\n",
       "      <td>315.580504</td>\n",
       "      <td>317.329624</td>\n",
       "      <td>0</td>\n",
       "      <td>55.671864</td>\n",
       "      <td>3660.375916</td>\n",
       "      <td>0.100924</td>\n",
       "      <td>17.117243</td>\n",
       "      <td>1.000000</td>\n",
       "      <td>0.000000</td>\n",
       "      <td>...</td>\n",
       "      <td>25510.636615</td>\n",
       "      <td>20187.392252</td>\n",
       "      <td>9.278644</td>\n",
       "      <td>0.0</td>\n",
       "      <td>-9.278644</td>\n",
       "      <td>NaN</td>\n",
       "      <td>24858.483951</td>\n",
       "      <td>NaN</td>\n",
       "      <td>electricity</td>\n",
       "      <td>20187.392252</td>\n",
       "    </tr>\n",
       "    <tr>\n",
       "      <th>96720</th>\n",
       "      <td>POINT (9722104.530 3043192.836)</td>\n",
       "      <td>642.881959</td>\n",
       "      <td>646.445163</td>\n",
       "      <td>1</td>\n",
       "      <td>113.411432</td>\n",
       "      <td>7919.425593</td>\n",
       "      <td>0.104294</td>\n",
       "      <td>11.000000</td>\n",
       "      <td>0.000000</td>\n",
       "      <td>0.891932</td>\n",
       "      <td>...</td>\n",
       "      <td>103639.585887</td>\n",
       "      <td>92795.386950</td>\n",
       "      <td>18.901905</td>\n",
       "      <td>0.0</td>\n",
       "      <td>-18.901905</td>\n",
       "      <td>NaN</td>\n",
       "      <td>102311.059007</td>\n",
       "      <td>NaN</td>\n",
       "      <td>electricity</td>\n",
       "      <td>92795.386950</td>\n",
       "    </tr>\n",
       "    <tr>\n",
       "      <th>96721</th>\n",
       "      <td>POINT (9723104.530 3043192.836)</td>\n",
       "      <td>134.605801</td>\n",
       "      <td>135.351860</td>\n",
       "      <td>0</td>\n",
       "      <td>23.745940</td>\n",
       "      <td>7858.950412</td>\n",
       "      <td>0.102252</td>\n",
       "      <td>12.000000</td>\n",
       "      <td>1.000000</td>\n",
       "      <td>0.806685</td>\n",
       "      <td>...</td>\n",
       "      <td>21182.453549</td>\n",
       "      <td>18911.909074</td>\n",
       "      <td>3.957657</td>\n",
       "      <td>0.0</td>\n",
       "      <td>-3.957657</td>\n",
       "      <td>5045.383472</td>\n",
       "      <td>20904.288293</td>\n",
       "      <td>15858.904821</td>\n",
       "      <td>electricity</td>\n",
       "      <td>18911.909074</td>\n",
       "    </tr>\n",
       "  </tbody>\n",
       "</table>\n",
       "<p>96722 rows × 25 columns</p>\n",
       "</div>"
      ],
      "text/plain": [
       "                              geometry         Pop  Calibrated_pop  IsUrban  \\\n",
       "0      POINT (9090104.530 3543192.836)   31.171455       31.344224        0   \n",
       "1      POINT (9090104.530 3536192.836)   46.757183       47.016337        0   \n",
       "2      POINT (9083104.530 3535192.836)    5.517799        5.548382        0   \n",
       "3      POINT (9084104.530 3535192.836)   15.585728       15.672112        0   \n",
       "4      POINT (9064104.530 3534192.836)   15.585728       15.672112        0   \n",
       "...                                ...         ...             ...      ...   \n",
       "96717  POINT (9724104.530 3044192.836)   98.039602       98.582991        0   \n",
       "96718  POINT (9797104.530 3044192.836)  536.486856      539.460361        1   \n",
       "96719  POINT (9798104.530 3044192.836)  315.580504      317.329624        0   \n",
       "96720  POINT (9722104.530 3043192.836)  642.881959      646.445163        1   \n",
       "96721  POINT (9723104.530 3043192.836)  134.605801      135.351860        0   \n",
       "\n",
       "       Households  base_fuel_time  value_of_time  HV_line_dist  MV_line_dist  \\\n",
       "0        5.498987     2993.471554       0.058780     58.872746     40.521599   \n",
       "1        8.248480     3442.932033       0.059025     52.392746     33.837849   \n",
       "2        0.973400     2239.061114       0.059683     54.708317     35.846897   \n",
       "3        2.749493     2280.672201       0.059637     54.203320     35.355339   \n",
       "4        2.749493     2972.034660       0.064742     64.536812     47.634022   \n",
       "...           ...             ...            ...           ...           ...   \n",
       "96717   17.295262     7652.475230       0.099102     13.038404      1.414214   \n",
       "96718   94.642169     3599.900735       0.101375     17.029387      0.000000   \n",
       "96719   55.671864     3660.375916       0.100924     17.117243      1.000000   \n",
       "96720  113.411432     7919.425593       0.104294     11.000000      0.000000   \n",
       "96721   23.745940     7858.950412       0.102252     12.000000      1.000000   \n",
       "\n",
       "       Night_lights  ...  benefits_electricity  net_benefit_electricity  \\\n",
       "0          0.000000  ...           1519.404160            -99999.000000   \n",
       "1          0.000000  ...           2503.428293            -99999.000000   \n",
       "2          0.000000  ...            227.520361            -99999.000000   \n",
       "3          0.000000  ...            649.233158            -99999.000000   \n",
       "4          0.000000  ...            800.473041            -99999.000000   \n",
       "...             ...  ...                   ...                      ...   \n",
       "96717      0.000000  ...          14661.035261             13007.293189   \n",
       "96718      0.000000  ...          42932.512093             33882.996678   \n",
       "96719      0.000000  ...          25510.636615             20187.392252   \n",
       "96720      0.891932  ...         103639.585887             92795.386950   \n",
       "96721      0.806685  ...          21182.453549             18911.909074   \n",
       "\n",
       "       costs_traditional_biomass_collected  \\\n",
       "0                                 0.916498   \n",
       "1                                 1.374747   \n",
       "2                                 0.162233   \n",
       "3                                 0.458249   \n",
       "4                                 0.458249   \n",
       "...                                    ...   \n",
       "96717                             2.882544   \n",
       "96718                            15.773695   \n",
       "96719                             9.278644   \n",
       "96720                            18.901905   \n",
       "96721                             3.957657   \n",
       "\n",
       "       benefits_traditional_biomass_collected  \\\n",
       "0                                         0.0   \n",
       "1                                         0.0   \n",
       "2                                         0.0   \n",
       "3                                         0.0   \n",
       "4                                         0.0   \n",
       "...                                       ...   \n",
       "96717                                     0.0   \n",
       "96718                                     0.0   \n",
       "96719                                     0.0   \n",
       "96720                                     0.0   \n",
       "96721                                     0.0   \n",
       "\n",
       "       net_benefit_traditional_biomass_collected    costs_lpg   benefits_lpg  \\\n",
       "0                                      -0.916498  1471.833688    1454.987800   \n",
       "1                                      -1.374747  2190.039537    2406.803753   \n",
       "2                                      -0.162233   258.487731     216.117731   \n",
       "3                                      -0.458249   729.396677     617.024977   \n",
       "4                                      -0.458249   748.961096     768.264861   \n",
       "...                                          ...          ...            ...   \n",
       "96717                                  -2.882544          NaN   14458.434699   \n",
       "96718                                 -15.773695          NaN   41823.852564   \n",
       "96719                                  -9.278644          NaN   24858.483951   \n",
       "96720                                 -18.901905          NaN  102311.059007   \n",
       "96721                                  -3.957657  5045.383472   20904.288293   \n",
       "\n",
       "       net_benefit_lpg                     final_tech  maximum_net_benefit  \n",
       "0           -16.845888  traditional_biomass_collected            -0.916498  \n",
       "1           216.764215                            lpg           216.764215  \n",
       "2           -42.369999  traditional_biomass_collected            -0.162233  \n",
       "3          -112.371700  traditional_biomass_collected            -0.458249  \n",
       "4            19.303765                            lpg            19.303765  \n",
       "...                ...                            ...                  ...  \n",
       "96717              NaN                    electricity         13007.293189  \n",
       "96718              NaN                    electricity         33882.996678  \n",
       "96719              NaN                    electricity         20187.392252  \n",
       "96720              NaN                    electricity         92795.386950  \n",
       "96721     15858.904821                    electricity         18911.909074  \n",
       "\n",
       "[96722 rows x 25 columns]"
      ]
     },
     "execution_count": 23,
     "metadata": {},
     "output_type": "execute_result"
    }
   ],
   "source": [
    "nepal.gdf"
   ]
  },
  {
   "cell_type": "code",
   "execution_count": 24,
   "id": "55f7a1e3",
   "metadata": {},
   "outputs": [
    {
     "data": {
      "text/html": [
       "<div>\n",
       "<style scoped>\n",
       "    .dataframe tbody tr th:only-of-type {\n",
       "        vertical-align: middle;\n",
       "    }\n",
       "\n",
       "    .dataframe tbody tr th {\n",
       "        vertical-align: top;\n",
       "    }\n",
       "\n",
       "    .dataframe thead th {\n",
       "        text-align: right;\n",
       "    }\n",
       "</style>\n",
       "<table border=\"1\" class=\"dataframe\">\n",
       "  <thead>\n",
       "    <tr style=\"text-align: right;\">\n",
       "      <th></th>\n",
       "      <th></th>\n",
       "      <th>Calibrated_pop</th>\n",
       "      <th>maximum_net_benefit</th>\n",
       "      <th>Pop</th>\n",
       "    </tr>\n",
       "    <tr>\n",
       "      <th>Current_elec</th>\n",
       "      <th>final_tech</th>\n",
       "      <th></th>\n",
       "      <th></th>\n",
       "      <th></th>\n",
       "    </tr>\n",
       "  </thead>\n",
       "  <tbody>\n",
       "    <tr>\n",
       "      <th rowspan=\"2\" valign=\"top\">0</th>\n",
       "      <th>lpg</th>\n",
       "      <td>1.967741</td>\n",
       "      <td>17.043678</td>\n",
       "      <td>34305</td>\n",
       "    </tr>\n",
       "    <tr>\n",
       "      <th>traditional_biomass_collected</th>\n",
       "      <td>0.278837</td>\n",
       "      <td>-0.008181</td>\n",
       "      <td>3810</td>\n",
       "    </tr>\n",
       "    <tr>\n",
       "      <th>1</th>\n",
       "      <th>electricity</th>\n",
       "      <td>26.363422</td>\n",
       "      <td>1399.062391</td>\n",
       "      <td>58607</td>\n",
       "    </tr>\n",
       "  </tbody>\n",
       "</table>\n",
       "</div>"
      ],
      "text/plain": [
       "                                            Calibrated_pop  \\\n",
       "Current_elec final_tech                                      \n",
       "0            lpg                                  1.967741   \n",
       "             traditional_biomass_collected        0.278837   \n",
       "1            electricity                         26.363422   \n",
       "\n",
       "                                            maximum_net_benefit    Pop  \n",
       "Current_elec final_tech                                                 \n",
       "0            lpg                                      17.043678  34305  \n",
       "             traditional_biomass_collected            -0.008181   3810  \n",
       "1            electricity                            1399.062391  58607  "
      ]
     },
     "execution_count": 24,
     "metadata": {},
     "output_type": "execute_result"
    }
   ],
   "source": [
    "nepal.gdf.groupby(['Current_elec', 'final_tech']).agg({'Calibrated_pop': lambda row: sum(row) / 1000000,\n",
    "                                       'maximum_net_benefit': lambda row: sum(row) / 1000000,\n",
    "                                       'Pop': 'count'})"
   ]
  },
  {
   "cell_type": "code",
   "execution_count": 26,
   "id": "1c63407d",
   "metadata": {},
   "outputs": [
    {
     "data": {
      "text/html": [
       "<div>\n",
       "<style scoped>\n",
       "    .dataframe tbody tr th:only-of-type {\n",
       "        vertical-align: middle;\n",
       "    }\n",
       "\n",
       "    .dataframe tbody tr th {\n",
       "        vertical-align: top;\n",
       "    }\n",
       "\n",
       "    .dataframe thead th {\n",
       "        text-align: right;\n",
       "    }\n",
       "</style>\n",
       "<table border=\"1\" class=\"dataframe\">\n",
       "  <thead>\n",
       "    <tr style=\"text-align: right;\">\n",
       "      <th></th>\n",
       "      <th>Calibrated_pop</th>\n",
       "      <th>Elec_pop_calib</th>\n",
       "    </tr>\n",
       "    <tr>\n",
       "      <th>Current_elec</th>\n",
       "      <th></th>\n",
       "      <th></th>\n",
       "    </tr>\n",
       "  </thead>\n",
       "  <tbody>\n",
       "    <tr>\n",
       "      <th>0</th>\n",
       "      <td>2.246578</td>\n",
       "      <td>0.000000</td>\n",
       "    </tr>\n",
       "    <tr>\n",
       "      <th>1</th>\n",
       "      <td>26.363422</td>\n",
       "      <td>14.880863</td>\n",
       "    </tr>\n",
       "  </tbody>\n",
       "</table>\n",
       "</div>"
      ],
      "text/plain": [
       "              Calibrated_pop  Elec_pop_calib\n",
       "Current_elec                                \n",
       "0                   2.246578        0.000000\n",
       "1                  26.363422       14.880863"
      ]
     },
     "execution_count": 26,
     "metadata": {},
     "output_type": "execute_result"
    }
   ],
   "source": [
    "nepal.gdf.groupby(['Current_elec']).agg({'Calibrated_pop': lambda row: sum(row) / 1000000,\n",
    "                                         'Elec_pop_calib': lambda row: np.nansum(row) / 1000000})"
   ]
  },
  {
   "cell_type": "code",
   "execution_count": 63,
   "id": "5da940a5",
   "metadata": {},
   "outputs": [
    {
     "name": "stdout",
     "output_type": "stream",
     "text": [
      "Layer saved in results\\Output\\final_tech.tif\n",
      "\n",
      "Variable codes:\n",
      "    traditional_biomass_purchased: 0\n",
      "    traditional_biomass_collected: 1\n",
      "    improved_biomass_purchased: 2\n",
      "    improved_biomass_collected: 3\n",
      "    lpg: 4\n",
      "    biogas: 5\n",
      "    electricity: 6\n"
     ]
    }
   ],
   "source": [
    "nepal.to_raster('final_tech')"
   ]
  },
  {
   "cell_type": "code",
   "execution_count": 29,
   "id": "59d73054",
   "metadata": {},
   "outputs": [
    {
     "name": "stdout",
     "output_type": "stream",
     "text": [
      "Execution time: 4 min 32 sec\n"
     ]
    }
   ],
   "source": [
    "end = time.time()\n",
    "\n",
    "diff = end - start\n",
    "print('Execution time:', str(str(int(diff//60))) + ' min ' + str(int((diff)%60)) + ' sec')"
   ]
  },
  {
   "cell_type": "code",
   "execution_count": null,
   "id": "144c3e90",
   "metadata": {},
   "outputs": [],
   "source": []
  }
 ],
 "metadata": {
  "kernelspec": {
   "display_name": "Python 3",
   "language": "python",
   "name": "python3"
  },
  "language_info": {
   "codemirror_mode": {
    "name": "ipython",
    "version": 3
   },
   "file_extension": ".py",
   "mimetype": "text/x-python",
   "name": "python",
   "nbconvert_exporter": "python",
   "pygments_lexer": "ipython3",
   "version": "3.9.2"
  }
 },
 "nbformat": 4,
 "nbformat_minor": 5
}

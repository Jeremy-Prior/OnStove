{
 "cells": [
  {
   "cell_type": "code",
   "execution_count": 1,
   "id": "6ebb67f4",
   "metadata": {},
   "outputs": [],
   "source": [
    "import numpy as np\n",
    "import geopandas as gpd\n",
    "\n",
    "from functions import *"
   ]
  },
  {
   "cell_type": "code",
   "execution_count": 189,
   "id": "f113ec53",
   "metadata": {},
   "outputs": [],
   "source": [
    "friction = r\"C:\\Proposals\\CCA\\LPG_CODE_TEST_LAYERS\\Friction layer.tif\"\n",
    "supply_points = r\"C:\\Proposals\\CCA\\LPG_CODE_TEST_LAYERS\\LPG_start.shp\"\n",
    "new_friction = r\"C:\\Proposals\\CCA\\LPG_CODE_TEST_LAYERS\\new_friction.tif\"\n",
    "mask = r\"C:\\Proposals\\CCA\\gadm36_NPL_shp\\gadm36_NPL_0.shp\""
   ]
  },
  {
   "cell_type": "code",
   "execution_count": 107,
   "id": "43707494",
   "metadata": {},
   "outputs": [],
   "source": [
    "#Finding start points\n",
    "row, col = friction_start_points(friction, supply_points, new_friction)"
   ]
  },
  {
   "cell_type": "code",
   "execution_count": 108,
   "id": "5d2f0bf1",
   "metadata": {},
   "outputs": [],
   "source": [
    "#addings start points to array\n",
    "pointlist = []\n",
    "i = 0\n",
    "for test in row:\n",
    "    positiions = (row[i],col[i])\n",
    "    pointlist.append(positiions)\n",
    "    i = i+1"
   ]
  },
  {
   "cell_type": "code",
   "execution_count": 199,
   "id": "688445a2",
   "metadata": {
    "scrolled": false
   },
   "outputs": [
    {
     "name": "stdout",
     "output_type": "stream",
     "text": [
      "| 0.01, 0.00, 80.07|\n",
      "| 0.00,-0.01, 30.44|\n",
      "| 0.00, 0.00, 1.00|\n"
     ]
    }
   ],
   "source": [
    "#Creating array that will be used in dijkstra\n",
    "def mask_raster(raster_path, mask_layer, outpul_file, nodata=0, compression='NONE'):\n",
    "    if isinstance(mask_layer, str):\n",
    "        with fiona.open(mask_layer, \"r\") as shapefile:\n",
    "            shapes = [feature[\"geometry\"] for feature in shapefile]\n",
    "            crs = 'EPSG:4326'\n",
    "    else:\n",
    "        shapes = [mask_layer.dissolve().geom.loc[0]]\n",
    "        crs = mask_layer.crs\n",
    "\n",
    "    with rasterio.open(raster_path) as src:\n",
    "        out_image, out_transform = rasterio.mask.mask(src, shapes, crop=True, nodata=nodata)\n",
    "        out_meta = src.meta\n",
    "\n",
    "    out_meta.update({\"driver\": \"GTiff\",\n",
    "                     \"height\": out_image.shape[2],\n",
    "                     \"width\": out_image.shape[2],\n",
    "                     \"transform\": out_transform,\n",
    "                     'compress': compression,\n",
    "                     'nodata': nodata,\n",
    "                     \"crs\": crs})\n",
    "    \n",
    "    print(out_transform)\n",
    "    \n",
    "    with rasterio.open(outpul_file, \"w\", **out_meta) as dest:\n",
    "        dest.write(out_image)\n",
    "        \n",
    "mask_raster(friction, mask, new_friction)\n",
    "        \n",
    "#arr[tuple(np.array(pointlist).T)] = 0\n",
    "#arr.shape\n",
    "#G.add_nodes_from(img)\n",
    "#pos = nx.spring_layout(G)\n",
    "#nx.draw_networkx_nodes(G, pos)\n",
    "#tst = nx.astar_path(G,0,G)\n",
    "#G = nx.Graph()\n",
    "#for path in arr:\n",
    "#    nx.add_path(G, path)\n",
    "\n"
   ]
  },
  {
   "cell_type": "code",
   "execution_count": 203,
   "id": "ea67f9b3",
   "metadata": {},
   "outputs": [
    {
     "ename": "NameError",
     "evalue": "name 'gt' is not defined",
     "output_type": "error",
     "traceback": [
      "\u001b[1;31m---------------------------------------------------------------------------\u001b[0m",
      "\u001b[1;31mNameError\u001b[0m                                 Traceback (most recent call last)",
      "\u001b[1;32m<ipython-input-203-cc72cbe717cc>\u001b[0m in \u001b[0;36m<module>\u001b[1;34m\u001b[0m\n\u001b[1;32m----> 1\u001b[1;33m \u001b[0mgt\u001b[0m\u001b[1;33m\u001b[0m\u001b[1;33m\u001b[0m\u001b[0m\n\u001b[0m",
      "\u001b[1;31mNameError\u001b[0m: name 'gt' is not defined"
     ]
    }
   ],
   "source": [
    "gt"
   ]
  },
  {
   "cell_type": "code",
   "execution_count": 242,
   "id": "491fd8cd",
   "metadata": {},
   "outputs": [
    {
     "ename": "RuntimeError",
     "evalue": "not a string",
     "output_type": "error",
     "traceback": [
      "\u001b[1;31m---------------------------------------------------------------------------\u001b[0m",
      "\u001b[1;31mRuntimeError\u001b[0m                              Traceback (most recent call last)",
      "\u001b[1;32m<ipython-input-242-d9ba0436e0a6>\u001b[0m in \u001b[0;36m<module>\u001b[1;34m\u001b[0m\n\u001b[0;32m     17\u001b[0m     \u001b[0mgdal\u001b[0m\u001b[1;33m.\u001b[0m\u001b[0mWarp\u001b[0m\u001b[1;33m(\u001b[0m\u001b[0moutput_file\u001b[0m\u001b[1;33m,\u001b[0m \u001b[0minput_file\u001b[0m\u001b[1;33m,\u001b[0m \u001b[1;33m**\u001b[0m\u001b[0mdst_ds\u001b[0m\u001b[1;33m)\u001b[0m\u001b[1;33m\u001b[0m\u001b[1;33m\u001b[0m\u001b[0m\n\u001b[0;32m     18\u001b[0m \u001b[0msrc_ds\u001b[0m \u001b[1;33m=\u001b[0m \u001b[0mgdal\u001b[0m\u001b[1;33m.\u001b[0m\u001b[0mOpen\u001b[0m\u001b[1;33m(\u001b[0m\u001b[0mfriction\u001b[0m\u001b[1;33m)\u001b[0m\u001b[1;33m\u001b[0m\u001b[1;33m\u001b[0m\u001b[0m\n\u001b[1;32m---> 19\u001b[1;33m \u001b[0msaveRaster\u001b[0m\u001b[1;33m(\u001b[0m\u001b[0msrc_ds\u001b[0m\u001b[1;33m,\u001b[0m \u001b[0mnew_friction\u001b[0m\u001b[1;33m)\u001b[0m\u001b[1;33m\u001b[0m\u001b[1;33m\u001b[0m\u001b[0m\n\u001b[0m",
      "\u001b[1;32m<ipython-input-242-d9ba0436e0a6>\u001b[0m in \u001b[0;36msaveRaster\u001b[1;34m(input_file, output_file)\u001b[0m\n\u001b[0;32m     11\u001b[0m     \"\"\" \n\u001b[0;32m     12\u001b[0m     \u001b[0mdrv\u001b[0m \u001b[1;33m=\u001b[0m \u001b[0mgdal\u001b[0m\u001b[1;33m.\u001b[0m\u001b[0mGetDriverByName\u001b[0m\u001b[1;33m(\u001b[0m\u001b[1;34m'GTiff'\u001b[0m\u001b[1;33m)\u001b[0m\u001b[1;33m\u001b[0m\u001b[1;33m\u001b[0m\u001b[0m\n\u001b[1;32m---> 13\u001b[1;33m     dst_ds = drv.Create(input_file.RasterXSize, input_file.RasterXSize, 1,\n\u001b[0m\u001b[0;32m     14\u001b[0m                         gdal.GetDataTypeByName('Float32'))\n\u001b[0;32m     15\u001b[0m \u001b[1;33m\u001b[0m\u001b[0m\n",
      "\u001b[1;32m~\\.conda\\envs\\CCA\\lib\\site-packages\\osgeo\\gdal.py\u001b[0m in \u001b[0;36mCreate\u001b[1;34m(self, *args, **kwargs)\u001b[0m\n\u001b[0;32m   1906\u001b[0m     \u001b[1;32mdef\u001b[0m \u001b[0mCreate\u001b[0m\u001b[1;33m(\u001b[0m\u001b[0mself\u001b[0m\u001b[1;33m,\u001b[0m \u001b[1;33m*\u001b[0m\u001b[0margs\u001b[0m\u001b[1;33m,\u001b[0m \u001b[1;33m**\u001b[0m\u001b[0mkwargs\u001b[0m\u001b[1;33m)\u001b[0m\u001b[1;33m:\u001b[0m\u001b[1;33m\u001b[0m\u001b[1;33m\u001b[0m\u001b[0m\n\u001b[0;32m   1907\u001b[0m         \u001b[1;34m\"\"\"Create(Driver self, char const * utf8_path, int xsize, int ysize, int bands=1, GDALDataType eType, char ** options=None) -> Dataset\"\"\"\u001b[0m\u001b[1;33m\u001b[0m\u001b[1;33m\u001b[0m\u001b[0m\n\u001b[1;32m-> 1908\u001b[1;33m         \u001b[1;32mreturn\u001b[0m \u001b[0m_gdal\u001b[0m\u001b[1;33m.\u001b[0m\u001b[0mDriver_Create\u001b[0m\u001b[1;33m(\u001b[0m\u001b[0mself\u001b[0m\u001b[1;33m,\u001b[0m \u001b[1;33m*\u001b[0m\u001b[0margs\u001b[0m\u001b[1;33m,\u001b[0m \u001b[1;33m**\u001b[0m\u001b[0mkwargs\u001b[0m\u001b[1;33m)\u001b[0m\u001b[1;33m\u001b[0m\u001b[1;33m\u001b[0m\u001b[0m\n\u001b[0m\u001b[0;32m   1909\u001b[0m \u001b[1;33m\u001b[0m\u001b[0m\n\u001b[0;32m   1910\u001b[0m \u001b[1;33m\u001b[0m\u001b[0m\n",
      "\u001b[1;31mRuntimeError\u001b[0m: not a string"
     ]
    }
   ],
   "source": [
    "def saveRaster(input_file, output_file):\n",
    "    \"\"\"\n",
    "    Saving memory raster. \n",
    "\n",
    "    Parameters\n",
    "    ----------\n",
    "    arg1 : input_file\n",
    "        Memory raster to save to disc\n",
    "    arg2 : output_file\n",
    "        The path to the save raster\n",
    "    \"\"\" \n",
    "    drv = gdal.GetDriverByName('GTiff')\n",
    "    dst_ds = drv.Create(input_file.RasterXSize, input_file.RasterXSize, 1,\n",
    "                        gdal.GetDataTypeByName('Float32'))\n",
    "    \n",
    "    #kwargs = {'creationOptions': ['COMPRESS=LZW']}\n",
    "    gdal.Warp(output_file, input_file, **dst_ds)\n",
    "src_ds = gdal.Open(friction)\n",
    "saveRaster(src_ds, new_friction)"
   ]
  },
  {
   "cell_type": "code",
   "execution_count": 224,
   "id": "29a63fa2",
   "metadata": {},
   "outputs": [],
   "source": [
    "\n",
    "\n",
    "def proximity_raster(src_filename, dst_filename):\n",
    "    src_ds = gdal.Open(src_filename)\n",
    "    srcband=src_ds.GetRasterBand(1)\n",
    "    dst_filename=dst_filename\n",
    "\n",
    "    drv = gdal.GetDriverByName('GTiff')\n",
    "    dst_ds = drv.Create(dst_filename,\n",
    "                        src_ds.RasterXSize, src_ds.RasterXSize, 1,\n",
    "                        gdal.GetDataTypeByName('Float32'))\n",
    "\n",
    "    dst_ds.SetGeoTransform( src_ds.GetGeoTransform() )\n",
    "    dst_ds.SetProjection( src_ds.GetProjectionRef() )"
   ]
  },
  {
   "cell_type": "code",
   "execution_count": 200,
   "id": "ab5fbdd4",
   "metadata": {},
   "outputs": [
    {
     "data": {
      "text/plain": [
       "<491x976 sparse matrix of type '<class 'numpy.float32'>'\n",
       "\twith 479216 stored elements in Compressed Sparse Row format>"
      ]
     },
     "execution_count": 200,
     "metadata": {},
     "output_type": "execute_result"
    }
   ],
   "source": [
    "from scipy.sparse import csr_matrix\n",
    "#arr = [[2, 3], [5, 5]]\n",
    "graph = csr_matrix(arr)\n",
    "graph"
   ]
  },
  {
   "cell_type": "code",
   "execution_count": 167,
   "id": "6017061a",
   "metadata": {},
   "outputs": [
    {
     "ename": "ValueError",
     "evalue": "graph should be a square array",
     "output_type": "error",
     "traceback": [
      "\u001b[1;31m---------------------------------------------------------------------------\u001b[0m",
      "\u001b[1;31mValueError\u001b[0m                                Traceback (most recent call last)",
      "\u001b[1;32m<ipython-input-167-96b2d1517c8f>\u001b[0m in \u001b[0;36m<module>\u001b[1;34m\u001b[0m\n\u001b[0;32m      1\u001b[0m \u001b[1;32mfrom\u001b[0m \u001b[0mscipy\u001b[0m\u001b[1;33m.\u001b[0m\u001b[0msparse\u001b[0m\u001b[1;33m.\u001b[0m\u001b[0mcsgraph\u001b[0m \u001b[1;32mimport\u001b[0m \u001b[0mdijkstra\u001b[0m\u001b[1;33m\u001b[0m\u001b[1;33m\u001b[0m\u001b[0m\n\u001b[1;32m----> 2\u001b[1;33m \u001b[0mdistances\u001b[0m\u001b[1;33m,\u001b[0m \u001b[0mpredecessors\u001b[0m \u001b[1;33m=\u001b[0m \u001b[0mdijkstra\u001b[0m\u001b[1;33m(\u001b[0m\u001b[0marr\u001b[0m\u001b[1;33m,\u001b[0m \u001b[0mindices\u001b[0m\u001b[1;33m=\u001b[0m\u001b[0mpointlist\u001b[0m\u001b[1;33m[\u001b[0m\u001b[1;36m0\u001b[0m\u001b[1;33m]\u001b[0m\u001b[1;33m,\u001b[0m\u001b[0mreturn_predecessors\u001b[0m\u001b[1;33m=\u001b[0m\u001b[1;32mTrue\u001b[0m\u001b[1;33m)\u001b[0m\u001b[1;33m\u001b[0m\u001b[1;33m\u001b[0m\u001b[0m\n\u001b[0m",
      "\u001b[1;32m_shortest_path.pyx\u001b[0m in \u001b[0;36mscipy.sparse.csgraph._shortest_path.dijkstra\u001b[1;34m()\u001b[0m\n",
      "\u001b[1;32m~\\.conda\\envs\\CCA\\lib\\site-packages\\scipy\\sparse\\csgraph\\_validation.py\u001b[0m in \u001b[0;36mvalidate_graph\u001b[1;34m(csgraph, directed, dtype, csr_output, dense_output, copy_if_dense, copy_if_sparse, null_value_in, null_value_out, infinity_null, nan_null)\u001b[0m\n\u001b[0;32m     44\u001b[0m             \u001b[0mcsgraph\u001b[0m\u001b[1;33m[\u001b[0m\u001b[0mmask\u001b[0m\u001b[1;33m]\u001b[0m \u001b[1;33m=\u001b[0m \u001b[0mnull_value_out\u001b[0m\u001b[1;33m\u001b[0m\u001b[1;33m\u001b[0m\u001b[0m\n\u001b[0;32m     45\u001b[0m         \u001b[1;32melse\u001b[0m\u001b[1;33m:\u001b[0m\u001b[1;33m\u001b[0m\u001b[1;33m\u001b[0m\u001b[0m\n\u001b[1;32m---> 46\u001b[1;33m             csgraph = csgraph_from_dense(csgraph, null_value=null_value_in,\n\u001b[0m\u001b[0;32m     47\u001b[0m                                          \u001b[0minfinity_null\u001b[0m\u001b[1;33m=\u001b[0m\u001b[0minfinity_null\u001b[0m\u001b[1;33m,\u001b[0m\u001b[1;33m\u001b[0m\u001b[1;33m\u001b[0m\u001b[0m\n\u001b[0;32m     48\u001b[0m                                          nan_null=nan_null)\n",
      "\u001b[1;32m_tools.pyx\u001b[0m in \u001b[0;36mscipy.sparse.csgraph._tools.csgraph_from_dense\u001b[1;34m()\u001b[0m\n",
      "\u001b[1;32m_tools.pyx\u001b[0m in \u001b[0;36mscipy.sparse.csgraph._tools.csgraph_masked_from_dense\u001b[1;34m()\u001b[0m\n",
      "\u001b[1;31mValueError\u001b[0m: graph should be a square array"
     ]
    }
   ],
   "source": [
    "from scipy.sparse.csgraph import dijkstra\n",
    "distances, predecessors = dijkstra(arr, indices=pointlist[0],return_predecessors=True)"
   ]
  },
  {
   "cell_type": "code",
   "execution_count": 57,
   "id": "ab874bd2",
   "metadata": {},
   "outputs": [],
   "source": [
    "import pandas as pd\n",
    "x = pd.DataFrame(data=arr, index=np.arange(1, 492), columns=np.arange(1, 977))"
   ]
  },
  {
   "cell_type": "code",
   "execution_count": 142,
   "id": "3675d803",
   "metadata": {},
   "outputs": [
    {
     "ename": "NodeNotFound",
     "evalue": "Either source 0.039723188 or target 0.04965609 is not in G",
     "output_type": "error",
     "traceback": [
      "\u001b[1;31m---------------------------------------------------------------------------\u001b[0m",
      "\u001b[1;31mNodeNotFound\u001b[0m                              Traceback (most recent call last)",
      "\u001b[1;32m<ipython-input-142-1a2e1f15f39c>\u001b[0m in \u001b[0;36m<module>\u001b[1;34m\u001b[0m\n\u001b[0;32m      1\u001b[0m \u001b[1;31m#* Create graph\u001b[0m\u001b[1;33m\u001b[0m\u001b[1;33m\u001b[0m\u001b[1;33m\u001b[0m\u001b[0m\n\u001b[0;32m      2\u001b[0m \u001b[1;32mfor\u001b[0m \u001b[0mpoint\u001b[0m \u001b[1;32min\u001b[0m \u001b[0mpointlist\u001b[0m\u001b[1;33m:\u001b[0m\u001b[1;33m\u001b[0m\u001b[1;33m\u001b[0m\u001b[0m\n\u001b[1;32m----> 3\u001b[1;33m     \u001b[0mnx\u001b[0m\u001b[1;33m.\u001b[0m\u001b[0mastar_path\u001b[0m\u001b[1;33m(\u001b[0m\u001b[0mG\u001b[0m\u001b[1;33m,\u001b[0m\u001b[1;36m0.039723188\u001b[0m\u001b[1;33m,\u001b[0m\u001b[1;36m0.04965609\u001b[0m\u001b[1;33m)\u001b[0m\u001b[1;33m\u001b[0m\u001b[1;33m\u001b[0m\u001b[0m\n\u001b[0m\u001b[0;32m      4\u001b[0m \u001b[1;31m#    *Dijkstra\u001b[0m\u001b[1;33m\u001b[0m\u001b[1;33m\u001b[0m\u001b[1;33m\u001b[0m\u001b[0m\n\u001b[0;32m      5\u001b[0m \u001b[1;31m#    *Save np.array\u001b[0m\u001b[1;33m\u001b[0m\u001b[1;33m\u001b[0m\u001b[1;33m\u001b[0m\u001b[0m\n",
      "\u001b[1;32m~\\.conda\\envs\\CCA\\lib\\site-packages\\networkx\\algorithms\\shortest_paths\\astar.py\u001b[0m in \u001b[0;36mastar_path\u001b[1;34m(G, source, target, heuristic, weight)\u001b[0m\n\u001b[0;32m     70\u001b[0m     \u001b[1;32mif\u001b[0m \u001b[0msource\u001b[0m \u001b[1;32mnot\u001b[0m \u001b[1;32min\u001b[0m \u001b[0mG\u001b[0m \u001b[1;32mor\u001b[0m \u001b[0mtarget\u001b[0m \u001b[1;32mnot\u001b[0m \u001b[1;32min\u001b[0m \u001b[0mG\u001b[0m\u001b[1;33m:\u001b[0m\u001b[1;33m\u001b[0m\u001b[1;33m\u001b[0m\u001b[0m\n\u001b[0;32m     71\u001b[0m         \u001b[0mmsg\u001b[0m \u001b[1;33m=\u001b[0m \u001b[1;34mf\"Either source {source} or target {target} is not in G\"\u001b[0m\u001b[1;33m\u001b[0m\u001b[1;33m\u001b[0m\u001b[0m\n\u001b[1;32m---> 72\u001b[1;33m         \u001b[1;32mraise\u001b[0m \u001b[0mnx\u001b[0m\u001b[1;33m.\u001b[0m\u001b[0mNodeNotFound\u001b[0m\u001b[1;33m(\u001b[0m\u001b[0mmsg\u001b[0m\u001b[1;33m)\u001b[0m\u001b[1;33m\u001b[0m\u001b[1;33m\u001b[0m\u001b[0m\n\u001b[0m\u001b[0;32m     73\u001b[0m \u001b[1;33m\u001b[0m\u001b[0m\n\u001b[0;32m     74\u001b[0m     \u001b[1;32mif\u001b[0m \u001b[0mheuristic\u001b[0m \u001b[1;32mis\u001b[0m \u001b[1;32mNone\u001b[0m\u001b[1;33m:\u001b[0m\u001b[1;33m\u001b[0m\u001b[1;33m\u001b[0m\u001b[0m\n",
      "\u001b[1;31mNodeNotFound\u001b[0m: Either source 0.039723188 or target 0.04965609 is not in G"
     ]
    }
   ],
   "source": [
    "#* Create graph\n",
    "for point in pointlist:\n",
    "    nx.astar_path(G,0.039723188,0.04965609)\n",
    "#    *Dijkstra\n",
    "#    *Save np.array\n",
    "\n",
    "\n",
    "#*Combine arrays taking the minimum of each element"
   ]
  },
  {
   "cell_type": "code",
   "execution_count": 60,
   "id": "db32ac0f",
   "metadata": {},
   "outputs": [
    {
     "data": {
      "text/plain": [
       "<networkx.classes.graph.Graph at 0x121c815ea90>"
      ]
     },
     "execution_count": 60,
     "metadata": {},
     "output_type": "execute_result"
    }
   ],
   "source": [
    "import networkx as nx\n",
    "G = nx.DiGraph(df2)\n",
    "df2 = pd.concat([x, x.T]).fillna(0)\n",
    "df2"
   ]
  },
  {
   "cell_type": "code",
   "execution_count": 39,
   "id": "0967b5d2",
   "metadata": {},
   "outputs": [
    {
     "data": {
      "text/plain": [
       "array([[13, 25,  0],\n",
       "       [25, 53,  0],\n",
       "       [ 0,  0,  0]])"
      ]
     },
     "execution_count": 39,
     "metadata": {},
     "output_type": "execute_result"
    }
   ],
   "source": [
    "am = (np.dot(im, im.T)).astype(int)\n",
    "am"
   ]
  },
  {
   "cell_type": "code",
   "execution_count": null,
   "id": "f0d226b8",
   "metadata": {},
   "outputs": [],
   "source": []
  },
  {
   "cell_type": "code",
   "execution_count": 98,
   "id": "10808fdc",
   "metadata": {},
   "outputs": [
    {
     "name": "stdout",
     "output_type": "stream",
     "text": [
      "Add node: foo\n",
      "Add node: b\n",
      "Add node: a\n",
      "Add node: r\n",
      "Remove node: b\n",
      "Remove node: a\n",
      "Remove node: r\n",
      "Nodes in G:  [('foo', {'attr_dict': None})]\n",
      "Add edge: 0-1\n",
      "Edges in G:  [(0, 1, {'attr_dict': None, 'weight': 10})]\n",
      "Remove edge: 0-1\n",
      "Add edge: 0-1\n",
      "Add edge: 1-2\n",
      "Add edge: 2-3\n",
      "Edges in G:  [(0, 1, {'attr_dict': None, 'weight': 10}), (1, 2, {'attr_dict': None, 'weight': 10}), (2, 3, {'attr_dict': None, 'weight': 10})]\n",
      "Remove edge: 0-1\n",
      "Remove edge: 1-2\n",
      "Remove edge: 2-3\n",
      "Edges in G:  []\n",
      "Add node: 0\n",
      "Add edge: 0-1\n",
      "Add edge: 1-2\n",
      "Add edge: 2-3\n",
      "Add edge: 3-4\n",
      "Add edge: 4-5\n",
      "Add edge: 5-6\n",
      "Add edge: 6-7\n",
      "Add edge: 7-8\n",
      "Add edge: 8-9\n",
      "Add node: 9\n",
      "Add edge: 9-10\n",
      "Add edge: 9-11\n",
      "Add edge: 9-12\n"
     ]
    },
    {
     "data": {
      "text/plain": [
       "'C:\\\\Proposals\\\\CCA\\\\LPG_CODE_TEST_LAYERS\\\\Friction layer.tif'"
      ]
     },
     "execution_count": 98,
     "metadata": {},
     "output_type": "execute_result"
    },
    {
     "data": {
      "image/png": "[encoded data removed]",
      "text/plain": [
       "<Figure size 432x288 with 1 Axes>"
      ]
     },
     "metadata": {},
     "output_type": "display_data"
    }
   ],
   "source": [
    "import matplotlib.pyplot as plt\n",
    "import networkx as nx\n",
    "from networkx import Graph\n",
    "\n",
    "\n",
    "class PrintGraph(Graph):\n",
    "    \"\"\"\n",
    "    Example subclass of the Graph class.\n",
    "\n",
    "    Prints activity log to file or standard output.\n",
    "    \"\"\"\n",
    "\n",
    "    def __init__(self, data=None, name=\"\", file=None, **attr):\n",
    "        Graph.__init__(self, data=data, name=name, **attr)\n",
    "        if file is None:\n",
    "            import sys\n",
    "\n",
    "            self.fh = sys.stdout\n",
    "        else:\n",
    "            self.fh = open(file, \"w\")\n",
    "\n",
    "    def add_node(self, n, attr_dict=None, **attr):\n",
    "        Graph.add_node(self, n, attr_dict=attr_dict, **attr)\n",
    "        self.fh.write(f\"Add node: {n}\\n\")\n",
    "\n",
    "    def add_nodes_from(self, nodes, **attr):\n",
    "        for n in nodes:\n",
    "            self.add_node(n, **attr)\n",
    "\n",
    "    def remove_node(self, n):\n",
    "        Graph.remove_node(self, n)\n",
    "        self.fh.write(f\"Remove node: {n}\\n\")\n",
    "\n",
    "    def remove_nodes_from(self, nodes):\n",
    "        for n in nodes:\n",
    "            self.remove_node(n)\n",
    "\n",
    "    def add_edge(self, u, v, attr_dict=None, **attr):\n",
    "        Graph.add_edge(self, u, v, attr_dict=attr_dict, **attr)\n",
    "        self.fh.write(f\"Add edge: {u}-{v}\\n\")\n",
    "\n",
    "    def add_edges_from(self, ebunch, attr_dict=None, **attr):\n",
    "        for e in ebunch:\n",
    "            u, v = e[0:2]\n",
    "            self.add_edge(u, v, attr_dict=attr_dict, **attr)\n",
    "\n",
    "    def remove_edge(self, u, v):\n",
    "        Graph.remove_edge(self, u, v)\n",
    "        self.fh.write(f\"Remove edge: {u}-{v}\\n\")\n",
    "\n",
    "    def remove_edges_from(self, ebunch):\n",
    "        for e in ebunch:\n",
    "            u, v = e[0:2]\n",
    "            self.remove_edge(u, v)\n",
    "\n",
    "    def clear(self):\n",
    "        Graph.clear(self)\n",
    "        self.fh.write(\"Clear graph\\n\")\n",
    "\n",
    "\n",
    "G = PrintGraph()\n",
    "G.add_node(\"foo\")\n",
    "G.add_nodes_from(\"bar\", weight=8)\n",
    "G.remove_node(\"b\")\n",
    "G.remove_nodes_from(\"ar\")\n",
    "print(\"Nodes in G: \", G.nodes(data=True))\n",
    "G.add_edge(0, 1, weight=10)\n",
    "print(\"Edges in G: \", G.edges(data=True))\n",
    "G.remove_edge(0, 1)\n",
    "G.add_edges_from(zip(range(0, 3), range(1, 4)), weight=10)\n",
    "print(\"Edges in G: \", G.edges(data=True))\n",
    "G.remove_edges_from(zip(range(0, 3), range(1, 4)))\n",
    "print(\"Edges in G: \", G.edges(data=True))\n",
    "\n",
    "G = PrintGraph()\n",
    "nx.add_path(G, range(10))\n",
    "nx.add_star(G, range(9, 13))\n",
    "\n",
    "nx.draw(G)\n",
    "friction"
   ]
  }
 ],
 "metadata": {
  "kernelspec": {
   "display_name": "Python 3",
   "language": "python",
   "name": "python3"
  },
  "language_info": {
   "codemirror_mode": {
    "name": "ipython",
    "version": 3
   },
   "file_extension": ".py",
   "mimetype": "text/x-python",
   "name": "python",
   "nbconvert_exporter": "python",
   "pygments_lexer": "ipython3",
   "version": "3.8.8"
  }
 },
 "nbformat": 4,
 "nbformat_minor": 5
}

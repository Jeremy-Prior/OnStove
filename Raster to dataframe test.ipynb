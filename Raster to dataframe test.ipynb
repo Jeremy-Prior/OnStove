{
 "cells": [
  {
   "cell_type": "code",
   "execution_count": 1,
   "id": "5cd27233",
   "metadata": {},
   "outputs": [],
   "source": [
    "%load_ext autoreload"
   ]
  },
  {
   "cell_type": "code",
   "execution_count": 2,
   "id": "0d5a2930",
   "metadata": {},
   "outputs": [],
   "source": [
    "# %autoreload 2\n",
    "from onsstove.onsstove import OnSSTOVE\n",
    "from onsstove.layer import RasterLayer"
   ]
  },
  {
   "cell_type": "code",
   "execution_count": 3,
   "id": "6ffc2505",
   "metadata": {},
   "outputs": [],
   "source": [
    "import os "
   ]
  },
  {
   "cell_type": "code",
   "execution_count": 4,
   "id": "6cde6d16",
   "metadata": {},
   "outputs": [],
   "source": [
    "nepal = OnSSTOVE(project_crs=3857, cell_size=(1000, 1000))\n",
    "output_directory = 'test'"
   ]
  },
  {
   "cell_type": "code",
   "execution_count": 5,
   "id": "6ce94c8d",
   "metadata": {},
   "outputs": [],
   "source": [
    "path = r\"data\\population_npl_2018-10-01.tif\"\n",
    "os.makedirs('test/rasters/population', exist_ok=True)\n",
    "population = RasterLayer('rasters', 'population', layer_path=path, resample='sum')"
   ]
  },
  {
   "cell_type": "code",
   "execution_count": 6,
   "id": "b46cd995",
   "metadata": {},
   "outputs": [],
   "source": [
    "population.reproject(3857, 'test/rasters/population', 1000, 1000)"
   ]
  },
  {
   "cell_type": "code",
   "execution_count": 7,
   "id": "553ada4d",
   "metadata": {},
   "outputs": [
    {
     "data": {
      "text/plain": [
       "{'driver': 'GTiff',\n",
       " 'dtype': 'float64',\n",
       " 'nodata': nan,\n",
       " 'width': 906,\n",
       " 'height': 501,\n",
       " 'count': 1,\n",
       " 'crs': CRS.from_epsg(3857),\n",
       " 'transform': Affine(1000.0, 0.0, 8911604.530253576,\n",
       "        0.0, -1000.0, 3543692.835585969)}"
      ]
     },
     "execution_count": 7,
     "metadata": {},
     "output_type": "execute_result"
    }
   ],
   "source": [
    "population.meta"
   ]
  },
  {
   "cell_type": "code",
   "execution_count": 8,
   "id": "7f76a6a5",
   "metadata": {},
   "outputs": [],
   "source": [
    "nepal.population_to_dataframe(population)"
   ]
  },
  {
   "cell_type": "code",
   "execution_count": 9,
   "id": "681488fc",
   "metadata": {},
   "outputs": [
    {
     "data": {
      "text/html": [
       "<div>\n",
       "<style scoped>\n",
       "    .dataframe tbody tr th:only-of-type {\n",
       "        vertical-align: middle;\n",
       "    }\n",
       "\n",
       "    .dataframe tbody tr th {\n",
       "        vertical-align: top;\n",
       "    }\n",
       "\n",
       "    .dataframe thead th {\n",
       "        text-align: right;\n",
       "    }\n",
       "</style>\n",
       "<table border=\"1\" class=\"dataframe\">\n",
       "  <thead>\n",
       "    <tr style=\"text-align: right;\">\n",
       "      <th></th>\n",
       "      <th>geometry</th>\n",
       "      <th>population</th>\n",
       "    </tr>\n",
       "  </thead>\n",
       "  <tbody>\n",
       "    <tr>\n",
       "      <th>0</th>\n",
       "      <td>POINT (9065104.530 3518192.836)</td>\n",
       "      <td>4.137804</td>\n",
       "    </tr>\n",
       "    <tr>\n",
       "      <th>1</th>\n",
       "      <td>POINT (9095104.530 3510192.836)</td>\n",
       "      <td>10.798401</td>\n",
       "    </tr>\n",
       "    <tr>\n",
       "      <th>2</th>\n",
       "      <td>POINT (9046104.530 3507192.836)</td>\n",
       "      <td>8.405575</td>\n",
       "    </tr>\n",
       "    <tr>\n",
       "      <th>3</th>\n",
       "      <td>POINT (9108104.530 3500192.836)</td>\n",
       "      <td>13.607732</td>\n",
       "    </tr>\n",
       "    <tr>\n",
       "      <th>4</th>\n",
       "      <td>POINT (8975104.530 3490192.836)</td>\n",
       "      <td>10.356868</td>\n",
       "    </tr>\n",
       "    <tr>\n",
       "      <th>...</th>\n",
       "      <td>...</td>\n",
       "      <td>...</td>\n",
       "    </tr>\n",
       "    <tr>\n",
       "      <th>3330</th>\n",
       "      <td>POINT (9715104.530 3049192.836)</td>\n",
       "      <td>10.108091</td>\n",
       "    </tr>\n",
       "    <tr>\n",
       "      <th>3331</th>\n",
       "      <td>POINT (9715104.530 3048192.836)</td>\n",
       "      <td>10.108091</td>\n",
       "    </tr>\n",
       "    <tr>\n",
       "      <th>3332</th>\n",
       "      <td>POINT (9799104.530 3048192.836)</td>\n",
       "      <td>10.519350</td>\n",
       "    </tr>\n",
       "    <tr>\n",
       "      <th>3333</th>\n",
       "      <td>POINT (9719104.530 3046192.836)</td>\n",
       "      <td>16.484153</td>\n",
       "    </tr>\n",
       "    <tr>\n",
       "      <th>3334</th>\n",
       "      <td>POINT (9797104.530 3044192.836)</td>\n",
       "      <td>10.519350</td>\n",
       "    </tr>\n",
       "  </tbody>\n",
       "</table>\n",
       "<p>3335 rows × 2 columns</p>\n",
       "</div>"
      ],
      "text/plain": [
       "                             geometry  population\n",
       "0     POINT (9065104.530 3518192.836)    4.137804\n",
       "1     POINT (9095104.530 3510192.836)   10.798401\n",
       "2     POINT (9046104.530 3507192.836)    8.405575\n",
       "3     POINT (9108104.530 3500192.836)   13.607732\n",
       "4     POINT (8975104.530 3490192.836)   10.356868\n",
       "...                               ...         ...\n",
       "3330  POINT (9715104.530 3049192.836)   10.108091\n",
       "3331  POINT (9715104.530 3048192.836)   10.108091\n",
       "3332  POINT (9799104.530 3048192.836)   10.519350\n",
       "3333  POINT (9719104.530 3046192.836)   16.484153\n",
       "3334  POINT (9797104.530 3044192.836)   10.519350\n",
       "\n",
       "[3335 rows x 2 columns]"
      ]
     },
     "execution_count": 9,
     "metadata": {},
     "output_type": "execute_result"
    }
   ],
   "source": [
    "nepal.df"
   ]
  },
  {
   "cell_type": "code",
   "execution_count": 10,
   "id": "156e4144",
   "metadata": {},
   "outputs": [],
   "source": [
    "path = r\"data\\nighttime_lights.tif\"\n",
    "os.makedirs('test/rasters/ntl', exist_ok=True)\n",
    "ntl = RasterLayer('rasters', 'ntl', layer_path=path, resample='average')\n",
    "ntl.align(population.path, 'test/rasters/ntl')"
   ]
  },
  {
   "cell_type": "code",
   "execution_count": 11,
   "id": "0c612f3b",
   "metadata": {},
   "outputs": [],
   "source": [
    "nepal.raster_to_dataframe(ntl, method='read')"
   ]
  },
  {
   "cell_type": "code",
   "execution_count": 12,
   "id": "c40d7263",
   "metadata": {},
   "outputs": [
    {
     "data": {
      "text/html": [
       "<div>\n",
       "<style scoped>\n",
       "    .dataframe tbody tr th:only-of-type {\n",
       "        vertical-align: middle;\n",
       "    }\n",
       "\n",
       "    .dataframe tbody tr th {\n",
       "        vertical-align: top;\n",
       "    }\n",
       "\n",
       "    .dataframe thead th {\n",
       "        text-align: right;\n",
       "    }\n",
       "</style>\n",
       "<table border=\"1\" class=\"dataframe\">\n",
       "  <thead>\n",
       "    <tr style=\"text-align: right;\">\n",
       "      <th></th>\n",
       "      <th>geometry</th>\n",
       "      <th>population</th>\n",
       "      <th>ntl</th>\n",
       "    </tr>\n",
       "  </thead>\n",
       "  <tbody>\n",
       "    <tr>\n",
       "      <th>0</th>\n",
       "      <td>POINT (9065104.530 3518192.836)</td>\n",
       "      <td>4.137804</td>\n",
       "      <td>0.000000</td>\n",
       "    </tr>\n",
       "    <tr>\n",
       "      <th>1</th>\n",
       "      <td>POINT (9095104.530 3510192.836)</td>\n",
       "      <td>10.798401</td>\n",
       "      <td>0.000000</td>\n",
       "    </tr>\n",
       "    <tr>\n",
       "      <th>2</th>\n",
       "      <td>POINT (9046104.530 3507192.836)</td>\n",
       "      <td>8.405575</td>\n",
       "      <td>0.000000</td>\n",
       "    </tr>\n",
       "    <tr>\n",
       "      <th>3</th>\n",
       "      <td>POINT (9108104.530 3500192.836)</td>\n",
       "      <td>13.607732</td>\n",
       "      <td>0.643610</td>\n",
       "    </tr>\n",
       "    <tr>\n",
       "      <th>4</th>\n",
       "      <td>POINT (8975104.530 3490192.836)</td>\n",
       "      <td>10.356868</td>\n",
       "      <td>0.000000</td>\n",
       "    </tr>\n",
       "    <tr>\n",
       "      <th>...</th>\n",
       "      <td>...</td>\n",
       "      <td>...</td>\n",
       "      <td>...</td>\n",
       "    </tr>\n",
       "    <tr>\n",
       "      <th>3330</th>\n",
       "      <td>POINT (9715104.530 3049192.836)</td>\n",
       "      <td>10.108091</td>\n",
       "      <td>NaN</td>\n",
       "    </tr>\n",
       "    <tr>\n",
       "      <th>3331</th>\n",
       "      <td>POINT (9715104.530 3048192.836)</td>\n",
       "      <td>10.108091</td>\n",
       "      <td>NaN</td>\n",
       "    </tr>\n",
       "    <tr>\n",
       "      <th>3332</th>\n",
       "      <td>POINT (9799104.530 3048192.836)</td>\n",
       "      <td>10.519350</td>\n",
       "      <td>0.000000</td>\n",
       "    </tr>\n",
       "    <tr>\n",
       "      <th>3333</th>\n",
       "      <td>POINT (9719104.530 3046192.836)</td>\n",
       "      <td>16.484153</td>\n",
       "      <td>0.443283</td>\n",
       "    </tr>\n",
       "    <tr>\n",
       "      <th>3334</th>\n",
       "      <td>POINT (9797104.530 3044192.836)</td>\n",
       "      <td>10.519350</td>\n",
       "      <td>NaN</td>\n",
       "    </tr>\n",
       "  </tbody>\n",
       "</table>\n",
       "<p>3335 rows × 3 columns</p>\n",
       "</div>"
      ],
      "text/plain": [
       "                             geometry  population       ntl\n",
       "0     POINT (9065104.530 3518192.836)    4.137804  0.000000\n",
       "1     POINT (9095104.530 3510192.836)   10.798401  0.000000\n",
       "2     POINT (9046104.530 3507192.836)    8.405575  0.000000\n",
       "3     POINT (9108104.530 3500192.836)   13.607732  0.643610\n",
       "4     POINT (8975104.530 3490192.836)   10.356868  0.000000\n",
       "...                               ...         ...       ...\n",
       "3330  POINT (9715104.530 3049192.836)   10.108091       NaN\n",
       "3331  POINT (9715104.530 3048192.836)   10.108091       NaN\n",
       "3332  POINT (9799104.530 3048192.836)   10.519350  0.000000\n",
       "3333  POINT (9719104.530 3046192.836)   16.484153  0.443283\n",
       "3334  POINT (9797104.530 3044192.836)   10.519350       NaN\n",
       "\n",
       "[3335 rows x 3 columns]"
      ]
     },
     "execution_count": 12,
     "metadata": {},
     "output_type": "execute_result"
    }
   ],
   "source": [
    "nepal.df"
   ]
  },
  {
   "cell_type": "code",
   "execution_count": null,
   "id": "e8eeb218",
   "metadata": {},
   "outputs": [],
   "source": []
  }
 ],
 "metadata": {
  "kernelspec": {
   "display_name": "Python 3",
   "language": "python",
   "name": "python3"
  },
  "language_info": {
   "codemirror_mode": {
    "name": "ipython",
    "version": 3
   },
   "file_extension": ".py",
   "mimetype": "text/x-python",
   "name": "python",
   "nbconvert_exporter": "python",
   "pygments_lexer": "ipython3",
   "version": "3.9.2"
  }
 },
 "nbformat": 4,
 "nbformat_minor": 5
}

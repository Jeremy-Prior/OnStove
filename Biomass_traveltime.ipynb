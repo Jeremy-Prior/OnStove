{
 "cells": [
  {
   "cell_type": "code",
   "execution_count": null,
   "id": "6bfd40ac",
   "metadata": {},
   "outputs": [],
   "source": [
    "import rasterio\n",
    "import geopandas as gpd\n",
    "import numpy as np\n",
    "from skimage.graph.mcp import MCP_Geometric\n",
    "from onstove.raster import *"
   ]
  },
  {
   "cell_type": "code",
   "execution_count": null,
   "id": "9e3dabaa",
   "metadata": {},
   "outputs": [],
   "source": [
    "# This map represents the travel speed from this allocation process, expressed in units of minutes \n",
    "# required to travel one metre (Raster).\n",
    "friction = r\"C:\\Proposals\\CCA\\Bimass_CODE_TEST_LAYERS\\friction.tif\"\n",
    "# Startpoints (Raster)\n",
    "forest_cover = r\"C:\\Proposals\\CCA\\Bimass_CODE_TEST_LAYERS\\Forest.tif\"\n",
    "# Potential restriction areas (Polygon)\n",
    "restrictions = r\"C:\\Proposals\\CCA\\Bimass_CODE_TEST_LAYERS\\protected.shp\"\n",
    "restricted = r\"C:\\Proposals\\CCA\\Bimass_CODE_TEST_LAYERS\\restricted_area.tif\"\n",
    "#new friction based on start points (Raster)\n",
    "travel_time = r\"C:\\Proposals\\CCA\\Bimass_CODE_TEST_LAYERS\\travel_time.tif\""
   ]
  },
  {
   "cell_type": "code",
   "execution_count": null,
   "id": "147407fd",
   "metadata": {},
   "outputs": [],
   "source": [
    "#Generated a restriction mask\n",
    "mask_raster(forest_cover, restrictions, restricted, nodata=0, compression='NONE')\n",
    "new_restrictions, new_restrictions_meta = align_raster(friction, restricted, method='nearest', compression='NONE')"
   ]
  },
  {
   "cell_type": "code",
   "execution_count": null,
   "id": "77755940",
   "metadata": {},
   "outputs": [],
   "source": [
    "#Allign the forest raster with the friction raster\n",
    "new_forest, new_forest_meta = align_raster(friction, forest_cover, method='nearest', compression='NONE')\n",
    "new_forest = new_forest+new_restrictions\n",
    "new_forest[new_forest == 1] = 0\n",
    "new_forest[new_forest != 0] = 1\n",
    "rows, cols = np.where(new_forest == 0)"
   ]
  },
  {
   "cell_type": "code",
   "execution_count": null,
   "id": "05fc74cb",
   "metadata": {},
   "outputs": [],
   "source": [
    "# Transform friction raster to km and hour instead of minutes and meter\n",
    "with rasterio.open(friction) as fric:\n",
    "    fric_meta = fric.meta\n",
    "    fric_val = fric.read(1)\n",
    "    fric_val = fric_val*1000/60"
   ]
  },
  {
   "cell_type": "code",
   "execution_count": null,
   "id": "a43ad93b",
   "metadata": {},
   "outputs": [],
   "source": [
    "# Create a new friction map by multiplying the firction map with the new forest cover map\n",
    "new_fric = fric_val*new_forest"
   ]
  },
  {
   "cell_type": "code",
   "execution_count": null,
   "id": "4b559f24",
   "metadata": {},
   "outputs": [],
   "source": [
    "# Minimum cost path betweenn all nodes\n",
    "mcp = MCP_Geometric(new_fric, fully_connected=True)"
   ]
  },
  {
   "cell_type": "code",
   "execution_count": null,
   "id": "54957ea5",
   "metadata": {},
   "outputs": [],
   "source": [
    "#Adding statvalues\n",
    "pointlist = []\n",
    "i = 0\n",
    "for row in rows:\n",
    "    positiions = [rows[i],cols[i]]\n",
    "    pointlist.append(positiions)\n",
    "    i = i+1"
   ]
  },
  {
   "cell_type": "code",
   "execution_count": null,
   "id": "f08a1ffe",
   "metadata": {},
   "outputs": [],
   "source": [
    "#minimum cost\n",
    "cumulative_costs, traceback = mcp.find_costs(starts=pointlist)\n",
    "cumulative_costs[np.where(cumulative_costs==float('inf'))] = np.nan"
   ]
  },
  {
   "cell_type": "code",
   "execution_count": null,
   "id": "bcd6935f",
   "metadata": {},
   "outputs": [],
   "source": [
    "new_dataset = rasterio.open(travel_time, 'w', driver='GTiff',\n",
    "                            height = src.shape[0], width = src.shape[1],\n",
    "                            count=1, dtype=\"float64\",\n",
    "                            crs=src.crs, transform = src.transform)\n",
    "\n",
    "new_dataset.write(cumulative_costs, 1)\n",
    "new_dataset.close()"
   ]
  }
 ],
 "metadata": {
  "kernelspec": {
   "display_name": "Python 3",
   "language": "python",
   "name": "python3"
  },
  "language_info": {
   "codemirror_mode": {
    "name": "ipython",
    "version": 3
   },
   "file_extension": ".py",
   "mimetype": "text/x-python",
   "name": "python",
   "nbconvert_exporter": "python",
   "pygments_lexer": "ipython3",
   "version": "3.8.8"
  }
 },
 "nbformat": 4,
 "nbformat_minor": 5
}

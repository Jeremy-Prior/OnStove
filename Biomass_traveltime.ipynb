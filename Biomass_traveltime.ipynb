{
 "cells": [
  {
   "cell_type": "code",
   "execution_count": 350,
   "id": "6bfd40ac",
   "metadata": {},
   "outputs": [],
   "source": [
    "import rasterio\n",
    "import geopandas as gpd\n",
    "import numpy as np\n",
    "from skimage.graph.mcp import MCP_Geometric\n",
    "from onstove.raster import *\n",
    "from shapely.geometry import shape"
   ]
  },
  {
   "cell_type": "code",
   "execution_count": 351,
   "id": "9e3dabaa",
   "metadata": {},
   "outputs": [],
   "source": [
    "# This map represents the travel speed from this allocation process, expressed in units of minutes \n",
    "# required to travel one metre (Raster).\n",
    "friction = r\"C:\\Proposals\\CCA\\Bimass_CODE_TEST_LAYERS\\friction.tif\"\n",
    "# Startpoints (Raster)\n",
    "forest_cover = r\"C:\\Proposals\\CCA\\Bimass_CODE_TEST_LAYERS\\Forest.tif\"\n",
    "#AOI (Polygon)\n",
    "mask = r\"C:\\Proposals\\CCA\\gadm36_NPL_shp\\gadm36_NPL_0.shp\"\n",
    "# Potential restriction areas (Polygon)\n",
    "restrictions = r\"C:\\Proposals\\CCA\\Bimass_CODE_TEST_LAYERS\\protected.shp\"\n",
    "restricted = r\"C:\\Proposals\\CCA\\Bimass_CODE_TEST_LAYERS\\restricted_area.tif\"\n",
    "#new friction based on start points (Raster)\n",
    "travel_time = r\"C:\\Proposals\\CCA\\Bimass_CODE_TEST_LAYERS\\travel_time.tif\""
   ]
  },
  {
   "cell_type": "code",
   "execution_count": 352,
   "id": "9041fa9f",
   "metadata": {},
   "outputs": [],
   "source": [
    "def align_raster(raster_1, raster_2, method='nearest', compression='NONE'):\n",
    "    with rasterio.open(raster_1) as src:\n",
    "        raster_1_meta = src.meta\n",
    "    with rasterio.open(raster_2) as src:\n",
    "        raster_2 = src.read(1)\n",
    "        raster_2_meta = src.meta\n",
    "\n",
    "    out_meta = raster_1_meta.copy()\n",
    "    out_meta.update({\n",
    "        'transform': raster_1_meta['transform'],\n",
    "        'crs': raster_1_meta['crs'],\n",
    "        'compress': compression\n",
    "    })    \n",
    "    destination = np.full((raster_1_meta['height'], raster_1_meta['width']), raster_2_meta['nodata'])\n",
    "    reproject(\n",
    "            source=raster_2,\n",
    "            destination=destination,\n",
    "            src_transform=raster_2_meta['transform'],\n",
    "            src_crs=raster_2_meta['crs'],\n",
    "            dst_transform=raster_1_meta['transform'],\n",
    "            dst_crs=raster_1_meta['crs'],\n",
    "            resampling=Resampling[method])\n",
    "    return destination, out_meta"
   ]
  },
  {
   "cell_type": "code",
   "execution_count": 353,
   "id": "b6d0e4af",
   "metadata": {},
   "outputs": [],
   "source": [
    "def polygonize(raster, mask = None):\n",
    "    with rasterio.Env():\n",
    "        if type(raster) == str:\n",
    "            with rasterio.open(raster) as raster:\n",
    "                raster = raster.read(1)\n",
    "                raster = raster.astype('float32')\n",
    "            \n",
    "        results = (\n",
    "        {'properties': {'raster_val': v}, 'geometry': s}\n",
    "        for i, (s, v) \n",
    "        in enumerate(\n",
    "        shapes(raster, mask=mask, transform=src.transform)))\n",
    "    \n",
    "    geoms = list(results)\n",
    "    polygon  = gpd.GeoDataFrame.from_features(geoms)\n",
    "    return polygon"
   ]
  },
  {
   "cell_type": "code",
   "execution_count": 354,
   "id": "a4c47c6a",
   "metadata": {},
   "outputs": [],
   "source": [
    "#Generated a restriction mask\n",
    "mask_raster(forest_cover, restrictions, restricted, nodata=0, compression='NONE')\n",
    "new_restrictions, new_restrictions_meta = align_raster(friction, restricted, method='nearest', compression='NONE')"
   ]
  },
  {
   "cell_type": "code",
   "execution_count": 355,
   "id": "a51d6bc5",
   "metadata": {},
   "outputs": [],
   "source": [
    "#Allign the forest raster with the friction raster\n",
    "new_forest, new_forest_meta = align_raster(friction, forest_cover, method='nearest', compression='NONE')\n",
    "new_forest = new_forest+new_restrictions\n",
    "new_forest[new_forest == 1] = 0\n",
    "new_forest[new_forest != 0] = 1\n",
    "rows, cols = np.where(new_forest == 0)"
   ]
  },
  {
   "cell_type": "code",
   "execution_count": 356,
   "id": "1b8bcf3c",
   "metadata": {},
   "outputs": [],
   "source": [
    "# Transform friction raster to km and hour instead of minutes and meter\n",
    "with rasterio.open(friction) as fric:\n",
    "    fric_meta = fric.meta\n",
    "    fric_val = fric.read(1)\n",
    "    fric_val = fric_val*1000/60"
   ]
  },
  {
   "cell_type": "code",
   "execution_count": 357,
   "id": "a1d37966",
   "metadata": {},
   "outputs": [],
   "source": [
    "# Create a new friction map by multiplying the firction map with the new forest cover map\n",
    "new_fric = fric_val*new_forest"
   ]
  },
  {
   "cell_type": "code",
   "execution_count": 358,
   "id": "4b559f24",
   "metadata": {},
   "outputs": [],
   "source": [
    "# Minimum cost path betweenn all nodes\n",
    "mcp = MCP_Geometric(new_fric, fully_connected=True)"
   ]
  },
  {
   "cell_type": "code",
   "execution_count": 359,
   "id": "54957ea5",
   "metadata": {},
   "outputs": [],
   "source": [
    "#Adding statvalues\n",
    "pointlist = []\n",
    "i = 0\n",
    "for row in rows:\n",
    "    positiions = [rows[i],cols[i]]\n",
    "    pointlist.append(positiions)\n",
    "    i = i+1"
   ]
  },
  {
   "cell_type": "code",
   "execution_count": 360,
   "id": "f08a1ffe",
   "metadata": {},
   "outputs": [],
   "source": [
    "#minimum cost\n",
    "cumulative_costs, traceback = mcp.find_costs(starts=pointlist)\n",
    "cumulative_costs[np.where(cumulative_costs==float('inf'))] = np.nan"
   ]
  },
  {
   "cell_type": "code",
   "execution_count": 361,
   "id": "bcd6935f",
   "metadata": {},
   "outputs": [],
   "source": [
    "new_dataset = rasterio.open(travel_time, 'w', driver='GTiff',\n",
    "                            height = src.shape[0], width = src.shape[1],\n",
    "                            count=1, dtype=\"float64\",\n",
    "                            crs=src.crs, transform = src.transform)\n",
    "\n",
    "new_dataset.write(cumulative_costs, 1)\n",
    "new_dataset.close()"
   ]
  }
 ],
 "metadata": {
  "kernelspec": {
   "display_name": "Python 3",
   "language": "python",
   "name": "python3"
  },
  "language_info": {
   "codemirror_mode": {
    "name": "ipython",
    "version": 3
   },
   "file_extension": ".py",
   "mimetype": "text/x-python",
   "name": "python",
   "nbconvert_exporter": "python",
   "pygments_lexer": "ipython3",
   "version": "3.8.8"
  }
 },
 "nbformat": 4,
 "nbformat_minor": 5
}

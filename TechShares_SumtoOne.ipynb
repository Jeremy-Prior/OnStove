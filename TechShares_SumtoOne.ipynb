{
 "cells": [
  {
   "cell_type": "code",
   "execution_count": null,
   "metadata": {},
   "outputs": [],
   "source": [
    "def techshare_sumtoone(techshare_dict):\n",
    "    /Users/AOberholzer/Documents/GitHub/OnStove_private/Nepal paper OnStove/TechShares_SumtoOne.ipynb\n",
    "    \"\"\"\n",
    "    This function checks if the sum of shares in the technology dictionary is 1.0. \n",
    "        If it is not, it will adjust the shares to make the sum 1.0.\n",
    "\n",
    "        Parameters\n",
    "        ---------\n",
    "        techshare_dict : dictionary\n",
    "            The original dictionary of technology shares\n",
    "\n",
    "        Returns\n",
    "        -------\n",
    "        techshare_dict : dictionary\n",
    "            The updated dictionary of technology shares\n",
    "    \"\"\"\n",
    "    sharesum = sum(item['current_share_rural'] for item in test_dictionary.values())\n",
    "    if sharesum != 1:\n",
    "        for item in techshare_dict.values():\n",
    "            item.current_share_rural = item.current_share_rural/sharesum\n",
    "    return techshare_dict"
   ]
  }
 ],
 "metadata": {
  "interpreter": {
   "hash": "46c15e5ab46e6465e01000dbc565349a4299f74c0a2533e6100c71552373dba2"
  },
  "kernelspec": {
   "display_name": "Python 3.9.12 ('onstove')",
   "language": "python",
   "name": "python3"
  },
  "language_info": {
   "name": "python",
   "version": "3.9.12"
  },
  "orig_nbformat": 4
 },
 "nbformat": 4,
 "nbformat_minor": 2
}

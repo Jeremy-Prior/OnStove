{
 "cells": [
  {
   "cell_type": "code",
   "execution_count": 29,
   "id": "737e5c51",
   "metadata": {},
   "outputs": [],
   "source": [
    "import numpy as np\n",
    "import pandas as pd\n",
    "import rasterio"
   ]
  },
  {
   "cell_type": "code",
   "execution_count": 36,
   "id": "da3c2b62",
   "metadata": {},
   "outputs": [],
   "source": [
    "travel_time = r\"C:\\Proposals\\CCA\\LPG_CODE_TEST_LAYERS\\travel_time.tif\""
   ]
  },
  {
   "cell_type": "code",
   "execution_count": 52,
   "id": "e740492d",
   "metadata": {},
   "outputs": [
    {
     "name": "stdout",
     "output_type": "stream",
     "text": [
      "1.8472780494737795\n"
     ]
    }
   ],
   "source": [
    "def LPG_transportation_cost(travel_time):\n",
    "    \n",
    "    \"\"\"\"The cost of transporting LPG. See https://iopscience.iop.org/article/10.1088/1748-9326/6/3/034002/pdf for the formula \n",
    "    \n",
    "    (2 * diesel consumption per h * national diesel price * travel time)/transported LPG\n",
    "    \n",
    "    Each truck is assumed to transport 2,000 kg LPG \n",
    "    (3.5 MT truck https://www.wlpga.org/wp-content/uploads/2019/09/2019-Guide-to-Good-Industry-Practices-for-LPG-Cylinders-in-the-Distribution-Channel.pdf)\n",
    "    National diesel price in Nepal is assumed to be 0.88 USD/l\n",
    "    Diesel consumption per h is assumed to be 14 l/h \n",
    "    (https://www.iea.org/reports/fuel-consumption-of-cars-and-vans)\n",
    "    \n",
    "    Based on https://iopscience.iop.org/article/10.1088/1748-9326/aa6fd0/meta#erlaa6fd0fd2 125 kg LPG is needed for cooking\n",
    "    per year if LPG is used exclusively \n",
    "    \n",
    "    Parameters\n",
    "    ----------\n",
    "    arg1 : national_LPG_price\n",
    "        The national LPG price (USD)\n",
    "    arg2 : travel_time_raster\n",
    "        Hour to travel between each point and the startpoints as array\n",
    "    Returns\n",
    "    ----------\n",
    "    The cost of LPG in each cell\n",
    "    \n",
    "    \"\"\"\n",
    "    with rasterio.open(travel_time) as src:\n",
    "        trav = src.read(1)\n",
    "        \n",
    "    return ((2*14*0.88*trav)/2000)\n",
    "\n",
    "LPG_transportation_cost = LPG_transportation_cost(travel_time)\n",
    "print(np.nanmax(LPG_transportation_cost))"
   ]
  },
  {
   "cell_type": "markdown",
   "id": "51986b52",
   "metadata": {},
   "source": [
    "* I need 125 kg LPG/year\n",
    "* Cost of LPG 1400 per cylinder NRs\n",
    "* Each cylinder includes 15 kg\n",
    "* Cost per kg is 98.6 NRs\n",
    "* 1 NR = 0.014 USD\n",
    "* Cost per kg is 1.38 USD\n",
    "* Total cost is 125*1.38 if LPG is used exclusively \n",
    "\n",
    "* Price changes with travel time Szabo (2*12*national_LPG_price*traveltime/300) <-- asuming that we are transporting 300  \n"
   ]
  },
  {
   "cell_type": "code",
   "execution_count": 35,
   "id": "c56496b5",
   "metadata": {},
   "outputs": [],
   "source": [
    "def LPG_fuel_cost_calculator(LPG_price,\n",
    "                             LPG_truck_volume,\n",
    "                             traveltime,\n",
    "                             LHV_LPG,\n",
    "                             efficiency):\n",
    "    \n",
    "    \"\"\"We apply the Szabo formula to calculate the transport cost for the LPG\n",
    "    Formulae is::\n",
    "        p = (p_lpg + 2*p_lpg*consumption*time/volume)*(1/mu)*(1/LHVlpg)\n",
    "    Arguments\n",
    "    ---------\n",
    "    LPG_price: float\n",
    "    LPG_truck_consumption: float\n",
    "    LPG_truck_volume: float\n",
    "    traveltime: raster (numpy array)\n",
    "    efficiency: float\n",
    "    Returns\n",
    "    -------\n",
    "    numpy.ndarray\n",
    "    \"\"\"\n",
    "    return (LPG_price + 2 * LPG_price * LPG_truck_consumption *\n",
    "            traveltime / LPG_truck_volume) / LHV_LPG / efficiency\n",
    "\n",
    "\n",
    "with rasterio.open(travel_time) as src:\n",
    "    fric = src.read(1)"
   ]
  },
  {
   "cell_type": "code",
   "execution_count": 34,
   "id": "666b7d0a",
   "metadata": {},
   "outputs": [
    {
     "data": {
      "text/plain": [
       "149.94140011962494"
      ]
     },
     "execution_count": 34,
     "metadata": {},
     "output_type": "execute_result"
    }
   ],
   "source": []
  }
 ],
 "metadata": {
  "kernelspec": {
   "display_name": "Python 3",
   "language": "python",
   "name": "python3"
  },
  "language_info": {
   "codemirror_mode": {
    "name": "ipython",
    "version": 3
   },
   "file_extension": ".py",
   "mimetype": "text/x-python",
   "name": "python",
   "nbconvert_exporter": "python",
   "pygments_lexer": "ipython3",
   "version": "3.8.8"
  }
 },
 "nbformat": 4,
 "nbformat_minor": 5
}

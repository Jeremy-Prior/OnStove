{
 "cells": [
  {
   "cell_type": "markdown",
   "id": "3f82923a",
   "metadata": {},
   "source": [
    "# Workflow\n",
    "\n",
    "* convert point to raster <-- **This shit does not work**\n",
    "* add points to the friction layer <- **function done**\n",
    "* use the added points as starting point\n",
    "* calculate the traveltime\n",
    "* calculate the distance\n"
   ]
  },
  {
   "cell_type": "code",
   "execution_count": 1,
   "id": "ce34b414",
   "metadata": {},
   "outputs": [],
   "source": [
    "import os\n",
    "import psycopg2\n",
    "import pandas as pd\n",
    "import geopandas as gpd\n",
    "import matplotlib.pyplot as plt\n",
    "import shapely\n",
    "import json\n",
    "import numpy as np\n",
    "from decouple import config\n",
    "\n",
    "from functions import *"
   ]
  },
  {
   "cell_type": "code",
   "execution_count": 2,
   "id": "a2d774b3",
   "metadata": {},
   "outputs": [],
   "source": [
    "points = gpd.read_file(r\"C:\\Proposals\\CCA\\LPG_CODE_TEST_LAYERS\\LPG_start.shp\")\n",
    "friction = rasterio.open(r\"C:\\Proposals\\CCA\\LPG_CODE_TEST_LAYERS\\Friction layer.tif\")\n",
    "template = rasterio.open(r\"C:\\Proposals\\CCA\\LPG_CODE_TEST_LAYERS\\Population.tif\")\n",
    "start_points = r'C:\\Proposals\\CCA\\LPG_CODE_TEST_LAYERS\\start2.tif'"
   ]
  }
 ],
 "metadata": {
  "kernelspec": {
   "display_name": "Python 3",
   "language": "python",
   "name": "python3"
  },
  "language_info": {
   "codemirror_mode": {
    "name": "ipython",
    "version": 3
   },
   "file_extension": ".py",
   "mimetype": "text/x-python",
   "name": "python",
   "nbconvert_exporter": "python",
   "pygments_lexer": "ipython3",
   "version": "3.9.2"
  }
 },
 "nbformat": 4,
 "nbformat_minor": 5
}

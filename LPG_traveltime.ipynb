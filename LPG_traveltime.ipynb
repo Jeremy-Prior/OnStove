{
 "cells": [
  {
   "cell_type": "code",
   "execution_count": 2,
   "id": "6bfd40ac",
   "metadata": {},
   "outputs": [],
   "source": [
    "import rasterio\n",
    "import geopandas as gpd\n",
    "import numpy as np\n",
    "from skimage.graph.mcp import MCP_Geometric\n",
    "from onsstove.raster import *"
   ]
  },
  {
   "cell_type": "code",
   "execution_count": 15,
   "id": "9e3dabaa",
   "metadata": {},
   "outputs": [],
   "source": [
    "# This map represents the travel speed from this allocation process, expressed in units of minutes \n",
    "# required to travel one metre.\n",
    "friction = r\"C:\\Users\\camilorg\\Box Sync\\OnSTOVE\\output\\supply\\LPG dealers\\LPG dealers - friction - reprojected.tif\"\n",
    "# Startpoints\n",
    "supply_points = r\"C:\\Users\\camilorg\\Box Sync\\OnSTOVE\\output\\supply\\LPG dealers\\LPG dealers.gpkg\"\n",
    "gdf_supply_points = gpd.read_file(supply_points)\n",
    "#distance raster\n",
    "distance = r\"output/supply/LPG dealers/LPG dealers - distance.tif\"\n",
    "#new friction based on start points\n",
    "travel_time = r\"output/supply/LPG dealers/LPG dealers - travel_time.tif\""
   ]
  },
  {
   "cell_type": "code",
   "execution_count": 4,
   "id": "52acf813",
   "metadata": {},
   "outputs": [],
   "source": [
    "# Read raster as array and set nodata to infinity to avoid taking nodata cells as path\n",
    "with rasterio.open(friction) as src:\n",
    "    fric = src.read(1)\n",
    "    fric = fric*1000/60"
   ]
  },
  {
   "cell_type": "code",
   "execution_count": 8,
   "id": "c32c6e3f",
   "metadata": {},
   "outputs": [],
   "source": [
    "fric[np.isnan(fric)] = float('inf')"
   ]
  },
  {
   "cell_type": "code",
   "execution_count": 9,
   "id": "6bc7d48e",
   "metadata": {},
   "outputs": [
    {
     "data": {
      "text/plain": [
       "array([[inf, inf, inf, ..., inf, inf, inf],\n",
       "       [inf, inf, inf, ..., inf, inf, inf],\n",
       "       [inf, inf, inf, ..., inf, inf, inf],\n",
       "       ...,\n",
       "       [inf, inf, inf, ..., inf, inf, inf],\n",
       "       [inf, inf, inf, ..., inf, inf, inf],\n",
       "       [inf, inf, inf, ..., inf, inf, inf]], dtype=float32)"
      ]
     },
     "execution_count": 9,
     "metadata": {},
     "output_type": "execute_result"
    }
   ],
   "source": [
    "fric"
   ]
  },
  {
   "cell_type": "code",
   "execution_count": 10,
   "id": "4b559f24",
   "metadata": {},
   "outputs": [],
   "source": [
    "# Minimum cost path betweenn all nodes\n",
    "mcp = MCP_Geometric(fric, fully_connected=True)"
   ]
  },
  {
   "cell_type": "code",
   "execution_count": 11,
   "id": "27c60abe",
   "metadata": {},
   "outputs": [],
   "source": [
    "#Finding start points\n",
    "row, col = friction_start_points(friction, supply_points) # travel_time does not need to be here, remove from function"
   ]
  },
  {
   "cell_type": "code",
   "execution_count": 12,
   "id": "54957ea5",
   "metadata": {},
   "outputs": [],
   "source": [
    "#Adding statvalues\n",
    "pointlist = []\n",
    "i = 0\n",
    "for test in row:\n",
    "    positiions = [row[i],col[i]]\n",
    "    pointlist.append(positiions)\n",
    "    i = i+1\n",
    "    \n",
    "# pointlist = np.column_stack((row, col)) # suggestion"
   ]
  },
  {
   "cell_type": "code",
   "execution_count": 13,
   "id": "f08a1ffe",
   "metadata": {},
   "outputs": [],
   "source": [
    "#minimum cost\n",
    "cumulative_costs, traceback = mcp.find_costs(starts=pointlist)\n",
    "cumulative_costs[np.where(cumulative_costs==float('inf'))] = np.nan"
   ]
  },
  {
   "cell_type": "code",
   "execution_count": 16,
   "id": "bcd6935f",
   "metadata": {},
   "outputs": [],
   "source": [
    "# the way this dataset is created can be improved\n",
    "new_dataset = rasterio.open(travel_time, 'w', driver='GTiff',\n",
    "                            height = src.shape[0], width = src.shape[1],\n",
    "                            count=1, dtype=\"float64\",\n",
    "                            crs=src.crs, transform = src.transform)\n",
    "\n",
    "new_dataset.write(cumulative_costs, 1)\n",
    "new_dataset.close()"
   ]
  }
 ],
 "metadata": {
  "kernelspec": {
   "display_name": "Python 3",
   "language": "python",
   "name": "python3"
  },
  "language_info": {
   "codemirror_mode": {
    "name": "ipython",
    "version": 3
   },
   "file_extension": ".py",
   "mimetype": "text/x-python",
   "name": "python",
   "nbconvert_exporter": "python",
   "pygments_lexer": "ipython3",
   "version": "3.9.2"
  }
 },
 "nbformat": 4,
 "nbformat_minor": 5
}

{
 "cells": [
  {
   "cell_type": "code",
   "execution_count": 65,
   "id": "6bfd40ac",
   "metadata": {},
   "outputs": [],
   "source": [
    "import rasterio\n",
    "import geopandas as gpd\n",
    "import numpy as np\n",
    "from skimage.graph.mcp import MCP_Geometric\n",
    "from onstove.raster import *"
   ]
  },
  {
   "cell_type": "code",
   "execution_count": 66,
   "id": "9e3dabaa",
   "metadata": {},
   "outputs": [],
   "source": [
    "# This map represents the travel speed from this allocation process, expressed in units of minutes \n",
    "# required to travel one metre.\n",
    "friction = r\"C:\\Proposals\\CCA\\LPG_CODE_TEST_LAYERS\\new_friction.tif\"\n",
    "# Startpoints\n",
    "supply_points = r\"C:\\Proposals\\CCA\\LPG_CODE_TEST_LAYERS\\LPG_start.shp\"\n",
    "gdf_supply_points = gpd.read_file(supply_points)\n",
    "#distance raster\n",
    "distance = r\"C:\\Proposals\\CCA\\LPG_CODE_TEST_LAYERS\\distance.tif\"\n",
    "#new friction based on start points\n",
    "travel_time = r\"C:\\Proposals\\CCA\\LPG_CODE_TEST_LAYERS\\travel_time_2.tif\""
   ]
  },
  {
   "cell_type": "code",
   "execution_count": 67,
   "id": "52acf813",
   "metadata": {},
   "outputs": [],
   "source": [
    "# Read raster as array and set nodata to infinity to avoid taking nodata cells as path\n",
    "with rasterio.open(friction) as src:\n",
    "    fric = src.read(1)\n",
    "    fric = fric*1000/60"
   ]
  },
  {
   "cell_type": "code",
   "execution_count": 68,
   "id": "4b559f24",
   "metadata": {},
   "outputs": [],
   "source": [
    "# Minimum cost path betweenn all nodes\n",
    "mcp = MCP_Geometric(fric, fully_connected=True)"
   ]
  },
  {
   "cell_type": "code",
   "execution_count": 69,
   "id": "27c60abe",
   "metadata": {},
   "outputs": [],
   "source": [
    "#Finding start points\n",
    "row, col = friction_start_points(friction, supply_points, travel_time)"
   ]
  },
  {
   "cell_type": "code",
   "execution_count": 70,
   "id": "54957ea5",
   "metadata": {},
   "outputs": [],
   "source": [
    "#Adding statvalues\n",
    "pointlist = []\n",
    "i = 0\n",
    "for test in row:\n",
    "    positiions = [row[i],col[i]]\n",
    "    pointlist.append(positiions)\n",
    "    i = i+1"
   ]
  },
  {
   "cell_type": "code",
   "execution_count": 71,
   "id": "f08a1ffe",
   "metadata": {},
   "outputs": [],
   "source": [
    "#minimum cost\n",
    "cumulative_costs, traceback = mcp.find_costs(starts=pointlist)\n",
    "cumulative_costs[np.where(cumulative_costs==float('inf'))] = np.nan"
   ]
  },
  {
   "cell_type": "code",
   "execution_count": 72,
   "id": "bcd6935f",
   "metadata": {},
   "outputs": [],
   "source": [
    "new_dataset = rasterio.open(travel_time, 'w', driver='GTiff',\n",
    "                            height = src.shape[0], width = src.shape[1],\n",
    "                            count=1, dtype=\"float64\",\n",
    "                            crs=src.crs, transform = src.transform)\n",
    "\n",
    "new_dataset.write(cumulative_costs, 1)\n",
    "new_dataset.close()"
   ]
  }
 ],
 "metadata": {
  "kernelspec": {
   "display_name": "Python 3",
   "language": "python",
   "name": "python3"
  },
  "language_info": {
   "codemirror_mode": {
    "name": "ipython",
    "version": 3
   },
   "file_extension": ".py",
   "mimetype": "text/x-python",
   "name": "python",
   "nbconvert_exporter": "python",
   "pygments_lexer": "ipython3",
   "version": "3.8.8"
  }
 },
 "nbformat": 4,
 "nbformat_minor": 5
}

{
 "cells": [
  {
   "cell_type": "markdown",
   "metadata": {},
   "source": [
    "https://scikit-learn.org/stable/modules/clustering.html#dbscan\n",
    "\n",
    "Baserat på en första titt:\n",
    "* **DBScan**\n",
    "* Optics\n",
    "* Gaussian Mixture\n",
    "\n",
    "Inputs that are used: <br/>\n",
    "**eps** = Negihbourhood size will do in intervalls of 50 from 100 to 500<br/>\n",
    "**min_sample** = minimum number of points in each clusters. This will kept as 1. This ensures that the points that are too far away from other points is not forced into a seperate cluster."
   ]
  },
  {
   "cell_type": "code",
   "execution_count": null,
   "metadata": {},
   "outputs": [],
   "source": [
    "import numpy as np\n",
    "import geopandas as gpd\n",
    "from sklearn.cluster import DBSCAN\n",
    "import pandas as pd"
   ]
  },
  {
   "cell_type": "code",
   "execution_count": null,
   "metadata": {},
   "outputs": [],
   "source": [
    "gdf = gpd.read_file(r\"C:\\PhD\\Papers\\2. MAUP\\Namibia\\100m\\100m.shp\")"
   ]
  },
  {
   "cell_type": "code",
   "execution_count": null,
   "metadata": {},
   "outputs": [],
   "source": [
    "pt = gdf.to_crs({ 'init': 'EPSG:3395'})\n",
    "pt[\"X\"] = pt[\"geometry\"].x\n",
    "pt[\"Y\"] = pt[\"geometry\"].y"
   ]
  },
  {
   "cell_type": "code",
   "execution_count": null,
   "metadata": {},
   "outputs": [],
   "source": [
    "pt = pt[['X','Y',\"id\",\"Pop\"]]"
   ]
  },
  {
   "cell_type": "code",
   "execution_count": null,
   "metadata": {},
   "outputs": [],
   "source": [
    "numpis=pt.to_numpy()"
   ]
  },
  {
   "cell_type": "code",
   "execution_count": null,
   "metadata": {},
   "outputs": [],
   "source": [
    "df = pd.DataFrame(numpis)\n",
    "\n",
    "x = [100, 150, 200, 250, 300, 350, 400, 450, 500]\n",
    "for val in x: \n",
    "    db = DBSCAN(eps=val, min_samples=1).fit(df)\n",
    "    core_samples_mask = np.zeros_like(db.labels_, dtype=bool)\n",
    "    core_samples_mask[db.core_sample_indices_] = True\n",
    "    labels = db.labels_\n",
    "    df[\"clusters\"] = db.labels_\n",
    "    n_clusters_ = len(set(labels)) - (1 if -1 in labels else 0)\n",
    "    n_noise_ = list(labels).count(-1)\n",
    "\n",
    "    print('Estimated number of clusters: %d' % n_clusters_)\n",
    "\n",
    "    df.to_csv(\"test\" + str(val) + \".csv\")"
   ]
  }
 ],
 "metadata": {
  "kernelspec": {
   "display_name": "Python 3",
   "language": "python",
   "name": "python3"
  },
  "language_info": {
   "codemirror_mode": {
    "name": "ipython",
    "version": 3
   },
   "file_extension": ".py",
   "mimetype": "text/x-python",
   "name": "python",
   "nbconvert_exporter": "python",
   "pygments_lexer": "ipython3",
   "version": "3.8.3"
  }
 },
 "nbformat": 4,
 "nbformat_minor": 5
}

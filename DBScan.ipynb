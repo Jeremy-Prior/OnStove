{
 "cells": [
  {
   "cell_type": "markdown",
   "id": "cafbe287",
   "metadata": {},
   "source": [
    "# DBScan\n",
    "\n",
    "https://scikit-learn.org/stable/modules/clustering.html#dbscan\n",
    "\n",
    "Inputs that are used: <br/>\n",
    "**eps** = Negihbourhood size will do in intervalls of 50 from 100 to 500<br/>\n",
    "**min_sample** = Minimum points in radius (including centerpoint) in order for centerpoint to be considered a core point. In this notebook I loop through 1, 3 and 5."
   ]
  },
  {
   "cell_type": "code",
   "execution_count": null,
   "id": "93ee6d35",
   "metadata": {},
   "outputs": [],
   "source": [
    "import numpy as np\n",
    "import geopandas as gpd\n",
    "from sklearn.cluster import DBSCAN\n",
    "from osgeo import gdal, ogr, osr\n",
    "import os\n",
    "import pandas as pd\n",
    "import rasterio as rio\n",
    "from rasterio import features"
   ]
  },
  {
   "cell_type": "code",
   "execution_count": null,
   "id": "922df50a",
   "metadata": {},
   "outputs": [],
   "source": [
    "gdf = gpd.read_file(r\"C:\\PhD\\Papers\\2. MAUP\\Namibia\\points.shp\")\n",
    "raster = rio.open(r\"C:\\PhD\\Papers\\2. MAUP\\Namibia\\100m\\100mPop.tif\")"
   ]
  },
  {
   "cell_type": "code",
   "execution_count": null,
   "id": "83edafcd",
   "metadata": {},
   "outputs": [],
   "source": [
    "pt = gdf.to_crs({ 'init': 'EPSG:3395'})\n",
    "pt[\"X\"] = pt[\"geometry\"].x\n",
    "pt[\"Y\"] = pt[\"geometry\"].y\n",
    "pt = pt[['X', 'Y']]"
   ]
  },
  {
   "cell_type": "code",
   "execution_count": null,
   "id": "18d0cd50",
   "metadata": {},
   "outputs": [],
   "source": [
    "numpis=pt.to_numpy()\n",
    "df = pd.DataFrame(numpis)"
   ]
  },
  {
   "cell_type": "code",
   "execution_count": null,
   "id": "e70be3dd",
   "metadata": {},
   "outputs": [],
   "source": [
    "n_clusters_"
   ]
  },
  {
   "cell_type": "code",
   "execution_count": null,
   "id": "0d5b10e1",
   "metadata": {},
   "outputs": [],
   "source": [
    "x = [200, 250, 300, 350, 400, 450, 500]\n",
    "y = [1, 3, 5]\n",
    "for core in y:\n",
    "    for val in x: \n",
    "        df = df.drop(columns=['geometry'], errors = 'ignore')\n",
    "        db = DBSCAN(eps=val, min_samples=core).fit(numpis)\n",
    "        core_samples_mask = np.zeros_like(db.labels_, dtype=bool)\n",
    "        core_samples_mask[db.core_sample_indices_] = True\n",
    "        labels = db.labels_\n",
    "        df[\"clusters\"] = db.labels_\n",
    "        n_clusters_ = len(set(labels)) - (1 if -1 in labels else 0)\n",
    "\n",
    "        df = df.rename(columns={0: \"X\",1:\"Y\"})\n",
    "\n",
    "        print('Estimated number of clusters: %d' % n_clusters_)\n",
    "\n",
    "        gdf = gpd.GeoDataFrame(\n",
    "            df, geometry=gpd.points_from_xy(df.X, df.Y))\n",
    "\n",
    "        gdf = gdf[[\"clusters\",\"geometry\"]]\n",
    "        gdf = gdf.rename(columns={'geom': 'geometry'})\n",
    "        gdf.crs = {'init' :'epsg:3395'}\n",
    "        gdf = gdf.to_crs({'init': 'EPSG:4326'})\n",
    "        gdf = gdf.rename(columns={'geometry': 'geom'})\n",
    "\n",
    "        dff = gdf[['clusters', 'geom']]\n",
    "        shapes = ((g, v) for v, g in zip(dff['clusters'].values, dff['geom'].values))\n",
    "\n",
    "        with rio.open(raster.name) as src:\n",
    "            image = features.rasterize(\n",
    "                        shapes,\n",
    "                        out_shape=src.shape,\n",
    "                        transform=src.transform,\n",
    "                        all_touched=False)\n",
    "            image = image.astype('float64')\n",
    "\n",
    "            out_meta = src.meta\n",
    "\n",
    "            out_meta.update({\"driver\": \"GTiff\",\n",
    "                             \"height\": src.height,\n",
    "                             \"width\": src.width,\n",
    "                             \"transform\": src.transform,\n",
    "                             'dtype': rio.float64,\n",
    "                             \"crs\": src.crs,\n",
    "                             \"compress\":'LZW',\n",
    "                             \"nodata\": 0})\n",
    "\n",
    "        with rio.open(\"clusters_\" +str(core) +'_'+ str(val) + \"_2.tif\", 'w', **out_meta) as dst:\n",
    "            dst.write(image, indexes=1)      "
   ]
  },
  {
   "cell_type": "code",
   "execution_count": null,
   "id": "e785e095",
   "metadata": {},
   "outputs": [],
   "source": [
    "def toPolygon(Raster, output, fieldName):\n",
    "   \n",
    "    Raster = gdal.Open(Raster)\n",
    "    \n",
    "    band = Raster.GetRasterBand(1)\n",
    "    bandArray = band.ReadAsArray()\n",
    "    \n",
    "    outShapefile = output\n",
    "    \n",
    "    driver = ogr.GetDriverByName(\"ESRI Shapefile\")\n",
    "    if os.path.exists(outShapefile+\".shp\"):\n",
    "        driver.DeleteDataSource(outShapefile+\".shp\")\n",
    "    outDatasource = driver.CreateDataSource(outShapefile+ \".shp\")\n",
    "    \n",
    "    spat_ref = osr.SpatialReference()\n",
    "    proj = Raster.GetProjectionRef()\n",
    "    spat_ref.ImportFromWkt(proj)\n",
    "    \n",
    "    \n",
    "    outLayer = outDatasource.CreateLayer(outShapefile+ \".shp\", srs=spat_ref)\n",
    "    newField = ogr.FieldDefn(fieldName, ogr.OFTInteger)\n",
    "    outLayer.CreateField(newField)\n",
    "    \n",
    "    gdal.Polygonize(band, band, outLayer, 0, [\"8CONNECTED=8\",\"GROUPBY=\"+\"fieldName\"], callback=None)\n",
    "    outDatasource.Destroy()\n",
    "    sourceRaster = None\n",
    "    return bandArray"
   ]
  },
  {
   "cell_type": "code",
   "execution_count": null,
   "id": "f89d8047",
   "metadata": {},
   "outputs": [],
   "source": [
    "for file in os.listdir(r\"C:\\PhD\\Papers\\2. MAUP\\Test\"):\n",
    "    filename = os.fsdecode(file)\n",
    "    if filename.endswith(\".tif\"):\n",
    "        toPolygon(filename, filename[:-4])"
   ]
  }
 ],
 "metadata": {
  "kernelspec": {
   "display_name": "Python 3",
   "language": "python",
   "name": "python3"
  },
  "language_info": {
   "codemirror_mode": {
    "name": "ipython",
    "version": 3
   },
   "file_extension": ".py",
   "mimetype": "text/x-python",
   "name": "python",
   "nbconvert_exporter": "python",
   "pygments_lexer": "ipython3",
   "version": "3.8.8"
  }
 },
 "nbformat": 4,
 "nbformat_minor": 5
}

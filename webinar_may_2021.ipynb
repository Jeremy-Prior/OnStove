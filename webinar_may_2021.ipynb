{
 "cells": [
  {
   "cell_type": "code",
   "execution_count": null,
   "id": "69aa5842",
   "metadata": {},
   "outputs": [],
   "source": [
    "import os\n",
    "import psycopg2\n",
    "import pandas as pd\n",
    "import geopandas as gpd\n",
    "from rasterio.plot import show\n",
    "import matplotlib.pyplot as plt\n",
    "import matplotlib\n",
    "import contextily as ctx\n",
    "import shapely\n",
    "import json\n",
    "import numpy as np\n",
    "from decouple import config\n",
    "\n",
    "from functions import *"
   ]
  },
  {
   "cell_type": "markdown",
   "id": "f24565fd",
   "metadata": {},
   "source": [
    "## Connect to Postgres data base\n",
    "To connect to the postgres database, you should have a text file called `.env` in the same directory as the notebook, containing the user and password information for the database as:\n",
    "```\n",
    "POSTGRES_USER=user_name\n",
    "POSTGRES_KEY=password\n",
    "```"
   ]
  },
  {
   "cell_type": "code",
   "execution_count": null,
   "id": "9efe05f1",
   "metadata": {},
   "outputs": [],
   "source": [
    "POSTGRES_USER = config('POSTGRES_USER')\n",
    "POSTGRES_KEY = config('POSTGRES_KEY')\n",
    "THUNDERFOREST_KEY = config('THUNDERFOREST_KEY')\n",
    "ctx.providers.Thunderforest.Outdoors['apikey'] = THUNDERFOREST_KEY"
   ]
  },
  {
   "cell_type": "markdown",
   "id": "336d77d9",
   "metadata": {},
   "source": [
    "Then we make the connection to the specific database using the `psycopg2.connect()` function:"
   ]
  },
  {
   "cell_type": "code",
   "execution_count": null,
   "id": "be929af5",
   "metadata": {},
   "outputs": [],
   "source": [
    "conn = psycopg2.connect(\n",
    "   database=\"nepal\", user=POSTGRES_USER, password=POSTGRES_KEY\n",
    ")"
   ]
  },
  {
   "cell_type": "code",
   "execution_count": null,
   "id": "49b5955e",
   "metadata": {},
   "outputs": [],
   "source": [
    "base_map = 'data/nepal_basemap.tif'\n",
    "scenario = 'Scenario 6'\n",
    "os.makedirs(os.path.join('maps', scenario), exist_ok=True)"
   ]
  },
  {
   "cell_type": "markdown",
   "id": "98c885bd",
   "metadata": {},
   "source": [
    "## Reading vector layers\n",
    "Now that we have connection to the database we can read vector layers stored in it. For that, we can use the library `geopandas` passing an SQL string to the `gpd.read_postgis()` function. This SQL string needs to specify which rows we want to read from an specific table (the `*` indicates all). the structure follow the next logic:\n",
    "```\n",
    "'SELECT * FROM schema.table_name'\n",
    "```\n",
    "The schema works like a folder containing tables (i.e. layers) inside the database, whereas the table name should be writen exactly as the registered name in the database. If such name uses capital letters, then you should enclose the name inside double coutes as `'SELECT * FROM schema.\"Table_Name\"'`."
   ]
  },
  {
   "cell_type": "code",
   "execution_count": null,
   "id": "1a9f907c",
   "metadata": {},
   "outputs": [],
   "source": [
    "sql = 'SELECT * FROM admin.npl_admbnda_adm0_nd_20201117'\n",
    "df_adm0 = gpd.read_postgis(sql, conn)\n",
    "sql = 'SELECT * FROM admin.npl_admbnda_adm1_nd_20201117'\n",
    "df_adm1 = gpd.read_postgis(sql, conn)\n",
    "sql = 'SELECT * FROM admin.npl_admbnda_adm2_nd_20201117'\n",
    "df_adm2 = gpd.read_postgis(sql, conn)\n",
    "df_adm1['id'] = df_adm1.index\n",
    "sql = 'SELECT * FROM admin.npl_admbnda_districts_nd_20201117'\n",
    "df_district = gpd.read_postgis(sql, conn)"
   ]
  },
  {
   "cell_type": "code",
   "execution_count": null,
   "id": "7a55983b",
   "metadata": {},
   "outputs": [],
   "source": [
    "sql = 'SELECT * FROM power_network.substations_georeferenced'\n",
    "df_sub = gpd.read_postgis(sql, conn)\n",
    "sql = 'SELECT * FROM power_network.hv_lines_georeferenced'\n",
    "df_hv = gpd.read_postgis(sql, conn)\n",
    "sql = 'SELECT * FROM power_network.micro_hydropower'\n",
    "df_mh = gpd.read_postgis(sql, conn)\n",
    "sql = 'SELECT * FROM power_network.distribution_coverage'\n",
    "df_dist = gpd.read_postgis(sql, conn)"
   ]
  },
  {
   "cell_type": "code",
   "execution_count": null,
   "id": "03f86daf",
   "metadata": {},
   "outputs": [],
   "source": [
    "sql = 'SELECT * FROM places.education_facilities'\n",
    "df_edu = gpd.read_postgis(sql, conn)\n",
    "sql = 'SELECT * FROM places.health_facilities'\n",
    "df_health = gpd.read_postgis(sql, conn)"
   ]
  },
  {
   "cell_type": "markdown",
   "id": "3aa2d760",
   "metadata": {},
   "source": [
    "## Loading population density data"
   ]
  },
  {
   "cell_type": "code",
   "execution_count": null,
   "id": "d7845428",
   "metadata": {},
   "outputs": [],
   "source": [
    "base_layer = 'data/population_npl_2018-10-01_1km.tif'\n",
    "    \n",
    "with rasterio.open(base_layer) as src:\n",
    "    bounds = src.bounds\n",
    "    extent = [bounds[0], bounds[2], bounds[1], bounds[3]] # [left, right, bottom, top]\n",
    "    raster = src.read(1)\n",
    "    raster[raster<0] = np.nan\n",
    "    raster /= 1000\n",
    "    \n",
    "with rasterio.open(base_map) as src:\n",
    "    fig, ax = plt.subplots(1,1, figsize=(16, 9))\n",
    "#     show(src, ax=ax)\n",
    "    \n",
    "df_adm0.to_crs(epsg=3857).plot(color='black', alpha=0.4, linewidth=1, ax=ax, zorder=1)\n",
    "# df_adm1.to_crs(epsg=3857).boundary.plot(color='white', linewidth=1, ax=ax, zorder=1)\n",
    "# df_edu.to_crs(epsg=3857).plot(color='green', alpha=1, linewidth=1, \n",
    "#                               edgecolor='white', ax=ax, label='Education facilities')\n",
    "df_health.to_crs(epsg=3857).plot(color='red', ax=ax,  linewidth=1, edgecolor='white',\n",
    "                                 label='Health facilities', zorder=10)\n",
    "\n",
    "ctx.add_basemap(ax, source=ctx.providers.Thunderforest.Outdoors)\n",
    "\n",
    "# im = ax.imshow(raster, cmap='magma', extent=extent, norm=matplotlib.colors.LogNorm(), zorder=2)\n",
    "\n",
    "# cbar = fig.colorbar(im, ax=ax, shrink=0.8)\n",
    "# cbar.ax.set_ylabel('Population density (persons/km$^2$)')\n",
    "# cbar.ax.set_xlabel('Log scale')\n",
    "lgnd = ax.legend(loc=\"upper right\", prop={'size': 12})\n",
    "lgnd.legendHandles[0]._sizes = [60]\n",
    "ax.set_axis_off()\n",
    "# plt.title('Clean cooking demand index\\nDemand: Educational facilities and population')\n",
    "fig.savefig(f\"maps/{scenario}/demand.jpg\", dpi=300, bbox_inches='tight')"
   ]
  },
  {
   "cell_type": "markdown",
   "id": "54031c33",
   "metadata": {},
   "source": [
    "## Plotting the electricity infrastructure"
   ]
  },
  {
   "cell_type": "code",
   "execution_count": null,
   "id": "9c838076",
   "metadata": {},
   "outputs": [],
   "source": [
    "fig, ax = plt.subplots(1, 1, figsize=(16, 9))\n",
    "df_adm1.to_crs(epsg=3857).boundary.plot(color='black', ax=ax, zorder=1)\n",
    "# df_hv.loc[df_hv['status']=='E'].to_crs(epsg=3857).plot(color='orange', linewidth=3, ax=ax, label='Existing transmission lines')\n",
    "# df_hv.loc[df_hv['status']=='P'].to_crs(epsg=3857).plot(color='yellow', linewidth=3, ax=ax, label='Planned transmission lines')\n",
    "df_mh.to_crs(epsg=3857).plot(marker=\"^\", color='blue', linewidth=1, markersize=60,\n",
    "                             edgecolor='white', ax=ax, label='Micro hydro power', zorder=10)\n",
    "# df_dist.to_crs(epsg=3857).plot(column='voltage', cmap='Set2', ax=ax, label='Distribution coverage')\n",
    "# df_sub.loc[df_sub['status']=='E'].to_crs(epsg=3857).plot(color='brown', ax=ax,  linewidth=1, edgecolor='white',\n",
    "#                                                          markersize=60, label='Existing substations', zorder=10)\n",
    "# df_sub.loc[df_sub['status']=='P'].to_crs(epsg=3857).plot(color='red', ax=ax,  linewidth=1, edgecolor='white',\n",
    "#                                                          markersize=60, label='Planned substations', zorder=10)\n",
    "ctx.add_basemap(ax, source=ctx.providers.Thunderforest.Outdoors)\n",
    "ax.set_axis_off()\n",
    "lgnd = plt.legend(loc=\"upper right\", prop={'size': 12})\n",
    "lgnd.legendHandles[0]._sizes = [60]\n",
    "fig.savefig(f\"maps/{scenario}/elec_infra.jpg\", dpi=300, bbox_inches='tight')"
   ]
  },
  {
   "cell_type": "markdown",
   "id": "c63af31f",
   "metadata": {},
   "source": [
    "## MCA analysis"
   ]
  },
  {
   "cell_type": "markdown",
   "id": "0721b49d",
   "metadata": {},
   "source": [
    "### Calculating proximity to education facilities"
   ]
  },
  {
   "cell_type": "code",
   "execution_count": null,
   "id": "3c1a74eb",
   "metadata": {},
   "outputs": [],
   "source": [
    "rasterize(df_edu.to_crs(3857), base_layer, 'temp/rasterized_edu.tif', \n",
    "          compression='DEFLATE')\n",
    "proximity_raster('temp/rasterized_edu.tif', 'temp/output_edu.tif', [1], 'DEFLATE')\n",
    "mask_raster('temp/output_edu.tif', df_adm0.to_crs(3857), \n",
    "            'temp/output_masked_edu.tif', -9999, 'DEFLATE')"
   ]
  },
  {
   "cell_type": "code",
   "execution_count": null,
   "id": "ad90c0ba",
   "metadata": {},
   "outputs": [],
   "source": [
    "with rasterio.open(base_map) as src:\n",
    "    fig, ax = plt.subplots(1,1, figsize=(16, 9))\n",
    "    show(src, ax=ax)\n",
    "    \n",
    "with rasterio.open('temp/output_masked_edu.tif') as src:\n",
    "    raster = src.read(1)\n",
    "    raster[raster<0] = np.nan\n",
    "    raster /= 1000\n",
    "\n",
    "cax = ax.imshow(raster, extent=extent, cmap='viridis_r')\n",
    "cbar = fig.colorbar(cax, shrink=0.8)\n",
    "cbar.ax.set_ylabel('Distance to facilities (km)')\n",
    "ax.set_axis_off()\n",
    "\n",
    "# plt.title('Clean cooking demand index\\nDemand: Educational facilities and population')\n",
    "# fig.savefig(\"maps/dist_to_edu.png\", dpi=300, bbox_inches='tight')"
   ]
  },
  {
   "cell_type": "markdown",
   "id": "15d164a2",
   "metadata": {},
   "source": [
    "### Calculating proximity to health facilities"
   ]
  },
  {
   "cell_type": "code",
   "execution_count": null,
   "id": "2121fc73",
   "metadata": {},
   "outputs": [],
   "source": [
    "rasterize(df_health.to_crs(3857), base_layer, 'temp/rasterized_health.tif', \n",
    "          compression='DEFLATE')\n",
    "proximity_raster('temp/rasterized_health.tif', 'temp/output_health.tif', [1], 'DEFLATE')\n",
    "mask_raster('temp/output_health.tif', df_adm0.to_crs(3857), \n",
    "            'temp/output_masked_health.tif', -9999, 'DEFLATE')"
   ]
  },
  {
   "cell_type": "markdown",
   "id": "812f5f19",
   "metadata": {},
   "source": [
    "### Calculating demand index"
   ]
  },
  {
   "cell_type": "code",
   "execution_count": null,
   "id": "b039c297",
   "metadata": {},
   "outputs": [],
   "source": [
    "with rasterio.open(base_layer) as src:\n",
    "    population = src.read(1)\n",
    "    population[population==0] = np.nan\n",
    "    population[population>0] = np.log(population[population>0])\n",
    "    population = np.nan_to_num(population, nan=0)\n",
    "    population[population<0] = np.nan\n",
    "\n",
    "    population = population / (np.nanmax(population) - np.nanmin(population))\n",
    "#     population = np.nan_to_num(population, nan=0)\n",
    "    \n",
    "with rasterio.open(base_map) as src:\n",
    "    fig, ax = plt.subplots(1,1, figsize=(16, 9))\n",
    "    show(src, ax=ax)\n",
    "\n",
    "rasters = [\n",
    "#     1 - normalize('temp/output_masked_edu.tif'),\n",
    "    1 - normalize('temp/output_masked_health.tif', limit=10000),\n",
    "#     population\n",
    "]\n",
    "weights = [\n",
    "#     1,\n",
    "#     1,\n",
    "    1\n",
    "]\n",
    "\n",
    "demand_index = index(rasters, weights)\n",
    "    \n",
    "cax = ax.imshow(demand_index, extent=extent, cmap='magma', vmin=0, vmax=1)\n",
    "cbar = fig.colorbar(cax, shrink=0.8, ticks=[0, 0.5, 1])\n",
    "cbar.ax.set_yticklabels(['Low', 'Medium', 'High'])\n",
    "cbar.ax.set_ylabel('Clean Cooking Demand index')\n",
    "ax.set_axis_off()\n",
    "# plt.title('Clean cooking demand index\\nDemand: Educational facilities and population')\n",
    "fig.savefig(f\"maps/{scenario}/demand_index.png\", dpi=300, bbox_inches='tight')"
   ]
  },
  {
   "cell_type": "markdown",
   "id": "45fadc72",
   "metadata": {},
   "source": [
    "### Calculating proximity to existing transmission substations"
   ]
  },
  {
   "cell_type": "code",
   "execution_count": null,
   "id": "913a02dc",
   "metadata": {},
   "outputs": [],
   "source": [
    "rasterize(df_sub.to_crs(3857).loc[df_sub['status']=='E'], base_layer, \n",
    "          'temp/rasterized_sub.tif', compression='DEFLATE')\n",
    "proximity_raster('temp/rasterized_sub.tif', 'temp/output_sub.tif', [1], 'DEFLATE')\n",
    "mask_raster('temp/output_sub.tif', df_adm0.to_crs(3857), \n",
    "            'temp/output_masked_sub.tif', -9999, 'DEFLATE')"
   ]
  },
  {
   "cell_type": "code",
   "execution_count": null,
   "id": "bffc3090",
   "metadata": {},
   "outputs": [],
   "source": [
    "with rasterio.open('temp/output_masked_sub.tif') as src:\n",
    "    raster = src.read(1)\n",
    "    raster[raster<0] = np.nan\n",
    "    raster /= 1000\n",
    "\n",
    "with rasterio.open(base_map) as src:\n",
    "    fig, ax = plt.subplots(1,1, figsize=(16, 9))\n",
    "    show(src, ax=ax)\n",
    "    \n",
    "plt.imshow(raster, extent=extent, cmap='viridis_r')\n",
    "cbar = plt.colorbar(shrink=0.8)\n",
    "cbar.ax.set_ylabel('Distance to electricity infrastructure (km)')\n",
    "ax.set_axis_off()"
   ]
  },
  {
   "cell_type": "markdown",
   "id": "a5b037d4",
   "metadata": {},
   "source": [
    "### Calculating proximity to planned transmission substations"
   ]
  },
  {
   "cell_type": "code",
   "execution_count": null,
   "id": "a8567616",
   "metadata": {},
   "outputs": [],
   "source": [
    "rasterize(df_sub.to_crs(3857).loc[df_sub['status']=='P'], base_layer, \n",
    "          'temp/rasterized_subp.tif', compression='DEFLATE')\n",
    "proximity_raster('temp/rasterized_subp.tif', 'temp/output_subp.tif', [1], 'DEFLATE')\n",
    "mask_raster('temp/output_subp.tif', df_adm0.to_crs(3857), \n",
    "            'temp/output_masked_subp.tif', -9999, 'DEFLATE')"
   ]
  },
  {
   "cell_type": "markdown",
   "id": "f31ce5d2",
   "metadata": {},
   "source": [
    "### Calculating proximity to existing HV lines"
   ]
  },
  {
   "cell_type": "code",
   "execution_count": null,
   "id": "537f7a8c",
   "metadata": {},
   "outputs": [],
   "source": [
    "df_hv_buffer = df_hv.copy().to_crs(3857)\n",
    "df_hv_buffer['geom'] = df_hv_buffer['geom'].buffer(1)\n",
    "\n",
    "rasterize(df_hv_buffer.loc[df_hv_buffer['status']=='E'], base_layer, 'temp/rasterized_hv.tif', \n",
    "          value='voltage', compression='DEFLATE', dtype='uint16', all_touched=True)\n",
    "proximity_raster('temp/rasterized_hv.tif', 'temp/output_hv.tif', [132, 220, 400], 'DEFLATE')\n",
    "mask_raster('temp/output_hv.tif', df_adm0.to_crs(3857), \n",
    "            'temp/output_masked_hv.tif', -9999, 'DEFLATE')"
   ]
  },
  {
   "cell_type": "code",
   "execution_count": null,
   "id": "8f2720ef",
   "metadata": {},
   "outputs": [],
   "source": [
    "with rasterio.open('temp/output_masked_hv.tif') as src:\n",
    "    raster = src.read(1)\n",
    "    raster[raster<0] = np.nan\n",
    "    raster /= 1000\n",
    "    \n",
    "with rasterio.open(base_map) as src:\n",
    "    fig, ax = plt.subplots(1,1, figsize=(16, 9))\n",
    "    show(src, ax=ax)\n",
    "\n",
    "plt.imshow(raster, extent=extent, cmap='viridis_r')\n",
    "cbar = plt.colorbar(shrink=0.8)\n",
    "cbar.ax.set_ylabel('Distance to transmission lines (km)')\n",
    "ax.set_axis_off()\n",
    "# fig.savefig(\"maps/dist_to_hv.png\", dpi=300, bbox_inches='tight')"
   ]
  },
  {
   "cell_type": "markdown",
   "id": "c06808da",
   "metadata": {},
   "source": [
    "### Calculating proximity to planned HV lines"
   ]
  },
  {
   "cell_type": "code",
   "execution_count": null,
   "id": "1bcaf81b",
   "metadata": {},
   "outputs": [],
   "source": [
    "df_hv_buffer = df_hv.copy().to_crs(3857)\n",
    "df_hv_buffer['geom'] = df_hv_buffer['geom'].buffer(1)\n",
    "\n",
    "rasterize(df_hv_buffer.loc[df_hv_buffer['status']=='P'], base_layer, 'temp/rasterized_hvp.tif', \n",
    "          value='voltage', compression='DEFLATE', dtype='uint16', all_touched=True)\n",
    "proximity_raster('temp/rasterized_hvp.tif', 'temp/output_hvp.tif', [132, 220, 400], 'DEFLATE')\n",
    "mask_raster('temp/output_hvp.tif', df_adm0.to_crs(3857), \n",
    "            'temp/output_masked_hvp.tif', -9999, 'DEFLATE')"
   ]
  },
  {
   "cell_type": "markdown",
   "id": "dcbe6f3c",
   "metadata": {},
   "source": [
    "### Calculating proximity to micro hydro power"
   ]
  },
  {
   "cell_type": "code",
   "execution_count": null,
   "id": "6114f563",
   "metadata": {},
   "outputs": [],
   "source": [
    "rasterize(df_mh.to_crs(3857), base_layer, \n",
    "          'temp/rasterized_mh.tif', compression='DEFLATE')\n",
    "proximity_raster('temp/rasterized_mh.tif', 'temp/output_mh.tif', [1], 'DEFLATE')\n",
    "mask_raster('temp/output_mh.tif', df_adm0.to_crs(3857), \n",
    "            'temp/output_masked_mh.tif', -9999, 'DEFLATE')"
   ]
  },
  {
   "cell_type": "code",
   "execution_count": null,
   "id": "14987b98",
   "metadata": {},
   "outputs": [],
   "source": [
    "with rasterio.open('temp/output_masked_mh.tif') as src:\n",
    "    raster = src.read(1)\n",
    "    raster[raster<0] = np.nan\n",
    "    raster /= 1000\n",
    "\n",
    "with rasterio.open(base_map) as src:\n",
    "    fig, ax = plt.subplots(1,1, figsize=(16, 9))\n",
    "    show(src, ax=ax)\n",
    "    \n",
    "plt.imshow(raster, extent=extent, cmap='viridis_r')\n",
    "cbar = plt.colorbar(shrink=0.8)\n",
    "cbar.ax.set_ylabel('Distance to micro hydro power (km)')\n",
    "ax.set_axis_off()\n",
    "# fig.savefig(f\"maps/{scenario}/dist_to_mh.png\", dpi=300, bbox_inches='tight')"
   ]
  },
  {
   "cell_type": "markdown",
   "id": "b8a5b914",
   "metadata": {},
   "source": [
    "### Calculating supply index"
   ]
  },
  {
   "cell_type": "code",
   "execution_count": null,
   "id": "09073678",
   "metadata": {},
   "outputs": [],
   "source": [
    "rasters = [\n",
    "    1 - normalize('temp/output_masked_mh.tif', limit=5000),\n",
    "#     1 - normalize('temp/output_masked_sub.tif', limit=30000), \n",
    "#     1 - normalize('temp/output_masked_hv.tif', limit=30000),\n",
    "#     1 - normalize('temp/output_masked_subp.tif', limit=30000), \n",
    "#     1 - normalize('temp/output_masked_hvp.tif', limit=30000)\n",
    "]\n",
    "weights = [\n",
    "#     1, \n",
    "#     1,\n",
    "#     1,\n",
    "#     1,\n",
    "    1\n",
    "]\n",
    "\n",
    "supply_index = index(rasters, weights)\n",
    "\n",
    "with rasterio.open(base_map) as src:\n",
    "    fig, ax = plt.subplots(1,1, figsize=(16, 9))\n",
    "    show(src, ax=ax)\n",
    "    \n",
    "cax = ax.imshow(supply_index, extent=extent, cmap='magma', vmin=0, vmax=1)\n",
    "cbar = fig.colorbar(cax, shrink=0.8, ticks=[0, 0.5, 1])\n",
    "cbar.ax.set_yticklabels(['Low', 'Medium', 'High'])\n",
    "cbar.ax.set_ylabel('Clean Cooking Supply index')\n",
    "ax.set_axis_off()\n",
    "fig.savefig(f\"maps/{scenario}/supply_index.jpeg\", dpi=300, bbox_inches='tight')"
   ]
  },
  {
   "cell_type": "markdown",
   "id": "252aae57",
   "metadata": {},
   "source": [
    "### Calculating the Clean Cooking Potential index"
   ]
  },
  {
   "cell_type": "code",
   "execution_count": null,
   "id": "fcec7dc3",
   "metadata": {},
   "outputs": [],
   "source": [
    "w_s = 1\n",
    "w_d = 1\n",
    "ccp_index = (w_s * supply_index + w_d * demand_index) / (w_s + w_d)\n",
    "\n",
    "with rasterio.open(base_map) as src:\n",
    "    fig, ax = plt.subplots(1,1, figsize=(16, 9))\n",
    "    show(src, ax=ax)\n",
    "    \n",
    "    \n",
    "cax = ax.imshow(ccp_index, extent=extent, cmap='magma')#, vmin=0, vmax=1)\n",
    "cbar = fig.colorbar(cax, shrink=0.8, ticks=[0, 0.5, 1])\n",
    "cbar.ax.set_yticklabels(['Low', 'Medium', 'High'])\n",
    "cbar.ax.set_ylabel('Clean Cooking Potential index')\n",
    "ax.set_axis_off()\n",
    "# plt.title('Clean cooking potential index\\nDemand: Educational facilities and population\\nSupply: HV lines and transmission Substations')\n",
    "fig.savefig(f\"maps/{scenario}/clean_cooking_potential.jpeg\", dpi=300, bbox_inches='tight')"
   ]
  },
  {
   "cell_type": "markdown",
   "id": "6c659bea",
   "metadata": {},
   "source": [
    "### Saving results"
   ]
  },
  {
   "cell_type": "code",
   "execution_count": null,
   "id": "453707cf",
   "metadata": {},
   "outputs": [],
   "source": [
    "with rasterio.open(base_layer) as src:\n",
    "    out_meta = src.meta\n",
    "\n",
    "with rasterio.open(f'maps/{scenario}/ccp_index_const.tif', \"w\", **out_meta) as dest:\n",
    "    dest.write(ccp_index, indexes=1)"
   ]
  },
  {
   "cell_type": "markdown",
   "id": "c9d49d3b",
   "metadata": {},
   "source": [
    "## Prioritizing areas "
   ]
  },
  {
   "cell_type": "code",
   "execution_count": null,
   "id": "81127740",
   "metadata": {},
   "outputs": [],
   "source": [
    "sql = 'SELECT * FROM cooking_fuels.wood'\n",
    "df_wood = gpd.read_postgis(sql, conn)\n",
    "sql = 'SELECT * FROM cooking_fuels.lpg'\n",
    "df_lpg = gpd.read_postgis(sql, conn)"
   ]
  },
  {
   "cell_type": "code",
   "execution_count": null,
   "id": "31c401cd",
   "metadata": {},
   "outputs": [],
   "source": [
    "df_wood.plot(column='Wood / Firewood', legend=True, figsize=(20, 10))\n",
    "plt.title('Amount of households cooking with firewood per municipality')"
   ]
  },
  {
   "cell_type": "code",
   "execution_count": null,
   "id": "38ec66f7",
   "metadata": {
    "scrolled": false
   },
   "outputs": [],
   "source": [
    "df_wood['percentage'] = df_wood['Wood / Firewood'] / df_wood['Total households'] * 100\n",
    "df_lpg['percentage'] = df_lpg['LPG'] / df_lpg['Total households'] * 100\n",
    "\n",
    "fig, ax = plt.subplots(1, 1, figsize=(16, 9))\n",
    "\n",
    "cax = df_lpg.to_crs(epsg=3857).plot(column='percentage', ax=ax, legend=False)\n",
    "ctx.add_basemap(ax, source=ctx.providers.Thunderforest.Outdoors)\n",
    "sm = plt.cm.ScalarMappable()\n",
    "cbar = fig.colorbar(sm, ax=ax, shrink=0.8)\n",
    "cbar.ax.set_ylabel('Fraction of households cooking with firewood')\n",
    "ax.set_axis_off()\n",
    "# plt.title('Percentage of households cooking with firewood per municipality')\n",
    "# fig.savefig(f\"maps/{scenario}cooking_firewood.png\", dpi=300, bbox_inches='tight')"
   ]
  },
  {
   "cell_type": "code",
   "execution_count": null,
   "id": "a264597f",
   "metadata": {},
   "outputs": [],
   "source": [
    "df_wood_filtered = df_wood.loc[df_wood['percentage']>=80].to_crs(3857)\n",
    "mask_raster(f'maps/{scenario}/ccp_index_const.tif', df_wood_filtered, \n",
    "            f'maps/{scenario}/ccp_index_const_filtered.tif', np.nan, 'DEFLATE')"
   ]
  },
  {
   "cell_type": "code",
   "execution_count": null,
   "id": "98c5f522",
   "metadata": {},
   "outputs": [],
   "source": [
    "df_lpg_filtered = df_lpg.loc[df_lpg['percentage']>=50].to_crs(3857)\n",
    "mask_raster(f'maps/{scenario}/ccp_index_const.tif', df_lpg_filtered, \n",
    "            f'maps/{scenario}/ccp_index_const_filtered_lpg.tif', np.nan, 'DEFLATE')"
   ]
  },
  {
   "cell_type": "code",
   "execution_count": null,
   "id": "2f7b2af6",
   "metadata": {},
   "outputs": [],
   "source": [
    "with rasterio.open(f'maps/{scenario}/ccp_index_const_filtered_lpg.tif') as src:\n",
    "    raster = src.read(1)\n",
    "    \n",
    "with rasterio.open(base_map) as src:\n",
    "    fig, ax = plt.subplots(1,1, figsize=(16, 9))\n",
    "    show(src, ax=ax)\n",
    "\n",
    "df_adm0.to_crs(epsg=3857).plot(color='black', linewidth=1, ax=ax, zorder=1)\n",
    "    \n",
    "cax = ax.imshow(raster, extent=extent, cmap='magma', zorder=2)#, vmin=0, vmax=1)\n",
    "cbar = fig.colorbar(cax, shrink=0.8, ticks=[0, 0.5, 1])\n",
    "cbar.ax.set_yticklabels(['Low', 'Medium', 'High'])\n",
    "cbar.ax.set_ylabel('Clean Cooking Potential index')\n",
    "ax.set_axis_off()\n",
    "# fig.savefig(f\"maps/{scenario}/ccp_index_filtered.png\", dpi=300, bbox_inches='tight')\n",
    "# plt.title('Clean cooking potential index\\nDemand: Educational facilities and population\\nSupply: HV lines and transmission Substations\\nPrioritized for municipalities where more that 80% of households use firewood for cooking')"
   ]
  },
  {
   "cell_type": "code",
   "execution_count": null,
   "id": "872585d2",
   "metadata": {},
   "outputs": [],
   "source": []
  }
 ],
 "metadata": {
  "kernelspec": {
   "display_name": "Python 3",
   "language": "python",
   "name": "python3"
  },
  "language_info": {
   "codemirror_mode": {
    "name": "ipython",
    "version": 3
   },
   "file_extension": ".py",
   "mimetype": "text/x-python",
   "name": "python",
   "nbconvert_exporter": "python",
   "pygments_lexer": "ipython3",
   "version": "3.9.2"
  }
 },
 "nbformat": 4,
 "nbformat_minor": 5
}

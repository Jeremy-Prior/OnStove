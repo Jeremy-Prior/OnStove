{
 "cells": [
  {
   "cell_type": "code",
   "execution_count": 1,
   "id": "dba04bb7",
   "metadata": {},
   "outputs": [],
   "source": [
    "%load_ext autoreload"
   ]
  },
  {
   "cell_type": "code",
   "execution_count": 2,
   "id": "0d33a318",
   "metadata": {},
   "outputs": [],
   "source": [
    "%autoreload 2\n",
    "from onsstove.mca import MCA"
   ]
  },
  {
   "cell_type": "code",
   "execution_count": 3,
   "id": "73998c40",
   "metadata": {},
   "outputs": [],
   "source": [
    "from decouple import config"
   ]
  },
  {
   "cell_type": "code",
   "execution_count": 4,
   "id": "1946b0bb",
   "metadata": {},
   "outputs": [],
   "source": [
    "nepal = MCA(project_crs=3857, cell_size=(1000, 1000))\n",
    "\n",
    "nepal.set_postgres(db='nepal', POSTGRES_USER=config('POSTGRES_USER'), POSTGRES_KEY=config('POSTGRES_KEY'))"
   ]
  },
  {
   "cell_type": "code",
   "execution_count": 5,
   "id": "0b887c08",
   "metadata": {},
   "outputs": [],
   "source": [
    "nepal.add_mask_layer(name='Country boundaries', layer_path='admin.npl_admbnda_adm0_nd_20201117', postgres=True)"
   ]
  },
  {
   "cell_type": "code",
   "execution_count": 6,
   "id": "1c8e6290",
   "metadata": {},
   "outputs": [],
   "source": [
    "nepal.add_layer(category='demand', name='Education facilities', layer_path='places.education_facilities', postgres=True,\n",
    "                layer_type='vector', normalization='MinMax', inverse=True, \n",
    "                distance='proximity', distance_limit=10000)\n",
    "\n",
    "nepal.add_layer(category='demand', name='Population', layer_path='data/population_npl_2018-10-01.tif',\n",
    "                layer_type='raster', normalization='MinMax', inverse=False, \n",
    "                distance='log', base_layer=True, resample='sum')"
   ]
  },
  {
   "cell_type": "code",
   "execution_count": 7,
   "id": "070a98f6",
   "metadata": {},
   "outputs": [],
   "source": [
    "nepal.add_layer(category='supply', name='Existent transmission substations', layer_path='power_network.substations_georeferenced', \n",
    "                postgres=True, layer_type='vector', query='status == \"E\"', normalization='MinMax', inverse=True, \n",
    "                distance='proximity', distance_limit=30000)\n",
    "\n",
    "nepal.add_layer(category='supply', name='Existent (below 220V) HV lines', layer_path='power_network.hv_lines_georeferenced',\n",
    "                postgres=True, layer_type='vector', query='voltage <= 220 & status ==\"E\"', normalization='MinMax', inverse=True, \n",
    "                distance='proximity', distance_limit=30000)"
   ]
  },
  {
   "cell_type": "code",
   "execution_count": 8,
   "id": "0cb9f030",
   "metadata": {},
   "outputs": [],
   "source": [
    "nepal.add_layer(category='supply', name='LPG dealers', layer_path='data/lpg_main_dealers/lpg_main_dealers.shp',\n",
    "                postgres=False, layer_type='vector', normalization='MinMax', inverse=True, \n",
    "                distance='travel_time')\n",
    "\n",
    "nepal.layers['supply']['LPG dealers'].add_friction_raster(raster_path=r\"data\\2020_motorized_friction_surface\\2020_motorized_friction_surface.geotiff\")"
   ]
  },
  {
   "cell_type": "code",
   "execution_count": 9,
   "id": "bec4f86f",
   "metadata": {},
   "outputs": [],
   "source": [
    "nepal.mask_layers(datasets='all')\n",
    "nepal.reproject_layers(datasets='all')"
   ]
  },
  {
   "cell_type": "code",
   "execution_count": 10,
   "id": "cdc29364",
   "metadata": {},
   "outputs": [],
   "source": [
    "nepal.get_distance_rasters(datasets='all')\n",
    "\n",
    "nepal.normalize_rasters(datasets='all')"
   ]
  },
  {
   "cell_type": "code",
   "execution_count": 11,
   "id": "82692172",
   "metadata": {},
   "outputs": [],
   "source": [
    "nepal.save_datasets()"
   ]
  },
  {
   "cell_type": "code",
   "execution_count": null,
   "id": "3c596f27",
   "metadata": {},
   "outputs": [],
   "source": []
  }
 ],
 "metadata": {
  "kernelspec": {
   "display_name": "Python 3",
   "language": "python",
   "name": "python3"
  },
  "language_info": {
   "codemirror_mode": {
    "name": "ipython",
    "version": 3
   },
   "file_extension": ".py",
   "mimetype": "text/x-python",
   "name": "python",
   "nbconvert_exporter": "python",
   "pygments_lexer": "ipython3",
   "version": "3.9.2"
  }
 },
 "nbformat": 4,
 "nbformat_minor": 5
}

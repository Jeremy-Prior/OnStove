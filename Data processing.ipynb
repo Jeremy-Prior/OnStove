{
 "cells": [
  {
   "cell_type": "markdown",
   "id": "63ed40ce",
   "metadata": {},
   "source": [
    "# Input data processing for the Clean Cooking Explorer (CCE)"
   ]
  },
  {
   "cell_type": "code",
   "execution_count": 1,
   "id": "dba04bb7",
   "metadata": {},
   "outputs": [],
   "source": [
    "%load_ext autoreload"
   ]
  },
  {
   "cell_type": "code",
   "execution_count": 2,
   "id": "0d33a318",
   "metadata": {},
   "outputs": [],
   "source": [
    "%autoreload 2\n",
    "from onsstove.onsstove import DataProcessor"
   ]
  },
  {
   "cell_type": "code",
   "execution_count": 3,
   "id": "73998c40",
   "metadata": {},
   "outputs": [],
   "source": [
    "from decouple import config\n",
    "import numpy as np\n",
    "import os\n",
    "import geopandas as gpd\n",
    "import pandas as pd"
   ]
  },
  {
   "cell_type": "markdown",
   "id": "4fca21c7",
   "metadata": {},
   "source": [
    "## 1. Creating a project\n",
    "First, we will create an instance of the `MCA` object that will be used to add raw datasets, process them and generate the required output datapackages for the CCE and OnSSTOVE. The `MCA` object accepts three optional argument `project_crs`, `cell_size` and `output_directory`. The first, sets the Coordinate reference System (crs) to use in the project, this means that all datasets will be reprojected to match such crs. The second, is used to define the desired cell size (i.e. width and height in meters) of the output datasets, which will be used to ensure that all output datasets match such cell size. The third, is simply used as the output folder in which all results will be writen, this parameter defaults to `output`."
   ]
  },
  {
   "cell_type": "code",
   "execution_count": 4,
   "id": "fec0526c",
   "metadata": {},
   "outputs": [],
   "source": [
    "nepal = DataProcessor(project_crs=3857, cell_size=(1000, 1000))\n",
    "nepal.output_directory = 'output' # Any of the attributes can be set at any time like this"
   ]
  },
  {
   "cell_type": "markdown",
   "id": "f8b7c6e2",
   "metadata": {},
   "source": [
    "## 2. Adding a PostgreSQL data base connection\n",
    "Datasets can be read from any local path (or in some cases from urls) or from a PostgreSQL database. For the later, we would need to define the PostgreSQL connection, passing the database name `db`, the `POSTGRES_USER` and the `POSTGRES_KEY`."
   ]
  },
  {
   "cell_type": "code",
   "execution_count": 5,
   "id": "1946b0bb",
   "metadata": {},
   "outputs": [],
   "source": [
    "nepal.set_postgres(db='nepal', POSTGRES_USER=config('POSTGRES_USER'), POSTGRES_KEY=config('POSTGRES_KEY'))"
   ]
  },
  {
   "cell_type": "markdown",
   "id": "0f772b58",
   "metadata": {},
   "source": [
    "## 3. Adding a mask layer\n",
    "A vector layer can be added as a mask, which will be later used to mask/clip all output datasets to the layer boundaries. For this, we use the `add_mask_layer` method providing a `name` for the layer, a `layer_path` from where to read the data and in this case the `postgres` argument as `True` that will tell that the layer is found in the PostgreSQL database."
   ]
  },
  {
   "cell_type": "code",
   "execution_count": 6,
   "id": "0b887c08",
   "metadata": {},
   "outputs": [],
   "source": [
    "nepal.add_mask_layer(category='Administrative', name='Country boundaries', \n",
    "                     layer_path=r\"..\\EGI Energy Systems\\06 Projects\\2021 Nepal Geospatial cooking\\02 - work\\GIS-data\\Other\\Administrative boundaries\\NPL_adm0_Nepal0.shp\")"
   ]
  },
  {
   "cell_type": "markdown",
   "id": "ef48edc4",
   "metadata": {},
   "source": [
    "## 4. Adding data layers\n",
    "Similarly, we can add data layers using the `add_layer` method. A layer `name`, `layer_path` and `postgres` conection also need to be provided (the `postgres` conection defaults to `False`). In addition, the following arguments can be passed:\n",
    "* `category`: this is used to group all datasets into a category in the final output, e.g. `demand` or `supply`. \n",
    "* `layer_type`: thi argument is required with two possible options `raster` or `vector`, we should pass either one according to the dataset you are adding. \n",
    "* `distance`: the method to be used to calculate the distance raster for this layer. \n",
    "    * For `raster` layers, only `log` is available. This will create a logarithmic representation of the original raster. If this is not desired, we should pass `None` to the `distance` parameter (this is the defaul value), which will take the original raster as the distance raster.\n",
    "    * For `vector` layers, two options are available `proximity` and `time_travel`. `proximity`, calculates a distance raster using the vectors (e.g. points, lines, polygons) as origin; the output raster will have the same dimentions and cell size as the `base_layer` (i.e. see below). `time_travel`, will need a friction raster (which can be added later) that will be used to calculate the least cost path to every cell taking the vectors as starting points.\n",
    "* `normalization`: currently only `MinMax` normalization is available. This is used to normalize the distance rasters in a 0 to 1 range, which will be used later to calculate the CCE Demand, Supply and Clean Cooking potential indexes.\n",
    "* `inverse`: we can specify if the scale of the ormalization need to be reversed, depending on the nature of the dataset."
   ]
  },
  {
   "cell_type": "code",
   "execution_count": 7,
   "id": "dd745737",
   "metadata": {},
   "outputs": [],
   "source": [
    "nepal.add_layer(category='demand', name='Population', layer_path='data/population_npl_2018-10-01.tif',\n",
    "                layer_type='raster', normalization='MinMax', inverse=False, \n",
    "                distance='log', base_layer=False, resample='sum')\n",
    "\n",
    "nepal.add_layer(category='demand', name='Education facilities', layer_path='places.education_facilities', postgres=True,\n",
    "                layer_type='vector', normalization='MinMax', inverse=True, \n",
    "                distance='proximity', distance_limit=5000)\n",
    "\n",
    "nepal.layers['demand']['Population'].layer[np.isnan(nepal.layers['demand']['Population'].layer)] = 0\n",
    "nepal.layers['demand']['Population'].save(os.path.join(nepal.output_directory, 'demand', 'Population'))"
   ]
  },
  {
   "cell_type": "code",
   "execution_count": null,
   "id": "567ecdaa",
   "metadata": {},
   "outputs": [],
   "source": [
    "nepal.add_layer(category='demand', name='Health facilities', layer_path='places.health_facilities', postgres=True,\n",
    "                layer_type='vector', normalization='MinMax', inverse=True, \n",
    "                distance='proximity', distance_limit=5000)\n",
    "\n",
    "nepal.add_layer(category='supply', name='Existent substations', \n",
    "                layer_path=r\"..\\EGI Energy Systems\\06 Projects\\2021 Nepal Geospatial cooking\\02 - work\\GIS-data\\Supply\\Power network\\Substations\\Substations_Nepal_Updated.shp\", \n",
    "                layer_type='vector', query='Substation == \"Existing\"', normalization='MinMax', inverse=True, \n",
    "                distance='proximity', distance_limit=30000)\n",
    "\n",
    "nepal.add_layer(category='supply', name='Planned substations', \n",
    "                layer_path=r\"..\\EGI Energy Systems\\06 Projects\\2021 Nepal Geospatial cooking\\02 - work\\GIS-data\\Supply\\Power network\\Substations\\Substations_Nepal_Updated.shp\", \n",
    "                layer_type='vector', query='Substation != \"Existing\"', normalization='MinMax', inverse=True, \n",
    "                distance='proximity', distance_limit=30000)\n",
    "\n",
    "nepal.add_layer(category='supply', name='Existent MV lines', \n",
    "                layer_path=r\"..\\EGI Energy Systems\\06 Projects\\2021 Nepal Geospatial cooking\\02 - work\\GIS-data\\Supply\\Power network\\MV-network\\Nepal_DL0.shp\",\n",
    "                layer_type='vector', query='Status == \"In Service\"', normalization='MinMax', inverse=True, \n",
    "                distance='proximity', distance_limit=30000)\n",
    "\n",
    "nepal.add_layer(category='supply', name='Planned MV lines', \n",
    "                layer_path=r\"..\\EGI Energy Systems\\06 Projects\\2021 Nepal Geospatial cooking\\02 - work\\GIS-data\\Supply\\Power network\\MV-network\\Nepal_DL0.shp\",\n",
    "                layer_type='vector', query='Status != \"In Service\"', \n",
    "                normalization='MinMax', inverse=True, \n",
    "                distance='proximity', distance_limit=30000)\n",
    "\n",
    "nepal.add_layer(category='supply', name='MG hydropower', \n",
    "                layer_path=r\"..\\EGI Energy Systems\\06 Projects\\2021 Nepal Geospatial cooking\\02 - work\\GIS-data\\Supply\\Power network\\MG-hydro\\micro_hydropower.shp\",\n",
    "                layer_type='vector', \n",
    "                normalization='MinMax', inverse=True, \n",
    "                distance='proximity', distance_limit=3000)\n",
    "\n",
    "nepal.add_layer(category='other', name='Roads', \n",
    "                layer_path=r\"..\\EGI Energy Systems\\06 Projects\\2021 Nepal Geospatial cooking\\02 - work\\GIS-data\\Other\\Roads\\Road_Networks_of_Nepal_OSM0.shp\",\n",
    "                layer_type='vector', \n",
    "                normalization='MinMax', inverse=True, \n",
    "                distance='proximity', distance_limit=3000)"
   ]
  },
  {
   "cell_type": "code",
   "execution_count": null,
   "id": "d67ed563",
   "metadata": {},
   "outputs": [],
   "source": [
    "nepal.add_layer(category='supply', name='Existent HV lines', \n",
    "                layer_path=r\"..\\EGI Energy Systems\\06 Projects\\2021 Nepal Geospatial cooking\\02 - work\\GIS-data\\Supply\\Power network\\HV-network\\Existing_transmission_lines.geojson\",\n",
    "                layer_type='vector', normalization='MinMax', inverse=True, \n",
    "                distance='proximity', distance_limit=30000)\n",
    "\n",
    "nepal.add_layer(category='supply', name='Planned HV lines', \n",
    "                layer_path=r\"..\\EGI Energy Systems\\06 Projects\\2021 Nepal Geospatial cooking\\02 - work\\GIS-data\\Supply\\Power network\\HV-network\\Planned_transmission_lines.geojson\",\n",
    "                layer_type='vector', \n",
    "                normalization='MinMax', inverse=True, \n",
    "                distance='proximity', distance_limit=30000)"
   ]
  },
  {
   "cell_type": "markdown",
   "id": "15ccd5cc",
   "metadata": {},
   "source": [
    "## 5. Adding a base layer\n",
    "A raster base layer is needed to make every output match its grid and extent. For this, two additional options need to be passed to the `add_layer` method:\n",
    "* `base_layer`: if `True` the added layer will be considered as the base layer. \n",
    "* `resample`: this is the resampling method to be used when resampling this layer to the desired `cell_size` if a `cell_size` is provided."
   ]
  },
  {
   "cell_type": "code",
   "execution_count": 8,
   "id": "1c8e6290",
   "metadata": {},
   "outputs": [],
   "source": [
    "nepal.add_layer(category='supply', name='Biomass', layer_path=r\"..\\EGI Energy Systems\\06 Projects\\2021 Nepal Geospatial cooking\\02 - work\\GIS-data\\Other\\Forest cover\\Global Forest Cover Change (GFCC).tif\",\n",
    "                layer_type='raster', normalization='MinMax', inverse=False, base_layer=True, resample='nearest',\n",
    "                distance='travel_time', distance_limit=5)"
   ]
  },
  {
   "cell_type": "markdown",
   "id": "74ec0af9",
   "metadata": {},
   "source": [
    "## 6. Adding a friction raster to a vector layer\n",
    "After adding a vector layer, a raster friction layer can be associated to the vector layer in order to calculate a travel time dataset for it. To do so, we can call the vector layer we want by using the `layers` variable and calling the `category` and the `name` of the vector dataset between quotes and square brackets, and calling the `add_friction_raster` method. This method only needs the path of the raster `raster_path`."
   ]
  },
  {
   "cell_type": "code",
   "execution_count": 9,
   "id": "0ae9cd17",
   "metadata": {},
   "outputs": [],
   "source": [
    "nepal.layers['supply']['Biomass'].add_friction_raster(raster=r\"..\\EGI Energy Systems\\06 Projects\\2021 Nepal Geospatial cooking\\02 - work\\GIS-data\\Other\\Walking friction\\2020_walking_only_friction_surface.geotiff\",\n",
    "                                                      resample='average')"
   ]
  },
  {
   "cell_type": "code",
   "execution_count": 10,
   "id": "e9bb7899",
   "metadata": {},
   "outputs": [],
   "source": [
    "nepal.add_layer(category='supply', name='LPG dealers', layer_path=r\"..\\EGI Energy Systems\\06 Projects\\2021 Nepal Geospatial cooking\\02 - work\\GIS-data\\Supply\\LPG\\Nepal_Gas_12Jun2021_Final4.shp\",\n",
    "                postgres=False, layer_type='vector', normalization='MinMax', inverse=True, \n",
    "                distance='travel_time')\n",
    "\n",
    "nepal.layers['supply']['LPG dealers'].add_friction_raster(raster=r\"..\\EGI Energy Systems\\06 Projects\\2021 Nepal Geospatial cooking\\02 - work\\GIS-data\\Other\\Motorized friction\\2020_motorized_friction_surface.geotiff\",\n",
    "                                                          resample='average')"
   ]
  },
  {
   "cell_type": "markdown",
   "id": "ecd096ec",
   "metadata": {},
   "source": [
    "## Relative Wealth Index"
   ]
  },
  {
   "cell_type": "code",
   "execution_count": null,
   "id": "61c2732a",
   "metadata": {},
   "outputs": [],
   "source": [
    "nepal.add_layer(category='demand', name='Wealth', \n",
    "                layer_path=r\"..\\EGI Energy Systems\\06 Projects\\2021 Nepal Geospatial cooking\\02 - work\\GIS-data\\Demand\\Wealth Index\\Relative Wealth Index.tif\",\n",
    "                layer_type='raster', normalization='MinMax', inverse=False, resample='nearest')"
   ]
  },
  {
   "cell_type": "code",
   "execution_count": null,
   "id": "487918d5",
   "metadata": {},
   "outputs": [],
   "source": [
    "# nepal.layers['demand']['Wealth'].layer[nepal.layers['demand']['Wealth'].layer<0] = np.nan\n",
    "# nepal.layers['demand']['Wealth'].meta['nodata'] = np.nan\n",
    "# nepal.layers['demand']['Wealth'].save(os.path.join(nepal.output_directory, 'demand', 'Wealth'))"
   ]
  },
  {
   "cell_type": "code",
   "execution_count": null,
   "id": "80de6c6a",
   "metadata": {},
   "outputs": [],
   "source": [
    "nepal.add_layer(category='other', name='GDP', \n",
    "                layer_path=r\"..\\EGI Energy Systems\\06 Projects\\2021 Nepal Geospatial cooking\\02 - work\\GIS-data\\Demand\\GDP\\dryadfilled.tif\",\n",
    "                layer_type='raster', normalization='MinMax', inverse=False, resample='nearest')\n",
    "\n",
    "nodata = nepal.layers['other']['GDP'].meta['nodata']\n",
    "nepal.layers['other']['GDP'].layer[nepal.layers['other']['GDP'].layer==nodata] = np.nan\n",
    "nepal.layers['other']['GDP'].meta['nodata'] = np.nan\n",
    "nepal.layers['other']['GDP'].save(os.path.join(nepal.output_directory, 'other', 'GDP'))"
   ]
  },
  {
   "cell_type": "markdown",
   "id": "c26986a3",
   "metadata": {},
   "source": [
    "## 7. Mask and reproject layers"
   ]
  },
  {
   "cell_type": "code",
   "execution_count": 11,
   "id": "9a67c6e7",
   "metadata": {},
   "outputs": [],
   "source": [
    "nepal.mask_layers(datasets={'supply': ['Biomass', 'LPG dealers'],\n",
    "#                             'other': ['GDP'],\n",
    "                            'demand': ['Population']})"
   ]
  },
  {
   "cell_type": "code",
   "execution_count": 12,
   "id": "b47dba90",
   "metadata": {},
   "outputs": [],
   "source": [
    "nepal.reproject_layers(datasets='all')"
   ]
  },
  {
   "cell_type": "code",
   "execution_count": 13,
   "id": "1bde5598",
   "metadata": {},
   "outputs": [],
   "source": [
    "nepal.align_layers(datasets='all')"
   ]
  },
  {
   "cell_type": "code",
   "execution_count": 17,
   "id": "02230664",
   "metadata": {},
   "outputs": [],
   "source": [
    "nepal.mask_layers(datasets={'demand': ['Population']})"
   ]
  },
  {
   "cell_type": "markdown",
   "id": "cbe9f957",
   "metadata": {},
   "source": [
    "## 8. Calculate distance rasters and normalize"
   ]
  },
  {
   "cell_type": "code",
   "execution_count": 18,
   "id": "861ba7ce",
   "metadata": {},
   "outputs": [],
   "source": [
    "nepal.get_distance_rasters(datasets='all')"
   ]
  },
  {
   "cell_type": "code",
   "execution_count": null,
   "id": "a5822c8d",
   "metadata": {},
   "outputs": [],
   "source": [
    "nepal.layers"
   ]
  },
  {
   "cell_type": "markdown",
   "id": "b03207f3",
   "metadata": {},
   "source": [
    "## 9. Extract DHS datasets"
   ]
  },
  {
   "cell_type": "code",
   "execution_count": null,
   "id": "3d084d4f",
   "metadata": {},
   "outputs": [],
   "source": [
    "gdf = gpd.read_file(r\"..\\EGI Energy Systems\\06 Projects\\2021 Nepal Geospatial cooking\\02 - work\\Surveys\\DHS Statcomplier\\shps\\sdr_subnational_data_dhs_2016.shp\")\n",
    "gdf.to_crs(nepal.project_crs, inplace=True)"
   ]
  },
  {
   "cell_type": "code",
   "execution_count": null,
   "id": "6a8f1967",
   "metadata": {},
   "outputs": [],
   "source": [
    "names = pd.read_csv(r\"..\\EGI Energy Systems\\06 Projects\\2021 Nepal Geospatial cooking\\02 - work\\Surveys\\DHS Statcomplier\\field_names.csv\")\n",
    "names = names.loc[names['SDRID'].str.contains('HCCKFLH') & \n",
    "                  names['Definition'].str.contains('Percentage of households whose main type of cooking fuel is ') &\n",
    "                  ~names['SDRID'].str.contains('HCCKFLHCOL|HCCKFLHOTH'), \n",
    "                  ['SDRID', 'Definition']]\n",
    "names['Name'] = names['Definition'].str.replace('Percentage of households whose main type of cooking fuel is ', '')\n",
    "names['Name'] = names['Name'].str.replace('/','-')\n",
    "names.loc[names['Name'].str.contains('LPG'), 'Name'] = 'LPG'"
   ]
  },
  {
   "cell_type": "code",
   "execution_count": null,
   "id": "d08eeee0",
   "metadata": {},
   "outputs": [],
   "source": [
    "names"
   ]
  },
  {
   "cell_type": "code",
   "execution_count": null,
   "id": "1d4e146b",
   "metadata": {},
   "outputs": [],
   "source": [
    "folder = os.path.join(nepal.output_directory, 'other', 'GHS')\n",
    "os.makedirs(folder, exist_ok=True)\n",
    "for i, row in names.iterrows():\n",
    "    gdf[[row['SDRID'], 'geometry']].to_file(os.path.join(folder, row['Name'] + '.geojson'), driver='GeoJSON')"
   ]
  },
  {
   "cell_type": "markdown",
   "id": "6bf113f4",
   "metadata": {},
   "source": [
    "## Scenarios"
   ]
  },
  {
   "cell_type": "markdown",
   "id": "8d523d62",
   "metadata": {},
   "source": [
    "### Policy-makers perspective\n",
    "The Nepal Electricity Authority (NEA) is aiming at providing universal electricity access by 2022. Meanwhile, the government has as target to provide electrical cooking in every household by 2028. The first scenario assesses the potential for electrical cooking assuming mini-grids is still not viable and electrical network in current state. The second scenarios assumes expansions in electricity sector and improvement of (current) mini-grids to supply electricity for cooking. By using this scenario a policy maker can identify areas where a larger focus is needed for electricity expansion in order to reach the goals, but also how LPG can cover the potential shortfall. Using these presets, desition-makers and donors can estimate the assistance needed index in different regions of the country and identify where financial help is needed."
   ]
  },
  {
   "cell_type": "markdown",
   "id": "2238f9aa",
   "metadata": {},
   "source": [
    "#### Scenario 1\n",
    "* Demand: Population and Wealth index\n",
    "* Supply: LPG and existing electricity infrastructure"
   ]
  },
  {
   "cell_type": "code",
   "execution_count": null,
   "id": "fc15183a",
   "metadata": {},
   "outputs": [],
   "source": [
    "scenario = 'Polici-makers 1'\n",
    "\n",
    "nepal.layers['supply']['Existent MV lines'].distance_raster.inverse = True\n",
    "# nepal.layers['supply']['Existent substations'].distance_raster.inverse = True\n",
    "nepal.layers['supply']['LPG dealers'].distance_raster.inverse = True\n",
    "nepal.layers['demand']['Wealth'].distance_raster.inverse = False\n",
    "\n",
    "\n",
    "nepal.layers['supply']['Existent MV lines'].distance_raster.distance_limit = 30000\n",
    "# nepal.layers['supply']['Existent substations'].distance_raster.distance_limit = 30000\n",
    "nepal.layers['supply']['LPG dealers'].distance_raster.distance_limit = float('inf')\n",
    "\n",
    "nepal.get_demand_index(datasets={'demand': ['Population', 'Wealth']}, buffer=False)\n",
    "nepal.get_supply_index(datasets={'supply': ['Existent MV lines', 'LPG dealers']}, buffer=False)\n",
    "nepal.get_clean_cooking_index(buffer=False)"
   ]
  },
  {
   "cell_type": "code",
   "execution_count": null,
   "id": "fee4e40e",
   "metadata": {},
   "outputs": [],
   "source": [
    "nepal.demand_index.plot(cmap='magma', ticks=[0, 0.5, 1], tick_labels=['Low', 'Medium', 'High'],\n",
    "                        admin_layer=nepal.mask_layer.layer)"
   ]
  },
  {
   "cell_type": "code",
   "execution_count": null,
   "id": "c806d26e",
   "metadata": {},
   "outputs": [],
   "source": [
    "nepal.demand_index.save_png(os.path.join(nepal.output_directory, scenario), \n",
    "                            cmap='magma', ticks=[0, 0.5, 1], tick_labels=['Low', 'Medium', 'High'],\n",
    "                            admin_layer=nepal.mask_layer.layer)"
   ]
  },
  {
   "cell_type": "code",
   "execution_count": null,
   "id": "e9ef1aff",
   "metadata": {},
   "outputs": [],
   "source": [
    "nepal.supply_index.plot(cmap='magma', ticks=[0, 0.5, 1], tick_labels=['Low', 'Medium', 'High'],\n",
    "                        admin_layer=nepal.mask_layer.layer)"
   ]
  },
  {
   "cell_type": "code",
   "execution_count": null,
   "id": "dfc60cb5",
   "metadata": {},
   "outputs": [],
   "source": [
    "nepal.supply_index.save_png(os.path.join(nepal.output_directory, scenario), \n",
    "                            cmap='magma', ticks=[0, 0.5, 1], tick_labels=['Low', 'Medium', 'High'],\n",
    "                            admin_layer=nepal.mask_layer.layer)"
   ]
  },
  {
   "cell_type": "code",
   "execution_count": null,
   "id": "29750367",
   "metadata": {},
   "outputs": [],
   "source": [
    "nepal.clean_cooking_index.plot(cmap='magma', ticks=[0, 0.5, 1], tick_labels=['Low', 'Medium', 'High'],\n",
    "                               admin_layer=nepal.mask_layer.layer)"
   ]
  },
  {
   "cell_type": "code",
   "execution_count": null,
   "id": "1dfbe895",
   "metadata": {},
   "outputs": [],
   "source": [
    "nepal.clean_cooking_index.save_png(os.path.join(nepal.output_directory, scenario), \n",
    "                                   cmap='magma', ticks=[0, 0.5, 1], tick_labels=['Low', 'Medium', 'High'])"
   ]
  },
  {
   "cell_type": "code",
   "execution_count": null,
   "id": "db22f2a6",
   "metadata": {},
   "outputs": [],
   "source": [
    "nepal.layers['supply']['Existent MV lines'].distance_raster.inverse = False\n",
    "nepal.layers['supply']['Existent substations'].distance_raster.inverse = False\n",
    "nepal.layers['supply']['LPG dealers'].distance_raster.inverse = False\n",
    "nepal.layers['demand']['Wealth'].distance_raster.inverse = True\n",
    "\n",
    "nepal.get_assistance_need_index(datasets={'supply': ['Existent MV lines', 'LPG dealers'],\n",
    "                                          'demand': ['Population', 'Wealth']}, buffer=False)\n",
    "nepal.assistance_need_index.plot(cmap='magma', ticks=[0, 0.5, 1], tick_labels=['Low', 'Medium', 'High'],\n",
    "                                 admin_layer=nepal.mask_layer.layer)"
   ]
  },
  {
   "cell_type": "code",
   "execution_count": null,
   "id": "3a93882f",
   "metadata": {},
   "outputs": [],
   "source": [
    "nepal.assistance_need_index.save_png(os.path.join(nepal.output_directory, scenario), \n",
    "                                     cmap='magma', ticks=[0, 0.5, 1], tick_labels=['Low', 'Medium', 'High'])"
   ]
  },
  {
   "cell_type": "markdown",
   "id": "8bb96bac",
   "metadata": {},
   "source": [
    "#### Scenario 2\n",
    "* Demand: Population and Wealth index\n",
    "* Supply: Mini-grids hydro, existing and planned electricity infrastructure"
   ]
  },
  {
   "cell_type": "code",
   "execution_count": null,
   "id": "ac3cccae",
   "metadata": {},
   "outputs": [],
   "source": [
    "scenario = 'Polici-makers 2'\n",
    "\n",
    "nepal.layers['supply']['Existent MV lines'].distance_raster.inverse = True\n",
    "nepal.layers['supply']['Existent substations'].distance_raster.inverse = True\n",
    "nepal.layers['supply']['Planned MV lines'].distance_raster.inverse = True\n",
    "nepal.layers['supply']['Planned substations'].distance_raster.inverse = True\n",
    "nepal.layers['supply']['MG hydropower'].distance_raster.inverse = True\n",
    "nepal.layers['demand']['Wealth'].distance_raster.inverse = False\n",
    "\n",
    "nepal.layers['supply']['Existent MV lines'].distance_raster.distance_limit = 30000\n",
    "nepal.layers['supply']['Existent substations'].distance_raster.distance_limit = 30000\n",
    "nepal.layers['supply']['Planned MV lines'].distance_raster.distance_limit = 30000\n",
    "nepal.layers['supply']['Planned substations'].distance_raster.distance_limit = 30000\n",
    "nepal.layers['supply']['MG hydropower'].distance_raster.distance_limit = 3000\n",
    "\n",
    "nepal.layers['supply']['Existent MV lines'].weight = 2\n",
    "nepal.layers['supply']['Existent substations'].weight = 2\n",
    "nepal.layers['supply']['Planned MV lines'].weight = 2\n",
    "nepal.layers['supply']['Planned substations'].weight = 2\n",
    "nepal.layers['supply']['MG hydropower'].weight = 1\n",
    "\n",
    "nepal.get_demand_index(datasets={'demand': ['Population', 'Wealth']})\n",
    "nepal.get_supply_index(datasets={'supply': ['Existent MV lines', 'Existent substations', \n",
    "                                            'Planned MV lines', 'Planned substations', \n",
    "                                            'MG hydropower']})\n",
    "nepal.get_clean_cooking_index()"
   ]
  },
  {
   "cell_type": "code",
   "execution_count": null,
   "id": "b343643f",
   "metadata": {},
   "outputs": [],
   "source": [
    "nepal.demand_index.plot(cmap='magma', ticks=[0, 0.5, 1], tick_labels=['Low', 'Medium', 'High'])"
   ]
  },
  {
   "cell_type": "code",
   "execution_count": null,
   "id": "0e939213",
   "metadata": {},
   "outputs": [],
   "source": [
    "nepal.demand_index.save_png(os.path.join(nepal.output_directory, scenario), \n",
    "                            cmap='magma', ticks=[0, 0.5, 1], tick_labels=['Low', 'Medium', 'High'])"
   ]
  },
  {
   "cell_type": "code",
   "execution_count": null,
   "id": "206d29da",
   "metadata": {},
   "outputs": [],
   "source": [
    "nepal.supply_index.plot(cmap='magma', ticks=[0, 0.5, 1], tick_labels=['Low', 'Medium', 'High'])"
   ]
  },
  {
   "cell_type": "code",
   "execution_count": null,
   "id": "e5a090a1",
   "metadata": {},
   "outputs": [],
   "source": [
    "nepal.supply_index.save_png(os.path.join(nepal.output_directory, scenario), \n",
    "                            cmap='magma', ticks=[0, 0.5, 1], tick_labels=['Low', 'Medium', 'High'])"
   ]
  },
  {
   "cell_type": "code",
   "execution_count": null,
   "id": "2127e57a",
   "metadata": {},
   "outputs": [],
   "source": [
    "nepal.clean_cooking_index.plot(cmap='magma', ticks=[0, 0.5, 1], tick_labels=['Low', 'Medium', 'High'])"
   ]
  },
  {
   "cell_type": "code",
   "execution_count": null,
   "id": "ae82c281",
   "metadata": {},
   "outputs": [],
   "source": [
    "nepal.clean_cooking_index.save_png(os.path.join(nepal.output_directory, scenario), \n",
    "                                   cmap='magma', ticks=[0, 0.5, 1], tick_labels=['Low', 'Medium', 'High'])"
   ]
  },
  {
   "cell_type": "code",
   "execution_count": null,
   "id": "594c64da",
   "metadata": {},
   "outputs": [],
   "source": [
    "nepal.layers['supply']['Existent MV lines'].distance_raster.inverse = False\n",
    "nepal.layers['supply']['Existent substations'].distance_raster.inverse = False\n",
    "nepal.layers['supply']['Planned MV lines'].distance_raster.inverse = False\n",
    "nepal.layers['supply']['Planned substations'].distance_raster.inverse = False\n",
    "nepal.layers['supply']['MG hydropower'].distance_raster.inverse = False\n",
    "nepal.layers['demand']['Wealth'].distance_raster.inverse = True\n",
    "\n",
    "nepal.get_assistance_need_index(datasets={'supply': ['Existent MV lines', 'Existent substations', \n",
    "                                                     'Planned MV lines', 'Planned substations', \n",
    "                                                     'MG hydropower'],\n",
    "                                          'demand': ['Population', 'Wealth']})\n",
    "nepal.assistance_need_index.plot(cmap='magma', ticks=[0, 0.5, 1], tick_labels=['Low', 'Medium', 'High'])"
   ]
  },
  {
   "cell_type": "code",
   "execution_count": null,
   "id": "c4a513bb",
   "metadata": {},
   "outputs": [],
   "source": [
    "nepal.assistance_need_index.save_png(os.path.join(nepal.output_directory, scenario), \n",
    "                                     cmap='magma', ticks=[0, 0.5, 1], tick_labels=['Low', 'Medium', 'High'])"
   ]
  },
  {
   "cell_type": "markdown",
   "id": "b326d2f8",
   "metadata": {},
   "source": [
    "### Investors perspective\n",
    "The tool can help investors in different technologies identify high priority areas by taking into account demand, current supply and ability to pay. By using these factors the supply and demand index can be visualized e.g. where the higher demands is and where are there gaps in the supply. Scenarios are available for electricity and LPG. \n",
    "#### Scenario 1\n",
    "* Demand: Population and public uses\n",
    "* Supply: Existing electricity infrastructure\n",
    "* Other: Wealth index and GDP"
   ]
  },
  {
   "cell_type": "code",
   "execution_count": null,
   "id": "d91fad9e",
   "metadata": {},
   "outputs": [],
   "source": [
    "scenario = 'Investors 1'\n",
    "\n",
    "nepal.layers['supply']['Existent MV lines'].distance_raster.inverse = True\n",
    "nepal.layers['demand']['Wealth'].distance_raster.inverse = False\n",
    "nepal.layers['other']['GDP'].distance_raster.inverse = False\n",
    "\n",
    "nepal.layers['supply']['Existent MV lines'].distance_raster.distance_limit = 30000\n",
    "nepal.layers['demand']['Education facilities'].distance_raster.distance_limit = 5000\n",
    "nepal.layers['demand']['Health facilities'].distance_raster.distance_limit = 5000\n",
    "\n",
    "nepal.layers['supply']['Existent MV lines'].weight = 1\n",
    "nepal.layers['demand']['Population'].weight = 2\n",
    "nepal.layers['demand']['Education facilities'].weight = 1\n",
    "nepal.layers['demand']['Health facilities'].weight = 1\n",
    "nepal.layers['demand']['Wealth'].weight = 2\n",
    "nepal.layers['other']['GDP'].weight = 1\n",
    "\n",
    "nepal.get_demand_index(datasets={'demand': ['Population', 'Education facilities', 'Health facilities', 'Wealth'],\n",
    "                                 'other': ['GDP']})\n",
    "nepal.get_supply_index(datasets={'supply': ['Existent MV lines']})\n",
    "nepal.get_clean_cooking_index()"
   ]
  },
  {
   "cell_type": "code",
   "execution_count": null,
   "id": "d5d86983",
   "metadata": {},
   "outputs": [],
   "source": [
    "nepal.demand_index.plot(cmap='magma', ticks=[0, 0.5, 1], tick_labels=['Low', 'Medium', 'High'])"
   ]
  },
  {
   "cell_type": "code",
   "execution_count": null,
   "id": "c97a810b",
   "metadata": {},
   "outputs": [],
   "source": [
    "nepal.demand_index.save_png(os.path.join(nepal.output_directory, scenario), \n",
    "                            cmap='magma', ticks=[0, 0.5, 1], tick_labels=['Low', 'Medium', 'High'])"
   ]
  },
  {
   "cell_type": "code",
   "execution_count": null,
   "id": "94b8d9a8",
   "metadata": {},
   "outputs": [],
   "source": [
    "nepal.supply_index.plot(cmap='magma', ticks=[0, 0.5, 1], tick_labels=['Low', 'Medium', 'High'])"
   ]
  },
  {
   "cell_type": "code",
   "execution_count": null,
   "id": "c8654742",
   "metadata": {},
   "outputs": [],
   "source": [
    "nepal.supply_index.save_png(os.path.join(nepal.output_directory, scenario), \n",
    "                            cmap='magma', ticks=[0, 0.5, 1], tick_labels=['Low', 'Medium', 'High'])"
   ]
  },
  {
   "cell_type": "code",
   "execution_count": null,
   "id": "99592abc",
   "metadata": {},
   "outputs": [],
   "source": [
    "nepal.clean_cooking_index.plot(cmap='magma', ticks=[0, 0.5, 1], tick_labels=['Low', 'Medium', 'High'])"
   ]
  },
  {
   "cell_type": "code",
   "execution_count": null,
   "id": "045302c7",
   "metadata": {},
   "outputs": [],
   "source": [
    "nepal.clean_cooking_index.save_png(os.path.join(nepal.output_directory, scenario), \n",
    "                            cmap='magma', ticks=[0, 0.5, 1], tick_labels=['Low', 'Medium', 'High'])"
   ]
  },
  {
   "cell_type": "code",
   "execution_count": null,
   "id": "3d84db60",
   "metadata": {},
   "outputs": [],
   "source": [
    "nepal.layers['supply']['Existent MV lines'].distance_raster.inverse = False\n",
    "nepal.layers['demand']['Wealth'].distance_raster.inverse = True\n",
    "nepal.layers['other']['GDP'].distance_raster.inverse = True\n",
    "\n",
    "nepal.get_assistance_need_index(datasets={'supply': ['Existent MV lines'],\n",
    "                                          'demand': ['Population', 'Wealth', 'Education facilities', 'Health facilities'],\n",
    "                                          'other': ['GDP']})\n",
    "nepal.assistance_need_index.plot(cmap='magma', ticks=[0, 0.5, 1], tick_labels=['Low', 'Medium', 'High'])"
   ]
  },
  {
   "cell_type": "code",
   "execution_count": null,
   "id": "895a35be",
   "metadata": {},
   "outputs": [],
   "source": [
    "nepal.assistance_need_index.save_png(os.path.join(nepal.output_directory, scenario), \n",
    "                                   cmap='magma', ticks=[0, 0.5, 1], tick_labels=['Low', 'Medium', 'High'])"
   ]
  },
  {
   "cell_type": "markdown",
   "id": "ce3923a2",
   "metadata": {},
   "source": [
    "#### Scenario 2\n",
    "* Demand: Population and public uses\n",
    "* Supply: LPG\n",
    "* Other: Wealth index and GDP"
   ]
  },
  {
   "cell_type": "code",
   "execution_count": null,
   "id": "852e2951",
   "metadata": {},
   "outputs": [],
   "source": [
    "scenario = 'Investors 2'\n",
    "\n",
    "nepal.layers['supply']['LPG dealers'].distance_raster.inverse = True\n",
    "nepal.layers['other']['Roads'].distance_raster.inverse = True\n",
    "nepal.layers['demand']['Wealth'].distance_raster.inverse = False\n",
    "\n",
    "\n",
    "nepal.layers['supply']['LPG dealers'].distance_raster.distance_limit = float('inf')\n",
    "nepal.layers['other']['Roads'].distance_raster.distance_limit = 3000\n",
    "nepal.layers['demand']['Education facilities'].distance_raster.distance_limit = 5000\n",
    "nepal.layers['demand']['Health facilities'].distance_raster.distance_limit = 5000\n",
    "\n",
    "nepal.layers['supply']['LPG dealers'].weight = 2\n",
    "nepal.layers['other']['Roads'].weight = 1\n",
    "nepal.layers['demand']['Population'].weight = 2\n",
    "nepal.layers['demand']['Education facilities'].weight = 1\n",
    "nepal.layers['demand']['Health facilities'].weight = 1\n",
    "nepal.layers['demand']['Wealth'].weight = 2\n",
    "\n",
    "nepal.get_demand_index(datasets={'demand': ['Population', 'Education facilities', 'Health facilities', 'Wealth']})\n",
    "nepal.get_supply_index(datasets={'supply': ['LPG dealers'], 'other': ['Roads']})\n",
    "nepal.get_clean_cooking_index()"
   ]
  },
  {
   "cell_type": "code",
   "execution_count": null,
   "id": "4934d9ae",
   "metadata": {},
   "outputs": [],
   "source": [
    "nepal.demand_index.plot(cmap='magma', ticks=[0, 0.5, 1], tick_labels=['Low', 'Medium', 'High'])"
   ]
  },
  {
   "cell_type": "code",
   "execution_count": null,
   "id": "44caf8ff",
   "metadata": {},
   "outputs": [],
   "source": [
    "nepal.demand_index.save_png(os.path.join(nepal.output_directory, scenario), \n",
    "                            cmap='magma', ticks=[0, 0.5, 1], tick_labels=['Low', 'Medium', 'High'])"
   ]
  },
  {
   "cell_type": "code",
   "execution_count": null,
   "id": "3eeda278",
   "metadata": {},
   "outputs": [],
   "source": [
    "nepal.supply_index.plot(cmap='magma', ticks=[0, 0.5, 1], tick_labels=['Low', 'Medium', 'High'])"
   ]
  },
  {
   "cell_type": "code",
   "execution_count": null,
   "id": "6a616094",
   "metadata": {},
   "outputs": [],
   "source": [
    "nepal.supply_index.save_png(os.path.join(nepal.output_directory, scenario), \n",
    "                            cmap='magma', ticks=[0, 0.5, 1], tick_labels=['Low', 'Medium', 'High'])"
   ]
  },
  {
   "cell_type": "code",
   "execution_count": null,
   "id": "c8b83ac0",
   "metadata": {},
   "outputs": [],
   "source": [
    "nepal.clean_cooking_index.plot(cmap='magma', ticks=[0, 0.5, 1], tick_labels=['Low', 'Medium', 'High'])"
   ]
  },
  {
   "cell_type": "code",
   "execution_count": null,
   "id": "98a4ad65",
   "metadata": {},
   "outputs": [],
   "source": [
    "nepal.clean_cooking_index.save_png(os.path.join(nepal.output_directory, scenario), \n",
    "                            cmap='magma', ticks=[0, 0.5, 1], tick_labels=['Low', 'Medium', 'High'])"
   ]
  },
  {
   "cell_type": "code",
   "execution_count": null,
   "id": "7a0fde3d",
   "metadata": {},
   "outputs": [],
   "source": [
    "nepal.layers['supply']['LPG dealers'].distance_raster.inverse = False\n",
    "nepal.layers['other']['Roads'].distance_raster.inverse = False\n",
    "nepal.layers['demand']['Wealth'].distance_raster.inverse = True\n",
    "\n",
    "nepal.get_assistance_need_index(datasets={'supply': ['LPG dealers'], 'other': ['Roads'],\n",
    "                                          'demand': ['Population', 'Wealth', 'Education facilities', 'Health facilities']})\n",
    "nepal.assistance_need_index.plot(cmap='magma', ticks=[0, 0.5, 1], tick_labels=['Low', 'Medium', 'High'])"
   ]
  },
  {
   "cell_type": "code",
   "execution_count": null,
   "id": "44fd7255",
   "metadata": {},
   "outputs": [],
   "source": [
    "nepal.assistance_need_index.save_png(os.path.join(nepal.output_directory, scenario), \n",
    "                                   cmap='magma', ticks=[0, 0.5, 1], tick_labels=['Low', 'Medium', 'High'])"
   ]
  },
  {
   "cell_type": "markdown",
   "id": "15cddd89",
   "metadata": {},
   "source": [
    "## Integrated planning\n",
    "The CCE uses high-resolution population maps together with locations where there is public and social uses of cooking (restaurants, schools and hospitals), to estimate current demand for clean cooking. This is combined with supply options such as LPG and electricity, and socio-economic data such as poverty maps to identify where supply would be inaccessible or expensive."
   ]
  },
  {
   "cell_type": "markdown",
   "id": "fd1fc340",
   "metadata": {},
   "source": [
    "### Scenario 1\n",
    "* Demand: Population and public uses\n",
    "* Supply: Existent electricity network, LPG supply and biogas potential"
   ]
  },
  {
   "cell_type": "code",
   "execution_count": null,
   "id": "b12d1017",
   "metadata": {},
   "outputs": [],
   "source": [
    "scenario = 'Integrated planning'\n",
    "\n",
    "nepal.layers['supply']['Existent MV lines'].distance_raster.inverse = True\n",
    "nepal.layers['supply']['LPG dealers'].distance_raster.inverse = True\n",
    "nepal.layers['other']['Roads'].distance_raster.inverse = True\n",
    "nepal.layers['demand']['Wealth'].distance_raster.inverse = False\n",
    "\n",
    "nepal.layers['supply']['Existent MV lines'].distance_raster.distance_limit = 50000\n",
    "nepal.layers['supply']['LPG dealers'].distance_raster.distance_limit = float('inf')\n",
    "nepal.layers['other']['Roads'].distance_raster.distance_limit = 5000\n",
    "nepal.layers['demand']['Education facilities'].distance_raster.distance_limit = 10000\n",
    "nepal.layers['demand']['Health facilities'].distance_raster.distance_limit = 10000\n",
    "\n",
    "nepal.layers['supply']['Existent MV lines'].weight = 2\n",
    "nepal.layers['supply']['LPG dealers'].weight = 2\n",
    "nepal.layers['other']['Roads'].weight = 1\n",
    "nepal.layers['demand']['Population'].weight = 2\n",
    "nepal.layers['demand']['Education facilities'].weight = 1\n",
    "nepal.layers['demand']['Health facilities'].weight = 1\n",
    "nepal.layers['demand']['Wealth'].weight = 2\n",
    "\n",
    "nepal.get_demand_index(datasets={'demand': ['Population', 'Education facilities', 'Health facilities', 'Wealth']}, buffer=True)\n",
    "nepal.get_supply_index(datasets={'supply': ['Existent MV lines', 'LPG dealers'], 'other': ['Roads']}, buffer=True)\n",
    "nepal.get_clean_cooking_index(buffer=True)"
   ]
  },
  {
   "cell_type": "code",
   "execution_count": null,
   "id": "1f48a879",
   "metadata": {},
   "outputs": [],
   "source": [
    "nepal.demand_index.plot(cmap='magma', ticks=[0, 0.5, 1], tick_labels=['Low', 'Medium', 'High'], \n",
    "                        admin_layer=nepal.mask_layer.layer)"
   ]
  },
  {
   "cell_type": "code",
   "execution_count": null,
   "id": "0a49158e",
   "metadata": {},
   "outputs": [],
   "source": [
    "nepal.demand_index.save_png(os.path.join(nepal.output_directory, scenario), \n",
    "                            cmap='magma', ticks=[0, 0.5, 1], tick_labels=['Low', 'Medium', 'High'],\n",
    "                            admin_layer=nepal.mask_layer.layer)"
   ]
  },
  {
   "cell_type": "code",
   "execution_count": null,
   "id": "12a73b2b",
   "metadata": {},
   "outputs": [],
   "source": [
    "nepal.supply_index.plot(cmap='magma', ticks=[0, 0.5, 1], tick_labels=['Low', 'Medium', 'High'],\n",
    "                        admin_layer=nepal.mask_layer.layer)"
   ]
  },
  {
   "cell_type": "code",
   "execution_count": null,
   "id": "2003b4cf",
   "metadata": {},
   "outputs": [],
   "source": [
    "nepal.supply_index.save_png(os.path.join(nepal.output_directory, scenario), \n",
    "                            cmap='magma', ticks=[0, 0.5, 1], tick_labels=['Low', 'Medium', 'High'],\n",
    "                            admin_layer=nepal.mask_layer.layer)"
   ]
  },
  {
   "cell_type": "code",
   "execution_count": null,
   "id": "1bbc3041",
   "metadata": {},
   "outputs": [],
   "source": [
    "nepal.clean_cooking_index.plot(cmap='magma', ticks=[0, 0.5, 1], tick_labels=['Low', 'Medium', 'High'],\n",
    "                               admin_layer=nepal.mask_layer.layer)"
   ]
  },
  {
   "cell_type": "code",
   "execution_count": null,
   "id": "28b13afa",
   "metadata": {},
   "outputs": [],
   "source": [
    "nepal.clean_cooking_index.save_png(os.path.join(nepal.output_directory, scenario), \n",
    "                                   cmap='magma', ticks=[0, 0.5, 1], tick_labels=['Low', 'Medium', 'High'],\n",
    "                                   admin_layer=nepal.mask_layer.layer)"
   ]
  },
  {
   "cell_type": "code",
   "execution_count": null,
   "id": "7c90ef51",
   "metadata": {},
   "outputs": [],
   "source": [
    "nepal.layers['supply']['Existent MV lines'].distance_raster.inverse = False\n",
    "nepal.layers['supply']['LPG dealers'].distance_raster.inverse = False\n",
    "nepal.layers['other']['Roads'].distance_raster.inverse = False\n",
    "nepal.layers['demand']['Wealth'].distance_raster.inverse = True\n",
    "\n",
    "nepal.get_assistance_need_index(datasets={'supply': ['Existent MV lines', 'LPG dealers'], 'other': ['Roads'],\n",
    "                                          'demand': ['Population', 'Education facilities', 'Health facilities', 'Wealth']},\n",
    "                                buffer=True)\n",
    "nepal.assistance_need_index.plot(cmap='magma', ticks=[0, 0.5, 1], tick_labels=['Low', 'Medium', 'High'],\n",
    "                                 admin_layer=nepal.mask_layer.layer)"
   ]
  },
  {
   "cell_type": "code",
   "execution_count": null,
   "id": "05ddabe8",
   "metadata": {},
   "outputs": [],
   "source": [
    "nepal.assistance_need_index.save_png(os.path.join(nepal.output_directory, scenario), \n",
    "                                    cmap='magma', ticks=[0, 0.5, 1], tick_labels=['Low', 'Medium', 'High'],\n",
    "                                    admin_layer=nepal.mask_layer.layer)"
   ]
  },
  {
   "cell_type": "code",
   "execution_count": null,
   "id": "4e2d1956",
   "metadata": {},
   "outputs": [],
   "source": [
    "x = np.array([np.nan, 1, 5])\n",
    "y = np.array([2, 0, np.nan])\n",
    "sum([x, y])"
   ]
  }
 ],
 "metadata": {
  "kernelspec": {
   "display_name": "Python 3",
   "language": "python",
   "name": "python3"
  },
  "language_info": {
   "codemirror_mode": {
    "name": "ipython",
    "version": 3
   },
   "file_extension": ".py",
   "mimetype": "text/x-python",
   "name": "python",
   "nbconvert_exporter": "python",
   "pygments_lexer": "ipython3",
   "version": "3.9.2"
  }
 },
 "nbformat": 4,
 "nbformat_minor": 5
}

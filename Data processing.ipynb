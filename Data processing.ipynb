{
 "cells": [
  {
   "cell_type": "markdown",
   "id": "63ed40ce",
   "metadata": {},
   "source": [
    "# Input data processing for the Clean Cooking Explorer (CCE) and OnSSTOVE"
   ]
  },
  {
   "cell_type": "code",
   "execution_count": null,
   "id": "dba04bb7",
   "metadata": {},
   "outputs": [],
   "source": [
    "%load_ext autoreload"
   ]
  },
  {
   "cell_type": "code",
   "execution_count": null,
   "id": "0d33a318",
   "metadata": {},
   "outputs": [],
   "source": [
    "# %autoreload 2\n",
    "from onsstove.mca import MCA"
   ]
  },
  {
   "cell_type": "code",
   "execution_count": null,
   "id": "73998c40",
   "metadata": {},
   "outputs": [],
   "source": [
    "from decouple import config\n",
    "import numpy as np\n",
    "import os"
   ]
  },
  {
   "cell_type": "markdown",
   "id": "4fca21c7",
   "metadata": {},
   "source": [
    "## 1. Creating a project\n",
    "First, we will create an instance of the `MCA` object that will be used to add raw datasets, process them and generate the required output datapackages for the CCE and OnSSTOVE. The `MCA` object accepts three optional argument `project_crs`, `cell_size` and `output_directory`. The first, sets the Coordinate reference System (crs) to use in the project, this means that all datasets will be reprojected to match such crs. The second, is used to define the desired cell size (i.e. width and height in meters) of the output datasets, which will be used to ensure that all output datasets match such cell size. The third, is simply used as the output folder in which all results will be writen, this parameter defaults to `output`."
   ]
  },
  {
   "cell_type": "code",
   "execution_count": null,
   "id": "fec0526c",
   "metadata": {},
   "outputs": [],
   "source": [
    "nepal = MCA(project_crs=3857, cell_size=(1000, 1000))\n",
    "nepal.output_directory = 'output2' # Any of the attributes can be set at any time like this"
   ]
  },
  {
   "cell_type": "markdown",
   "id": "f8b7c6e2",
   "metadata": {},
   "source": [
    "## 2. Adding a PostgreSQL data base connection\n",
    "Datasets can be read from any local path (or in some cases from urls) or from a PostgreSQL database. For the later, we would need to define the PostgreSQL connection, passing the database name `db`, the `POSTGRES_USER` and the `POSTGRES_KEY`."
   ]
  },
  {
   "cell_type": "code",
   "execution_count": null,
   "id": "1946b0bb",
   "metadata": {},
   "outputs": [],
   "source": [
    "nepal.set_postgres(db='nepal', POSTGRES_USER=config('POSTGRES_USER'), POSTGRES_KEY=config('POSTGRES_KEY'))"
   ]
  },
  {
   "cell_type": "markdown",
   "id": "0f772b58",
   "metadata": {},
   "source": [
    "## 3. Adding a mask layer\n",
    "A vector layer can be added as a mask, which will be later used to mask/clip all output datasets to the layer boundaries. For this, we use the `add_mask_layer` method providing a `name` for the layer, a `layer_path` from where to read the data and in this case the `postgres` argument as `True` that will tell that the layer is found in the PostgreSQL database."
   ]
  },
  {
   "cell_type": "code",
   "execution_count": null,
   "id": "0b887c08",
   "metadata": {},
   "outputs": [],
   "source": [
    "nepal.add_mask_layer(name='Country boundaries', layer_path='admin.npl_admbnda_adm0_nd_20201117', postgres=True)"
   ]
  },
  {
   "cell_type": "markdown",
   "id": "ef48edc4",
   "metadata": {},
   "source": [
    "## 4. Adding data layers\n",
    "Similarly, we can add data layers using the `add_layer` method. A layer `name`, `layer_path` and `postgres` conection also need to be provided (the `postgres` conection defaults to `False`). In addition, the following arguments can be passed:\n",
    "* `category`: this is used to group all datasets into a category in the final output, e.g. `demand` or `supply`. \n",
    "* `layer_type`: thi argument is required with two possible options `raster` or `vector`, we should pass either one according to the dataset you are adding. \n",
    "* `distance`: the method to be used to calculate the distance raster for this layer. \n",
    "    * For `raster` layers, only `log` is available. This will create a logarithmic representation of the original raster. If this is not desired, we should pass `None` to the `distance` parameter (this is the defaul value), which will take the original raster as the distance raster.\n",
    "    * For `vector` layers, two options are available `proximity` and `time_travel`. `proximity`, calculates a distance raster using the vectors (e.g. points, lines, polygons) as origin; the output raster will have the same dimentions and cell size as the `base_layer` (i.e. see below). `time_travel`, will need a friction raster (which can be added later) that will be used to calculate the least cost path to every cell taking the vectors as starting points.\n",
    "* `normalization`: currently only `MinMax` normalization is available. This is used to normalize the distance rasters in a 0 to 1 range, which will be used later to calculate the CCE Demand, Supply and Clean Cooking potential indexes.\n",
    "* `inverse`: we can specify if the scale of the ormalization need to be reversed, depending on the nature of the dataset."
   ]
  },
  {
   "cell_type": "code",
   "execution_count": null,
   "id": "dd745737",
   "metadata": {},
   "outputs": [],
   "source": [
    "nepal.add_layer(category='demand', name='Population', layer_path='data/population_npl_2018-10-01.tif',\n",
    "                layer_type='raster', normalization='MinMax', inverse=False, \n",
    "                distance='log', base_layer=False, resample='sum')\n",
    "\n",
    "nepal.add_layer(category='demand', name='Education facilities', layer_path='places.education_facilities', postgres=True,\n",
    "                layer_type='vector', normalization='MinMax', inverse=True, \n",
    "                distance='proximity')\n",
    "\n",
    "nepal.layers['demand']['Population'].layer[np.isnan(nepal.layers['demand']['Population'].layer)] = 0\n",
    "nepal.layers['demand']['Population'].save(os.path.join(nepal.output_directory, 'demand', 'Population'))"
   ]
  },
  {
   "cell_type": "code",
   "execution_count": null,
   "id": "d30ac255",
   "metadata": {},
   "outputs": [],
   "source": [
    "nepal.add_layer(category='demand', name='Health facilities', layer_path='places.health_facilities', postgres=True,\n",
    "                layer_type='vector', normalization='MinMax', inverse=True, \n",
    "                distance='proximity')\n",
    "\n",
    "nepal.add_layer(category='supply', name='Existent transmission substations', layer_path='power_network.substations_georeferenced', \n",
    "                postgres=True, layer_type='vector', query='status == \"E\"', normalization='MinMax', inverse=True, \n",
    "                distance='proximity')\n",
    "\n",
    "nepal.add_layer(category='supply', name='Under Construction transmission substations', layer_path='power_network.substations_georeferenced', \n",
    "                postgres=True, layer_type='vector', query='status == \"UC\"', normalization='MinMax', inverse=True, \n",
    "                distance='proximity')\n",
    "\n",
    "nepal.add_layer(category='supply', name='Planned transmission substations', layer_path='power_network.substations_georeferenced', \n",
    "                postgres=True, layer_type='vector', query='status == \"P\"', normalization='MinMax', inverse=True, \n",
    "                distance='proximity')\n",
    "\n",
    "nepal.add_layer(category='supply', name='Existent HV lines', layer_path='power_network.hv_lines_georeferenced',\n",
    "                postgres=True, layer_type='vector', query='status ==\"E\"', normalization='MinMax', inverse=True, \n",
    "                distance='proximity')\n",
    "\n",
    "nepal.add_layer(category='supply', name='Planned HV lines', layer_path='power_network.hv_lines_georeferenced',\n",
    "                postgres=True, layer_type='vector', query='status ==\"P\"', normalization='MinMax', inverse=True, \n",
    "                distance='proximity')"
   ]
  },
  {
   "cell_type": "markdown",
   "id": "15ccd5cc",
   "metadata": {},
   "source": [
    "## 5. Adding a base layer\n",
    "A raster base layer is needed to make every output match its grid and extent. For this, two additional options need to be passed to the `add_layer` method:\n",
    "* `base_layer`: if `True` the added layer will be considered as the base layer. \n",
    "* `resample`: this is the resampling method to be used when resampling this layer to the desired `cell_size` if a `cell_size` is provided."
   ]
  },
  {
   "cell_type": "code",
   "execution_count": null,
   "id": "1c8e6290",
   "metadata": {},
   "outputs": [],
   "source": [
    "nepal.add_layer(category='supply', name='Biomass', layer_path='data/Forest cover/Global Forest Cover Change (GFCC).tif',\n",
    "                layer_type='raster', normalization='MinMax', inverse=False, base_layer=True, resample='nearest',\n",
    "                distance='travel_time')"
   ]
  },
  {
   "cell_type": "markdown",
   "id": "74ec0af9",
   "metadata": {},
   "source": [
    "## 6. Adding a friction raster to a vector layer\n",
    "After adding a vector layer, a raster friction layer can be associated to the vector layer in order to calculate a travel time dataset for it. To do so, we can call the vector layer we want by using the `layers` variable and calling the `category` and the `name` of the vector dataset between quotes and square brackets, and calling the `add_friction_raster` method. This method only needs the path of the raster `raster_path`."
   ]
  },
  {
   "cell_type": "code",
   "execution_count": null,
   "id": "0ae9cd17",
   "metadata": {},
   "outputs": [],
   "source": [
    "nepal.layers['supply']['Biomass'].add_friction_raster(raster_path=r\"data\\2020_walking_only_friction_surface\\2020_walking_only_friction_surface.geotiff\",\n",
    "                                                      resample='average')"
   ]
  },
  {
   "cell_type": "code",
   "execution_count": null,
   "id": "e9bb7899",
   "metadata": {},
   "outputs": [],
   "source": [
    "nepal.add_layer(category='supply', name='LPG dealers', layer_path='data/lpg_main_dealers/lpg_main_dealers.shp',\n",
    "                postgres=False, layer_type='vector', normalization='MinMax', inverse=True, \n",
    "                distance='travel_time')\n",
    "\n",
    "nepal.layers['supply']['LPG dealers'].add_friction_raster(raster_path=r\"data\\2020_motorized_friction_surface\\2020_motorized_friction_surface.geotiff\",\n",
    "                                                          resample='average')"
   ]
  },
  {
   "cell_type": "markdown",
   "id": "c26986a3",
   "metadata": {},
   "source": [
    "## 7. Mask and reproject layers"
   ]
  },
  {
   "cell_type": "code",
   "execution_count": null,
   "id": "9a67c6e7",
   "metadata": {},
   "outputs": [],
   "source": [
    "nepal.mask_layers(datasets='all')"
   ]
  },
  {
   "cell_type": "code",
   "execution_count": null,
   "id": "b47dba90",
   "metadata": {},
   "outputs": [],
   "source": [
    "nepal.reproject_layers(datasets='all')"
   ]
  },
  {
   "cell_type": "code",
   "execution_count": null,
   "id": "1bde5598",
   "metadata": {},
   "outputs": [],
   "source": [
    "nepal.align_layers(datasets='all')"
   ]
  },
  {
   "cell_type": "code",
   "execution_count": null,
   "id": "67ab0b8b",
   "metadata": {},
   "outputs": [],
   "source": [
    "# nepal.mask_layers(datasets={'demand': ['Population']})"
   ]
  },
  {
   "cell_type": "markdown",
   "id": "cbe9f957",
   "metadata": {},
   "source": [
    "## 8. Calculate distance rasters and normalize"
   ]
  },
  {
   "cell_type": "code",
   "execution_count": null,
   "id": "cdc29364",
   "metadata": {},
   "outputs": [],
   "source": [
    "nepal.get_distance_rasters(datasets='all')\n",
    "nepal.normalize_rasters(datasets='all')"
   ]
  }
 ],
 "metadata": {
  "kernelspec": {
   "display_name": "Python 3",
   "language": "python",
   "name": "python3"
  },
  "language_info": {
   "codemirror_mode": {
    "name": "ipython",
    "version": 3
   },
   "file_extension": ".py",
   "mimetype": "text/x-python",
   "name": "python",
   "nbconvert_exporter": "python",
   "pygments_lexer": "ipython3",
   "version": "3.9.2"
  }
 },
 "nbformat": 4,
 "nbformat_minor": 5
}
